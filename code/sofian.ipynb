{
 "cells": [
  {
   "cell_type": "code",
   "execution_count": 102,
   "metadata": {},
   "outputs": [],
   "source": [
    "import random\n",
    "import numpy as np\n",
    "import networkx as nx \n",
    "from dijkstar import Graph, find_path"
   ]
  },
  {
   "cell_type": "code",
   "execution_count": 103,
   "metadata": {},
   "outputs": [],
   "source": [
    "def generate_instance_matrix(nb_vertex, min_weight, max_weight, density):\n",
    "  graph = np.ones((nb_vertex, nb_vertex)) * np.inf\n",
    "  for i in range(nb_vertex - 1):\n",
    "    for j in range(i+1, nb_vertex):\n",
    "      if random.uniform(0, 1) < density:\n",
    "        weight = random.randint(min_weight, max_weight)\n",
    "        graph[i, j] = weight\n",
    "        graph[j, i] = weight\n",
    "  for i,line in enumerate(graph):\n",
    "    index_zeros = np.where(line == np.inf)[0]\n",
    "    index_zeros = np.delete(index_zeros, np.where(index_zeros == i))\n",
    "    for j in range(len(index_zeros) - (nb_vertex - 3)):\n",
    "      index = random.choice(index_zeros)\n",
    "      index_zeros = np.delete(index_zeros, np.where(index_zeros == index))\n",
    "      weight = random.randint(min_weight, max_weight)\n",
    "      graph[i, index] = weight\n",
    "      graph[index, i] = weight\n",
    "  return graph\n",
    "\n",
    "def convert_graph(graph):\n",
    "  graph_dijkstra = Graph()\n",
    "  for i in range(len(graph)):\n",
    "    for j in range(len(graph)):\n",
    "      graph_dijkstra.add_edge(i, j,graph[i][j])\n",
    "  return graph_dijkstra\n",
    "\n",
    "def get_distance_between_nodes(graph, i, j):\n",
    "  if (graph[i][j] != np.inf):\n",
    "    return graph[i][j], [i, j]\n",
    "  else:\n",
    "    if i != j:\n",
    "      shortest_path = find_path(graph, i,j)\n",
    "      return shortest_path.total_cost, shortest_path.nodes\n",
    "    else:\n",
    "      return 0, None\n",
    "\n",
    "def get_complete_graph(graph, node_list):\n",
    "  all_paths = {}\n",
    "  converted_graph = convert_graph(graph)\n",
    "  complete_graph = np.zeros((len(node_list), len(node_list)))\n",
    "  for i in node_list:\n",
    "    voisins_array = np.delete(node_list, np.where(node_list == i))\n",
    "    for j in voisins_array:\n",
    "      distance, path = get_distance_between_nodes(converted_graph, i, j)\n",
    "      converted_graph_i = np.where(node_list == i)[0][0]\n",
    "      converted_graph_j = np.where(node_list == j)[0][0]\n",
    "      complete_graph[converted_graph_i][converted_graph_j] = distance\n",
    "      all_paths[(converted_graph_i, converted_graph_j)] = path\n",
    "  return complete_graph, all_paths\n",
    "\n",
    "def get_random_vertex(size, nb_vertex):\n",
    "  random_vertex = []\n",
    "  all_vertex = np.array(range(size))\n",
    "  for _ in range(nb_vertex):\n",
    "    value = random.choice(all_vertex)\n",
    "    random_vertex.append(value)\n",
    "    all_vertex = np.delete(all_vertex, np.where(all_vertex == value))\n",
    "  return np.array(random_vertex)\n",
    "\n",
    "def generate_interval():\n",
    "  interval = random.choice(range(1,4))\n",
    "  shift = random.choice(range(0, 11-interval))\n",
    "  return(shift*60, (shift+interval)*60)\n",
    "\n",
    "def generate_instance(nb_vertex_matrix, min_weight, max_weight, density, random_vertex):\n",
    "  graph = generate_instance_matrix(nb_vertex_matrix, min_weight, max_weight, density)\n",
    "  complete_graph, all_paths = get_complete_graph(graph, random_vertex)\n",
    "  return graph, complete_graph, all_paths\n",
    "\n",
    "def get_complete_path(path, all_paths):\n",
    "  complete_path = []\n",
    "  for i in range(len(path) - 1):\n",
    "    complete_path.extend(all_paths[(path[i], path[i+1])][:-1])\n",
    "    if i == len(path) - 2:\n",
    "      complete_path.append(all_paths[(path[i], path[i+1])][-1])\n",
    "  return complete_path\n",
    "\n",
    "def is_path_in_interval(path, complete_graph, interval, vertex):\n",
    "  weight = 0\n",
    "  for i in range(np.where(np.array(path) == vertex)[0][0]):\n",
    "    weight += complete_graph[path[i]][path[i+1]]\n",
    "  if weight >= interval[0] and weight <= interval[1]:\n",
    "    return True\n",
    "  else:\n",
    "    return False\n",
    "\n",
    "def generate_neighbours(path, complete_graph, interval, vertex):\n",
    "  neighbours = []\n",
    "  for i in range(len(path)):\n",
    "    for j in range(i + 1, len(path)-1):\n",
    "      new_neighbour = path.copy()\n",
    "\n",
    "      new_neighbour[i] = path[j]\n",
    "      new_neighbour[j] = path[i]\n",
    "      \n",
    "      if is_path_in_interval(new_neighbour, complete_graph, interval, vertex) and new_neighbour[0] == new_neighbour[-1]:\n",
    "        neighbours.append(new_neighbour)\n",
    "  return neighbours\n",
    "\n",
    "def generate_random_path(nb_vertex, start_vertex):\n",
    "  path = np.arange(nb_vertex)\n",
    "  path = np.delete(path, np.where(path == start_vertex))\n",
    "  np.random.shuffle(path)\n",
    "  path = np.append(path, start_vertex)\n",
    "  path = np.insert(path, 0, start_vertex)\n",
    "  return path"
   ]
  },
  {
   "cell_type": "code",
   "execution_count": 104,
   "metadata": {},
   "outputs": [],
   "source": [
    "#variables\n",
    "nb_vertex_matrix = 100\n",
    "min_weight = 10\n",
    "max_weight = 60\n",
    "density = 0.3\n",
    "nb_vertex_chosen = 5"
   ]
  },
  {
   "cell_type": "code",
   "execution_count": 105,
   "metadata": {},
   "outputs": [],
   "source": [
    "#random generation of a list of vertex among all the vertex available\n",
    "random_vertex = get_random_vertex(nb_vertex_matrix, nb_vertex_chosen)\n",
    "\n",
    "# generation of the graph, the complete graph and the list of all paths\n",
    "graph, complete_graph, all_paths =\\\n",
    "generate_instance(\n",
    "  nb_vertex_matrix = nb_vertex_matrix,\n",
    "  min_weight = min_weight,\n",
    "  max_weight = max_weight,\n",
    "  random_vertex = random_vertex,\n",
    "  density = density\n",
    ")"
   ]
  },
  {
   "cell_type": "code",
   "execution_count": 106,
   "metadata": {},
   "outputs": [],
   "source": [
    "#generate an interval instance\n",
    "interval = generate_interval()"
   ]
  },
  {
   "cell_type": "code",
   "execution_count": 107,
   "metadata": {},
   "outputs": [],
   "source": [
    "#generate a random path\n",
    "path = generate_random_path(nb_vertex_chosen, 0)"
   ]
  },
  {
   "cell_type": "code",
   "execution_count": 108,
   "metadata": {},
   "outputs": [],
   "source": [
    "# generate the neighbours of a path\n",
    "neighbours = generate_neighbours(path, complete_graph, (0,50), 1)"
   ]
  },
  {
   "cell_type": "code",
   "execution_count": 109,
   "metadata": {},
   "outputs": [
    {
     "name": "stdout",
     "output_type": "stream",
     "text": [
      "complete_graph\n",
      "[[ 0. 52. 50. 50. 27.]\n",
      " [52.  0. 40. 32. 34.]\n",
      " [50. 40.  0. 43. 30.]\n",
      " [50. 32. 43.  0. 23.]\n",
      " [27. 34. 30. 23.  0.]]\n"
     ]
    }
   ],
   "source": [
    "# print(\"graph\")\n",
    "# print(graph)\n",
    "print(\"complete_graph\")\n",
    "print(complete_graph)\n",
    "# print(\"all_paths\")\n",
    "# print(all_paths)\n",
    "# print(\"random_vertex\")\n",
    "# print(random_vertex)\n",
    "# print(\"interval\")\n",
    "# print(interval)"
   ]
  },
  {
   "cell_type": "code",
   "execution_count": 110,
   "metadata": {},
   "outputs": [],
   "source": [
    "complete_path = get_complete_path(path, all_paths)"
   ]
  },
  {
   "cell_type": "code",
   "execution_count": 111,
   "metadata": {},
   "outputs": [
    {
     "name": "stdout",
     "output_type": "stream",
     "text": [
      "[24 82 63 39 78]\n",
      "[0 4 3 2 1 0]\n",
      "[24, 53, 78, 69, 39, 45, 63, 57, 61, 82, 51, 90, 53, 24]\n"
     ]
    }
   ],
   "source": [
    "print(random_vertex)\n",
    "print(path)\n",
    "print(complete_path)"
   ]
  },
  {
   "cell_type": "code",
   "execution_count": 112,
   "metadata": {},
   "outputs": [
    {
     "name": "stdout",
     "output_type": "stream",
     "text": [
      "Optimal\n",
      "Min= 146.0\n",
      "X_0_0=0.00, X_0_1=0.00, X_0_2=0.00, X_0_3=0.00, X_0_4=1.00, X_1_0=0.00, X_1_1=0.00, X_1_2=0.00, X_1_3=0.00, X_1_4=1.00, X_2_0=0.00, X_2_1=0.00, X_2_2=0.00, X_2_3=0.00, X_2_4=1.00, X_3_0=0.00, X_3_1=1.00, X_3_2=0.00, X_3_3=0.00, X_3_4=0.00, X_4_0=0.00, X_4_1=0.00, X_4_2=0.00, X_4_3=1.00, X_4_4=0.00, "
     ]
    }
   ],
   "source": [
    "from pulp import *\n",
    "import numpy as np\n",
    "\n",
    "\n",
    "X=[]\n",
    "P = []\n",
    "X_dict = {}\n",
    "True_tab = []\n",
    "\n",
    "\n",
    "\n",
    "# variables du problème\n",
    "for i in range(len(complete_graph)):\n",
    "    for j in range(len(complete_graph)):\n",
    "        X.append(LpVariable(\"X_\" + str(i) + \"_\" + str(j), 0, 1, LpInteger))\n",
    "        X_dict[(\"X_\" + str(i) + \"_\" + str(j))] = LpVariable(\"X_\" + str(i) + \"_\" + str(j), 0, 1, LpInteger)\n",
    "        P.append(complete_graph[i][j])\n",
    "\n",
    "# probleme\n",
    "prob = LpProblem(\"plus court chemin\", LpMinimize)\n",
    "\n",
    "# objectif\n",
    "# Somme de la multiplication des poids de chaque arc\n",
    "prob += lpSum([P[i] * X[i] for i in range(len(P))])\n",
    "\n",
    "# contraintes\n",
    "# La somme d'un arc doit etre egale a 1\n",
    "X_np = np.array(X)\n",
    "X_np_reshape = X_np.reshape(len(complete_graph), len(complete_graph))\n",
    "\n",
    "for i in range(len(X_np_reshape)):\n",
    "    prob += lpSum(X_np_reshape[i]) == 1\n",
    "    prob += X_np_reshape[i][i] == 0\n",
    "    for j in range(len(X_np_reshape)):\n",
    "        if i != j:\n",
    "            prob += X_np_reshape[i][j] + X_np_reshape[j][i] <= 1\n",
    "\n",
    "\n",
    "prob.solve()\n",
    "print(LpStatus[prob.status])\n",
    "print(\"Min=\", value(prob.objective))\n",
    "\n",
    "# variables resultat\n",
    "for v in prob.variables():\n",
    "    print(\"%s=%.2f\"%(v.name,v.varValue), end=', ')"
   ]
  },
  {
   "cell_type": "code",
   "execution_count": 113,
   "metadata": {},
   "outputs": [],
   "source": [
    "nb_iterations=1000 #Dans la boucle while de la boucle principale\n",
    "T0 = 300 #Température de départ\n",
    "Tmin = 1e-2 #Température minimale\n",
    "tau = 1e4 #Pour la loi de refroidissement"
   ]
  },
  {
   "cell_type": "code",
   "execution_count": 114,
   "metadata": {},
   "outputs": [
    {
     "name": "stdout",
     "output_type": "stream",
     "text": [
      "185.0\n"
     ]
    }
   ],
   "source": [
    "def distance_tot(matrice,path_matrix):\n",
    "    distance_tot = 0\n",
    "    ind = 2\n",
    "    points = [0,0]\n",
    "    for i in range(len(path_matrix)):\n",
    "        if i == 0:\n",
    "            points = path_matrix[0:2]\n",
    "            distance_tot += get_distance_between_nodes(matrice,points[0],points[1])[0]\n",
    "        else:\n",
    "            if (ind <= len(matrice)):\n",
    "                points = path_matrix[ind-1:ind+1]\n",
    "                distance_tot += get_distance_between_nodes(matrice,points[0],points[1])[0]\n",
    "                ind += 1\n",
    "    return distance_tot\n",
    "\n",
    "print(distance_tot(complete_graph,path))"
   ]
  },
  {
   "cell_type": "code",
   "execution_count": 115,
   "metadata": {},
   "outputs": [],
   "source": [
    "def randomSolution(complete_graph):\n",
    "    vertex = list(range(len(complete_graph)))\n",
    "    solution = []\n",
    "\n",
    "    for i in range(len(complete_graph)):\n",
    "        randomVertex = vertex[random.randint(0, len(vertex) - 1)]\n",
    "        solution.append(randomVertex)\n",
    "        vertex.remove(randomVertex)\n",
    "\n",
    "    return solution\n",
    "\n",
    "\n",
    "def routeLength(complete_graph, solution):\n",
    "    routeLength = 0\n",
    "    for i in range(len(solution)):\n",
    "        routeLength += complete_graph[solution[i - 1]][solution[i]]\n",
    "    return routeLength\n",
    "\n",
    "def generate_neighbours(path, complete_graph, interval, vertex):\n",
    "  neighbours = []\n",
    "  for i in range(len(path)):\n",
    "    for j in range(i + 1, len(path)-1):\n",
    "      new_neighbour = path.copy()\n",
    "\n",
    "      new_neighbour[i] = path[j] \n",
    "      new_neighbour[j] = path[i]\n",
    "      \n",
    "      if is_path_in_interval(new_neighbour, complete_graph, interval, vertex) and new_neighbour[0] == new_neighbour[-1]:\n",
    "        neighbours.append(new_neighbour)\n",
    "  return neighbours\n",
    "\n",
    "def getBestNeighbor(complete_graph, neighbours):\n",
    "    bestRouteLenght = routeLength(complete_graph, neighbours[0])\n",
    "    bestNeighbor = neighbours[0]\n",
    "    for neighbor in neighbours:\n",
    "        currentRouteLength = routeLength(complete_graph, neighbor)\n",
    "        if currentRouteLength < bestRouteLenght:\n",
    "            bestRouteLenght = currentRouteLength\n",
    "            bestNeighbor = neighbor\n",
    "    return bestNeighbor, bestRouteLenght\n",
    "    \n",
    "\n",
    "def hillClimbing(complete_graph):\n",
    "    currentSolution = randomSolution(complete_graph)\n",
    "    currentRouteLength = routeLength(complete_graph, currentSolution)\n",
    "    neighbors = getNeighbors(currentSolution)\n",
    "    bestNeighbor, bestNeighborRouteLength = getBestNeighbor(complete_graph, neighbors)\n",
    "\n",
    "    print('liste des voisins :', neighbors)\n",
    "    print('solution :', currentSolution)\n",
    "    print('somme des poids de la solution :', currentRouteLength)\n",
    "\n",
    "    while bestNeighborRouteLength < currentRouteLength:\n",
    "        currentSolution = bestNeighbor\n",
    "        currentRouteLength = bestNeighborRouteLength\n",
    "        neighbors = getNeighbors(currentSolution)\n",
    "        bestNeighbor, bestNeighborRouteLength = getBestNeighbor(complete_graph, neighbors)\n",
    "        \n",
    "    grpah = {\n",
    "        complete_graph[i][j]: complete_graph[j][i],\n",
    "        currentRouteLength: currentRouteLength\n",
    "    }\n",
    "\n",
    "\n",
    "\n",
    "    return currentSolution, currentRouteLength\n"
   ]
  },
  {
   "cell_type": "code",
   "execution_count": 116,
   "metadata": {},
   "outputs": [
    {
     "name": "stdout",
     "output_type": "stream",
     "text": [
      "liste des voisins : [[2, 0, 1, 4, 3], [1, 2, 0, 4, 3], [4, 2, 1, 0, 3], [3, 2, 1, 4, 0], [0, 1, 2, 4, 3], [0, 4, 1, 2, 3], [0, 3, 1, 4, 2], [0, 2, 4, 1, 3], [0, 2, 3, 4, 1], [0, 2, 1, 3, 4]]\n",
      "solution : [0, 2, 1, 4, 3]\n",
      "somme des poids de la solution : 197.0\n",
      "([1, 2, 0, 4, 3], 172.0)\n"
     ]
    }
   ],
   "source": [
    "def main():\n",
    "    complete_graph\n",
    "    print(hillClimbing(complete_graph))\n",
    "\n",
    "if __name__ == \"__main__\":\n",
    "    main()\n",
    "\n",
    "    #nullos souf"
   ]
  },
  {
   "cell_type": "code",
   "execution_count": 117,
   "metadata": {},
   "outputs": [
    {
     "name": "stdout",
     "output_type": "stream",
     "text": [
      "[[ 0. 52. 50. 50. 27.]\n",
      " [52.  0. 40. 32. 34.]\n",
      " [50. 40.  0. 43. 30.]\n",
      " [50. 32. 43.  0. 23.]\n",
      " [27. 34. 30. 23.  0.]]\n",
      "[0 4 1 2 3 0]\n",
      "5\n"
     ]
    }
   ],
   "source": [
    "print(complete_graph)\n",
    "print(solution_initiale)\n",
    "print(len(complete_graph))"
   ]
  },
  {
   "cell_type": "code",
   "execution_count": 118,
   "metadata": {},
   "outputs": [],
   "source": [
    "from collections import deque\n",
    "\n",
    "def recherche_tabou(complete_graph, solution_initiale, taille_tabou, iter_max, interval):\n",
    "    \"\"\"\n",
    "    1. On part d'un élément de notre ensemble de recherche qu'on déclare élément courant\n",
    "    2. On considère le voisinage de l'element courant et on choisit le  meilleur d'entre\n",
    "       eux comme nouvel element courant, parmi ceux absents de la liste tabou, et on l'ajoute\n",
    "       a la liste tabou\n",
    "    3. On boucle jusqu'a condition de sortie.\n",
    "    \"\"\"\n",
    "    nb_iter = 0                                                                #SOLUTION\n",
    "    liste_tabou = deque((), maxlen = taille_tabou)                             #SOLUTION\n",
    "                                                                               #SOLUTION\n",
    "    # variables solutions pour la recherche du voisin optimal non tabou        #SOLUTION\n",
    "    solution_courante = solution_initiale                                      #SOLUTION\n",
    "    meilleure = solution_initiale                                              #SOLUTION\n",
    "    meilleure_globale = solution_initiale                                      #SOLUTION\n",
    "                                                                               #SOLUTION\n",
    "    # variables valeurs pour la recherche du voisin optimal non tabou          #SOLUTION\n",
    "    valeur_meilleure = distance_tot(complete_graph, solution_initiale)                       #SOLUTION\n",
    "    valeur_meilleure_globale = valeur_meilleure                                #SOLUTION\n",
    "                                                                               #SOLUTION\n",
    "    while (nb_iter < iter_max):                                                #SOLUTION\n",
    "        valeur_meilleure = -1                                                  #SOLUTION\n",
    "                                                                               #SOLUTION\n",
    "        # on parcourt tous les voisins de la solution courante                 #SOLUTION\n",
    "        for voisin in generate_neighbours(solution_initiale, complete_graph, interval, 0):          \n",
    "                                      #SOLUTION\n",
    "            valeur_voisin=distance_tot(complete_graph, voisin)                               #SOLUTION\n",
    "        \n",
    "                                                                               #SOLUTION\n",
    "            # MaJ meilleure solution non taboue trouvée                        #SOLUTION\n",
    "            if valeur_voisin > valeur_meilleure and tuple(voisin) in liste_tabou: #SOLUTION\n",
    "                    valeur_meilleure = valeur_voisin                               #SOLUTION\n",
    "                    meilleure = voisin                                             #SOLUTION\n",
    "                                                                               #SOLUTION\n",
    "        # on met à jour la meilleure solution rencontrée depuis le début       #SOLUTION\n",
    "        if valeur_meilleure > valeur_meilleure_globale:                        #SOLUTION\n",
    "            meilleure_globale = meilleure                                      #SOLUTION\n",
    "            valeur_meilleure_globale = valeur_meilleure                        #SOLUTION\n",
    "            nb_iter = 0                                                        #SOLUTION\n",
    "        else:                                                                  #SOLUTION\n",
    "            nb_iter += 1                                                       #SOLUTION\n",
    "                                                                               #SOLUTION\n",
    "        # on passe au meilleur voisin non tabou trouvé                         #SOLUTION\n",
    "        solution_courante = meilleure                                          #SOLUTION\n",
    "                                                                               #SOLUTION\n",
    "        # on met à jour la liste tabou                                         #SOLUTION\n",
    "        liste_tabou.append(tuple(solution_courante))     \n",
    "                                  #SOLUTION\n",
    "                                                                               #SOLUTION\n",
    "    return meilleure_globale                                               #SOLUTION"
   ]
  },
  {
   "cell_type": "code",
   "execution_count": 119,
   "metadata": {},
   "outputs": [
    {
     "name": "stdout",
     "output_type": "stream",
     "text": [
      "[0 3 4 1 2 0]\n"
     ]
    }
   ],
   "source": [
    "\n",
    "taille_tabou = 5\n",
    "solution_initiale = generate_random_path(len(complete_graph), 0)\n",
    "iter_max = 30\n",
    "interval = (0,1000)\n",
    "\n",
    "sol = recherche_tabou(complete_graph, solution_initiale, taille_tabou, iter_max, interval)\n",
    "print(sol)\n"
   ]
  }
 ],
 "metadata": {
  "kernelspec": {
   "display_name": "Python 3.10.4 64-bit",
   "language": "python",
   "name": "python3"
  },
  "language_info": {
   "codemirror_mode": {
    "name": "ipython",
    "version": 3
   },
   "file_extension": ".py",
   "mimetype": "text/x-python",
   "name": "python",
   "nbconvert_exporter": "python",
   "pygments_lexer": "ipython3",
   "version": "3.10.4"
  },
  "orig_nbformat": 4,
  "vscode": {
   "interpreter": {
    "hash": "9a41463737e55168be315b2391d337c1c55b158e32aba873e7cab47ff6268358"
   }
  }
 },
 "nbformat": 4,
 "nbformat_minor": 2
}
