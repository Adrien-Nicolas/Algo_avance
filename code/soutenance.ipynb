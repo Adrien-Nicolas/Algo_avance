{
 "cells": [
  {
   "cell_type": "code",
   "execution_count": 9,
   "metadata": {},
   "outputs": [],
   "source": [
    "import numpy as np\n",
    "import random\n",
    "from ipyleaflet import Map, basemaps, basemap_to_tiles, CircleMarker, Polyline, AntPath\n",
    "from ipywidgets import HTML"
   ]
  },
  {
   "cell_type": "code",
   "execution_count": null,
   "metadata": {},
   "outputs": [],
   "source": [
    "cities = [\n",
    "  {\n",
    "    \"id\": 0,\n",
    "    \"name\": \"Bezannes\",\n",
    "    \"coords\": (49.22363900671118, 3.9887723157745576)\n",
    "  },\n",
    "  {\n",
    "    \"id\" : 1,\n",
    "    \"name\": \"Bétheny\",\n",
    "    \"coords\": (49.285131827708035, 4.063798713400151)\n",
    "  },\n",
    "  {\n",
    "    \"id\" : 2,\n",
    "    \"name\": \"Cernay-les-Reims\",\n",
    "    \"coords\": (49.2642453710596, 4.1036913180272)\n",
    "  },\n",
    "  {\n",
    "    \"id\" : 3,\n",
    "    \"name\": \"Champfleury\",\n",
    "    \"coords\": (49.19818615812236, 4.019795395571029)\n",
    "  },\n",
    "  {\n",
    "    \"id\" : 4,\n",
    "    \"name\": \"Cormontreuil\",\n",
    "    \"coords\": (49.22264097621803, 4.049551196446118)\n",
    "  },\n",
    "  {\n",
    "    \"id\" : 5,\n",
    "    \"name\": \"Cruny\",\n",
    "    \"coords\": (49.257059457427616, 3.7369142978612735)\n",
    "  },\n",
    "  {\n",
    "    \"id\" : 6,\n",
    "    \"name\": \"Epoye\",\n",
    "    \"coords\": (49.29041023356542, 4.237901634457861)\n",
    "  },\n",
    "  {\n",
    "    \"id\" : 7,\n",
    "    \"name\": \"Jonchery-sur-vesle\",\n",
    "    \"coords\": (49.28752839149448, 3.8121724734582907)\n",
    "  },\n",
    "  {\n",
    "    \"id\" : 8,\n",
    "    \"name\": \"Muizon\",\n",
    "    \"coords\": (49.27682283902432, 3.889787835151326)\n",
    "  },\n",
    "  {\n",
    "    \"id\" : 9,\n",
    "    \"name\": \"Nogent-l'Abbesse\",\n",
    "    \"coords\": (49.25586664716424, 4.155845017046866)\n",
    "  },\n",
    "  {\n",
    "    \"id\" : 10,\n",
    "    \"name\": \"Poilly\",\n",
    "    \"coords\": (49.216141770809536, 3.8203569577722494)\n",
    "  },\n",
    "  {\n",
    "    \"id\" : 11,\n",
    "    \"name\": \"Reims\",\n",
    "    \"coords\": (49.258352984690276, 4.030731630624372)\n",
    "  },\n",
    "  {\n",
    "    \"id\" : 12,\n",
    "    \"name\": \"Taissy\",\n",
    "    \"coords\": (49.21423458122659, 4.093274461155123)\n",
    "  },\n",
    "  {\n",
    "    \"id\" : 13,\n",
    "    \"name\": \"Tinqueux\",\n",
    "    \"coords\": (49.24715898263178, 3.9988975225936736)\n",
    "  },\n",
    "  {\n",
    "    \"id\" : 14,\n",
    "    \"name\": \"Witry-les-Reims\",\n",
    "    \"coords\": (49.2933840208818, 4.125741773971905)\n",
    "  }\n",
    "]"
   ]
  },
  {
   "cell_type": "code",
   "execution_count": 11,
   "metadata": {},
   "outputs": [],
   "source": [
    "distances = np.matrix(\n",
    "[\n",
    "  [ 0, 0, 0, 12, 0, 0, 0, 0, 0, 0, 17, 0, 0, 7, 0],\n",
    "  [ 0, 0, 9, 0, 0, 0, 0, 0, 23, 0, 0, 17, 0, 0, 8],\n",
    "  [ 0, 9, 0, 0, 12, 0, 0, 0, 0, 7, 0, 15, 0, 0, 7],\n",
    "  [12, 0, 0, 0, 12, 0, 0, 0, 0, 0, 21, 0, 16, 0, 0],\n",
    "  [ 0, 0, 12, 12, 0, 0, 0, 0, 0, 0, 0, 15, 9, 14, 0],\n",
    "  [ 0, 0, 0, 0, 0, 0, 0, 13, 0, 0, 12, 0, 0, 28, 0],\n",
    "  [ 0, 0, 0, 0, 0, 0, 0, 0, 0, 8, 0, 0, 0, 0, 10],\n",
    "  [ 0, 0, 0, 0, 0, 13, 0, 0, 10, 0, 0, 0, 0, 0, 0],\n",
    "  [ 0, 23, 0, 0, 0, 0, 0, 10, 0, 0, 0, 19, 0, 13, 0],\n",
    "  [ 0, 0, 7, 0, 0, 0, 8, 0, 0, 0, 0, 0, 10, 0, 0],\n",
    "  [17, 0, 0, 21, 0, 12, 0, 0, 0, 0, 0, 0, 0, 0, 0],\n",
    "  [ 0, 17, 15, 0, 15, 0, 0, 0, 19, 0, 0, 0, 0, 13, 0],\n",
    "  [ 0, 0, 0, 16, 9, 0, 0, 0, 0, 10, 0, 0, 0, 0, 0],\n",
    "  [ 7, 0, 0, 0, 14, 28, 0, 0, 13, 0, 0, 13, 0, 0, 0],\n",
    "  [ 0, 8, 7, 0, 0, 0, 10, 0, 0, 0, 0, 0, 0, 0, 0]\n",
    "]\n",
    ")"
   ]
  },
  {
   "cell_type": "code",
   "execution_count": null,
   "metadata": {},
   "outputs": [],
   "source": [
    "def convert_graph(graph):\n",
    "  graph_dijkstra = Graph()\n",
    "  for i in range(len(graph)):\n",
    "    for j in range(len(graph)):\n",
    "      graph_dijkstra.add_edge(i, j,graph[i][j])\n",
    "  return graph_dijkstra\n",
    "\n",
    "def get_distance_between_vertices(graph, i, j):\n",
    "  if (graph[i][j] != np.inf):\n",
    "    return graph[i][j], [i, j]\n",
    "  else:\n",
    "    if i != j:\n",
    "      shortest_path = find_path(graph, i,j)\n",
    "      return shortest_path.total_cost, shortest_path.nodes\n",
    "    else:\n",
    "      return 0, None\n",
    "\n",
    "def get_complete_graph(graph, vertices_list):\n",
    "  all_paths = {}\n",
    "  converted_graph = convert_graph(graph)\n",
    "  complete_graph = np.zeros((len(vertices_list), len(vertices_list)))\n",
    "  for vertex in vertices_list:\n",
    "    successors = np.delete(vertices_list, np.where(vertices_list == vertex))\n",
    "    for successor in successors:\n",
    "      distance, path = get_distance_between_vertices(converted_graph, vertex, successor)\n",
    "      i = np.where(vertices_list == vertex)[0][0]\n",
    "      j = np.where(vertices_list == successor)[0][0]\n",
    "      complete_graph[i][j] = distance\n",
    "      all_paths[(i, j)] = path\n",
    "  return complete_graph, all_paths"
   ]
  },
  {
   "cell_type": "code",
   "execution_count": null,
   "metadata": {},
   "outputs": [],
   "source": [
    "import pickle\n",
    "\n",
    "data = {\n",
    "  \"graph\": distances,\n",
    "  \"complete_graph\": complete_graph,\n",
    "  \"all_paths\": all_paths,\n",
    "  \"vertices_list\": vertices_list,\n",
    "  \"start_vertex\": start_vertex,\n",
    "  \"start_vertex_index\": start_vertex_index,\n",
    "  \"interval_vertex\": interval_vertex,\n",
    "  \"interval_vertex_index\": interval_vertex_index,\n",
    "  \"interval\": interval,\n",
    "  \"all_vertex\": all_vertex\n",
    "}\n",
    "\n",
    "with open('data_test.pickle', 'wb') as file:\n",
    "    pickle.dump(data, file, protocol=pickle.HIGHEST_PROTOCOL)"
   ]
  },
  {
   "cell_type": "code",
   "execution_count": 12,
   "metadata": {},
   "outputs": [],
   "source": [
    "def get_random_cities(nb_cities, nb_cities_chosen):\n",
    "  random_cities = []\n",
    "  all_cities = np.array(range(nb_cities))\n",
    "  for _ in range(nb_cities_chosen):\n",
    "    value = random.choice(all_cities)\n",
    "    random_cities.append(value)\n",
    "    all_cities = np.delete(all_cities, np.where(all_cities == value))\n",
    "  return np.array(random_cities)"
   ]
  },
  {
   "cell_type": "code",
   "execution_count": 13,
   "metadata": {},
   "outputs": [],
   "source": [
    "def draw_cities(m):\n",
    "  for city in cities:\n",
    "    circle_marker = CircleMarker()\n",
    "    circle_marker.location = city['coords']\n",
    "    circle_marker.radius = 10\n",
    "    circle_marker.fill_opacity = 1\n",
    "    if city[\"id\"] == start_city:\n",
    "      circle_marker.color = \"red\"\n",
    "      circle_marker.fill_color = \"red\"\n",
    "    elif city['id'] in cities_chosen:\n",
    "      circle_marker.color = \"green\"\n",
    "      circle_marker.fill_color = \"green\"\n",
    "    else:\n",
    "      circle_marker.color = \"gray\"\n",
    "      circle_marker.fill_color = \"gray\"\n",
    "    popupMessage = HTML()\n",
    "    popupMessage.value = city['name']\n",
    "    circle_marker.popup = popupMessage\n",
    "    m.add_layer(circle_marker)\n",
    "\n",
    "def draw_lines(m):\n",
    "  all_paths = []\n",
    "  for i in range(distances.shape[0]):\n",
    "    for j in range(distances.shape[1]):\n",
    "      if distances[i, j] != 0:\n",
    "        all_paths.append([cities[i]['coords'], cities[j]['coords']])\n",
    "  line = Polyline(\n",
    "      locations=all_paths,\n",
    "      color=\"gray\",\n",
    "      fill=False\n",
    "  )\n",
    "  m.add_layer(line)\n",
    "\n",
    "def add_path(m):\n",
    "  complete_path = []\n",
    "\n",
    "  for i in range(len(path)):\n",
    "    complete_path.append(cities[path[i]]['coords'])\n",
    "\n",
    "  ant_path = AntPath(\n",
    "    locations=complete_path,\n",
    "    dash_array=[1, 10],\n",
    "    delay=1000,\n",
    "    color='red',\n",
    "    pulse_color='pink'\n",
    "  )\n",
    "\n",
    "  m.add_layer(ant_path)"
   ]
  },
  {
   "cell_type": "code",
   "execution_count": 14,
   "metadata": {},
   "outputs": [],
   "source": [
    "cities_chosen = get_random_cities(len(cities), 10)\n",
    "path = np.append(cities_chosen, cities_chosen[0])\n",
    "start_city = path[0]"
   ]
  },
  {
   "cell_type": "code",
   "execution_count": 15,
   "metadata": {},
   "outputs": [
    {
     "data": {
      "application/vnd.jupyter.widget-view+json": {
       "model_id": "bfb1173783c7468c84b6103be74aae6f",
       "version_major": 2,
       "version_minor": 0
      },
      "text/plain": [
       "Map(center=[49.258352984690276, 4.030731630624372], close_popup_on_click=False, controls=(ZoomControl(options=…"
      ]
     },
     "metadata": {},
     "output_type": "display_data"
    }
   ],
   "source": [
    "m_1 = Map(\n",
    "  basemap=basemap_to_tiles(basemaps.OpenStreetMap.Mapnik),\n",
    "  center=cities[11]['coords'],\n",
    "  zoom=10.5,\n",
    "  close_popup_on_click=False\n",
    ")\n",
    "\n",
    "draw_lines(m_1)\n",
    "draw_cities(m_1)\n",
    "\n",
    "m_1"
   ]
  },
  {
   "cell_type": "code",
   "execution_count": 16,
   "metadata": {},
   "outputs": [
    {
     "data": {
      "application/vnd.jupyter.widget-view+json": {
       "model_id": "0e6321f625854efe889952c4b94389ca",
       "version_major": 2,
       "version_minor": 0
      },
      "text/plain": [
       "Map(center=[49.258352984690276, 4.030731630624372], close_popup_on_click=False, controls=(ZoomControl(options=…"
      ]
     },
     "metadata": {},
     "output_type": "display_data"
    }
   ],
   "source": [
    "m_2 = Map(\n",
    "  basemap=basemap_to_tiles(basemaps.OpenStreetMap.Mapnik),\n",
    "  center=cities[11]['coords'],\n",
    "  zoom=10.5,\n",
    "  close_popup_on_click=False\n",
    ")\n",
    "\n",
    "draw_lines(m_2)\n",
    "draw_cities(m_2)\n",
    "add_path(m_2)\n",
    "\n",
    "m_2"
   ]
  }
 ],
 "metadata": {
  "kernelspec": {
   "display_name": "Python 3.10.5 ('env': venv)",
   "language": "python",
   "name": "python3"
  },
  "language_info": {
   "codemirror_mode": {
    "name": "ipython",
    "version": 3
   },
   "file_extension": ".py",
   "mimetype": "text/x-python",
   "name": "python",
   "nbconvert_exporter": "python",
   "pygments_lexer": "ipython3",
   "version": "3.10.5"
  },
  "orig_nbformat": 4,
  "vscode": {
   "interpreter": {
    "hash": "d3a3da79b1061e50be83b59faa36c55b30abcf095f123e2fbf0696ba10bc3245"
   }
  }
 },
 "nbformat": 4,
 "nbformat_minor": 2
}
