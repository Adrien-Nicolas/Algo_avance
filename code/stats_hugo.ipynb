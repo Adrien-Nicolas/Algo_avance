{
 "cells": [
  {
   "cell_type": "code",
   "execution_count": 7,
   "metadata": {},
   "outputs": [],
   "source": [
    "import random\n",
    "import numpy as np\n",
    "import networkx as nx \n",
    "from dijkstar import Graph, find_path\n",
    "from ipywidgets import IntProgress \n",
    "from IPython.display import display\n",
    "from matplotlib import pyplot as plt\n"
   ]
  },
  {
   "cell_type": "code",
   "execution_count": 8,
   "metadata": {},
   "outputs": [],
   "source": [
    "def get_complete_path(path, all_paths):\n",
    "  complete_path = []\n",
    "  for i in range(len(path) - 1):\n",
    "    complete_path.extend(all_paths[(path[i], path[i+1])][:-1])\n",
    "    if i == len(path) - 2:\n",
    "      complete_path.append(all_paths[(path[i], path[i+1])][-1])\n",
    "  return complete_path\n",
    "\n",
    "def is_path_in_interval(path, complete_graph, interval, interval_vertex):\n",
    "  weight = 0\n",
    "  for i in range(np.where(np.array(path) == interval_vertex)[0][0]):\n",
    "    weight += complete_graph[path[i]][path[i+1]]\n",
    "  if weight >= interval[0] and weight <= interval[1]:\n",
    "    return True\n",
    "  else:\n",
    "    return False"
   ]
  },
  {
   "cell_type": "code",
   "execution_count": 9,
   "metadata": {},
   "outputs": [],
   "source": [
    "population_number = 200\n",
    "generation_number = 200"
   ]
  },
  {
   "cell_type": "code",
   "execution_count": 10,
   "metadata": {},
   "outputs": [],
   "source": [
    "def get_path_weight(path, complete_graph):\n",
    "  weight = 0\n",
    "  for i in range(len(path) - 1):\n",
    "    weight += complete_graph[path[i]][path[i+1]]\n",
    "  return weight\n",
    "\n",
    "def generate_population(nb_people, complete_graph, interval, interval_vertex, start_vertex):\n",
    "  population = []\n",
    "  while(len(population) < nb_people):\n",
    "    path = generate_random_path(len(complete_graph), start_vertex)\n",
    "    if is_path_in_interval(path, complete_graph, interval, interval_vertex):\n",
    "      population.append(path)\n",
    "  return population\n",
    "\n",
    "def get_best_path(population, weights):\n",
    "  index = np.argmin(weights)\n",
    "  return population[index], weights[index]\n",
    "\n",
    "def generate_instance_matrix(nb_vertex, min_weight, max_weight, density):\n",
    "  graph = np.ones((nb_vertex, nb_vertex)) * np.inf\n",
    "  for i in range(nb_vertex - 1):\n",
    "    for j in range(i+1, nb_vertex):\n",
    "      if random.uniform(0, 1) < density:\n",
    "        weight = random.randint(min_weight, max_weight)\n",
    "        graph[i, j] = weight\n",
    "        graph[j, i] = weight\n",
    "  for i, successors in enumerate(graph):\n",
    "    index_zeros = np.where(successors == np.inf)[0]\n",
    "    index_zeros = np.delete(index_zeros, np.where(index_zeros == i))\n",
    "    for j in range(len(index_zeros) - (nb_vertex - 3)):\n",
    "      index = random.choice(index_zeros)\n",
    "      index_zeros = np.delete(index_zeros, np.where(index_zeros == index))\n",
    "      weight = random.randint(min_weight, max_weight)\n",
    "      graph[i, index] = weight\n",
    "      graph[index, i] = weight\n",
    "  return graph\n",
    "\n",
    "def generate_instance_matrix_localisation(nb_vertex, density):\n",
    "  all_vertex = {}\n",
    "  for i in range(nb_vertex):\n",
    "    all_vertex[i] = (random.randint(0, 1000), random.randint(0, 1000))\n",
    "  graph = np.ones((nb_vertex, nb_vertex)) * np.inf\n",
    "  for i in range(nb_vertex - 1):\n",
    "    for j in range(i+1, nb_vertex):\n",
    "      if random.uniform(0, 1) < density:\n",
    "        delta_x = all_vertex[i][0] - all_vertex[j][0]\n",
    "        delta_y = all_vertex[i][1] - all_vertex[j][1]\n",
    "        weight = np.sqrt(np.power(delta_x,2) + np.power(delta_y,2))\n",
    "        graph[i, j] = weight\n",
    "        graph[j, i] = weight\n",
    "  for i, successors in enumerate(graph):\n",
    "    index_zeros = np.where(successors == np.inf)[0]\n",
    "    index_zeros = np.delete(index_zeros, np.where(index_zeros == i))\n",
    "    for j in range(len(index_zeros) - (nb_vertex - 3)):\n",
    "      index = random.choice(index_zeros)\n",
    "      index_zeros = np.delete(index_zeros, np.where(index_zeros == index))\n",
    "      delta_x = all_vertex[i][0] - all_vertex[j][0]\n",
    "      delta_y = all_vertex[i][1] - all_vertex[j][1]\n",
    "      weight = np.sqrt(np.power(delta_x,2) + np.power(delta_y,2))\n",
    "      graph[i, j] = weight\n",
    "      graph[j, i] = weight\n",
    "  return graph, all_vertex\n",
    "\n",
    "def convert_graph(graph):\n",
    "  graph_dijkstra = Graph()\n",
    "  for i in range(len(graph)):\n",
    "    for j in range(len(graph)):\n",
    "      graph_dijkstra.add_edge(i, j,graph[i][j])\n",
    "  return graph_dijkstra\n",
    "\n",
    "def get_distance_between_vertices(graph, i, j):\n",
    "  if (graph[i][j] != np.inf):\n",
    "    return graph[i][j], [i, j]\n",
    "  else:\n",
    "    if i != j:\n",
    "      shortest_path = find_path(graph, i,j)\n",
    "      return shortest_path.total_cost, shortest_path.nodes\n",
    "    else:\n",
    "      return 0, None\n",
    "\n",
    "def get_complete_graph(graph, vertices_list):\n",
    "  all_paths = {}\n",
    "  converted_graph = convert_graph(graph)\n",
    "  complete_graph = np.zeros((len(vertices_list), len(vertices_list)))\n",
    "  bar = IntProgress(min=0, max=len(vertices_list), layout={\"width\" : \"100%\"})\n",
    "  display(bar)\n",
    "  for vertex in vertices_list:\n",
    "    successors = np.delete(vertices_list, np.where(vertices_list == vertex))\n",
    "    bar.value += 1\n",
    "    for successor in successors:\n",
    "      distance, path = get_distance_between_vertices(converted_graph, vertex, successor)\n",
    "      i = np.where(vertices_list == vertex)[0][0]\n",
    "      j = np.where(vertices_list == successor)[0][0]\n",
    "      complete_graph[i][j] = distance\n",
    "      all_paths[(i, j)] = path\n",
    "  bar.close()\n",
    "  return complete_graph, all_paths\n",
    "\n",
    "def get_random_vertices_list(size, nb_vertex):\n",
    "  random_vertices_list = []\n",
    "  all_vertex = np.array(range(size))\n",
    "  for _ in range(nb_vertex):\n",
    "    value = random.choice(all_vertex)\n",
    "    random_vertices_list.append(value)\n",
    "    all_vertex = np.delete(all_vertex, np.where(all_vertex == value))\n",
    "  return np.array(random_vertices_list)\n",
    "\n",
    "def generate_interval():\n",
    "  interval = random.choice(range(1,4))\n",
    "  shift = random.choice(range(0, 11-interval))\n",
    "  return (shift*60, (shift+interval)*60)\n",
    "\n",
    "def generate_instance(nb_vertex_matrix, density, vertices_list):\n",
    "  graph, all_vertex  = generate_instance_matrix_localisation(nb_vertex_matrix, density)\n",
    "  complete_graph, all_paths = get_complete_graph(graph, vertices_list)\n",
    "  return graph, complete_graph, all_paths, all_vertex\n",
    "\n",
    "def is_path_in_interval(path, complete_graph, interval, interval_vertex):\n",
    "  weight = 0\n",
    "  for i in range(np.where(np.array(path) == interval_vertex)[0][0]):\n",
    "    weight += complete_graph[path[i]][path[i+1]]\n",
    "  if weight >= interval[0] and weight <= interval[1]:\n",
    "    return True\n",
    "  else:\n",
    "    return False\n",
    "\n",
    "def generate_random_path(nb_vertex, start_vertex):\n",
    "  path = np.arange(nb_vertex)\n",
    "  path = np.delete(path, np.where(path == start_vertex))\n",
    "  np.random.shuffle(path)\n",
    "  path = np.append(path, start_vertex)\n",
    "  path = np.insert(path, 0, start_vertex)\n",
    "  return path\n",
    "\n",
    "def get_random_vertex(random_vertex):\n",
    "  return random.choice(random_vertex)\n",
    "  \n"
   ]
  },
  {
   "cell_type": "code",
   "execution_count": 11,
   "metadata": {},
   "outputs": [],
   "source": [
    "def mutate_path_insert(path, complete_graph, interval, interval_vertex):\n",
    "  is_path_correct = False\n",
    "  while not is_path_correct:\n",
    "    start = path[0]\n",
    "    path = np.delete(path, np.where(path == start))\n",
    "    mutation = random.choice(path)\n",
    "    path = np.delete(path, np.where(path == mutation))\n",
    "    new_index = random.randint(0, len(path) - 1)\n",
    "    path = np.insert(path, new_index, mutation)\n",
    "    path = np.append(path, start)\n",
    "    path = np.insert(path, 0, start)\n",
    "    is_path_correct = is_path_in_interval(path, complete_graph, interval, interval_vertex)\n",
    "  return path\n",
    "\n",
    "def generate_children(parentA, parentB, complete_graph, interval, interval_vertex):\n",
    "  start = parentA[0]\n",
    "  parentA = np.delete(parentA, np.where(np.array(parentA) == start))\n",
    "  parentB = np.delete(parentB, np.where(np.array(parentB) == start))\n",
    "  is_path_correct = False\n",
    "  while not is_path_correct:\n",
    "    cut_start = random.randint(0, len(parentA) - 2)\n",
    "    cut_end = random.randint(cut_start + 1, len(parentA) - 1)\n",
    "    child = parentA[cut_start:cut_end]\n",
    "    for i in child:\n",
    "      remaining_parentB = np.delete(parentB, np.where(parentB == i))\n",
    "    child = np.insert(child, len(child), remaining_parentB)\n",
    "    child = np.append(child, start)\n",
    "    child = np.insert(child, 0, start)\n",
    "    is_path_correct = is_path_in_interval(child, complete_graph, interval, interval_vertex)\n",
    "  return child\n",
    "\n",
    "def generate_random_path(nb_vertex, start_vertex):\n",
    "  path = np.arange(nb_vertex)\n",
    "  path = np.delete(path, np.where(path == start_vertex))\n",
    "  np.random.shuffle(path)\n",
    "  path = np.append(path, start_vertex)\n",
    "  path = np.insert(path, 0, start_vertex)\n",
    "  return path\n",
    "\n",
    "def get_best_population(population):\n",
    "  return np.argpartition(population, -int(len(population)/4))[:int(len(population)/4)]\n",
    "\n",
    "def generate_decency(population_number, best_people, complete_graph, interval, interval_vertex_index):\n",
    "  children = []\n",
    "  for _ in range(population_number):\n",
    "    P1 = random.choice(best_people)\n",
    "    # child = generate_children(P1, P2, complete_graph, interval, interval_vertex_index)\n",
    "    child = mutate_path_insert(P1, complete_graph, interval, interval_vertex_index)\n",
    "    children.append(child)\n",
    "  return children\n",
    "\n",
    "def evalute_population_weight(population, complete_graph):\n",
    "  weights = []\n",
    "  for path in population:\n",
    "    weight = get_path_weight(path, complete_graph)\n",
    "    weights.append(weight)\n",
    "  return weights\n",
    "\n",
    "def evolve(population, complete_graph, interval, interval_vertex_index):\n",
    "  best_weight = np.inf\n",
    "  best_path = []\n",
    "  all_best_weights = np.array([])\n",
    "  bar = IntProgress(min=0, max=generation_number, layout={\"width\" : \"100%\"})\n",
    "  display(bar)\n",
    "  for i in range(generation_number):\n",
    "    bar.value += 1\n",
    "    weights = evalute_population_weight(population, complete_graph)\n",
    "    best_pop_path, best_pop_weight = get_best_path(population, weights)\n",
    "    all_best_weights = np.append(all_best_weights,best_pop_weight)\n",
    "    if(best_pop_weight < best_weight):\n",
    "      best_weight = best_pop_weight\n",
    "      best_path = best_pop_path\n",
    "    best_people = np.array(population)[get_best_population(weights)]\n",
    "    population = generate_decency(population_number, best_people, complete_graph, interval, interval_vertex_index)\n",
    "  bar.close()\n",
    "  return best_path, best_weight, all_best_weights\n",
    "\n",
    "def plot_graph(path, graph, all_vertex, all_verticies, start_vertex):\n",
    "  for i in range(len(graph) - 1):\n",
    "    for j in range(i + 1, len(graph)):\n",
    "      if graph[i, j] != np.inf:\n",
    "        x = [all_vertex[i][0], all_vertex[j][0]]\n",
    "        y = [all_vertex[i][1], all_vertex[j][1]]\n",
    "        plt.plot(x, y, color = \"gray\")\n",
    "  for i in range(len(path) - 1):\n",
    "    x = [all_vertex[path[i]][0], all_vertex[path[i+1]][0]]\n",
    "    y = [all_vertex[path[i]][1], all_vertex[path[i+1]][1]]\n",
    "    plt.plot(x, y, color = \"red\")\n",
    "  for i in range(len(all_vertex)):\n",
    "    if(i == start_vertex):\n",
    "      plt.scatter(all_vertex[i][0], all_vertex[i][1], color = \"blue\")\n",
    "    elif(i in all_verticies):\n",
    "      plt.scatter(all_vertex[i][0], all_vertex[i][1], color = \"green\")\n",
    "    else: \n",
    "      plt.scatter(all_vertex[i][0], all_vertex[i][1], color = \"gray\")\n",
    "    plt.text(all_vertex[i][0] - 10, all_vertex[i][1] + 20, str(i))\n",
    "  plt.show()"
   ]
  },
  {
   "cell_type": "code",
   "execution_count": 12,
   "metadata": {},
   "outputs": [
    {
     "data": {
      "application/vnd.jupyter.widget-view+json": {
       "model_id": "06fc507019714bb1997902bfeee80410",
       "version_major": 2,
       "version_minor": 0
      },
      "text/plain": [
       "IntProgress(value=0, layout=Layout(width='100%'), max=200)"
      ]
     },
     "metadata": {},
     "output_type": "display_data"
    },
    {
     "name": "stdout",
     "output_type": "stream",
     "text": [
      "[4 1 5 6 9 8 0 3 7 2 4] 4470.49406184854\n"
     ]
    }
   ],
   "source": [
    "import pickle\n",
    "with open(\"data_extra_small_non_complet.pickle\", \"rb\") as file:\n",
    "  data = pickle.load(file)\n",
    "\n",
    "graph = data[\"graph\"]\n",
    "complete_graph = data[\"complete_graph\"]\n",
    "all_paths = data[\"all_paths\"]\n",
    "vertices_list = data[\"vertices_list\"]\n",
    "start_vertex = data[\"start_vertex\"]\n",
    "start_vertex_index = data[\"start_vertex_index\"]\n",
    "interval_vertex = data[\"interval_vertex\"]\n",
    "interval_vertex_index = data[\"interval_vertex_index\"]\n",
    "interval = data[\"interval\"]\n",
    "all_vertex = data[\"all_vertex\"]\n",
    "\n",
    "population = generate_population(population_number, complete_graph, interval, interval_vertex_index, start_vertex_index)\n",
    "best_path, best_weight, all_best_weights = evolve(population, complete_graph, interval, interval_vertex_index)\n",
    "\n",
    "print(best_path, best_weight)"
   ]
  },
  {
   "cell_type": "code",
   "execution_count": 13,
   "metadata": {},
   "outputs": [
    {
     "name": "stdout",
     "output_type": "stream",
     "text": [
      "-----------------\n",
      "-----------------\n",
      "1 Optimal 4470.494061848541\n",
      "route_plan [[(0, 3), (3, 7), (7, 2), (2, 4), (4, 1), (1, 5), (5, 6), (6, 8), (8, 9), (9, 0)]]\n",
      "liste_route_plan [0, 3, 7, 2, 4, 1, 5, 6, 8, 9, 0]\n",
      "no. of times LP model is solved =  3\n",
      "subtour log (no. of subtours in each solution)) [2, 2, 1]\n",
      "Time taken by DFJ formulation =  0.2316570281982422\n"
     ]
    },
    {
     "data": {
      "image/png": "[encoded data removed]",
      "text/plain": [
       "<Figure size 432x288 with 1 Axes>"
      ]
     },
     "metadata": {
      "needs_background": "light"
     },
     "output_type": "display_data"
    }
   ],
   "source": [
    "#import libraries\n",
    "%matplotlib inline\n",
    "import pulp\n",
    "import pandas as pd\n",
    "import time\n",
    "import copy\n",
    "\n",
    "\n",
    "# this function find all the subtour in the LP solution.\n",
    "def get_plan(r0):\n",
    "    r=copy.copy(r0)\n",
    "    route = []\n",
    "    while len(r) != 0:\n",
    "        plan = [r[0]]\n",
    "        del (r[0])\n",
    "        l = 0\n",
    "        while len(plan) > l:\n",
    "            l = len(plan)\n",
    "            for i, j in enumerate(r):\n",
    "                if plan[-1][1] == j[0]:\n",
    "                    plan.append(j)\n",
    "                    del (r[i])\n",
    "        route.append(plan)\n",
    "    return(route)\n",
    "\n",
    "\n",
    "def Simplex(complete_graph):\n",
    "\n",
    "    no_of_locs = len(complete_graph)\n",
    "\n",
    "\n",
    "    dis_mat= complete_graph\n",
    "\n",
    "    start_t_1=time.time()\n",
    "    model=pulp.LpProblem('tsp',pulp.LpMinimize)\n",
    "    #define variable\n",
    "    x=pulp.LpVariable.dicts(\"x\",((i,j) for i in range(no_of_locs) \\\n",
    "                                    for j in range(no_of_locs)),\\\n",
    "                            cat='Binary')\n",
    "    #set objective\n",
    "    model+=pulp.lpSum(dis_mat[i][j]* x[i,j] for i in range(no_of_locs) \\\n",
    "                        for j in range(no_of_locs))\n",
    "    # st constraints\n",
    "    for i in range(no_of_locs):\n",
    "        model+=x[i,i]==0\n",
    "        model+=pulp.lpSum(x[i,j] for j in range(no_of_locs))==1\n",
    "        model += pulp.lpSum(x[j, i] for j in range(no_of_locs)) == 1\n",
    "        \n",
    "        \n",
    "    status=model.solve()\n",
    "\n",
    "\n",
    "\n",
    "    route=[(i,j) for i in range(no_of_locs) \\\n",
    "            for j in range(no_of_locs) if pulp.value(x[i,j])==1]\n",
    "    route_plan=get_plan(route)\n",
    "    subtour=[]\n",
    "\n",
    "    while len(route_plan)!=1:\n",
    "        for i in range(len(route_plan)):\n",
    "            model+=pulp.lpSum(x[route_plan[i][j][0],route_plan[i][j][1]]\\\n",
    "                                for j in range(len(route_plan[i])))<=\\\n",
    "                                len(route_plan[i])-1\n",
    "\n",
    "\n",
    "        status=model.solve()\n",
    "        route = [(i, j) for i in range(no_of_locs) \\\n",
    "                    for j in range(no_of_locs) if pulp.value(x[i, j]) == 1]\n",
    "        route_plan = get_plan(route)\n",
    "        \n",
    "        subtour.append(len(route_plan))\n",
    "\n",
    "    print(\"-----------------\")\n",
    "    print(status,pulp.LpStatus[status],pulp.value(model.objective))\n",
    "    print(\"route_plan\",route_plan)\n",
    "\n",
    "    out = [item for t in route_plan[0] for item in t]\n",
    "    liste_out = list(dict.fromkeys(out))\n",
    "    liste_out.insert(len(liste_out), liste_out[0])\n",
    "    print(\"liste_route_plan\",liste_out)\n",
    "    \n",
    "\n",
    "\n",
    "    print(\"no. of times LP model is solved = \",len(subtour))\n",
    "    print(\"subtour log (no. of subtours in each solution))\",subtour)\n",
    "    print(\"Time taken by DFJ formulation = \", time.time()-start_t_1)\n",
    "\n",
    "    return liste_out,pulp.value(model.objective)\n",
    "\n",
    "print(\"-----------------\")\n",
    "liste_out,distance_obj = Simplex(complete_graph)\n",
    "\"\"\"while is_path_in_interval(liste_out, complete_graph, interval, interval_vertex_index) != True:\n",
    "        print(\"path is not in interval\")\n",
    "        liste_out,distance_obj = Simplex(complete_graph)\"\"\"\n",
    "\n",
    "complete_path = get_complete_path(liste_out, all_paths)\n",
    "plot_graph(complete_path, graph, all_vertex, vertices_list, start_vertex)\n",
    "\n",
    "\n"
   ]
  },
  {
   "cell_type": "code",
   "execution_count": 14,
   "metadata": {},
   "outputs": [
    {
     "name": "stdout",
     "output_type": "stream",
     "text": [
      "[13, 16, 5, 1, 7, 18, 11, 18, 15, 19, 14, 12, 13]\n"
     ]
    },
    {
     "data": {
      "image/png": "[encoded data removed]",
      "text/plain": [
       "<Figure size 432x288 with 1 Axes>"
      ]
     },
     "metadata": {
      "needs_background": "light"
     },
     "output_type": "display_data"
    }
   ],
   "source": [
    "complete_path = get_complete_path(best_path, all_paths)\n",
    "print(complete_path)\n",
    "plot_graph(complete_path, graph, all_vertex, vertices_list, start_vertex)"
   ]
  },
  {
   "cell_type": "code",
   "execution_count": 15,
   "metadata": {},
   "outputs": [
    {
     "data": {
      "text/plain": [
       "Text(0, 0.5, 'weight')"
      ]
     },
     "execution_count": 15,
     "metadata": {},
     "output_type": "execute_result"
    },
    {
     "data": {
      "image/png": "[encoded data removed]",
      "text/plain": [
       "<Figure size 432x288 with 1 Axes>"
      ]
     },
     "metadata": {
      "needs_background": "light"
     },
     "output_type": "display_data"
    }
   ],
   "source": [
    "import matplotlib.pyplot as plt\n",
    "\n",
    "res = plt.plot(range(len(all_best_weights)), all_best_weights)\n",
    "plt.xlabel(\"generation\", fontsize=16)\n",
    "plt.ylabel(\"weight\", fontsize=16)"
   ]
  },
  {
   "cell_type": "code",
   "execution_count": 16,
   "metadata": {},
   "outputs": [
    {
     "data": {
      "application/vnd.jupyter.widget-view+json": {
       "model_id": "f02f8447237d4188b0966ea6d00597f0",
       "version_major": 2,
       "version_minor": 0
      },
      "text/plain": [
       "IntProgress(value=0, layout=Layout(width='100%'), max=30)"
      ]
     },
     "metadata": {},
     "output_type": "display_data"
    },
    {
     "data": {
      "application/vnd.jupyter.widget-view+json": {
       "model_id": "a2a79d9e20c841daa34d2e4454c87ef4",
       "version_major": 2,
       "version_minor": 0
      },
      "text/plain": [
       "IntProgress(value=0, layout=Layout(width='100%'), max=200)"
      ]
     },
     "metadata": {},
     "output_type": "display_data"
    },
    {
     "name": "stdout",
     "output_type": "stream",
     "text": [
      "-----------------\n",
      "1 Optimal 5906.832367607887\n",
      "route_plan [[(0, 21), (21, 3), (3, 8), (8, 11), (11, 23), (23, 10), (10, 29), (29, 20), (20, 17), (17, 27), (27, 5), (5, 26), (26, 15), (15, 28), (28, 19), (19, 18), (18, 22), (22, 12), (12, 13), (13, 1), (1, 7), (7, 25), (25, 4), (4, 9), (9, 14), (14, 24), (24, 2), (2, 6), (6, 16), (16, 0)]]\n",
      "liste_route_plan [0, 21, 3, 8, 11, 23, 10, 29, 20, 17, 27, 5, 26, 15, 28, 19, 18, 22, 12, 13, 1, 7, 25, 4, 9, 14, 24, 2, 6, 16, 0]\n",
      "no. of times LP model is solved =  12\n",
      "subtour log (no. of subtours in each solution)) [7, 6, 3, 3, 5, 6, 4, 2, 2, 3, 3, 1]\n",
      "Time taken by DFJ formulation =  4.610421657562256\n",
      "distance 76.1975705263041\n",
      "borne_inf 5906.832367607887\n",
      "best_weight 7751.995669689749\n"
     ]
    },
    {
     "data": {
      "application/vnd.jupyter.widget-view+json": {
       "model_id": "28f12d474e704d88b93a74a895f219d3",
       "version_major": 2,
       "version_minor": 0
      },
      "text/plain": [
       "IntProgress(value=0, layout=Layout(width='100%'), max=30)"
      ]
     },
     "metadata": {},
     "output_type": "display_data"
    },
    {
     "data": {
      "application/vnd.jupyter.widget-view+json": {
       "model_id": "10f4c33ef9414655bcb809f3098734e8",
       "version_major": 2,
       "version_minor": 0
      },
      "text/plain": [
       "IntProgress(value=0, layout=Layout(width='100%'), max=200)"
      ]
     },
     "metadata": {},
     "output_type": "display_data"
    },
    {
     "ename": "KeyboardInterrupt",
     "evalue": "",
     "output_type": "error",
     "traceback": [
      "\u001b[1;31m---------------------------------------------------------------------------\u001b[0m",
      "\u001b[1;31mKeyboardInterrupt\u001b[0m                         Traceback (most recent call last)",
      "\u001b[1;32mc:\\Users\\adrie\\Desktop\\adrien\\perso\\Algo_Avance\\Algo_avance\\code\\stats_hugo.ipynb Cell 10'\u001b[0m in \u001b[0;36m<cell line: 11>\u001b[1;34m()\u001b[0m\n\u001b[0;32m     <a href='vscode-notebook-cell:/c%3A/Users/adrie/Desktop/adrien/perso/Algo_Avance/Algo_avance/code/stats_hugo.ipynb#ch0000009?line=22'>23</a>\u001b[0m graph, complete_graph, all_paths, all_vertex \u001b[39m=\u001b[39m\\\n\u001b[0;32m     <a href='vscode-notebook-cell:/c%3A/Users/adrie/Desktop/adrien/perso/Algo_Avance/Algo_avance/code/stats_hugo.ipynb#ch0000009?line=23'>24</a>\u001b[0m generate_instance(\n\u001b[0;32m     <a href='vscode-notebook-cell:/c%3A/Users/adrie/Desktop/adrien/perso/Algo_Avance/Algo_avance/code/stats_hugo.ipynb#ch0000009?line=24'>25</a>\u001b[0m nb_vertex_matrix \u001b[39m=\u001b[39m nb_vertex_matrix,\n\u001b[0;32m     <a href='vscode-notebook-cell:/c%3A/Users/adrie/Desktop/adrien/perso/Algo_Avance/Algo_avance/code/stats_hugo.ipynb#ch0000009?line=25'>26</a>\u001b[0m vertices_list \u001b[39m=\u001b[39m vertices_list,\n\u001b[0;32m     <a href='vscode-notebook-cell:/c%3A/Users/adrie/Desktop/adrien/perso/Algo_Avance/Algo_avance/code/stats_hugo.ipynb#ch0000009?line=26'>27</a>\u001b[0m density \u001b[39m=\u001b[39m density\n\u001b[0;32m     <a href='vscode-notebook-cell:/c%3A/Users/adrie/Desktop/adrien/perso/Algo_Avance/Algo_avance/code/stats_hugo.ipynb#ch0000009?line=27'>28</a>\u001b[0m )\n\u001b[0;32m     <a href='vscode-notebook-cell:/c%3A/Users/adrie/Desktop/adrien/perso/Algo_Avance/Algo_avance/code/stats_hugo.ipynb#ch0000009?line=29'>30</a>\u001b[0m population \u001b[39m=\u001b[39m generate_population(population_number, complete_graph, interval, interval_vertex_index, start_vertex_index)\n\u001b[1;32m---> <a href='vscode-notebook-cell:/c%3A/Users/adrie/Desktop/adrien/perso/Algo_Avance/Algo_avance/code/stats_hugo.ipynb#ch0000009?line=30'>31</a>\u001b[0m best_path, best_weight, all_best_weights \u001b[39m=\u001b[39m evolve(population, complete_graph, interval, interval_vertex_index)\n\u001b[0;32m     <a href='vscode-notebook-cell:/c%3A/Users/adrie/Desktop/adrien/perso/Algo_Avance/Algo_avance/code/stats_hugo.ipynb#ch0000009?line=31'>32</a>\u001b[0m borne_inf \u001b[39m=\u001b[39m Simplex(complete_graph)[\u001b[39m1\u001b[39m]\n\u001b[0;32m     <a href='vscode-notebook-cell:/c%3A/Users/adrie/Desktop/adrien/perso/Algo_Avance/Algo_avance/code/stats_hugo.ipynb#ch0000009?line=32'>33</a>\u001b[0m distance_borne \u001b[39m=\u001b[39m borne_inf\u001b[39m*\u001b[39m\u001b[39m100\u001b[39m\u001b[39m/\u001b[39mbest_weight\n",
      "\u001b[1;32mc:\\Users\\adrie\\Desktop\\adrien\\perso\\Algo_Avance\\Algo_avance\\code\\stats_hugo.ipynb Cell 5'\u001b[0m in \u001b[0;36mevolve\u001b[1;34m(population, complete_graph, interval, interval_vertex_index)\u001b[0m\n\u001b[0;32m     <a href='vscode-notebook-cell:/c%3A/Users/adrie/Desktop/adrien/perso/Algo_Avance/Algo_avance/code/stats_hugo.ipynb#ch0000004?line=71'>72</a>\u001b[0m     best_path \u001b[39m=\u001b[39m best_pop_path\n\u001b[0;32m     <a href='vscode-notebook-cell:/c%3A/Users/adrie/Desktop/adrien/perso/Algo_Avance/Algo_avance/code/stats_hugo.ipynb#ch0000004?line=72'>73</a>\u001b[0m   best_people \u001b[39m=\u001b[39m np\u001b[39m.\u001b[39marray(population)[get_best_population(weights)]\n\u001b[1;32m---> <a href='vscode-notebook-cell:/c%3A/Users/adrie/Desktop/adrien/perso/Algo_Avance/Algo_avance/code/stats_hugo.ipynb#ch0000004?line=73'>74</a>\u001b[0m   population \u001b[39m=\u001b[39m generate_decency(population_number, best_people, complete_graph, interval, interval_vertex_index)\n\u001b[0;32m     <a href='vscode-notebook-cell:/c%3A/Users/adrie/Desktop/adrien/perso/Algo_Avance/Algo_avance/code/stats_hugo.ipynb#ch0000004?line=74'>75</a>\u001b[0m bar\u001b[39m.\u001b[39mclose()\n\u001b[0;32m     <a href='vscode-notebook-cell:/c%3A/Users/adrie/Desktop/adrien/perso/Algo_Avance/Algo_avance/code/stats_hugo.ipynb#ch0000004?line=75'>76</a>\u001b[0m \u001b[39mreturn\u001b[39;00m best_path, best_weight, all_best_weights\n",
      "\u001b[1;32mc:\\Users\\adrie\\Desktop\\adrien\\perso\\Algo_Avance\\Algo_avance\\code\\stats_hugo.ipynb Cell 5'\u001b[0m in \u001b[0;36mgenerate_decency\u001b[1;34m(population_number, best_people, complete_graph, interval, interval_vertex_index)\u001b[0m\n\u001b[0;32m     <a href='vscode-notebook-cell:/c%3A/Users/adrie/Desktop/adrien/perso/Algo_Avance/Algo_avance/code/stats_hugo.ipynb#ch0000004?line=45'>46</a>\u001b[0m   P1 \u001b[39m=\u001b[39m random\u001b[39m.\u001b[39mchoice(best_people)\n\u001b[0;32m     <a href='vscode-notebook-cell:/c%3A/Users/adrie/Desktop/adrien/perso/Algo_Avance/Algo_avance/code/stats_hugo.ipynb#ch0000004?line=46'>47</a>\u001b[0m   \u001b[39m# child = generate_children(P1, P2, complete_graph, interval, interval_vertex_index)\u001b[39;00m\n\u001b[1;32m---> <a href='vscode-notebook-cell:/c%3A/Users/adrie/Desktop/adrien/perso/Algo_Avance/Algo_avance/code/stats_hugo.ipynb#ch0000004?line=47'>48</a>\u001b[0m   child \u001b[39m=\u001b[39m mutate_path_insert(P1, complete_graph, interval, interval_vertex_index)\n\u001b[0;32m     <a href='vscode-notebook-cell:/c%3A/Users/adrie/Desktop/adrien/perso/Algo_Avance/Algo_avance/code/stats_hugo.ipynb#ch0000004?line=48'>49</a>\u001b[0m   children\u001b[39m.\u001b[39mappend(child)\n\u001b[0;32m     <a href='vscode-notebook-cell:/c%3A/Users/adrie/Desktop/adrien/perso/Algo_Avance/Algo_avance/code/stats_hugo.ipynb#ch0000004?line=49'>50</a>\u001b[0m \u001b[39mreturn\u001b[39;00m children\n",
      "\u001b[1;32mc:\\Users\\adrie\\Desktop\\adrien\\perso\\Algo_Avance\\Algo_avance\\code\\stats_hugo.ipynb Cell 5'\u001b[0m in \u001b[0;36mmutate_path_insert\u001b[1;34m(path, complete_graph, interval, interval_vertex)\u001b[0m\n\u001b[0;32m      <a href='vscode-notebook-cell:/c%3A/Users/adrie/Desktop/adrien/perso/Algo_Avance/Algo_avance/code/stats_hugo.ipynb#ch0000004?line=4'>5</a>\u001b[0m path \u001b[39m=\u001b[39m np\u001b[39m.\u001b[39mdelete(path, np\u001b[39m.\u001b[39mwhere(path \u001b[39m==\u001b[39m start))\n\u001b[0;32m      <a href='vscode-notebook-cell:/c%3A/Users/adrie/Desktop/adrien/perso/Algo_Avance/Algo_avance/code/stats_hugo.ipynb#ch0000004?line=5'>6</a>\u001b[0m mutation \u001b[39m=\u001b[39m random\u001b[39m.\u001b[39mchoice(path)\n\u001b[1;32m----> <a href='vscode-notebook-cell:/c%3A/Users/adrie/Desktop/adrien/perso/Algo_Avance/Algo_avance/code/stats_hugo.ipynb#ch0000004?line=6'>7</a>\u001b[0m path \u001b[39m=\u001b[39m np\u001b[39m.\u001b[39;49mdelete(path, np\u001b[39m.\u001b[39;49mwhere(path \u001b[39m==\u001b[39;49m mutation))\n\u001b[0;32m      <a href='vscode-notebook-cell:/c%3A/Users/adrie/Desktop/adrien/perso/Algo_Avance/Algo_avance/code/stats_hugo.ipynb#ch0000004?line=7'>8</a>\u001b[0m new_index \u001b[39m=\u001b[39m random\u001b[39m.\u001b[39mrandint(\u001b[39m0\u001b[39m, \u001b[39mlen\u001b[39m(path) \u001b[39m-\u001b[39m \u001b[39m1\u001b[39m)\n\u001b[0;32m      <a href='vscode-notebook-cell:/c%3A/Users/adrie/Desktop/adrien/perso/Algo_Avance/Algo_avance/code/stats_hugo.ipynb#ch0000004?line=8'>9</a>\u001b[0m path \u001b[39m=\u001b[39m np\u001b[39m.\u001b[39minsert(path, new_index, mutation)\n",
      "File \u001b[1;32m<__array_function__ internals>:180\u001b[0m, in \u001b[0;36mdelete\u001b[1;34m(*args, **kwargs)\u001b[0m\n",
      "File \u001b[1;32mc:\\Users\\adrie\\Desktop\\adrien\\perso\\Algo_Avance\\Algo_avance\\env\\lib\\site-packages\\numpy\\lib\\function_base.py:5146\u001b[0m, in \u001b[0;36mdelete\u001b[1;34m(arr, obj, axis)\u001b[0m\n\u001b[0;32m   5144\u001b[0m         obj \u001b[39m=\u001b[39m obj\u001b[39m.\u001b[39mastype(intp)\n\u001b[0;32m   5145\u001b[0m     \u001b[39melif\u001b[39;00m obj\u001b[39m.\u001b[39msize \u001b[39m==\u001b[39m \u001b[39m1\u001b[39m \u001b[39mand\u001b[39;00m \u001b[39mnot\u001b[39;00m \u001b[39misinstance\u001b[39m(_obj, \u001b[39mbool\u001b[39m):\n\u001b[1;32m-> 5146\u001b[0m         obj \u001b[39m=\u001b[39m obj\u001b[39m.\u001b[39;49mastype(intp)\u001b[39m.\u001b[39mreshape(())\n\u001b[0;32m   5147\u001b[0m         single_value \u001b[39m=\u001b[39m \u001b[39mTrue\u001b[39;00m\n\u001b[0;32m   5149\u001b[0m \u001b[39mif\u001b[39;00m single_value:\n\u001b[0;32m   5150\u001b[0m     \u001b[39m# optimization for a single value\u001b[39;00m\n",
      "\u001b[1;31mKeyboardInterrupt\u001b[0m: "
     ]
    }
   ],
   "source": [
    "nb_vertex_matrix = 100\n",
    "min_weight = 10\n",
    "max_weight = 60\n",
    "density = 0.5\n",
    "nb_vertex_chosen = 30\n",
    "\n",
    "nb_test = 10\n",
    "\n",
    "bornes_tab = []\n",
    "\n",
    "for _ in range (nb_test):\n",
    "\n",
    "    vertices_list = get_random_vertices_list(nb_vertex_matrix, nb_vertex_chosen)\n",
    "    start_vertex = get_random_vertex(vertices_list)\n",
    "    start_vertex_index = np.where(vertices_list == start_vertex)[0][0]\n",
    "\n",
    "    interval_vertex = get_random_vertex(vertices_list)\n",
    "    interval_vertex_index = np.where(vertices_list == interval_vertex)[0][0]\n",
    "\n",
    "    interval = (0,100000000)\n",
    "\n",
    "    # generation of the graph, the complete graph and the list of all paths\n",
    "    graph, complete_graph, all_paths, all_vertex =\\\n",
    "    generate_instance(\n",
    "    nb_vertex_matrix = nb_vertex_matrix,\n",
    "    vertices_list = vertices_list,\n",
    "    density = density\n",
    "    )\n",
    "\n",
    "    population = generate_population(population_number, complete_graph, interval, interval_vertex_index, start_vertex_index)\n",
    "    best_path, best_weight, all_best_weights = evolve(population, complete_graph, interval, interval_vertex_index)\n",
    "    borne_inf = Simplex(complete_graph)[1]\n",
    "    distance_borne = borne_inf*100/best_weight\n",
    "    bornes_tab.append(distance_borne)\n",
    "\n",
    "\n",
    "    print(\"distance\",distance_borne)\n",
    "    print(\"borne_inf\",borne_inf)\n",
    "    print(\"best_weight\",best_weight)\n",
    "\n",
    "print(sum(bornes_tab) / len(bornes_tab))\n"
   ]
  },
  {
   "cell_type": "code",
   "execution_count": null,
   "metadata": {},
   "outputs": [
    {
     "data": {
      "text/plain": [
       "Text(0.5, 1.0, 'Distribution des distances à la borne supérieure')"
      ]
     },
     "execution_count": 180,
     "metadata": {},
     "output_type": "execute_result"
    },
    {
     "data": {
      "image/png": "[encoded data removed]",
      "text/plain": [
       "<Figure size 432x288 with 1 Axes>"
      ]
     },
     "metadata": {
      "needs_background": "light"
     },
     "output_type": "display_data"
    }
   ],
   "source": [
    "plt.hist(bornes_tab,bins=20, edgecolor = \"black\")                         #SOLUTION\n",
    "plt.xlabel(\"Rapprochement de la distance à la borne en %\")                             #SOLUTION\n",
    "plt.ylabel(\"nombre d'intances\")                               #SOLUTION\n",
    "plt.title(\"Distribution des distances à la borne supérieure\") #SOLUTION"
   ]
  },
  {
   "cell_type": "code",
   "execution_count": 19,
   "metadata": {},
   "outputs": [
    {
     "data": {
      "application/vnd.jupyter.widget-view+json": {
       "model_id": "971f932c28d34b4982a413a3fb970fca",
       "version_major": 2,
       "version_minor": 0
      },
      "text/plain": [
       "IntProgress(value=0, layout=Layout(width='100%'), max=30)"
      ]
     },
     "metadata": {},
     "output_type": "display_data"
    },
    {
     "data": {
      "application/vnd.jupyter.widget-view+json": {
       "model_id": "9238d9a89a0242f2b832a3673ae0e73b",
       "version_major": 2,
       "version_minor": 0
      },
      "text/plain": [
       "IntProgress(value=0, layout=Layout(width='100%'), max=200)"
      ]
     },
     "metadata": {},
     "output_type": "display_data"
    },
    {
     "name": "stdout",
     "output_type": "stream",
     "text": [
      "-----------------\n",
      "1 Optimal 5418.978460963716\n",
      "route_plan [[(0, 18), (18, 28), (28, 7), (7, 25), (25, 1), (1, 12), (12, 27), (27, 16), (16, 20), (20, 10), (10, 29), (29, 9), (9, 13), (13, 19), (19, 8), (8, 4), (4, 21), (21, 6), (6, 15), (15, 17), (17, 26), (26, 14), (14, 11), (11, 3), (3, 5), (5, 24), (24, 22), (22, 23), (23, 2), (2, 0)]]\n",
      "liste_route_plan [0, 18, 28, 7, 25, 1, 12, 27, 16, 20, 10, 29, 9, 13, 19, 8, 4, 21, 6, 15, 17, 26, 14, 11, 3, 5, 24, 22, 23, 2, 0]\n",
      "no. of times LP model is solved =  7\n",
      "subtour log (no. of subtours in each solution)) [4, 3, 3, 2, 4, 4, 1]\n",
      "Time taken by DFJ formulation =  2.011859655380249\n",
      "distance 68.18856769402562\n",
      "borne_inf 5418.978460963716\n",
      "best_weight 7947.048375146474\n"
     ]
    },
    {
     "data": {
      "application/vnd.jupyter.widget-view+json": {
       "model_id": "4cb7f3812c3c4f32b0ba6ed64723fd26",
       "version_major": 2,
       "version_minor": 0
      },
      "text/plain": [
       "IntProgress(value=0, layout=Layout(width='100%'), max=30)"
      ]
     },
     "metadata": {},
     "output_type": "display_data"
    },
    {
     "data": {
      "application/vnd.jupyter.widget-view+json": {
       "model_id": "3847a830af69422bb65601ae74a3f0cc",
       "version_major": 2,
       "version_minor": 0
      },
      "text/plain": [
       "IntProgress(value=0, layout=Layout(width='100%'), max=200)"
      ]
     },
     "metadata": {},
     "output_type": "display_data"
    },
    {
     "name": "stdout",
     "output_type": "stream",
     "text": [
      "-----------------\n",
      "1 Optimal 5819.320449475328\n",
      "route_plan [[(0, 23), (23, 18), (18, 7), (7, 29), (29, 13), (13, 3), (3, 19), (19, 4), (4, 5), (5, 28), (28, 2), (2, 1), (1, 26), (26, 16), (16, 9), (9, 14), (14, 8), (8, 12), (12, 24), (24, 11), (11, 27), (27, 20), (20, 17), (17, 21), (21, 10), (10, 6), (6, 22), (22, 25), (25, 15), (15, 0)]]\n",
      "liste_route_plan [0, 23, 18, 7, 29, 13, 3, 19, 4, 5, 28, 2, 1, 26, 16, 9, 14, 8, 12, 24, 11, 27, 20, 17, 21, 10, 6, 22, 25, 15, 0]\n",
      "no. of times LP model is solved =  17\n",
      "subtour log (no. of subtours in each solution)) [4, 8, 5, 4, 3, 3, 8, 4, 4, 3, 4, 3, 2, 2, 4, 3, 1]\n",
      "Time taken by DFJ formulation =  10.323494911193848\n",
      "distance 72.121638942359\n",
      "borne_inf 5819.320449475328\n",
      "best_weight 8068.757913455407\n"
     ]
    },
    {
     "data": {
      "application/vnd.jupyter.widget-view+json": {
       "model_id": "1b24382fe5f84746880afd56ceee49bc",
       "version_major": 2,
       "version_minor": 0
      },
      "text/plain": [
       "IntProgress(value=0, layout=Layout(width='100%'), max=30)"
      ]
     },
     "metadata": {},
     "output_type": "display_data"
    },
    {
     "data": {
      "application/vnd.jupyter.widget-view+json": {
       "model_id": "8fd6971427ff483b9055805c3178e235",
       "version_major": 2,
       "version_minor": 0
      },
      "text/plain": [
       "IntProgress(value=0, layout=Layout(width='100%'), max=200)"
      ]
     },
     "metadata": {},
     "output_type": "display_data"
    },
    {
     "name": "stdout",
     "output_type": "stream",
     "text": [
      "-----------------\n",
      "1 Optimal 5763.336726608557\n",
      "route_plan [[(0, 25), (25, 12), (12, 15), (15, 2), (2, 20), (20, 29), (29, 7), (7, 11), (11, 9), (9, 22), (22, 24), (24, 6), (6, 3), (3, 8), (8, 19), (19, 16), (16, 10), (10, 26), (26, 23), (23, 1), (1, 4), (4, 17), (17, 13), (13, 21), (21, 18), (18, 27), (27, 14), (14, 5), (5, 28), (28, 0)]]\n",
      "liste_route_plan [0, 25, 12, 15, 2, 20, 29, 7, 11, 9, 22, 24, 6, 3, 8, 19, 16, 10, 26, 23, 1, 4, 17, 13, 21, 18, 27, 14, 5, 28, 0]\n",
      "no. of times LP model is solved =  6\n",
      "subtour log (no. of subtours in each solution)) [6, 5, 3, 3, 3, 1]\n",
      "Time taken by DFJ formulation =  1.7052054405212402\n",
      "distance 72.25192227046759\n",
      "borne_inf 5763.336726608557\n",
      "best_weight 7976.72441853395\n"
     ]
    },
    {
     "data": {
      "application/vnd.jupyter.widget-view+json": {
       "model_id": "635bf7d86afc4e5283eede085c8ea5ae",
       "version_major": 2,
       "version_minor": 0
      },
      "text/plain": [
       "IntProgress(value=0, layout=Layout(width='100%'), max=30)"
      ]
     },
     "metadata": {},
     "output_type": "display_data"
    },
    {
     "data": {
      "application/vnd.jupyter.widget-view+json": {
       "model_id": "9d0a25d3e2f94868b3fcc189cd095513",
       "version_major": 2,
       "version_minor": 0
      },
      "text/plain": [
       "IntProgress(value=0, layout=Layout(width='100%'), max=200)"
      ]
     },
     "metadata": {},
     "output_type": "display_data"
    },
    {
     "name": "stdout",
     "output_type": "stream",
     "text": [
      "-----------------\n",
      "1 Optimal 5585.243018820966\n",
      "route_plan [[(0, 16), (16, 6), (6, 14), (14, 12), (12, 7), (7, 27), (27, 22), (22, 1), (1, 4), (4, 29), (29, 17), (17, 19), (19, 8), (8, 26), (26, 24), (24, 21), (21, 10), (10, 15), (15, 13), (13, 5), (5, 28), (28, 23), (23, 2), (2, 9), (9, 3), (3, 18), (18, 11), (11, 25), (25, 20), (20, 0)]]\n",
      "liste_route_plan [0, 16, 6, 14, 12, 7, 27, 22, 1, 4, 29, 17, 19, 8, 26, 24, 21, 10, 15, 13, 5, 28, 23, 2, 9, 3, 18, 11, 25, 20, 0]\n",
      "no. of times LP model is solved =  24\n",
      "subtour log (no. of subtours in each solution)) [5, 3, 3, 3, 2, 4, 3, 3, 3, 2, 4, 3, 2, 2, 2, 2, 3, 3, 2, 2, 3, 2, 2, 1]\n",
      "Time taken by DFJ formulation =  18.120814085006714\n",
      "distance 72.84110048122575\n",
      "borne_inf 5585.243018820966\n",
      "best_weight 7667.708178380036\n"
     ]
    },
    {
     "data": {
      "application/vnd.jupyter.widget-view+json": {
       "model_id": "98ab0446467b4c6eacbef9cf8e3c2fe2",
       "version_major": 2,
       "version_minor": 0
      },
      "text/plain": [
       "IntProgress(value=0, layout=Layout(width='100%'), max=30)"
      ]
     },
     "metadata": {},
     "output_type": "display_data"
    },
    {
     "data": {
      "application/vnd.jupyter.widget-view+json": {
       "model_id": "b2680f7997d94eb18aefe3c63264b77c",
       "version_major": 2,
       "version_minor": 0
      },
      "text/plain": [
       "IntProgress(value=0, layout=Layout(width='100%'), max=200)"
      ]
     },
     "metadata": {},
     "output_type": "display_data"
    },
    {
     "name": "stdout",
     "output_type": "stream",
     "text": [
      "-----------------\n",
      "1 Optimal 5664.054148669059\n",
      "route_plan [[(0, 13), (13, 6), (6, 10), (10, 21), (21, 3), (3, 5), (5, 15), (15, 22), (22, 24), (24, 26), (26, 25), (25, 4), (4, 2), (2, 27), (27, 23), (23, 11), (11, 9), (9, 7), (7, 18), (18, 16), (16, 20), (20, 28), (28, 29), (29, 12), (12, 19), (19, 1), (1, 17), (17, 14), (14, 8), (8, 0)]]\n",
      "liste_route_plan [0, 13, 6, 10, 21, 3, 5, 15, 22, 24, 26, 25, 4, 2, 27, 23, 11, 9, 7, 18, 16, 20, 28, 29, 12, 19, 1, 17, 14, 8, 0]\n",
      "no. of times LP model is solved =  8\n",
      "subtour log (no. of subtours in each solution)) [5, 2, 2, 3, 3, 2, 2, 1]\n",
      "Time taken by DFJ formulation =  2.3025455474853516\n",
      "distance 71.42218637627631\n",
      "borne_inf 5664.054148669059\n",
      "best_weight 7930.384711032088\n"
     ]
    },
    {
     "data": {
      "application/vnd.jupyter.widget-view+json": {
       "model_id": "82b4d81f551f432ebe43c21a0d970855",
       "version_major": 2,
       "version_minor": 0
      },
      "text/plain": [
       "IntProgress(value=0, layout=Layout(width='100%'), max=30)"
      ]
     },
     "metadata": {},
     "output_type": "display_data"
    },
    {
     "data": {
      "application/vnd.jupyter.widget-view+json": {
       "model_id": "efbffa4c7cc940d4b505cb460b7c9471",
       "version_major": 2,
       "version_minor": 0
      },
      "text/plain": [
       "IntProgress(value=0, layout=Layout(width='100%'), max=200)"
      ]
     },
     "metadata": {},
     "output_type": "display_data"
    },
    {
     "name": "stdout",
     "output_type": "stream",
     "text": [
      "-----------------\n",
      "1 Optimal 6273.269408961285\n",
      "route_plan [[(0, 29), (29, 4), (4, 20), (20, 1), (1, 23), (23, 17), (17, 8), (8, 16), (16, 21), (21, 9), (9, 7), (7, 15), (15, 26), (26, 25), (25, 5), (5, 3), (3, 14), (14, 13), (13, 10), (10, 22), (22, 24), (24, 19), (19, 18), (18, 27), (27, 12), (12, 6), (6, 28), (28, 2), (2, 11), (11, 0)]]\n",
      "liste_route_plan [0, 29, 4, 20, 1, 23, 17, 8, 16, 21, 9, 7, 15, 26, 25, 5, 3, 14, 13, 10, 22, 24, 19, 18, 27, 12, 6, 28, 2, 11, 0]\n",
      "no. of times LP model is solved =  3\n",
      "subtour log (no. of subtours in each solution)) [5, 6, 1]\n",
      "Time taken by DFJ formulation =  0.7829036712646484\n",
      "distance 82.14506307084268\n",
      "borne_inf 6273.269408961285\n",
      "best_weight 7636.818543253364\n"
     ]
    },
    {
     "data": {
      "application/vnd.jupyter.widget-view+json": {
       "model_id": "fa4ad578debc42f4ad43c45c6499112f",
       "version_major": 2,
       "version_minor": 0
      },
      "text/plain": [
       "IntProgress(value=0, layout=Layout(width='100%'), max=30)"
      ]
     },
     "metadata": {},
     "output_type": "display_data"
    },
    {
     "data": {
      "application/vnd.jupyter.widget-view+json": {
       "model_id": "f7c756d6f00f4604bfedbf2face714bd",
       "version_major": 2,
       "version_minor": 0
      },
      "text/plain": [
       "IntProgress(value=0, layout=Layout(width='100%'), max=200)"
      ]
     },
     "metadata": {},
     "output_type": "display_data"
    },
    {
     "name": "stdout",
     "output_type": "stream",
     "text": [
      "-----------------\n",
      "1 Optimal 5567.64273859857\n",
      "route_plan [[(0, 1), (1, 25), (25, 13), (13, 19), (19, 23), (23, 12), (12, 20), (20, 5), (5, 11), (11, 8), (8, 29), (29, 27), (27, 21), (21, 6), (6, 28), (28, 4), (4, 16), (16, 18), (18, 17), (17, 14), (14, 15), (15, 9), (9, 10), (10, 26), (26, 2), (2, 22), (22, 3), (3, 24), (24, 7), (7, 0)]]\n",
      "liste_route_plan [0, 1, 25, 13, 19, 23, 12, 20, 5, 11, 8, 29, 27, 21, 6, 28, 4, 16, 18, 17, 14, 15, 9, 10, 26, 2, 22, 3, 24, 7, 0]\n",
      "no. of times LP model is solved =  28\n",
      "subtour log (no. of subtours in each solution)) [9, 8, 4, 3, 2, 2, 2, 2, 3, 2, 3, 3, 3, 3, 3, 2, 2, 2, 4, 3, 5, 2, 2, 2, 4, 2, 2, 1]\n",
      "Time taken by DFJ formulation =  24.589790105819702\n",
      "distance 72.72985824248929\n",
      "borne_inf 5567.64273859857\n",
      "best_weight 7655.236615525142\n"
     ]
    },
    {
     "data": {
      "application/vnd.jupyter.widget-view+json": {
       "model_id": "27613b5e3bd34d2a9842f0582cd8896b",
       "version_major": 2,
       "version_minor": 0
      },
      "text/plain": [
       "IntProgress(value=0, layout=Layout(width='100%'), max=30)"
      ]
     },
     "metadata": {},
     "output_type": "display_data"
    },
    {
     "data": {
      "application/vnd.jupyter.widget-view+json": {
       "model_id": "8aa0b92677fb4b09aeb76b76d786c050",
       "version_major": 2,
       "version_minor": 0
      },
      "text/plain": [
       "IntProgress(value=0, layout=Layout(width='100%'), max=200)"
      ]
     },
     "metadata": {},
     "output_type": "display_data"
    },
    {
     "name": "stdout",
     "output_type": "stream",
     "text": [
      "-----------------\n",
      "1 Optimal 5811.203869124237\n",
      "route_plan [[(0, 28), (28, 25), (25, 11), (11, 6), (6, 15), (15, 4), (4, 14), (14, 16), (16, 8), (8, 27), (27, 26), (26, 12), (12, 10), (10, 24), (24, 9), (9, 23), (23, 20), (20, 29), (29, 21), (21, 7), (7, 17), (17, 22), (22, 3), (3, 19), (19, 2), (2, 13), (13, 1), (1, 5), (5, 18), (18, 0)]]\n",
      "liste_route_plan [0, 28, 25, 11, 6, 15, 4, 14, 16, 8, 27, 26, 12, 10, 24, 9, 23, 20, 29, 21, 7, 17, 22, 3, 19, 2, 13, 1, 5, 18, 0]\n",
      "no. of times LP model is solved =  8\n",
      "subtour log (no. of subtours in each solution)) [5, 8, 2, 2, 2, 3, 2, 1]\n",
      "Time taken by DFJ formulation =  2.384782552719116\n",
      "distance 75.12793710674103\n",
      "borne_inf 5811.203869124237\n",
      "best_weight 7735.077113681074\n"
     ]
    },
    {
     "data": {
      "application/vnd.jupyter.widget-view+json": {
       "model_id": "6c3d38b65c25445e99a446b84bffe66c",
       "version_major": 2,
       "version_minor": 0
      },
      "text/plain": [
       "IntProgress(value=0, layout=Layout(width='100%'), max=30)"
      ]
     },
     "metadata": {},
     "output_type": "display_data"
    },
    {
     "data": {
      "application/vnd.jupyter.widget-view+json": {
       "model_id": "d13add188d79449aac6e4e5642a8e0f9",
       "version_major": 2,
       "version_minor": 0
      },
      "text/plain": [
       "IntProgress(value=0, layout=Layout(width='100%'), max=200)"
      ]
     },
     "metadata": {},
     "output_type": "display_data"
    },
    {
     "name": "stdout",
     "output_type": "stream",
     "text": [
      "-----------------\n",
      "1 Optimal 5610.007070074675\n",
      "route_plan [[(0, 27), (27, 13), (13, 24), (24, 5), (5, 1), (1, 23), (23, 8), (8, 4), (4, 12), (12, 16), (16, 18), (18, 3), (3, 14), (14, 20), (20, 21), (21, 29), (29, 28), (28, 2), (2, 15), (15, 22), (22, 25), (25, 17), (17, 26), (26, 6), (6, 9), (9, 19), (19, 10), (10, 7), (7, 11), (11, 0)]]\n",
      "liste_route_plan [0, 27, 13, 24, 5, 1, 23, 8, 4, 12, 16, 18, 3, 14, 20, 21, 29, 28, 2, 15, 22, 25, 17, 26, 6, 9, 19, 10, 7, 11, 0]\n",
      "no. of times LP model is solved =  5\n",
      "subtour log (no. of subtours in each solution)) [5, 2, 4, 4, 1]\n",
      "Time taken by DFJ formulation =  1.224738597869873\n",
      "distance 71.57474166392672\n",
      "borne_inf 5610.007070074675\n",
      "best_weight 7837.970406398391\n"
     ]
    },
    {
     "data": {
      "application/vnd.jupyter.widget-view+json": {
       "model_id": "ed8123a54eff41d38d767e2504b69b77",
       "version_major": 2,
       "version_minor": 0
      },
      "text/plain": [
       "IntProgress(value=0, layout=Layout(width='100%'), max=30)"
      ]
     },
     "metadata": {},
     "output_type": "display_data"
    },
    {
     "data": {
      "application/vnd.jupyter.widget-view+json": {
       "model_id": "be5b5db25a8d43b4877cfc168b4a7468",
       "version_major": 2,
       "version_minor": 0
      },
      "text/plain": [
       "IntProgress(value=0, layout=Layout(width='100%'), max=200)"
      ]
     },
     "metadata": {},
     "output_type": "display_data"
    },
    {
     "name": "stdout",
     "output_type": "stream",
     "text": [
      "-----------------\n",
      "1 Optimal 5430.489972414176\n",
      "route_plan [[(0, 6), (6, 5), (5, 7), (7, 28), (28, 10), (10, 14), (14, 9), (9, 21), (21, 4), (4, 3), (3, 12), (12, 2), (2, 25), (25, 22), (22, 29), (29, 24), (24, 23), (23, 17), (17, 8), (8, 15), (15, 26), (26, 11), (11, 1), (1, 27), (27, 20), (20, 16), (16, 18), (18, 19), (19, 13), (13, 0)]]\n",
      "liste_route_plan [0, 6, 5, 7, 28, 10, 14, 9, 21, 4, 3, 12, 2, 25, 22, 29, 24, 23, 17, 8, 15, 26, 11, 1, 27, 20, 16, 18, 19, 13, 0]\n",
      "no. of times LP model is solved =  3\n",
      "subtour log (no. of subtours in each solution)) [10, 4, 1]\n",
      "Time taken by DFJ formulation =  0.5900566577911377\n",
      "distance 71.96722824107651\n",
      "borne_inf 5430.489972414176\n",
      "best_weight 7545.781746968313\n"
     ]
    },
    {
     "data": {
      "application/vnd.jupyter.widget-view+json": {
       "model_id": "74161900b294411f9a2c5c9a9531b2a7",
       "version_major": 2,
       "version_minor": 0
      },
      "text/plain": [
       "IntProgress(value=0, layout=Layout(width='100%'), max=30)"
      ]
     },
     "metadata": {},
     "output_type": "display_data"
    },
    {
     "data": {
      "application/vnd.jupyter.widget-view+json": {
       "model_id": "dc31a1e87efd436c9d36a9bd72ecb49c",
       "version_major": 2,
       "version_minor": 0
      },
      "text/plain": [
       "IntProgress(value=0, layout=Layout(width='100%'), max=200)"
      ]
     },
     "metadata": {},
     "output_type": "display_data"
    },
    {
     "name": "stdout",
     "output_type": "stream",
     "text": [
      "-----------------\n",
      "1 Optimal 5064.291155746505\n",
      "route_plan [[(0, 7), (7, 3), (3, 18), (18, 27), (27, 24), (24, 1), (1, 26), (26, 12), (12, 10), (10, 5), (5, 28), (28, 8), (8, 14), (14, 2), (2, 9), (9, 22), (22, 13), (13, 20), (20, 4), (4, 19), (19, 11), (11, 25), (25, 17), (17, 29), (29, 6), (6, 23), (23, 21), (21, 16), (16, 15), (15, 0)]]\n",
      "liste_route_plan [0, 7, 3, 18, 27, 24, 1, 26, 12, 10, 5, 28, 8, 14, 2, 9, 22, 13, 20, 4, 19, 11, 25, 17, 29, 6, 23, 21, 16, 15, 0]\n",
      "no. of times LP model is solved =  32\n",
      "subtour log (no. of subtours in each solution)) [8, 5, 6, 5, 5, 5, 2, 2, 3, 2, 2, 2, 2, 2, 2, 2, 2, 2, 2, 2, 2, 2, 2, 2, 2, 2, 2, 2, 2, 2, 2, 1]\n",
      "Time taken by DFJ formulation =  62.591434717178345\n",
      "distance 71.28392417120179\n",
      "borne_inf 5064.291155746505\n",
      "best_weight 7104.39445446866\n"
     ]
    },
    {
     "data": {
      "application/vnd.jupyter.widget-view+json": {
       "model_id": "c4b69817097f4b8fb24e102714a5a09b",
       "version_major": 2,
       "version_minor": 0
      },
      "text/plain": [
       "IntProgress(value=0, layout=Layout(width='100%'), max=30)"
      ]
     },
     "metadata": {},
     "output_type": "display_data"
    },
    {
     "data": {
      "application/vnd.jupyter.widget-view+json": {
       "model_id": "4e7b0db0372842ffb7a1b80d94a58536",
       "version_major": 2,
       "version_minor": 0
      },
      "text/plain": [
       "IntProgress(value=0, layout=Layout(width='100%'), max=200)"
      ]
     },
     "metadata": {},
     "output_type": "display_data"
    },
    {
     "name": "stdout",
     "output_type": "stream",
     "text": [
      "-----------------\n",
      "1 Optimal 4836.574834851792\n",
      "route_plan [[(0, 23), (23, 18), (18, 15), (15, 21), (21, 4), (4, 12), (12, 2), (2, 16), (16, 22), (22, 24), (24, 9), (9, 1), (1, 6), (6, 10), (10, 7), (7, 3), (3, 13), (13, 14), (14, 20), (20, 27), (27, 17), (17, 19), (19, 29), (29, 25), (25, 28), (28, 26), (26, 11), (11, 5), (5, 8), (8, 0)]]\n",
      "liste_route_plan [0, 23, 18, 15, 21, 4, 12, 2, 16, 22, 24, 9, 1, 6, 10, 7, 3, 13, 14, 20, 27, 17, 19, 29, 25, 28, 26, 11, 5, 8, 0]\n",
      "no. of times LP model is solved =  16\n",
      "subtour log (no. of subtours in each solution)) [7, 6, 2, 2, 2, 2, 2, 2, 2, 2, 2, 2, 3, 3, 3, 1]\n",
      "Time taken by DFJ formulation =  6.683167219161987\n",
      "distance 69.02950942865766\n",
      "borne_inf 4836.574834851792\n",
      "best_weight 7006.532242345451\n"
     ]
    },
    {
     "data": {
      "application/vnd.jupyter.widget-view+json": {
       "model_id": "79edcea34f6a472c8e36cdc72e040b30",
       "version_major": 2,
       "version_minor": 0
      },
      "text/plain": [
       "IntProgress(value=0, layout=Layout(width='100%'), max=30)"
      ]
     },
     "metadata": {},
     "output_type": "display_data"
    },
    {
     "data": {
      "application/vnd.jupyter.widget-view+json": {
       "model_id": "d0b7b5e0d23c4f74ab56f13353a450e1",
       "version_major": 2,
       "version_minor": 0
      },
      "text/plain": [
       "IntProgress(value=0, layout=Layout(width='100%'), max=200)"
      ]
     },
     "metadata": {},
     "output_type": "display_data"
    },
    {
     "name": "stdout",
     "output_type": "stream",
     "text": [
      "-----------------\n",
      "1 Optimal 5292.437296157572\n",
      "route_plan [[(0, 7), (7, 14), (14, 8), (8, 28), (28, 25), (25, 9), (9, 27), (27, 21), (21, 26), (26, 11), (11, 24), (24, 22), (22, 1), (1, 17), (17, 12), (12, 6), (6, 19), (19, 15), (15, 10), (10, 2), (2, 23), (23, 4), (4, 20), (20, 18), (18, 5), (5, 29), (29, 16), (16, 3), (3, 13), (13, 0)]]\n",
      "liste_route_plan [0, 7, 14, 8, 28, 25, 9, 27, 21, 26, 11, 24, 22, 1, 17, 12, 6, 19, 15, 10, 2, 23, 4, 20, 18, 5, 29, 16, 3, 13, 0]\n",
      "no. of times LP model is solved =  44\n",
      "subtour log (no. of subtours in each solution)) [9, 8, 2, 2, 3, 2, 2, 3, 3, 3, 4, 3, 2, 3, 3, 2, 2, 2, 2, 2, 3, 3, 3, 3, 3, 4, 3, 2, 3, 2, 2, 3, 3, 2, 2, 2, 2, 2, 2, 2, 2, 3, 3, 1]\n",
      "Time taken by DFJ formulation =  143.13866090774536\n",
      "distance 69.81584062397165\n",
      "borne_inf 5292.437296157572\n",
      "best_weight 7580.5680327802065\n"
     ]
    },
    {
     "data": {
      "application/vnd.jupyter.widget-view+json": {
       "model_id": "912c52357aa04897873de3d4c565d21e",
       "version_major": 2,
       "version_minor": 0
      },
      "text/plain": [
       "IntProgress(value=0, layout=Layout(width='100%'), max=30)"
      ]
     },
     "metadata": {},
     "output_type": "display_data"
    },
    {
     "data": {
      "application/vnd.jupyter.widget-view+json": {
       "model_id": "14e05e000340401ca32f4917ad5e81e1",
       "version_major": 2,
       "version_minor": 0
      },
      "text/plain": [
       "IntProgress(value=0, layout=Layout(width='100%'), max=200)"
      ]
     },
     "metadata": {},
     "output_type": "display_data"
    },
    {
     "name": "stdout",
     "output_type": "stream",
     "text": [
      "-----------------\n",
      "1 Optimal 5113.231079687927\n",
      "route_plan [[(0, 21), (21, 22), (22, 19), (19, 6), (6, 2), (2, 10), (10, 1), (1, 23), (23, 24), (24, 26), (26, 14), (14, 5), (5, 15), (15, 29), (29, 12), (12, 17), (17, 27), (27, 7), (7, 18), (18, 4), (4, 20), (20, 13), (13, 8), (8, 11), (11, 3), (3, 25), (25, 9), (9, 28), (28, 16), (16, 0)]]\n",
      "liste_route_plan [0, 21, 22, 19, 6, 2, 10, 1, 23, 24, 26, 14, 5, 15, 29, 12, 17, 27, 7, 18, 4, 20, 13, 8, 11, 3, 25, 9, 28, 16, 0]\n",
      "no. of times LP model is solved =  36\n",
      "subtour log (no. of subtours in each solution)) [6, 5, 4, 5, 4, 6, 6, 5, 4, 6, 2, 2, 2, 2, 3, 3, 2, 2, 2, 2, 2, 2, 2, 2, 2, 2, 2, 3, 2, 2, 3, 2, 2, 4, 4, 1]\n",
      "Time taken by DFJ formulation =  70.45979857444763\n",
      "distance 70.58733145970021\n",
      "borne_inf 5113.231079687927\n",
      "best_weight 7243.8367819687\n"
     ]
    },
    {
     "data": {
      "application/vnd.jupyter.widget-view+json": {
       "model_id": "d12d5d261a9c4da8831efd7c946912d6",
       "version_major": 2,
       "version_minor": 0
      },
      "text/plain": [
       "IntProgress(value=0, layout=Layout(width='100%'), max=30)"
      ]
     },
     "metadata": {},
     "output_type": "display_data"
    },
    {
     "data": {
      "application/vnd.jupyter.widget-view+json": {
       "model_id": "423c42af7b75403a99ac684222b2198d",
       "version_major": 2,
       "version_minor": 0
      },
      "text/plain": [
       "IntProgress(value=0, layout=Layout(width='100%'), max=200)"
      ]
     },
     "metadata": {},
     "output_type": "display_data"
    },
    {
     "name": "stdout",
     "output_type": "stream",
     "text": [
      "-----------------\n",
      "1 Optimal 5911.847531794854\n",
      "route_plan [[(0, 26), (26, 4), (4, 10), (10, 16), (16, 24), (24, 9), (9, 25), (25, 20), (20, 19), (19, 29), (29, 22), (22, 7), (7, 12), (12, 3), (3, 8), (8, 17), (17, 28), (28, 5), (5, 1), (1, 14), (14, 18), (18, 15), (15, 21), (21, 23), (23, 13), (13, 27), (27, 2), (2, 11), (11, 6), (6, 0)]]\n",
      "liste_route_plan [0, 26, 4, 10, 16, 24, 9, 25, 20, 19, 29, 22, 7, 12, 3, 8, 17, 28, 5, 1, 14, 18, 15, 21, 23, 13, 27, 2, 11, 6, 0]\n",
      "no. of times LP model is solved =  22\n",
      "subtour log (no. of subtours in each solution)) [5, 3, 2, 2, 3, 3, 2, 3, 2, 2, 3, 3, 3, 2, 2, 3, 2, 2, 4, 4, 2, 1]\n",
      "Time taken by DFJ formulation =  18.02337384223938\n",
      "distance 72.03801247374892\n",
      "borne_inf 5911.847531794854\n",
      "best_weight 8206.566684428122\n"
     ]
    },
    {
     "data": {
      "application/vnd.jupyter.widget-view+json": {
       "model_id": "4e38224eaf5d4c7a9049955b94a7590e",
       "version_major": 2,
       "version_minor": 0
      },
      "text/plain": [
       "IntProgress(value=0, layout=Layout(width='100%'), max=30)"
      ]
     },
     "metadata": {},
     "output_type": "display_data"
    },
    {
     "data": {
      "application/vnd.jupyter.widget-view+json": {
       "model_id": "7a702cd3e6ef45639d1a1cfb59e3426e",
       "version_major": 2,
       "version_minor": 0
      },
      "text/plain": [
       "IntProgress(value=0, layout=Layout(width='100%'), max=200)"
      ]
     },
     "metadata": {},
     "output_type": "display_data"
    },
    {
     "name": "stdout",
     "output_type": "stream",
     "text": [
      "-----------------\n",
      "1 Optimal 6022.208579057152\n",
      "route_plan [[(0, 27), (27, 26), (26, 8), (8, 12), (12, 9), (9, 11), (11, 24), (24, 20), (20, 4), (4, 19), (19, 28), (28, 6), (6, 25), (25, 14), (14, 22), (22, 23), (23, 1), (1, 5), (5, 29), (29, 17), (17, 21), (21, 2), (2, 3), (3, 13), (13, 7), (7, 10), (10, 15), (15, 18), (18, 16), (16, 0)]]\n",
      "liste_route_plan [0, 27, 26, 8, 12, 9, 11, 24, 20, 4, 19, 28, 6, 25, 14, 22, 23, 1, 5, 29, 17, 21, 2, 3, 13, 7, 10, 15, 18, 16, 0]\n",
      "no. of times LP model is solved =  5\n",
      "subtour log (no. of subtours in each solution)) [6, 5, 2, 2, 1]\n",
      "Time taken by DFJ formulation =  1.336667537689209\n",
      "distance 76.1817127601733\n",
      "borne_inf 6022.208579057152\n",
      "best_weight 7905.057999963314\n"
     ]
    },
    {
     "data": {
      "application/vnd.jupyter.widget-view+json": {
       "model_id": "5ea8ca8becb84942bc0bd2aee2572859",
       "version_major": 2,
       "version_minor": 0
      },
      "text/plain": [
       "IntProgress(value=0, layout=Layout(width='100%'), max=30)"
      ]
     },
     "metadata": {},
     "output_type": "display_data"
    },
    {
     "data": {
      "application/vnd.jupyter.widget-view+json": {
       "model_id": "0cd3cac20a3f4d5d98280b1d1a2eef6c",
       "version_major": 2,
       "version_minor": 0
      },
      "text/plain": [
       "IntProgress(value=0, layout=Layout(width='100%'), max=200)"
      ]
     },
     "metadata": {},
     "output_type": "display_data"
    },
    {
     "name": "stdout",
     "output_type": "stream",
     "text": [
      "-----------------\n",
      "1 Optimal 6056.754400148742\n",
      "route_plan [[(0, 3), (3, 28), (28, 21), (21, 9), (9, 24), (24, 17), (17, 12), (12, 4), (4, 7), (7, 16), (16, 10), (10, 25), (25, 11), (11, 14), (14, 27), (27, 6), (6, 1), (1, 29), (29, 8), (8, 20), (20, 18), (18, 15), (15, 22), (22, 13), (13, 5), (5, 26), (26, 19), (19, 23), (23, 2), (2, 0)]]\n",
      "liste_route_plan [0, 3, 28, 21, 9, 24, 17, 12, 4, 7, 16, 10, 25, 11, 14, 27, 6, 1, 29, 8, 20, 18, 15, 22, 13, 5, 26, 19, 23, 2, 0]\n",
      "no. of times LP model is solved =  30\n",
      "subtour log (no. of subtours in each solution)) [8, 5, 2, 2, 2, 2, 3, 4, 4, 3, 2, 3, 2, 2, 3, 2, 2, 2, 2, 2, 2, 2, 2, 2, 2, 2, 3, 4, 4, 1]\n",
      "Time taken by DFJ formulation =  33.68289542198181\n",
      "distance 73.98588499122071\n",
      "borne_inf 6056.754400148742\n",
      "best_weight 8186.364738175999\n"
     ]
    },
    {
     "data": {
      "application/vnd.jupyter.widget-view+json": {
       "model_id": "83db332f39274056bcb0450ed3e22804",
       "version_major": 2,
       "version_minor": 0
      },
      "text/plain": [
       "IntProgress(value=0, layout=Layout(width='100%'), max=30)"
      ]
     },
     "metadata": {},
     "output_type": "display_data"
    },
    {
     "data": {
      "application/vnd.jupyter.widget-view+json": {
       "model_id": "63be115fed2f49678d690891411ac6ec",
       "version_major": 2,
       "version_minor": 0
      },
      "text/plain": [
       "IntProgress(value=0, layout=Layout(width='100%'), max=200)"
      ]
     },
     "metadata": {},
     "output_type": "display_data"
    },
    {
     "name": "stdout",
     "output_type": "stream",
     "text": [
      "-----------------\n",
      "1 Optimal 5741.257645109195\n",
      "route_plan [[(0, 16), (16, 10), (10, 17), (17, 21), (21, 23), (23, 27), (27, 3), (3, 13), (13, 12), (12, 15), (15, 6), (6, 7), (7, 1), (1, 20), (20, 2), (2, 28), (28, 19), (19, 25), (25, 24), (24, 18), (18, 8), (8, 22), (22, 9), (9, 14), (14, 5), (5, 26), (26, 11), (11, 29), (29, 4), (4, 0)]]\n",
      "liste_route_plan [0, 16, 10, 17, 21, 23, 27, 3, 13, 12, 15, 6, 7, 1, 20, 2, 28, 19, 25, 24, 18, 8, 22, 9, 14, 5, 26, 11, 29, 4, 0]\n",
      "no. of times LP model is solved =  10\n",
      "subtour log (no. of subtours in each solution)) [3, 6, 4, 4, 4, 3, 3, 3, 3, 1]\n",
      "Time taken by DFJ formulation =  3.2888736724853516\n",
      "distance 80.04787960092702\n",
      "borne_inf 5741.257645109195\n",
      "best_weight 7172.27948289427\n"
     ]
    },
    {
     "data": {
      "application/vnd.jupyter.widget-view+json": {
       "model_id": "8f8eb93356294e6c9817045d98301a11",
       "version_major": 2,
       "version_minor": 0
      },
      "text/plain": [
       "IntProgress(value=0, layout=Layout(width='100%'), max=30)"
      ]
     },
     "metadata": {},
     "output_type": "display_data"
    },
    {
     "data": {
      "application/vnd.jupyter.widget-view+json": {
       "model_id": "e289609b576746d6a8d4a80f29681341",
       "version_major": 2,
       "version_minor": 0
      },
      "text/plain": [
       "IntProgress(value=0, layout=Layout(width='100%'), max=200)"
      ]
     },
     "metadata": {},
     "output_type": "display_data"
    },
    {
     "name": "stdout",
     "output_type": "stream",
     "text": [
      "-----------------\n",
      "1 Optimal 6334.080325348181\n",
      "route_plan [[(0, 18), (18, 4), (4, 14), (14, 16), (16, 26), (26, 29), (29, 8), (8, 5), (5, 28), (28, 27), (27, 7), (7, 6), (6, 23), (23, 1), (1, 17), (17, 15), (15, 20), (20, 9), (9, 19), (19, 24), (24, 11), (11, 21), (21, 3), (3, 22), (22, 10), (10, 13), (13, 12), (12, 2), (2, 25), (25, 0)]]\n",
      "liste_route_plan [0, 18, 4, 14, 16, 26, 29, 8, 5, 28, 27, 7, 6, 23, 1, 17, 15, 20, 9, 19, 24, 11, 21, 3, 22, 10, 13, 12, 2, 25, 0]\n",
      "no. of times LP model is solved =  24\n",
      "subtour log (no. of subtours in each solution)) [9, 9, 8, 5, 2, 2, 3, 2, 3, 3, 3, 3, 2, 2, 3, 3, 2, 2, 3, 3, 3, 3, 2, 1]\n",
      "Time taken by DFJ formulation =  26.51650094985962\n",
      "distance 70.63351105807793\n",
      "borne_inf 6334.080325348181\n",
      "best_weight 8967.52862835889\n"
     ]
    },
    {
     "data": {
      "application/vnd.jupyter.widget-view+json": {
       "model_id": "ba10aa86b50649d2a850ba267c2c9a41",
       "version_major": 2,
       "version_minor": 0
      },
      "text/plain": [
       "IntProgress(value=0, layout=Layout(width='100%'), max=30)"
      ]
     },
     "metadata": {},
     "output_type": "display_data"
    },
    {
     "data": {
      "application/vnd.jupyter.widget-view+json": {
       "model_id": "54ad9b33d3104f01b8462e6ad1f0649a",
       "version_major": 2,
       "version_minor": 0
      },
      "text/plain": [
       "IntProgress(value=0, layout=Layout(width='100%'), max=200)"
      ]
     },
     "metadata": {},
     "output_type": "display_data"
    },
    {
     "name": "stdout",
     "output_type": "stream",
     "text": [
      "-----------------\n",
      "1 Optimal 5578.001719301163\n",
      "route_plan [[(0, 3), (3, 13), (13, 26), (26, 15), (15, 12), (12, 14), (14, 19), (19, 20), (20, 27), (27, 1), (1, 9), (9, 17), (17, 5), (5, 25), (25, 11), (11, 4), (4, 2), (2, 7), (7, 24), (24, 23), (23, 8), (8, 10), (10, 21), (21, 28), (28, 18), (18, 16), (16, 6), (6, 22), (22, 29), (29, 0)]]\n",
      "liste_route_plan [0, 3, 13, 26, 15, 12, 14, 19, 20, 27, 1, 9, 17, 5, 25, 11, 4, 2, 7, 24, 23, 8, 10, 21, 28, 18, 16, 6, 22, 29, 0]\n",
      "no. of times LP model is solved =  3\n",
      "subtour log (no. of subtours in each solution)) [9, 3, 1]\n",
      "Time taken by DFJ formulation =  0.6267733573913574\n",
      "distance 63.68629950006486\n",
      "borne_inf 5578.001719301163\n",
      "best_weight 8758.558376115858\n"
     ]
    },
    {
     "data": {
      "application/vnd.jupyter.widget-view+json": {
       "model_id": "199b484f3c164bd4a01a49179028f733",
       "version_major": 2,
       "version_minor": 0
      },
      "text/plain": [
       "IntProgress(value=0, layout=Layout(width='100%'), max=30)"
      ]
     },
     "metadata": {},
     "output_type": "display_data"
    },
    {
     "data": {
      "application/vnd.jupyter.widget-view+json": {
       "model_id": "5f79246198e64f9d90260bcee0194e95",
       "version_major": 2,
       "version_minor": 0
      },
      "text/plain": [
       "IntProgress(value=0, layout=Layout(width='100%'), max=200)"
      ]
     },
     "metadata": {},
     "output_type": "display_data"
    },
    {
     "name": "stdout",
     "output_type": "stream",
     "text": [
      "-----------------\n",
      "1 Optimal 5373.30213851738\n",
      "route_plan [[(0, 27), (27, 20), (20, 16), (16, 13), (13, 26), (26, 2), (2, 29), (29, 21), (21, 19), (19, 23), (23, 14), (14, 1), (1, 3), (3, 9), (9, 24), (24, 11), (11, 10), (10, 15), (15, 4), (4, 7), (7, 17), (17, 8), (8, 6), (6, 22), (22, 12), (12, 18), (18, 5), (5, 25), (25, 28), (28, 0)]]\n",
      "liste_route_plan [0, 27, 20, 16, 13, 26, 2, 29, 21, 19, 23, 14, 1, 3, 9, 24, 11, 10, 15, 4, 7, 17, 8, 6, 22, 12, 18, 5, 25, 28, 0]\n",
      "no. of times LP model is solved =  5\n",
      "subtour log (no. of subtours in each solution)) [2, 2, 2, 2, 1]\n",
      "Time taken by DFJ formulation =  1.3799006938934326\n",
      "distance 68.66125184292117\n",
      "borne_inf 5373.30213851738\n",
      "best_weight 7825.814406661384\n"
     ]
    },
    {
     "data": {
      "application/vnd.jupyter.widget-view+json": {
       "model_id": "a0333ca889e44cacacdc2b2e05475bac",
       "version_major": 2,
       "version_minor": 0
      },
      "text/plain": [
       "IntProgress(value=0, layout=Layout(width='100%'), max=30)"
      ]
     },
     "metadata": {},
     "output_type": "display_data"
    },
    {
     "data": {
      "application/vnd.jupyter.widget-view+json": {
       "model_id": "92e3d0dc5b28429da5abf7b8db062a1a",
       "version_major": 2,
       "version_minor": 0
      },
      "text/plain": [
       "IntProgress(value=0, layout=Layout(width='100%'), max=200)"
      ]
     },
     "metadata": {},
     "output_type": "display_data"
    },
    {
     "name": "stdout",
     "output_type": "stream",
     "text": [
      "-----------------\n",
      "1 Optimal 5314.9533586179205\n",
      "route_plan [[(0, 11), (11, 25), (25, 9), (9, 10), (10, 13), (13, 26), (26, 22), (22, 6), (6, 28), (28, 12), (12, 19), (19, 29), (29, 21), (21, 24), (24, 5), (5, 2), (2, 7), (7, 17), (17, 15), (15, 14), (14, 16), (16, 20), (20, 4), (4, 23), (23, 18), (18, 27), (27, 3), (3, 8), (8, 1), (1, 0)]]\n",
      "liste_route_plan [0, 11, 25, 9, 10, 13, 26, 22, 6, 28, 12, 19, 29, 21, 24, 5, 2, 7, 17, 15, 14, 16, 20, 4, 23, 18, 27, 3, 8, 1, 0]\n",
      "no. of times LP model is solved =  25\n",
      "subtour log (no. of subtours in each solution)) [7, 4, 5, 5, 4, 3, 5, 2, 3, 5, 4, 2, 3, 2, 3, 3, 4, 4, 3, 2, 3, 4, 2, 3, 1]\n",
      "Time taken by DFJ formulation =  30.498053312301636\n",
      "distance 74.38816573921876\n",
      "borne_inf 5314.9533586179205\n",
      "best_weight 7144.890999531372\n"
     ]
    },
    {
     "data": {
      "application/vnd.jupyter.widget-view+json": {
       "model_id": "3e2dbb6cc29846eab8dbb472dc01f994",
       "version_major": 2,
       "version_minor": 0
      },
      "text/plain": [
       "IntProgress(value=0, layout=Layout(width='100%'), max=30)"
      ]
     },
     "metadata": {},
     "output_type": "display_data"
    },
    {
     "data": {
      "application/vnd.jupyter.widget-view+json": {
       "model_id": "43aa3da526fd4f4586a5dfcacc5f9d88",
       "version_major": 2,
       "version_minor": 0
      },
      "text/plain": [
       "IntProgress(value=0, layout=Layout(width='100%'), max=200)"
      ]
     },
     "metadata": {},
     "output_type": "display_data"
    },
    {
     "name": "stdout",
     "output_type": "stream",
     "text": [
      "-----------------\n",
      "1 Optimal 5222.1316565995585\n",
      "route_plan [[(0, 9), (9, 5), (5, 2), (2, 7), (7, 4), (4, 24), (24, 21), (21, 8), (8, 20), (20, 17), (17, 10), (10, 22), (22, 6), (6, 12), (12, 13), (13, 11), (11, 15), (15, 27), (27, 26), (26, 18), (18, 28), (28, 23), (23, 29), (29, 19), (19, 3), (3, 25), (25, 14), (14, 16), (16, 1), (1, 0)]]\n",
      "liste_route_plan [0, 9, 5, 2, 7, 4, 24, 21, 8, 20, 17, 10, 22, 6, 12, 13, 11, 15, 27, 26, 18, 28, 23, 29, 19, 3, 25, 14, 16, 1, 0]\n",
      "no. of times LP model is solved =  21\n",
      "subtour log (no. of subtours in each solution)) [6, 3, 3, 3, 2, 2, 2, 2, 2, 7, 2, 2, 4, 4, 3, 2, 2, 2, 2, 3, 1]\n",
      "Time taken by DFJ formulation =  13.86661696434021\n",
      "distance 73.89259319282093\n",
      "borne_inf 5222.1316565995585\n",
      "best_weight 7067.1923002790445\n"
     ]
    },
    {
     "data": {
      "application/vnd.jupyter.widget-view+json": {
       "model_id": "1ddc47970dd94e87ac6e0d6e09e8abf5",
       "version_major": 2,
       "version_minor": 0
      },
      "text/plain": [
       "IntProgress(value=0, layout=Layout(width='100%'), max=30)"
      ]
     },
     "metadata": {},
     "output_type": "display_data"
    },
    {
     "data": {
      "application/vnd.jupyter.widget-view+json": {
       "model_id": "336569f132eb49eca1087a84f1dedce4",
       "version_major": 2,
       "version_minor": 0
      },
      "text/plain": [
       "IntProgress(value=0, layout=Layout(width='100%'), max=200)"
      ]
     },
     "metadata": {},
     "output_type": "display_data"
    },
    {
     "name": "stdout",
     "output_type": "stream",
     "text": [
      "-----------------\n",
      "1 Optimal 5962.007124987792\n",
      "route_plan [[(0, 23), (23, 29), (29, 7), (7, 28), (28, 6), (6, 15), (15, 14), (14, 21), (21, 17), (17, 22), (22, 16), (16, 1), (1, 24), (24, 19), (19, 10), (10, 4), (4, 11), (11, 18), (18, 8), (8, 26), (26, 12), (12, 5), (5, 27), (27, 13), (13, 9), (9, 25), (25, 2), (2, 3), (3, 20), (20, 0)]]\n",
      "liste_route_plan [0, 23, 29, 7, 28, 6, 15, 14, 21, 17, 22, 16, 1, 24, 19, 10, 4, 11, 18, 8, 26, 12, 5, 27, 13, 9, 25, 2, 3, 20, 0]\n",
      "no. of times LP model is solved =  15\n",
      "subtour log (no. of subtours in each solution)) [3, 3, 4, 4, 4, 2, 2, 4, 2, 2, 2, 2, 4, 3, 1]\n",
      "Time taken by DFJ formulation =  6.791708707809448\n",
      "distance 74.79637738349898\n",
      "borne_inf 5962.007124987792\n",
      "best_weight 7970.983801019066\n"
     ]
    },
    {
     "data": {
      "application/vnd.jupyter.widget-view+json": {
       "model_id": "a68f46c62a314b35a4dc25bb74e60031",
       "version_major": 2,
       "version_minor": 0
      },
      "text/plain": [
       "IntProgress(value=0, layout=Layout(width='100%'), max=30)"
      ]
     },
     "metadata": {},
     "output_type": "display_data"
    },
    {
     "data": {
      "application/vnd.jupyter.widget-view+json": {
       "model_id": "1bf7f6344d084cea94674d50e503deb3",
       "version_major": 2,
       "version_minor": 0
      },
      "text/plain": [
       "IntProgress(value=0, layout=Layout(width='100%'), max=200)"
      ]
     },
     "metadata": {},
     "output_type": "display_data"
    },
    {
     "name": "stdout",
     "output_type": "stream",
     "text": [
      "-----------------\n",
      "1 Optimal 5962.966735366073\n",
      "route_plan [[(0, 23), (23, 14), (14, 18), (18, 6), (6, 27), (27, 9), (9, 26), (26, 16), (16, 15), (15, 22), (22, 3), (3, 7), (7, 24), (24, 21), (21, 5), (5, 1), (1, 13), (13, 17), (17, 12), (12, 8), (8, 2), (2, 28), (28, 11), (11, 4), (4, 20), (20, 29), (29, 19), (19, 25), (25, 10), (10, 0)]]\n",
      "liste_route_plan [0, 23, 14, 18, 6, 27, 9, 26, 16, 15, 22, 3, 7, 24, 21, 5, 1, 13, 17, 12, 8, 2, 28, 11, 4, 20, 29, 19, 25, 10, 0]\n",
      "no. of times LP model is solved =  4\n",
      "subtour log (no. of subtours in each solution)) [6, 6, 5, 1]\n",
      "Time taken by DFJ formulation =  0.977912425994873\n",
      "distance 74.81510946739002\n",
      "borne_inf 5962.966735366073\n",
      "best_weight 7970.270681706584\n"
     ]
    },
    {
     "data": {
      "application/vnd.jupyter.widget-view+json": {
       "model_id": "3f64abf0db954da8951b2b71e1fec7b6",
       "version_major": 2,
       "version_minor": 0
      },
      "text/plain": [
       "IntProgress(value=0, layout=Layout(width='100%'), max=30)"
      ]
     },
     "metadata": {},
     "output_type": "display_data"
    },
    {
     "data": {
      "application/vnd.jupyter.widget-view+json": {
       "model_id": "bf37e25993e24ac3955673a92b8f5f19",
       "version_major": 2,
       "version_minor": 0
      },
      "text/plain": [
       "IntProgress(value=0, layout=Layout(width='100%'), max=200)"
      ]
     },
     "metadata": {},
     "output_type": "display_data"
    },
    {
     "name": "stdout",
     "output_type": "stream",
     "text": [
      "-----------------\n",
      "1 Optimal 5235.059088313679\n",
      "route_plan [[(0, 23), (23, 12), (12, 16), (16, 9), (9, 25), (25, 24), (24, 21), (21, 3), (3, 15), (15, 18), (18, 14), (14, 11), (11, 7), (7, 19), (19, 13), (13, 26), (26, 4), (4, 28), (28, 27), (27, 5), (5, 20), (20, 6), (6, 29), (29, 22), (22, 8), (8, 17), (17, 10), (10, 2), (2, 1), (1, 0)]]\n",
      "liste_route_plan [0, 23, 12, 16, 9, 25, 24, 21, 3, 15, 18, 14, 11, 7, 19, 13, 26, 4, 28, 27, 5, 20, 6, 29, 22, 8, 17, 10, 2, 1, 0]\n",
      "no. of times LP model is solved =  11\n",
      "subtour log (no. of subtours in each solution)) [4, 3, 7, 3, 3, 2, 2, 2, 2, 5, 1]\n",
      "Time taken by DFJ formulation =  4.960378885269165\n",
      "distance 71.90432801446069\n",
      "borne_inf 5235.059088313679\n",
      "best_weight 7280.589684755631\n"
     ]
    },
    {
     "data": {
      "application/vnd.jupyter.widget-view+json": {
       "model_id": "31977f7a314c40c7b31f04a02ff30013",
       "version_major": 2,
       "version_minor": 0
      },
      "text/plain": [
       "IntProgress(value=0, layout=Layout(width='100%'), max=30)"
      ]
     },
     "metadata": {},
     "output_type": "display_data"
    },
    {
     "data": {
      "application/vnd.jupyter.widget-view+json": {
       "model_id": "1619a9a423a147579d1a3b780e5d5686",
       "version_major": 2,
       "version_minor": 0
      },
      "text/plain": [
       "IntProgress(value=0, layout=Layout(width='100%'), max=200)"
      ]
     },
     "metadata": {},
     "output_type": "display_data"
    },
    {
     "name": "stdout",
     "output_type": "stream",
     "text": [
      "-----------------\n",
      "1 Optimal 5143.452661658236\n",
      "route_plan [[(0, 17), (17, 10), (10, 19), (19, 23), (23, 4), (4, 12), (12, 26), (26, 28), (28, 24), (24, 3), (3, 1), (1, 5), (5, 11), (11, 7), (7, 27), (27, 21), (21, 8), (8, 15), (15, 18), (18, 20), (20, 29), (29, 14), (14, 13), (13, 25), (25, 9), (9, 16), (16, 22), (22, 6), (6, 2), (2, 0)]]\n",
      "liste_route_plan [0, 17, 10, 19, 23, 4, 12, 26, 28, 24, 3, 1, 5, 11, 7, 27, 21, 8, 15, 18, 20, 29, 14, 13, 25, 9, 16, 22, 6, 2, 0]\n",
      "no. of times LP model is solved =  42\n",
      "subtour log (no. of subtours in each solution)) [10, 8, 3, 2, 2, 2, 2, 2, 2, 2, 2, 2, 2, 2, 2, 2, 2, 2, 2, 2, 2, 2, 2, 2, 2, 2, 2, 2, 2, 2, 2, 2, 2, 4, 3, 2, 2, 2, 2, 2, 2, 1]\n",
      "Time taken by DFJ formulation =  58.35733962059021\n",
      "distance 76.67019972158222\n",
      "borne_inf 5143.452661658236\n",
      "best_weight 6708.542145887202\n"
     ]
    },
    {
     "data": {
      "application/vnd.jupyter.widget-view+json": {
       "model_id": "56afe11f61a94e49b5a3a6bf89dd2f0c",
       "version_major": 2,
       "version_minor": 0
      },
      "text/plain": [
       "IntProgress(value=0, layout=Layout(width='100%'), max=30)"
      ]
     },
     "metadata": {},
     "output_type": "display_data"
    },
    {
     "data": {
      "application/vnd.jupyter.widget-view+json": {
       "model_id": "87fed3befa1741ad8258866d4ac83fe7",
       "version_major": 2,
       "version_minor": 0
      },
      "text/plain": [
       "IntProgress(value=0, layout=Layout(width='100%'), max=200)"
      ]
     },
     "metadata": {},
     "output_type": "display_data"
    },
    {
     "name": "stdout",
     "output_type": "stream",
     "text": [
      "-----------------\n",
      "1 Optimal 6357.043175743908\n",
      "route_plan [[(0, 4), (4, 14), (14, 16), (16, 23), (23, 15), (15, 10), (10, 19), (19, 25), (25, 21), (21, 5), (5, 24), (24, 27), (27, 6), (6, 1), (1, 28), (28, 29), (29, 7), (7, 12), (12, 8), (8, 22), (22, 20), (20, 13), (13, 18), (18, 3), (3, 2), (2, 11), (11, 9), (9, 17), (17, 26), (26, 0)]]\n",
      "liste_route_plan [0, 4, 14, 16, 23, 15, 10, 19, 25, 21, 5, 24, 27, 6, 1, 28, 29, 7, 12, 8, 22, 20, 13, 18, 3, 2, 11, 9, 17, 26, 0]\n",
      "no. of times LP model is solved =  25\n",
      "subtour log (no. of subtours in each solution)) [7, 6, 5, 4, 5, 5, 3, 3, 2, 2, 2, 3, 3, 2, 3, 3, 2, 2, 3, 4, 2, 2, 2, 2, 1]\n",
      "Time taken by DFJ formulation =  41.34044814109802\n",
      "distance 76.63420689134568\n",
      "borne_inf 6357.043175743908\n",
      "best_weight 8295.30758341\n"
     ]
    },
    {
     "data": {
      "application/vnd.jupyter.widget-view+json": {
       "model_id": "00c0cde9c2784de0ab7d1f967293e81c",
       "version_major": 2,
       "version_minor": 0
      },
      "text/plain": [
       "IntProgress(value=0, layout=Layout(width='100%'), max=30)"
      ]
     },
     "metadata": {},
     "output_type": "display_data"
    },
    {
     "data": {
      "application/vnd.jupyter.widget-view+json": {
       "model_id": "d338b74e972d4d3aa686c9c461a188f5",
       "version_major": 2,
       "version_minor": 0
      },
      "text/plain": [
       "IntProgress(value=0, layout=Layout(width='100%'), max=200)"
      ]
     },
     "metadata": {},
     "output_type": "display_data"
    },
    {
     "name": "stdout",
     "output_type": "stream",
     "text": [
      "-----------------\n",
      "1 Optimal 5641.4089658421435\n",
      "route_plan [[(0, 17), (17, 10), (10, 9), (9, 1), (1, 12), (12, 26), (26, 16), (16, 8), (8, 2), (2, 23), (23, 28), (28, 6), (6, 3), (3, 29), (29, 4), (4, 25), (25, 7), (7, 20), (20, 5), (5, 24), (24, 21), (21, 22), (22, 11), (11, 14), (14, 27), (27, 18), (18, 19), (19, 15), (15, 13), (13, 0)]]\n",
      "liste_route_plan [0, 17, 10, 9, 1, 12, 26, 16, 8, 2, 23, 28, 6, 3, 29, 4, 25, 7, 20, 5, 24, 21, 22, 11, 14, 27, 18, 19, 15, 13, 0]\n",
      "no. of times LP model is solved =  21\n",
      "subtour log (no. of subtours in each solution)) [10, 9, 5, 5, 6, 4, 4, 3, 3, 3, 3, 2, 2, 2, 2, 2, 2, 2, 2, 4, 1]\n",
      "Time taken by DFJ formulation =  26.584064722061157\n",
      "distance 71.83003405611746\n",
      "borne_inf 5641.4089658421435\n",
      "best_weight 7853.83028140398\n"
     ]
    },
    {
     "data": {
      "application/vnd.jupyter.widget-view+json": {
       "model_id": "cd91053ad6bb45e98e4473cbb30f6385",
       "version_major": 2,
       "version_minor": 0
      },
      "text/plain": [
       "IntProgress(value=0, layout=Layout(width='100%'), max=30)"
      ]
     },
     "metadata": {},
     "output_type": "display_data"
    },
    {
     "data": {
      "application/vnd.jupyter.widget-view+json": {
       "model_id": "14b613e832064e2f8b3130b9a3919154",
       "version_major": 2,
       "version_minor": 0
      },
      "text/plain": [
       "IntProgress(value=0, layout=Layout(width='100%'), max=200)"
      ]
     },
     "metadata": {},
     "output_type": "display_data"
    },
    {
     "name": "stdout",
     "output_type": "stream",
     "text": [
      "-----------------\n",
      "1 Optimal 5947.8843348233895\n",
      "route_plan [[(0, 4), (4, 9), (9, 29), (29, 25), (25, 27), (27, 23), (23, 2), (2, 7), (7, 11), (11, 19), (19, 20), (20, 5), (5, 18), (18, 22), (22, 1), (1, 8), (8, 10), (10, 26), (26, 16), (16, 21), (21, 6), (6, 15), (15, 17), (17, 3), (3, 14), (14, 13), (13, 24), (24, 28), (28, 12), (12, 0)]]\n",
      "liste_route_plan [0, 4, 9, 29, 25, 27, 23, 2, 7, 11, 19, 20, 5, 18, 22, 1, 8, 10, 26, 16, 21, 6, 15, 17, 3, 14, 13, 24, 28, 12, 0]\n",
      "no. of times LP model is solved =  8\n",
      "subtour log (no. of subtours in each solution)) [10, 8, 4, 4, 5, 3, 4, 1]\n",
      "Time taken by DFJ formulation =  2.4162120819091797\n",
      "distance 70.92598947760077\n",
      "borne_inf 5947.8843348233895\n",
      "best_weight 8386.043506240823\n"
     ]
    },
    {
     "data": {
      "application/vnd.jupyter.widget-view+json": {
       "model_id": "fae4b00a5aa34bedbfcc2ab089039115",
       "version_major": 2,
       "version_minor": 0
      },
      "text/plain": [
       "IntProgress(value=0, layout=Layout(width='100%'), max=30)"
      ]
     },
     "metadata": {},
     "output_type": "display_data"
    },
    {
     "data": {
      "application/vnd.jupyter.widget-view+json": {
       "model_id": "d56e5682fdb94aa5b750fb804d0d2e0b",
       "version_major": 2,
       "version_minor": 0
      },
      "text/plain": [
       "IntProgress(value=0, layout=Layout(width='100%'), max=200)"
      ]
     },
     "metadata": {},
     "output_type": "display_data"
    },
    {
     "name": "stdout",
     "output_type": "stream",
     "text": [
      "-----------------\n",
      "1 Optimal 5060.119967382399\n",
      "route_plan [[(0, 28), (28, 6), (6, 14), (14, 8), (8, 20), (20, 15), (15, 7), (7, 25), (25, 29), (29, 18), (18, 5), (5, 11), (11, 27), (27, 1), (1, 9), (9, 2), (2, 24), (24, 21), (21, 3), (3, 26), (26, 13), (13, 16), (16, 10), (10, 12), (12, 17), (17, 19), (19, 22), (22, 23), (23, 4), (4, 0)]]\n",
      "liste_route_plan [0, 28, 6, 14, 8, 20, 15, 7, 25, 29, 18, 5, 11, 27, 1, 9, 2, 24, 21, 3, 26, 13, 16, 10, 12, 17, 19, 22, 23, 4, 0]\n",
      "no. of times LP model is solved =  13\n",
      "subtour log (no. of subtours in each solution)) [6, 3, 4, 2, 2, 3, 5, 2, 2, 3, 3, 2, 1]\n",
      "Time taken by DFJ formulation =  7.711055517196655\n",
      "distance 73.03593145135534\n",
      "borne_inf 5060.119967382399\n",
      "best_weight 6928.261017322177\n"
     ]
    },
    {
     "data": {
      "application/vnd.jupyter.widget-view+json": {
       "model_id": "2ce025489bc64096b128221b599c1005",
       "version_major": 2,
       "version_minor": 0
      },
      "text/plain": [
       "IntProgress(value=0, layout=Layout(width='100%'), max=30)"
      ]
     },
     "metadata": {},
     "output_type": "display_data"
    },
    {
     "data": {
      "application/vnd.jupyter.widget-view+json": {
       "model_id": "49a093c87e3a401a9bc018168891264f",
       "version_major": 2,
       "version_minor": 0
      },
      "text/plain": [
       "IntProgress(value=0, layout=Layout(width='100%'), max=200)"
      ]
     },
     "metadata": {},
     "output_type": "display_data"
    },
    {
     "name": "stdout",
     "output_type": "stream",
     "text": [
      "-----------------\n",
      "1 Optimal 5863.704461067532\n",
      "route_plan [[(0, 10), (10, 9), (9, 4), (4, 17), (17, 24), (24, 28), (28, 27), (27, 20), (20, 7), (7, 16), (16, 22), (22, 29), (29, 18), (18, 14), (14, 15), (15, 26), (26, 3), (3, 8), (8, 5), (5, 23), (23, 25), (25, 1), (1, 12), (12, 13), (13, 11), (11, 21), (21, 19), (19, 6), (6, 2), (2, 0)]]\n",
      "liste_route_plan [0, 10, 9, 4, 17, 24, 28, 27, 20, 7, 16, 22, 29, 18, 14, 15, 26, 3, 8, 5, 23, 25, 1, 12, 13, 11, 21, 19, 6, 2, 0]\n",
      "no. of times LP model is solved =  15\n",
      "subtour log (no. of subtours in each solution)) [5, 4, 6, 3, 4, 3, 4, 4, 2, 2, 3, 2, 2, 4, 1]\n",
      "Time taken by DFJ formulation =  6.474920988082886\n",
      "distance 80.01221281208683\n",
      "borne_inf 5863.704461067532\n",
      "best_weight 7328.511804615091\n"
     ]
    },
    {
     "data": {
      "application/vnd.jupyter.widget-view+json": {
       "model_id": "7147f181bc704fb392e570f79a5226ac",
       "version_major": 2,
       "version_minor": 0
      },
      "text/plain": [
       "IntProgress(value=0, layout=Layout(width='100%'), max=30)"
      ]
     },
     "metadata": {},
     "output_type": "display_data"
    },
    {
     "data": {
      "application/vnd.jupyter.widget-view+json": {
       "model_id": "d4ddd95c8ce34ca6a502ba51e6d368b8",
       "version_major": 2,
       "version_minor": 0
      },
      "text/plain": [
       "IntProgress(value=0, layout=Layout(width='100%'), max=200)"
      ]
     },
     "metadata": {},
     "output_type": "display_data"
    },
    {
     "name": "stdout",
     "output_type": "stream",
     "text": [
      "-----------------\n",
      "1 Optimal 5309.3231726300855\n",
      "route_plan [[(0, 24), (24, 3), (3, 16), (16, 23), (23, 2), (2, 28), (28, 21), (21, 15), (15, 29), (29, 22), (22, 4), (4, 13), (13, 9), (9, 19), (19, 26), (26, 5), (5, 25), (25, 20), (20, 14), (14, 17), (17, 1), (1, 18), (18, 7), (7, 12), (12, 10), (10, 11), (11, 8), (8, 6), (6, 27), (27, 0)]]\n",
      "liste_route_plan [0, 24, 3, 16, 23, 2, 28, 21, 15, 29, 22, 4, 13, 9, 19, 26, 5, 25, 20, 14, 17, 1, 18, 7, 12, 10, 11, 8, 6, 27, 0]\n",
      "no. of times LP model is solved =  26\n",
      "subtour log (no. of subtours in each solution)) [9, 3, 3, 3, 5, 2, 2, 2, 2, 2, 2, 2, 2, 2, 2, 2, 2, 3, 2, 2, 2, 2, 3, 3, 2, 1]\n",
      "Time taken by DFJ formulation =  35.682159662246704\n",
      "distance 74.21873529444007\n",
      "borne_inf 5309.3231726300855\n",
      "best_weight 7153.615797368379\n"
     ]
    },
    {
     "data": {
      "application/vnd.jupyter.widget-view+json": {
       "model_id": "4b1bde6c05414cc794531b1b174fd538",
       "version_major": 2,
       "version_minor": 0
      },
      "text/plain": [
       "IntProgress(value=0, layout=Layout(width='100%'), max=30)"
      ]
     },
     "metadata": {},
     "output_type": "display_data"
    },
    {
     "data": {
      "application/vnd.jupyter.widget-view+json": {
       "model_id": "2f50458c896f45579f61f78f7050bbb0",
       "version_major": 2,
       "version_minor": 0
      },
      "text/plain": [
       "IntProgress(value=0, layout=Layout(width='100%'), max=200)"
      ]
     },
     "metadata": {},
     "output_type": "display_data"
    },
    {
     "name": "stdout",
     "output_type": "stream",
     "text": [
      "-----------------\n",
      "1 Optimal 5075.98679354597\n",
      "route_plan [[(0, 1), (1, 24), (24, 19), (19, 17), (17, 18), (18, 2), (2, 29), (29, 7), (7, 6), (6, 21), (21, 10), (10, 11), (11, 20), (20, 14), (14, 3), (3, 4), (4, 22), (22, 8), (8, 23), (23, 12), (12, 26), (26, 27), (27, 15), (15, 25), (25, 5), (5, 9), (9, 16), (16, 13), (13, 28), (28, 0)]]\n",
      "liste_route_plan [0, 1, 24, 19, 17, 18, 2, 29, 7, 6, 21, 10, 11, 20, 14, 3, 4, 22, 8, 23, 12, 26, 27, 15, 25, 5, 9, 16, 13, 28, 0]\n",
      "no. of times LP model is solved =  6\n",
      "subtour log (no. of subtours in each solution)) [8, 6, 4, 5, 2, 1]\n",
      "Time taken by DFJ formulation =  1.9590814113616943\n",
      "distance 68.33637105944277\n",
      "borne_inf 5075.98679354597\n",
      "best_weight 7427.943150698762\n"
     ]
    },
    {
     "data": {
      "application/vnd.jupyter.widget-view+json": {
       "model_id": "b79d12f3dc814ae08abcf91e790b7781",
       "version_major": 2,
       "version_minor": 0
      },
      "text/plain": [
       "IntProgress(value=0, layout=Layout(width='100%'), max=30)"
      ]
     },
     "metadata": {},
     "output_type": "display_data"
    },
    {
     "data": {
      "application/vnd.jupyter.widget-view+json": {
       "model_id": "6f300f1f189c44d38c7d6ad6234e92b1",
       "version_major": 2,
       "version_minor": 0
      },
      "text/plain": [
       "IntProgress(value=0, layout=Layout(width='100%'), max=200)"
      ]
     },
     "metadata": {},
     "output_type": "display_data"
    },
    {
     "name": "stdout",
     "output_type": "stream",
     "text": [
      "-----------------\n",
      "1 Optimal 5904.285152008112\n",
      "route_plan [[(0, 12), (12, 29), (29, 6), (6, 4), (4, 8), (8, 14), (14, 18), (18, 26), (26, 9), (9, 23), (23, 5), (5, 25), (25, 22), (22, 7), (7, 3), (3, 27), (27, 10), (10, 28), (28, 1), (1, 11), (11, 16), (16, 15), (15, 24), (24, 20), (20, 13), (13, 17), (17, 19), (19, 2), (2, 21), (21, 0)]]\n",
      "liste_route_plan [0, 12, 29, 6, 4, 8, 14, 18, 26, 9, 23, 5, 25, 22, 7, 3, 27, 10, 28, 1, 11, 16, 15, 24, 20, 13, 17, 19, 2, 21, 0]\n",
      "no. of times LP model is solved =  7\n",
      "subtour log (no. of subtours in each solution)) [7, 11, 4, 3, 3, 5, 1]\n",
      "Time taken by DFJ formulation =  2.6736176013946533\n",
      "distance 71.44568128281311\n",
      "borne_inf 5904.285152008112\n",
      "best_weight 8264.019666404161\n"
     ]
    },
    {
     "data": {
      "application/vnd.jupyter.widget-view+json": {
       "model_id": "203a4dd5a7404bdabc7573f7566ef058",
       "version_major": 2,
       "version_minor": 0
      },
      "text/plain": [
       "IntProgress(value=0, layout=Layout(width='100%'), max=30)"
      ]
     },
     "metadata": {},
     "output_type": "display_data"
    },
    {
     "data": {
      "application/vnd.jupyter.widget-view+json": {
       "model_id": "7a503a28b9a74e1c8cdf57e7120df210",
       "version_major": 2,
       "version_minor": 0
      },
      "text/plain": [
       "IntProgress(value=0, layout=Layout(width='100%'), max=200)"
      ]
     },
     "metadata": {},
     "output_type": "display_data"
    },
    {
     "name": "stdout",
     "output_type": "stream",
     "text": [
      "-----------------\n",
      "1 Optimal 5002.508754211963\n",
      "route_plan [[(0, 3), (3, 11), (11, 4), (4, 5), (5, 6), (6, 26), (26, 2), (2, 14), (14, 20), (20, 29), (29, 9), (9, 17), (17, 19), (19, 16), (16, 15), (15, 22), (22, 24), (24, 1), (1, 12), (12, 18), (18, 7), (7, 10), (10, 25), (25, 27), (27, 8), (8, 21), (21, 23), (23, 28), (28, 13), (13, 0)]]\n",
      "liste_route_plan [0, 3, 11, 4, 5, 6, 26, 2, 14, 20, 29, 9, 17, 19, 16, 15, 22, 24, 1, 12, 18, 7, 10, 25, 27, 8, 21, 23, 28, 13, 0]\n",
      "no. of times LP model is solved =  3\n",
      "subtour log (no. of subtours in each solution)) [3, 2, 1]\n",
      "Time taken by DFJ formulation =  0.6587164402008057\n",
      "distance 72.6159545810479\n",
      "borne_inf 5002.508754211963\n",
      "best_weight 6888.994000111336\n"
     ]
    },
    {
     "data": {
      "application/vnd.jupyter.widget-view+json": {
       "model_id": "ff9cf7e7445d4506b0c63121b79707fd",
       "version_major": 2,
       "version_minor": 0
      },
      "text/plain": [
       "IntProgress(value=0, layout=Layout(width='100%'), max=30)"
      ]
     },
     "metadata": {},
     "output_type": "display_data"
    },
    {
     "data": {
      "application/vnd.jupyter.widget-view+json": {
       "model_id": "7800c405546e47669f3fc1f119fa77c5",
       "version_major": 2,
       "version_minor": 0
      },
      "text/plain": [
       "IntProgress(value=0, layout=Layout(width='100%'), max=200)"
      ]
     },
     "metadata": {},
     "output_type": "display_data"
    },
    {
     "name": "stdout",
     "output_type": "stream",
     "text": [
      "-----------------\n",
      "1 Optimal 5999.967039662789\n",
      "route_plan [[(0, 16), (16, 19), (19, 21), (21, 22), (22, 24), (24, 4), (4, 13), (13, 1), (1, 8), (8, 27), (27, 11), (11, 2), (2, 20), (20, 3), (3, 18), (18, 9), (9, 5), (5, 17), (17, 12), (12, 6), (6, 10), (10, 26), (26, 15), (15, 28), (28, 7), (7, 25), (25, 29), (29, 14), (14, 23), (23, 0)]]\n",
      "liste_route_plan [0, 16, 19, 21, 22, 24, 4, 13, 1, 8, 27, 11, 2, 20, 3, 18, 9, 5, 17, 12, 6, 10, 26, 15, 28, 7, 25, 29, 14, 23, 0]\n",
      "no. of times LP model is solved =  25\n",
      "subtour log (no. of subtours in each solution)) [7, 7, 3, 3, 3, 3, 4, 3, 4, 4, 2, 2, 2, 3, 3, 3, 2, 2, 2, 2, 2, 3, 2, 2, 1]\n",
      "Time taken by DFJ formulation =  18.286750555038452\n",
      "distance 73.86089820917442\n",
      "borne_inf 5999.967039662789\n",
      "best_weight 8123.333435061748\n"
     ]
    },
    {
     "data": {
      "application/vnd.jupyter.widget-view+json": {
       "model_id": "a1ca1a234bf54aa1bceeceebcb614b40",
       "version_major": 2,
       "version_minor": 0
      },
      "text/plain": [
       "IntProgress(value=0, layout=Layout(width='100%'), max=30)"
      ]
     },
     "metadata": {},
     "output_type": "display_data"
    },
    {
     "data": {
      "application/vnd.jupyter.widget-view+json": {
       "model_id": "415f4afe155c42ceb4f61a6cf0bae75b",
       "version_major": 2,
       "version_minor": 0
      },
      "text/plain": [
       "IntProgress(value=0, layout=Layout(width='100%'), max=200)"
      ]
     },
     "metadata": {},
     "output_type": "display_data"
    },
    {
     "name": "stdout",
     "output_type": "stream",
     "text": [
      "-----------------\n",
      "1 Optimal 5596.327944882463\n",
      "route_plan [[(0, 17), (17, 6), (6, 11), (11, 23), (23, 9), (9, 5), (5, 27), (27, 18), (18, 24), (24, 21), (21, 4), (4, 7), (7, 1), (1, 20), (20, 12), (12, 25), (25, 22), (22, 2), (2, 8), (8, 16), (16, 14), (14, 13), (13, 15), (15, 10), (10, 26), (26, 29), (29, 28), (28, 19), (19, 3), (3, 0)]]\n",
      "liste_route_plan [0, 17, 6, 11, 23, 9, 5, 27, 18, 24, 21, 4, 7, 1, 20, 12, 25, 22, 2, 8, 16, 14, 13, 15, 10, 26, 29, 28, 19, 3, 0]\n",
      "no. of times LP model is solved =  4\n",
      "subtour log (no. of subtours in each solution)) [8, 5, 6, 1]\n",
      "Time taken by DFJ formulation =  1.0843963623046875\n",
      "distance 75.60921799795555\n",
      "borne_inf 5596.327944882463\n",
      "best_weight 7401.647699932283\n"
     ]
    },
    {
     "data": {
      "application/vnd.jupyter.widget-view+json": {
       "model_id": "316f3ce34a73497ba8feca5886ea867b",
       "version_major": 2,
       "version_minor": 0
      },
      "text/plain": [
       "IntProgress(value=0, layout=Layout(width='100%'), max=30)"
      ]
     },
     "metadata": {},
     "output_type": "display_data"
    },
    {
     "data": {
      "application/vnd.jupyter.widget-view+json": {
       "model_id": "b609b0d45ac74ef3bb0f562342690d05",
       "version_major": 2,
       "version_minor": 0
      },
      "text/plain": [
       "IntProgress(value=0, layout=Layout(width='100%'), max=200)"
      ]
     },
     "metadata": {},
     "output_type": "display_data"
    },
    {
     "name": "stdout",
     "output_type": "stream",
     "text": [
      "-----------------\n",
      "1 Optimal 5243.153021922427\n",
      "route_plan [[(0, 12), (12, 13), (13, 10), (10, 28), (28, 6), (6, 16), (16, 25), (25, 15), (15, 26), (26, 9), (9, 22), (22, 3), (3, 23), (23, 5), (5, 8), (8, 14), (14, 1), (1, 2), (2, 24), (24, 19), (19, 4), (4, 29), (29, 11), (11, 7), (7, 18), (18, 21), (21, 20), (20, 17), (17, 27), (27, 0)]]\n",
      "liste_route_plan [0, 12, 13, 10, 28, 6, 16, 25, 15, 26, 9, 22, 3, 23, 5, 8, 14, 1, 2, 24, 19, 4, 29, 11, 7, 18, 21, 20, 17, 27, 0]\n",
      "no. of times LP model is solved =  9\n",
      "subtour log (no. of subtours in each solution)) [7, 7, 4, 3, 3, 4, 2, 2, 1]\n",
      "Time taken by DFJ formulation =  2.631078004837036\n",
      "distance 71.64388073805752\n",
      "borne_inf 5243.153021922427\n",
      "best_weight 7318.3542933587105\n"
     ]
    },
    {
     "data": {
      "application/vnd.jupyter.widget-view+json": {
       "model_id": "a242025a11914b6ab1e937646d08b507",
       "version_major": 2,
       "version_minor": 0
      },
      "text/plain": [
       "IntProgress(value=0, layout=Layout(width='100%'), max=30)"
      ]
     },
     "metadata": {},
     "output_type": "display_data"
    },
    {
     "data": {
      "application/vnd.jupyter.widget-view+json": {
       "model_id": "db6c2e0385374189829b5ad4cf449eef",
       "version_major": 2,
       "version_minor": 0
      },
      "text/plain": [
       "IntProgress(value=0, layout=Layout(width='100%'), max=200)"
      ]
     },
     "metadata": {},
     "output_type": "display_data"
    },
    {
     "name": "stdout",
     "output_type": "stream",
     "text": [
      "-----------------\n",
      "1 Optimal 4792.853076545473\n",
      "route_plan [[(0, 8), (8, 1), (1, 16), (16, 26), (26, 27), (27, 9), (9, 6), (6, 12), (12, 2), (2, 15), (15, 28), (28, 10), (10, 23), (23, 13), (13, 25), (25, 7), (7, 22), (22, 14), (14, 24), (24, 18), (18, 3), (3, 19), (19, 4), (4, 11), (11, 17), (17, 21), (21, 29), (29, 5), (5, 20), (20, 0)]]\n",
      "liste_route_plan [0, 8, 1, 16, 26, 27, 9, 6, 12, 2, 15, 28, 10, 23, 13, 25, 7, 22, 14, 24, 18, 3, 19, 4, 11, 17, 21, 29, 5, 20, 0]\n",
      "no. of times LP model is solved =  9\n",
      "subtour log (no. of subtours in each solution)) [5, 6, 3, 4, 3, 3, 2, 2, 1]\n",
      "Time taken by DFJ formulation =  3.1442887783050537\n",
      "distance 62.07122762198297\n",
      "borne_inf 4792.853076545473\n",
      "best_weight 7721.5374339528125\n"
     ]
    },
    {
     "data": {
      "application/vnd.jupyter.widget-view+json": {
       "model_id": "4ce3e09e5d90487392dfd31ae87c8e6c",
       "version_major": 2,
       "version_minor": 0
      },
      "text/plain": [
       "IntProgress(value=0, layout=Layout(width='100%'), max=30)"
      ]
     },
     "metadata": {},
     "output_type": "display_data"
    },
    {
     "data": {
      "application/vnd.jupyter.widget-view+json": {
       "model_id": "11597c07cb5344009613a385d1709e86",
       "version_major": 2,
       "version_minor": 0
      },
      "text/plain": [
       "IntProgress(value=0, layout=Layout(width='100%'), max=200)"
      ]
     },
     "metadata": {},
     "output_type": "display_data"
    },
    {
     "name": "stdout",
     "output_type": "stream",
     "text": [
      "-----------------\n",
      "1 Optimal 4929.020294470984\n",
      "route_plan [[(0, 16), (16, 18), (18, 9), (9, 7), (7, 15), (15, 24), (24, 17), (17, 3), (3, 1), (1, 2), (2, 28), (28, 25), (25, 8), (8, 14), (14, 27), (27, 10), (10, 4), (4, 5), (5, 26), (26, 20), (20, 6), (6, 22), (22, 11), (11, 12), (12, 13), (13, 29), (29, 19), (19, 23), (23, 21), (21, 0)]]\n",
      "liste_route_plan [0, 16, 18, 9, 7, 15, 24, 17, 3, 1, 2, 28, 25, 8, 14, 27, 10, 4, 5, 26, 20, 6, 22, 11, 12, 13, 29, 19, 23, 21, 0]\n",
      "no. of times LP model is solved =  5\n",
      "subtour log (no. of subtours in each solution)) [7, 8, 5, 3, 1]\n",
      "Time taken by DFJ formulation =  1.4251205921173096\n",
      "distance 69.54926306243395\n",
      "borne_inf 4929.020294470984\n",
      "best_weight 7087.0920516386095\n"
     ]
    },
    {
     "data": {
      "application/vnd.jupyter.widget-view+json": {
       "model_id": "428bf256cde84405b5e7040e559d12d1",
       "version_major": 2,
       "version_minor": 0
      },
      "text/plain": [
       "IntProgress(value=0, layout=Layout(width='100%'), max=30)"
      ]
     },
     "metadata": {},
     "output_type": "display_data"
    },
    {
     "data": {
      "application/vnd.jupyter.widget-view+json": {
       "model_id": "c24244d340784a3ea9e38e071f57884f",
       "version_major": 2,
       "version_minor": 0
      },
      "text/plain": [
       "IntProgress(value=0, layout=Layout(width='100%'), max=200)"
      ]
     },
     "metadata": {},
     "output_type": "display_data"
    },
    {
     "name": "stdout",
     "output_type": "stream",
     "text": [
      "-----------------\n",
      "1 Optimal 5622.828711067907\n",
      "route_plan [[(0, 12), (12, 16), (16, 20), (20, 22), (22, 24), (24, 4), (4, 6), (6, 18), (18, 29), (29, 17), (17, 8), (8, 26), (26, 14), (14, 25), (25, 11), (11, 2), (2, 19), (19, 27), (27, 28), (28, 10), (10, 9), (9, 15), (15, 1), (1, 7), (7, 21), (21, 13), (13, 3), (3, 5), (5, 23), (23, 0)]]\n",
      "liste_route_plan [0, 12, 16, 20, 22, 24, 4, 6, 18, 29, 17, 8, 26, 14, 25, 11, 2, 19, 27, 28, 10, 9, 15, 1, 7, 21, 13, 3, 5, 23, 0]\n",
      "no. of times LP model is solved =  18\n",
      "subtour log (no. of subtours in each solution)) [3, 4, 2, 2, 2, 2, 2, 2, 3, 3, 4, 2, 4, 2, 2, 2, 2, 1]\n",
      "Time taken by DFJ formulation =  7.972937345504761\n",
      "distance 72.64577522464273\n",
      "borne_inf 5622.828711067907\n",
      "best_weight 7740.062919943269\n"
     ]
    },
    {
     "data": {
      "application/vnd.jupyter.widget-view+json": {
       "model_id": "5f15fd1871f3456ab091d6ceac8feb36",
       "version_major": 2,
       "version_minor": 0
      },
      "text/plain": [
       "IntProgress(value=0, layout=Layout(width='100%'), max=30)"
      ]
     },
     "metadata": {},
     "output_type": "display_data"
    },
    {
     "data": {
      "application/vnd.jupyter.widget-view+json": {
       "model_id": "5b16cf76ec6e4701ad8dab9848d46004",
       "version_major": 2,
       "version_minor": 0
      },
      "text/plain": [
       "IntProgress(value=0, layout=Layout(width='100%'), max=200)"
      ]
     },
     "metadata": {},
     "output_type": "display_data"
    },
    {
     "name": "stdout",
     "output_type": "stream",
     "text": [
      "-----------------\n",
      "1 Optimal 5585.6330807246595\n",
      "route_plan [[(0, 3), (3, 7), (7, 4), (4, 9), (9, 18), (18, 22), (22, 28), (28, 12), (12, 6), (6, 25), (25, 20), (20, 13), (13, 11), (11, 29), (29, 17), (17, 24), (24, 14), (14, 8), (8, 16), (16, 2), (2, 15), (15, 5), (5, 10), (10, 1), (1, 19), (19, 27), (27, 21), (21, 26), (26, 23), (23, 0)]]\n",
      "liste_route_plan [0, 3, 7, 4, 9, 18, 22, 28, 12, 6, 25, 20, 13, 11, 29, 17, 24, 14, 8, 16, 2, 15, 5, 10, 1, 19, 27, 21, 26, 23, 0]\n",
      "no. of times LP model is solved =  8\n",
      "subtour log (no. of subtours in each solution)) [9, 5, 3, 3, 4, 2, 2, 1]\n",
      "Time taken by DFJ formulation =  2.7679710388183594\n",
      "distance 67.99632057982414\n",
      "borne_inf 5585.6330807246595\n",
      "best_weight 8214.610780545716\n"
     ]
    },
    {
     "data": {
      "application/vnd.jupyter.widget-view+json": {
       "model_id": "5a10232811ae4dc29dd2a4d94e66a2e9",
       "version_major": 2,
       "version_minor": 0
      },
      "text/plain": [
       "IntProgress(value=0, layout=Layout(width='100%'), max=30)"
      ]
     },
     "metadata": {},
     "output_type": "display_data"
    },
    {
     "data": {
      "application/vnd.jupyter.widget-view+json": {
       "model_id": "b02558b4134d49ccad90d8ff731aa4c4",
       "version_major": 2,
       "version_minor": 0
      },
      "text/plain": [
       "IntProgress(value=0, layout=Layout(width='100%'), max=200)"
      ]
     },
     "metadata": {},
     "output_type": "display_data"
    },
    {
     "name": "stdout",
     "output_type": "stream",
     "text": [
      "-----------------\n",
      "1 Optimal 5343.014547522525\n",
      "route_plan [[(0, 19), (19, 25), (25, 13), (13, 1), (1, 7), (7, 22), (22, 21), (21, 15), (15, 6), (6, 12), (12, 18), (18, 4), (4, 29), (29, 28), (28, 2), (2, 9), (9, 8), (8, 17), (17, 3), (3, 27), (27, 16), (16, 24), (24, 10), (10, 11), (11, 20), (20, 23), (23, 26), (26, 14), (14, 5), (5, 0)]]\n",
      "liste_route_plan [0, 19, 25, 13, 1, 7, 22, 21, 15, 6, 12, 18, 4, 29, 28, 2, 9, 8, 17, 3, 27, 16, 24, 10, 11, 20, 23, 26, 14, 5, 0]\n",
      "no. of times LP model is solved =  15\n",
      "subtour log (no. of subtours in each solution)) [8, 7, 4, 2, 2, 3, 4, 3, 3, 2, 2, 2, 2, 4, 1]\n",
      "Time taken by DFJ formulation =  6.350506544113159\n",
      "distance 70.69401899458234\n",
      "borne_inf 5343.014547522525\n",
      "best_weight 7557.944255414294\n"
     ]
    },
    {
     "data": {
      "application/vnd.jupyter.widget-view+json": {
       "model_id": "4f1c5ad2b06847d5bd9fcda09ea9fd0a",
       "version_major": 2,
       "version_minor": 0
      },
      "text/plain": [
       "IntProgress(value=0, layout=Layout(width='100%'), max=30)"
      ]
     },
     "metadata": {},
     "output_type": "display_data"
    },
    {
     "data": {
      "application/vnd.jupyter.widget-view+json": {
       "model_id": "f7442ac74aa346aeb3b7649b67324bb9",
       "version_major": 2,
       "version_minor": 0
      },
      "text/plain": [
       "IntProgress(value=0, layout=Layout(width='100%'), max=200)"
      ]
     },
     "metadata": {},
     "output_type": "display_data"
    },
    {
     "name": "stdout",
     "output_type": "stream",
     "text": [
      "-----------------\n",
      "1 Optimal 5266.167992712733\n",
      "route_plan [[(0, 9), (9, 26), (26, 4), (4, 6), (6, 8), (8, 14), (14, 27), (27, 20), (20, 21), (21, 7), (7, 23), (23, 11), (11, 15), (15, 13), (13, 25), (25, 3), (3, 29), (29, 17), (17, 12), (12, 18), (18, 28), (28, 2), (2, 22), (22, 5), (5, 16), (16, 19), (19, 24), (24, 1), (1, 10), (10, 0)]]\n",
      "liste_route_plan [0, 9, 26, 4, 6, 8, 14, 27, 20, 21, 7, 23, 11, 15, 13, 25, 3, 29, 17, 12, 18, 28, 2, 22, 5, 16, 19, 24, 1, 10, 0]\n",
      "no. of times LP model is solved =  7\n",
      "subtour log (no. of subtours in each solution)) [10, 3, 4, 8, 3, 2, 1]\n",
      "Time taken by DFJ formulation =  2.280550241470337\n",
      "distance 68.58126623601727\n",
      "borne_inf 5266.167992712733\n",
      "best_weight 7678.726686949191\n"
     ]
    },
    {
     "data": {
      "application/vnd.jupyter.widget-view+json": {
       "model_id": "49fdc219317048d6b22a6179960cc9a7",
       "version_major": 2,
       "version_minor": 0
      },
      "text/plain": [
       "IntProgress(value=0, layout=Layout(width='100%'), max=30)"
      ]
     },
     "metadata": {},
     "output_type": "display_data"
    },
    {
     "data": {
      "application/vnd.jupyter.widget-view+json": {
       "model_id": "c96bdce7ccad439ea0abac521b51db2c",
       "version_major": 2,
       "version_minor": 0
      },
      "text/plain": [
       "IntProgress(value=0, layout=Layout(width='100%'), max=200)"
      ]
     },
     "metadata": {},
     "output_type": "display_data"
    },
    {
     "name": "stdout",
     "output_type": "stream",
     "text": [
      "-----------------\n",
      "1 Optimal 5248.238001509536\n",
      "route_plan [[(0, 15), (15, 25), (25, 28), (28, 18), (18, 9), (9, 23), (23, 24), (24, 19), (19, 26), (26, 1), (1, 29), (29, 12), (12, 2), (2, 13), (13, 14), (14, 17), (17, 27), (27, 16), (16, 3), (3, 11), (11, 21), (21, 7), (7, 10), (10, 4), (4, 5), (5, 8), (8, 22), (22, 20), (20, 6), (6, 0)]]\n",
      "liste_route_plan [0, 15, 25, 28, 18, 9, 23, 24, 19, 26, 1, 29, 12, 2, 13, 14, 17, 27, 16, 3, 11, 21, 7, 10, 4, 5, 8, 22, 20, 6, 0]\n",
      "no. of times LP model is solved =  5\n",
      "subtour log (no. of subtours in each solution)) [6, 7, 3, 3, 1]\n",
      "Time taken by DFJ formulation =  1.2845959663391113\n",
      "distance 66.90665337149802\n",
      "borne_inf 5248.238001509536\n",
      "best_weight 7844.119735549745\n"
     ]
    },
    {
     "data": {
      "application/vnd.jupyter.widget-view+json": {
       "model_id": "3a2358059228401e8e41e9f7bfebcd39",
       "version_major": 2,
       "version_minor": 0
      },
      "text/plain": [
       "IntProgress(value=0, layout=Layout(width='100%'), max=30)"
      ]
     },
     "metadata": {},
     "output_type": "display_data"
    },
    {
     "data": {
      "application/vnd.jupyter.widget-view+json": {
       "model_id": "5e87a871b2bc415793acf706e10c16f1",
       "version_major": 2,
       "version_minor": 0
      },
      "text/plain": [
       "IntProgress(value=0, layout=Layout(width='100%'), max=200)"
      ]
     },
     "metadata": {},
     "output_type": "display_data"
    },
    {
     "name": "stdout",
     "output_type": "stream",
     "text": [
      "-----------------\n",
      "1 Optimal 5239.797983333568\n",
      "route_plan [[(0, 10), (10, 25), (25, 28), (28, 18), (18, 29), (29, 23), (23, 26), (26, 22), (22, 19), (19, 4), (4, 8), (8, 5), (5, 24), (24, 9), (9, 1), (1, 13), (13, 12), (12, 3), (3, 7), (7, 6), (6, 16), (16, 15), (15, 14), (14, 11), (11, 2), (2, 27), (27, 17), (17, 20), (20, 21), (21, 0)]]\n",
      "liste_route_plan [0, 10, 25, 28, 18, 29, 23, 26, 22, 19, 4, 8, 5, 24, 9, 1, 13, 12, 3, 7, 6, 16, 15, 14, 11, 2, 27, 17, 20, 21, 0]\n",
      "no. of times LP model is solved =  13\n",
      "subtour log (no. of subtours in each solution)) [5, 4, 3, 5, 4, 2, 2, 3, 2, 2, 3, 2, 1]\n",
      "Time taken by DFJ formulation =  5.940892457962036\n",
      "distance 70.55085770352791\n",
      "borne_inf 5239.797983333568\n",
      "best_weight 7426.979846726301\n"
     ]
    },
    {
     "data": {
      "application/vnd.jupyter.widget-view+json": {
       "model_id": "6aabf7fe95ac46ff8c78355bf51b43f5",
       "version_major": 2,
       "version_minor": 0
      },
      "text/plain": [
       "IntProgress(value=0, layout=Layout(width='100%'), max=30)"
      ]
     },
     "metadata": {},
     "output_type": "display_data"
    },
    {
     "data": {
      "application/vnd.jupyter.widget-view+json": {
       "model_id": "27d64291fa3645bb85f1c96af6392c20",
       "version_major": 2,
       "version_minor": 0
      },
      "text/plain": [
       "IntProgress(value=0, layout=Layout(width='100%'), max=200)"
      ]
     },
     "metadata": {},
     "output_type": "display_data"
    },
    {
     "name": "stdout",
     "output_type": "stream",
     "text": [
      "-----------------\n",
      "1 Optimal 5445.011601846341\n",
      "route_plan [[(0, 29), (29, 14), (14, 11), (11, 10), (10, 19), (19, 20), (20, 27), (27, 18), (18, 9), (9, 7), (7, 22), (22, 21), (21, 28), (28, 13), (13, 24), (24, 4), (4, 25), (25, 1), (1, 2), (2, 6), (6, 23), (23, 5), (5, 17), (17, 12), (12, 3), (3, 15), (15, 16), (16, 26), (26, 8), (8, 0)]]\n",
      "liste_route_plan [0, 29, 14, 11, 10, 19, 20, 27, 18, 9, 7, 22, 21, 28, 13, 24, 4, 25, 1, 2, 6, 23, 5, 17, 12, 3, 15, 16, 26, 8, 0]\n",
      "no. of times LP model is solved =  7\n",
      "subtour log (no. of subtours in each solution)) [2, 2, 7, 3, 3, 5, 1]\n",
      "Time taken by DFJ formulation =  2.2129247188568115\n",
      "distance 75.33682704070408\n",
      "borne_inf 5445.011601846341\n",
      "best_weight 7227.556317051197\n"
     ]
    },
    {
     "data": {
      "application/vnd.jupyter.widget-view+json": {
       "model_id": "22a10c9edb1c4119bab44b50efc557a6",
       "version_major": 2,
       "version_minor": 0
      },
      "text/plain": [
       "IntProgress(value=0, layout=Layout(width='100%'), max=30)"
      ]
     },
     "metadata": {},
     "output_type": "display_data"
    },
    {
     "data": {
      "application/vnd.jupyter.widget-view+json": {
       "model_id": "c95f2d12c0114effaa073f02c6b144b8",
       "version_major": 2,
       "version_minor": 0
      },
      "text/plain": [
       "IntProgress(value=0, layout=Layout(width='100%'), max=200)"
      ]
     },
     "metadata": {},
     "output_type": "display_data"
    },
    {
     "name": "stdout",
     "output_type": "stream",
     "text": [
      "-----------------\n",
      "1 Optimal 4935.414019155135\n",
      "route_plan [[(0, 29), (29, 25), (25, 11), (11, 3), (3, 20), (20, 19), (19, 28), (28, 23), (23, 18), (18, 6), (6, 1), (1, 2), (2, 24), (24, 5), (5, 22), (22, 21), (21, 15), (15, 13), (13, 12), (12, 26), (26, 27), (27, 10), (10, 4), (4, 8), (8, 14), (14, 17), (17, 9), (9, 7), (7, 16), (16, 0)]]\n",
      "liste_route_plan [0, 29, 25, 11, 3, 20, 19, 28, 23, 18, 6, 1, 2, 24, 5, 22, 21, 15, 13, 12, 26, 27, 10, 4, 8, 14, 17, 9, 7, 16, 0]\n",
      "no. of times LP model is solved =  19\n",
      "subtour log (no. of subtours in each solution)) [10, 9, 7, 5, 4, 3, 3, 6, 5, 3, 4, 2, 3, 2, 2, 2, 2, 2, 1]\n",
      "Time taken by DFJ formulation =  20.53995394706726\n",
      "distance 70.06258838034375\n",
      "borne_inf 4935.414019155135\n",
      "best_weight 7044.293014643717\n"
     ]
    },
    {
     "data": {
      "application/vnd.jupyter.widget-view+json": {
       "model_id": "832542326b5e402b9a13554328dacf13",
       "version_major": 2,
       "version_minor": 0
      },
      "text/plain": [
       "IntProgress(value=0, layout=Layout(width='100%'), max=30)"
      ]
     },
     "metadata": {},
     "output_type": "display_data"
    },
    {
     "data": {
      "application/vnd.jupyter.widget-view+json": {
       "model_id": "3fc8bc9e7b344a6186a19a87ffcfa2d4",
       "version_major": 2,
       "version_minor": 0
      },
      "text/plain": [
       "IntProgress(value=0, layout=Layout(width='100%'), max=200)"
      ]
     },
     "metadata": {},
     "output_type": "display_data"
    },
    {
     "name": "stdout",
     "output_type": "stream",
     "text": [
      "-----------------\n",
      "1 Optimal 5038.8229685374545\n",
      "route_plan [[(0, 5), (5, 11), (11, 23), (23, 18), (18, 20), (20, 22), (22, 8), (8, 9), (9, 14), (14, 21), (21, 4), (4, 3), (3, 10), (10, 15), (15, 2), (2, 27), (27, 7), (7, 17), (17, 28), (28, 26), (26, 1), (1, 25), (25, 19), (19, 29), (29, 24), (24, 12), (12, 13), (13, 16), (16, 6), (6, 0)]]\n",
      "liste_route_plan [0, 5, 11, 23, 18, 20, 22, 8, 9, 14, 21, 4, 3, 10, 15, 2, 27, 7, 17, 28, 26, 1, 25, 19, 29, 24, 12, 13, 16, 6, 0]\n",
      "no. of times LP model is solved =  22\n",
      "subtour log (no. of subtours in each solution)) [3, 3, 4, 4, 5, 3, 3, 4, 3, 3, 2, 2, 2, 2, 2, 2, 2, 2, 2, 3, 3, 1]\n",
      "Time taken by DFJ formulation =  11.714768648147583\n",
      "distance 76.60464999346891\n",
      "borne_inf 5038.8229685374545\n",
      "best_weight 6577.698571779977\n"
     ]
    },
    {
     "data": {
      "application/vnd.jupyter.widget-view+json": {
       "model_id": "4ebc511e5a90499683e72b5f9ac033de",
       "version_major": 2,
       "version_minor": 0
      },
      "text/plain": [
       "IntProgress(value=0, layout=Layout(width='100%'), max=30)"
      ]
     },
     "metadata": {},
     "output_type": "display_data"
    },
    {
     "data": {
      "application/vnd.jupyter.widget-view+json": {
       "model_id": "98c503c534d5407282ffb78941c90a7f",
       "version_major": 2,
       "version_minor": 0
      },
      "text/plain": [
       "IntProgress(value=0, layout=Layout(width='100%'), max=200)"
      ]
     },
     "metadata": {},
     "output_type": "display_data"
    },
    {
     "name": "stdout",
     "output_type": "stream",
     "text": [
      "-----------------\n",
      "1 Optimal 6141.504210498633\n",
      "route_plan [[(0, 16), (16, 22), (22, 21), (21, 23), (23, 26), (26, 28), (28, 29), (29, 13), (13, 3), (3, 5), (5, 4), (4, 15), (15, 11), (11, 12), (12, 14), (14, 9), (9, 27), (27, 18), (18, 1), (1, 6), (6, 20), (20, 17), (17, 10), (10, 8), (8, 19), (19, 2), (2, 25), (25, 24), (24, 7), (7, 0)]]\n",
      "liste_route_plan [0, 16, 22, 21, 23, 26, 28, 29, 13, 3, 5, 4, 15, 11, 12, 14, 9, 27, 18, 1, 6, 20, 17, 10, 8, 19, 2, 25, 24, 7, 0]\n",
      "no. of times LP model is solved =  17\n",
      "subtour log (no. of subtours in each solution)) [6, 9, 5, 5, 6, 3, 3, 2, 2, 4, 2, 2, 2, 2, 3, 3, 1]\n",
      "Time taken by DFJ formulation =  8.642630338668823\n",
      "distance 75.18954205623292\n",
      "borne_inf 6141.504210498633\n",
      "best_weight 8168.029811786207\n"
     ]
    },
    {
     "data": {
      "application/vnd.jupyter.widget-view+json": {
       "model_id": "b2ecad9f36ec4bb9af8c16345768df93",
       "version_major": 2,
       "version_minor": 0
      },
      "text/plain": [
       "IntProgress(value=0, layout=Layout(width='100%'), max=30)"
      ]
     },
     "metadata": {},
     "output_type": "display_data"
    },
    {
     "data": {
      "application/vnd.jupyter.widget-view+json": {
       "model_id": "c19a0f66ed5d49779d4fa0e8681dc6d0",
       "version_major": 2,
       "version_minor": 0
      },
      "text/plain": [
       "IntProgress(value=0, layout=Layout(width='100%'), max=200)"
      ]
     },
     "metadata": {},
     "output_type": "display_data"
    },
    {
     "name": "stdout",
     "output_type": "stream",
     "text": [
      "-----------------\n",
      "1 Optimal 4973.358890786536\n",
      "route_plan [[(0, 25), (25, 28), (28, 26), (26, 16), (16, 18), (18, 5), (5, 24), (24, 15), (15, 10), (10, 17), (17, 20), (20, 3), (3, 27), (27, 13), (13, 23), (23, 11), (11, 21), (21, 4), (4, 7), (7, 1), (1, 6), (6, 19), (19, 22), (22, 12), (12, 9), (9, 29), (29, 14), (14, 2), (2, 8), (8, 0)]]\n",
      "liste_route_plan [0, 25, 28, 26, 16, 18, 5, 24, 15, 10, 17, 20, 3, 27, 13, 23, 11, 21, 4, 7, 1, 6, 19, 22, 12, 9, 29, 14, 2, 8, 0]\n",
      "no. of times LP model is solved =  26\n",
      "subtour log (no. of subtours in each solution)) [5, 5, 3, 3, 3, 3, 3, 3, 3, 3, 2, 2, 2, 2, 3, 3, 3, 3, 2, 2, 2, 2, 2, 2, 2, 1]\n",
      "Time taken by DFJ formulation =  20.208755254745483\n",
      "distance 66.77154496393368\n",
      "borne_inf 4973.358890786536\n",
      "best_weight 7448.320828090576\n"
     ]
    },
    {
     "data": {
      "application/vnd.jupyter.widget-view+json": {
       "model_id": "25ecee86ea4c4dceb54ad4f7244811de",
       "version_major": 2,
       "version_minor": 0
      },
      "text/plain": [
       "IntProgress(value=0, layout=Layout(width='100%'), max=30)"
      ]
     },
     "metadata": {},
     "output_type": "display_data"
    },
    {
     "data": {
      "application/vnd.jupyter.widget-view+json": {
       "model_id": "02b3b791b31b4d25a34e8a1b426f0be2",
       "version_major": 2,
       "version_minor": 0
      },
      "text/plain": [
       "IntProgress(value=0, layout=Layout(width='100%'), max=200)"
      ]
     },
     "metadata": {},
     "output_type": "display_data"
    },
    {
     "name": "stdout",
     "output_type": "stream",
     "text": [
      "-----------------\n",
      "1 Optimal 5087.663094601207\n",
      "route_plan [[(0, 11), (11, 18), (18, 19), (19, 27), (27, 17), (17, 22), (22, 13), (13, 8), (8, 4), (4, 12), (12, 26), (26, 3), (3, 10), (10, 21), (21, 28), (28, 1), (1, 2), (2, 15), (15, 14), (14, 6), (6, 20), (20, 9), (9, 7), (7, 25), (25, 29), (29, 16), (16, 5), (5, 23), (23, 24), (24, 0)]]\n",
      "liste_route_plan [0, 11, 18, 19, 27, 17, 22, 13, 8, 4, 12, 26, 3, 10, 21, 28, 1, 2, 15, 14, 6, 20, 9, 7, 25, 29, 16, 5, 23, 24, 0]\n",
      "no. of times LP model is solved =  6\n",
      "subtour log (no. of subtours in each solution)) [4, 3, 2, 6, 6, 1]\n",
      "Time taken by DFJ formulation =  2.2971107959747314\n",
      "distance 78.1139211056477\n",
      "borne_inf 5087.663094601207\n",
      "best_weight 6513.132387401513\n"
     ]
    },
    {
     "data": {
      "application/vnd.jupyter.widget-view+json": {
       "model_id": "9899e6af921f497fa1d59a20985b8614",
       "version_major": 2,
       "version_minor": 0
      },
      "text/plain": [
       "IntProgress(value=0, layout=Layout(width='100%'), max=30)"
      ]
     },
     "metadata": {},
     "output_type": "display_data"
    },
    {
     "data": {
      "application/vnd.jupyter.widget-view+json": {
       "model_id": "a7c42aecb57a47269774df934c77e0a4",
       "version_major": 2,
       "version_minor": 0
      },
      "text/plain": [
       "IntProgress(value=0, layout=Layout(width='100%'), max=200)"
      ]
     },
     "metadata": {},
     "output_type": "display_data"
    },
    {
     "name": "stdout",
     "output_type": "stream",
     "text": [
      "-----------------\n",
      "1 Optimal 5951.164210225367\n",
      "route_plan [[(0, 8), (8, 7), (7, 18), (18, 15), (15, 19), (19, 17), (17, 4), (4, 3), (3, 16), (16, 10), (10, 9), (9, 29), (29, 2), (2, 6), (6, 25), (25, 13), (13, 22), (22, 14), (14, 21), (21, 27), (27, 28), (28, 23), (23, 5), (5, 24), (24, 11), (11, 20), (20, 12), (12, 1), (1, 26), (26, 0)]]\n",
      "liste_route_plan [0, 8, 7, 18, 15, 19, 17, 4, 3, 16, 10, 9, 29, 2, 6, 25, 13, 22, 14, 21, 27, 28, 23, 5, 24, 11, 20, 12, 1, 26, 0]\n",
      "no. of times LP model is solved =  8\n",
      "subtour log (no. of subtours in each solution)) [5, 3, 2, 2, 2, 2, 2, 1]\n",
      "Time taken by DFJ formulation =  2.482590675354004\n",
      "distance 74.65157796492757\n",
      "borne_inf 5951.164210225367\n",
      "best_weight 7971.920182345393\n"
     ]
    },
    {
     "data": {
      "application/vnd.jupyter.widget-view+json": {
       "model_id": "808cd21b6a7d4053a84314188a3b4f82",
       "version_major": 2,
       "version_minor": 0
      },
      "text/plain": [
       "IntProgress(value=0, layout=Layout(width='100%'), max=30)"
      ]
     },
     "metadata": {},
     "output_type": "display_data"
    },
    {
     "data": {
      "application/vnd.jupyter.widget-view+json": {
       "model_id": "e64488f7eef04d57b7bcc83a7c7f2e2f",
       "version_major": 2,
       "version_minor": 0
      },
      "text/plain": [
       "IntProgress(value=0, layout=Layout(width='100%'), max=200)"
      ]
     },
     "metadata": {},
     "output_type": "display_data"
    },
    {
     "name": "stdout",
     "output_type": "stream",
     "text": [
      "-----------------\n",
      "1 Optimal 5655.101669713511\n",
      "route_plan [[(0, 16), (16, 12), (12, 14), (14, 18), (18, 8), (8, 11), (11, 1), (1, 29), (29, 17), (17, 10), (10, 6), (6, 5), (5, 27), (27, 22), (22, 3), (3, 9), (9, 28), (28, 23), (23, 2), (2, 26), (26, 25), (25, 7), (7, 13), (13, 19), (19, 20), (20, 24), (24, 4), (4, 15), (15, 21), (21, 0)]]\n",
      "liste_route_plan [0, 16, 12, 14, 18, 8, 11, 1, 29, 17, 10, 6, 5, 27, 22, 3, 9, 28, 23, 2, 26, 25, 7, 13, 19, 20, 24, 4, 15, 21, 0]\n",
      "no. of times LP model is solved =  28\n",
      "subtour log (no. of subtours in each solution)) [6, 4, 3, 3, 3, 4, 4, 4, 3, 2, 2, 5, 5, 3, 3, 3, 3, 3, 3, 3, 3, 3, 3, 3, 2, 3, 6, 1]\n",
      "Time taken by DFJ formulation =  50.27485227584839\n",
      "distance 69.86466326258231\n",
      "borne_inf 5655.101669713511\n",
      "best_weight 8094.366172580175\n"
     ]
    },
    {
     "data": {
      "application/vnd.jupyter.widget-view+json": {
       "model_id": "a60ebaa815fc4ba5836d635790389233",
       "version_major": 2,
       "version_minor": 0
      },
      "text/plain": [
       "IntProgress(value=0, layout=Layout(width='100%'), max=30)"
      ]
     },
     "metadata": {},
     "output_type": "display_data"
    },
    {
     "data": {
      "application/vnd.jupyter.widget-view+json": {
       "model_id": "db86a8288b9f44638bec2e549967ab66",
       "version_major": 2,
       "version_minor": 0
      },
      "text/plain": [
       "IntProgress(value=0, layout=Layout(width='100%'), max=200)"
      ]
     },
     "metadata": {},
     "output_type": "display_data"
    },
    {
     "name": "stdout",
     "output_type": "stream",
     "text": [
      "-----------------\n",
      "1 Optimal 5922.9556893399495\n",
      "route_plan [[(0, 23), (23, 4), (4, 29), (29, 25), (25, 7), (7, 10), (10, 16), (16, 19), (19, 1), (1, 28), (28, 6), (6, 24), (24, 20), (20, 9), (9, 21), (21, 17), (17, 18), (18, 13), (13, 27), (27, 12), (12, 11), (11, 3), (3, 2), (2, 5), (5, 14), (14, 15), (15, 22), (22, 26), (26, 8), (8, 0)]]\n",
      "liste_route_plan [0, 23, 4, 29, 25, 7, 10, 16, 19, 1, 28, 6, 24, 20, 9, 21, 17, 18, 13, 27, 12, 11, 3, 2, 5, 14, 15, 22, 26, 8, 0]\n",
      "no. of times LP model is solved =  6\n",
      "subtour log (no. of subtours in each solution)) [7, 7, 6, 4, 4, 1]\n",
      "Time taken by DFJ formulation =  2.1103484630584717\n",
      "distance 77.93640572751747\n",
      "borne_inf 5922.9556893399495\n",
      "best_weight 7599.7290791775595\n"
     ]
    },
    {
     "data": {
      "application/vnd.jupyter.widget-view+json": {
       "model_id": "c026f00041794735857616cb241ab518",
       "version_major": 2,
       "version_minor": 0
      },
      "text/plain": [
       "IntProgress(value=0, layout=Layout(width='100%'), max=30)"
      ]
     },
     "metadata": {},
     "output_type": "display_data"
    },
    {
     "data": {
      "application/vnd.jupyter.widget-view+json": {
       "model_id": "24d396f88eaa4f86a7dfb7b08ab05255",
       "version_major": 2,
       "version_minor": 0
      },
      "text/plain": [
       "IntProgress(value=0, layout=Layout(width='100%'), max=200)"
      ]
     },
     "metadata": {},
     "output_type": "display_data"
    },
    {
     "name": "stdout",
     "output_type": "stream",
     "text": [
      "-----------------\n",
      "1 Optimal 5464.7923533647645\n",
      "route_plan [[(0, 5), (5, 29), (29, 7), (7, 16), (16, 19), (19, 1), (1, 11), (11, 14), (14, 26), (26, 22), (22, 28), (28, 9), (9, 8), (8, 25), (25, 15), (15, 17), (17, 23), (23, 18), (18, 2), (2, 12), (12, 20), (20, 13), (13, 6), (6, 4), (4, 3), (3, 24), (24, 10), (10, 21), (21, 27), (27, 0)]]\n",
      "liste_route_plan [0, 5, 29, 7, 16, 19, 1, 11, 14, 26, 22, 28, 9, 8, 25, 15, 17, 23, 18, 2, 12, 20, 13, 6, 4, 3, 24, 10, 21, 27, 0]\n",
      "no. of times LP model is solved =  9\n",
      "subtour log (no. of subtours in each solution)) [7, 2, 3, 3, 2, 3, 2, 4, 1]\n",
      "Time taken by DFJ formulation =  4.213576793670654\n",
      "distance 73.85471180701411\n",
      "borne_inf 5464.7923533647645\n",
      "best_weight 7399.38213779038\n"
     ]
    },
    {
     "data": {
      "application/vnd.jupyter.widget-view+json": {
       "model_id": "009cd654ddfa47c49d1e8b103bca0903",
       "version_major": 2,
       "version_minor": 0
      },
      "text/plain": [
       "IntProgress(value=0, layout=Layout(width='100%'), max=30)"
      ]
     },
     "metadata": {},
     "output_type": "display_data"
    },
    {
     "data": {
      "application/vnd.jupyter.widget-view+json": {
       "model_id": "2c2d70334b914642a38bc26e2abff59a",
       "version_major": 2,
       "version_minor": 0
      },
      "text/plain": [
       "IntProgress(value=0, layout=Layout(width='100%'), max=200)"
      ]
     },
     "metadata": {},
     "output_type": "display_data"
    },
    {
     "name": "stdout",
     "output_type": "stream",
     "text": [
      "-----------------\n",
      "1 Optimal 5226.570421302688\n",
      "route_plan [[(0, 10), (10, 9), (9, 29), (29, 24), (24, 7), (7, 8), (8, 26), (26, 18), (18, 14), (14, 2), (2, 19), (19, 25), (25, 4), (4, 20), (20, 28), (28, 15), (15, 1), (1, 3), (3, 13), (13, 6), (6, 23), (23, 12), (12, 27), (27, 17), (17, 5), (5, 21), (21, 16), (16, 22), (22, 11), (11, 0)]]\n",
      "liste_route_plan [0, 10, 9, 29, 24, 7, 8, 26, 18, 14, 2, 19, 25, 4, 20, 28, 15, 1, 3, 13, 6, 23, 12, 27, 17, 5, 21, 16, 22, 11, 0]\n",
      "no. of times LP model is solved =  7\n",
      "subtour log (no. of subtours in each solution)) [9, 8, 6, 7, 3, 2, 1]\n",
      "Time taken by DFJ formulation =  2.773164987564087\n",
      "distance 75.50294358137702\n",
      "borne_inf 5226.570421302688\n",
      "best_weight 6922.339942507663\n"
     ]
    },
    {
     "data": {
      "application/vnd.jupyter.widget-view+json": {
       "model_id": "a94a7991d8784bae90c2135d68925386",
       "version_major": 2,
       "version_minor": 0
      },
      "text/plain": [
       "IntProgress(value=0, layout=Layout(width='100%'), max=30)"
      ]
     },
     "metadata": {},
     "output_type": "display_data"
    },
    {
     "data": {
      "application/vnd.jupyter.widget-view+json": {
       "model_id": "a5587c515810431586a37eab507fbf3a",
       "version_major": 2,
       "version_minor": 0
      },
      "text/plain": [
       "IntProgress(value=0, layout=Layout(width='100%'), max=200)"
      ]
     },
     "metadata": {},
     "output_type": "display_data"
    },
    {
     "name": "stdout",
     "output_type": "stream",
     "text": [
      "-----------------\n",
      "1 Optimal 6265.636933700878\n",
      "route_plan [[(0, 16), (16, 24), (24, 12), (12, 8), (8, 26), (26, 19), (19, 3), (3, 2), (2, 17), (17, 1), (1, 18), (18, 6), (6, 5), (5, 11), (11, 20), (20, 10), (10, 9), (9, 4), (4, 29), (29, 21), (21, 7), (7, 25), (25, 27), (27, 13), (13, 28), (28, 22), (22, 15), (15, 14), (14, 23), (23, 0)]]\n",
      "liste_route_plan [0, 16, 24, 12, 8, 26, 19, 3, 2, 17, 1, 18, 6, 5, 11, 20, 10, 9, 4, 29, 21, 7, 25, 27, 13, 28, 22, 15, 14, 23, 0]\n",
      "no. of times LP model is solved =  6\n",
      "subtour log (no. of subtours in each solution)) [4, 3, 4, 2, 2, 1]\n",
      "Time taken by DFJ formulation =  3.291964054107666\n",
      "distance 74.83169102105114\n",
      "borne_inf 6265.636933700878\n",
      "best_weight 8372.97253103404\n"
     ]
    },
    {
     "data": {
      "application/vnd.jupyter.widget-view+json": {
       "model_id": "fad9678f45ba4b239d0f240bfe0d33ad",
       "version_major": 2,
       "version_minor": 0
      },
      "text/plain": [
       "IntProgress(value=0, layout=Layout(width='100%'), max=30)"
      ]
     },
     "metadata": {},
     "output_type": "display_data"
    },
    {
     "data": {
      "application/vnd.jupyter.widget-view+json": {
       "model_id": "f6f5054ce3034a759e89d1d6bc6a644e",
       "version_major": 2,
       "version_minor": 0
      },
      "text/plain": [
       "IntProgress(value=0, layout=Layout(width='100%'), max=200)"
      ]
     },
     "metadata": {},
     "output_type": "display_data"
    },
    {
     "name": "stdout",
     "output_type": "stream",
     "text": [
      "-----------------\n",
      "1 Optimal 6700.5481860864575\n",
      "route_plan [[(0, 9), (9, 22), (22, 23), (23, 21), (21, 29), (29, 7), (7, 8), (8, 12), (12, 3), (3, 11), (11, 15), (15, 25), (25, 13), (13, 14), (14, 6), (6, 20), (20, 2), (2, 19), (19, 26), (26, 28), (28, 24), (24, 17), (17, 4), (4, 5), (5, 16), (16, 27), (27, 18), (18, 1), (1, 10), (10, 0)]]\n",
      "liste_route_plan [0, 9, 22, 23, 21, 29, 7, 8, 12, 3, 11, 15, 25, 13, 14, 6, 20, 2, 19, 26, 28, 24, 17, 4, 5, 16, 27, 18, 1, 10, 0]\n",
      "no. of times LP model is solved =  2\n",
      "subtour log (no. of subtours in each solution)) [4, 1]\n",
      "Time taken by DFJ formulation =  0.523735761642456\n",
      "distance 71.79381649970615\n",
      "borne_inf 6700.5481860864575\n",
      "best_weight 9333.043586161604\n"
     ]
    },
    {
     "data": {
      "application/vnd.jupyter.widget-view+json": {
       "model_id": "affb0f0cdcb741a5b60ee19ffe443e71",
       "version_major": 2,
       "version_minor": 0
      },
      "text/plain": [
       "IntProgress(value=0, layout=Layout(width='100%'), max=30)"
      ]
     },
     "metadata": {},
     "output_type": "display_data"
    },
    {
     "data": {
      "application/vnd.jupyter.widget-view+json": {
       "model_id": "e40db33fe7fc4806b60e9168137e586c",
       "version_major": 2,
       "version_minor": 0
      },
      "text/plain": [
       "IntProgress(value=0, layout=Layout(width='100%'), max=200)"
      ]
     },
     "metadata": {},
     "output_type": "display_data"
    },
    {
     "name": "stdout",
     "output_type": "stream",
     "text": [
      "-----------------\n",
      "1 Optimal 5241.607756588392\n",
      "route_plan [[(0, 2), (2, 19), (19, 27), (27, 17), (17, 6), (6, 20), (20, 21), (21, 13), (13, 24), (24, 15), (15, 7), (7, 16), (16, 4), (4, 8), (8, 3), (3, 14), (14, 22), (22, 28), (28, 1), (1, 25), (25, 10), (10, 18), (18, 12), (12, 29), (29, 11), (11, 9), (9, 26), (26, 23), (23, 5), (5, 0)]]\n",
      "liste_route_plan [0, 2, 19, 27, 17, 6, 20, 21, 13, 24, 15, 7, 16, 4, 8, 3, 14, 22, 28, 1, 25, 10, 18, 12, 29, 11, 9, 26, 23, 5, 0]\n",
      "no. of times LP model is solved =  10\n",
      "subtour log (no. of subtours in each solution)) [8, 10, 3, 4, 4, 3, 2, 3, 3, 1]\n",
      "Time taken by DFJ formulation =  5.222176790237427\n",
      "distance 71.94119956423847\n",
      "borne_inf 5241.607756588392\n",
      "best_weight 7285.961018634393\n"
     ]
    },
    {
     "data": {
      "application/vnd.jupyter.widget-view+json": {
       "model_id": "763aae090fbe42cd82ca762881fa3924",
       "version_major": 2,
       "version_minor": 0
      },
      "text/plain": [
       "IntProgress(value=0, layout=Layout(width='100%'), max=30)"
      ]
     },
     "metadata": {},
     "output_type": "display_data"
    },
    {
     "data": {
      "application/vnd.jupyter.widget-view+json": {
       "model_id": "487a79d03fa64c35bd81ae8d7a8a5067",
       "version_major": 2,
       "version_minor": 0
      },
      "text/plain": [
       "IntProgress(value=0, layout=Layout(width='100%'), max=200)"
      ]
     },
     "metadata": {},
     "output_type": "display_data"
    },
    {
     "name": "stdout",
     "output_type": "stream",
     "text": [
      "-----------------\n",
      "1 Optimal 5761.916076954625\n",
      "route_plan [[(0, 27), (27, 16), (16, 26), (26, 23), (23, 2), (2, 29), (29, 9), (9, 19), (19, 1), (1, 12), (12, 7), (7, 11), (11, 14), (14, 24), (24, 15), (15, 8), (8, 17), (17, 3), (3, 5), (5, 4), (4, 25), (25, 6), (6, 28), (28, 10), (10, 20), (20, 21), (21, 22), (22, 18), (18, 13), (13, 0)]]\n",
      "liste_route_plan [0, 27, 16, 26, 23, 2, 29, 9, 19, 1, 12, 7, 11, 14, 24, 15, 8, 17, 3, 5, 4, 25, 6, 28, 10, 20, 21, 22, 18, 13, 0]\n",
      "no. of times LP model is solved =  17\n",
      "subtour log (no. of subtours in each solution)) [6, 4, 4, 4, 4, 2, 2, 3, 4, 2, 2, 3, 3, 3, 2, 6, 1]\n",
      "Time taken by DFJ formulation =  15.322227478027344\n",
      "distance 72.17513158037784\n",
      "borne_inf 5761.916076954625\n",
      "best_weight 7983.242913160287\n"
     ]
    },
    {
     "data": {
      "application/vnd.jupyter.widget-view+json": {
       "model_id": "595f4d3311da452996afaf4a34deaa79",
       "version_major": 2,
       "version_minor": 0
      },
      "text/plain": [
       "IntProgress(value=0, layout=Layout(width='100%'), max=30)"
      ]
     },
     "metadata": {},
     "output_type": "display_data"
    },
    {
     "data": {
      "application/vnd.jupyter.widget-view+json": {
       "model_id": "2dc9d110c2db4980b7e9aa779c98758a",
       "version_major": 2,
       "version_minor": 0
      },
      "text/plain": [
       "IntProgress(value=0, layout=Layout(width='100%'), max=200)"
      ]
     },
     "metadata": {},
     "output_type": "display_data"
    },
    {
     "name": "stdout",
     "output_type": "stream",
     "text": [
      "-----------------\n",
      "1 Optimal 5467.895118529563\n",
      "route_plan [[(0, 7), (7, 5), (5, 17), (17, 21), (21, 1), (1, 6), (6, 14), (14, 26), (26, 23), (23, 20), (20, 12), (12, 25), (25, 28), (28, 27), (27, 18), (18, 24), (24, 3), (3, 11), (11, 15), (15, 22), (22, 8), (8, 2), (2, 16), (16, 9), (9, 13), (13, 4), (4, 10), (10, 29), (29, 19), (19, 0)]]\n",
      "liste_route_plan [0, 7, 5, 17, 21, 1, 6, 14, 26, 23, 20, 12, 25, 28, 27, 18, 24, 3, 11, 15, 22, 8, 2, 16, 9, 13, 4, 10, 29, 19, 0]\n",
      "no. of times LP model is solved =  8\n",
      "subtour log (no. of subtours in each solution)) [8, 9, 4, 3, 2, 3, 3, 1]\n",
      "Time taken by DFJ formulation =  3.110894203186035\n",
      "distance 66.49615830276345\n",
      "borne_inf 5467.895118529563\n",
      "best_weight 8222.873708934743\n"
     ]
    },
    {
     "data": {
      "application/vnd.jupyter.widget-view+json": {
       "model_id": "47a7b328a9f84983b0ed4dc2dd77a691",
       "version_major": 2,
       "version_minor": 0
      },
      "text/plain": [
       "IntProgress(value=0, layout=Layout(width='100%'), max=30)"
      ]
     },
     "metadata": {},
     "output_type": "display_data"
    },
    {
     "data": {
      "application/vnd.jupyter.widget-view+json": {
       "model_id": "c5b7e49c87dd4c07969b5f509a7cd2d9",
       "version_major": 2,
       "version_minor": 0
      },
      "text/plain": [
       "IntProgress(value=0, layout=Layout(width='100%'), max=200)"
      ]
     },
     "metadata": {},
     "output_type": "display_data"
    },
    {
     "name": "stdout",
     "output_type": "stream",
     "text": [
      "-----------------\n",
      "1 Optimal 5710.44642806825\n",
      "route_plan [[(0, 4), (4, 3), (3, 6), (6, 17), (17, 26), (26, 7), (7, 12), (12, 20), (20, 18), (18, 1), (1, 11), (11, 2), (2, 21), (21, 28), (28, 8), (8, 22), (22, 25), (25, 9), (9, 5), (5, 10), (10, 13), (13, 14), (14, 24), (24, 23), (23, 15), (15, 16), (16, 27), (27, 29), (29, 19), (19, 0)]]\n",
      "liste_route_plan [0, 4, 3, 6, 17, 26, 7, 12, 20, 18, 1, 11, 2, 21, 28, 8, 22, 25, 9, 5, 10, 13, 14, 24, 23, 15, 16, 27, 29, 19, 0]\n",
      "no. of times LP model is solved =  18\n",
      "subtour log (no. of subtours in each solution)) [10, 4, 4, 5, 4, 5, 2, 2, 2, 4, 2, 2, 2, 2, 2, 2, 2, 1]\n",
      "Time taken by DFJ formulation =  17.30056619644165\n",
      "distance 70.35219195422992\n",
      "borne_inf 5710.44642806825\n",
      "best_weight 8116.941731941174\n"
     ]
    },
    {
     "data": {
      "application/vnd.jupyter.widget-view+json": {
       "model_id": "fa57c9f21bc047b3934d08947b4e7a11",
       "version_major": 2,
       "version_minor": 0
      },
      "text/plain": [
       "IntProgress(value=0, layout=Layout(width='100%'), max=30)"
      ]
     },
     "metadata": {},
     "output_type": "display_data"
    },
    {
     "data": {
      "application/vnd.jupyter.widget-view+json": {
       "model_id": "5bdc90752572449f90606505d3491e29",
       "version_major": 2,
       "version_minor": 0
      },
      "text/plain": [
       "IntProgress(value=0, layout=Layout(width='100%'), max=200)"
      ]
     },
     "metadata": {},
     "output_type": "display_data"
    },
    {
     "name": "stdout",
     "output_type": "stream",
     "text": [
      "-----------------\n",
      "1 Optimal 5334.143539861486\n",
      "route_plan [[(0, 9), (9, 5), (5, 24), (24, 22), (22, 8), (8, 28), (28, 11), (11, 20), (20, 15), (15, 14), (14, 25), (25, 4), (4, 26), (26, 16), (16, 21), (21, 17), (17, 12), (12, 3), (3, 6), (6, 2), (2, 10), (10, 18), (18, 1), (1, 27), (27, 23), (23, 7), (7, 13), (13, 19), (19, 29), (29, 0)]]\n",
      "liste_route_plan [0, 9, 5, 24, 22, 8, 28, 11, 20, 15, 14, 25, 4, 26, 16, 21, 17, 12, 3, 6, 2, 10, 18, 1, 27, 23, 7, 13, 19, 29, 0]\n",
      "no. of times LP model is solved =  10\n",
      "subtour log (no. of subtours in each solution)) [10, 6, 3, 3, 3, 4, 5, 3, 3, 1]\n",
      "Time taken by DFJ formulation =  6.530596733093262\n",
      "distance 76.48446502831656\n",
      "borne_inf 5334.143539861486\n",
      "best_weight 6974.152905281675\n"
     ]
    },
    {
     "data": {
      "application/vnd.jupyter.widget-view+json": {
       "model_id": "f69cb94368c648828d26aa814c60f6cd",
       "version_major": 2,
       "version_minor": 0
      },
      "text/plain": [
       "IntProgress(value=0, layout=Layout(width='100%'), max=30)"
      ]
     },
     "metadata": {},
     "output_type": "display_data"
    },
    {
     "data": {
      "application/vnd.jupyter.widget-view+json": {
       "model_id": "bb06f7eb46f74a56b92475a251b53b1a",
       "version_major": 2,
       "version_minor": 0
      },
      "text/plain": [
       "IntProgress(value=0, layout=Layout(width='100%'), max=200)"
      ]
     },
     "metadata": {},
     "output_type": "display_data"
    },
    {
     "name": "stdout",
     "output_type": "stream",
     "text": [
      "-----------------\n",
      "1 Optimal 6031.257801533464\n",
      "route_plan [[(0, 6), (6, 13), (13, 14), (14, 28), (28, 16), (16, 21), (21, 5), (5, 8), (8, 12), (12, 29), (29, 24), (24, 2), (2, 7), (7, 26), (26, 27), (27, 9), (9, 23), (23, 10), (10, 25), (25, 11), (11, 17), (17, 22), (22, 4), (4, 3), (3, 15), (15, 1), (1, 20), (20, 19), (19, 18), (18, 0)]]\n",
      "liste_route_plan [0, 6, 13, 14, 28, 16, 21, 5, 8, 12, 29, 24, 2, 7, 26, 27, 9, 23, 10, 25, 11, 17, 22, 4, 3, 15, 1, 20, 19, 18, 0]\n",
      "no. of times LP model is solved =  2\n",
      "subtour log (no. of subtours in each solution)) [6, 1]\n",
      "Time taken by DFJ formulation =  0.6220123767852783\n",
      "distance 71.95062152450646\n",
      "borne_inf 6031.257801533464\n",
      "best_weight 8382.49576409734\n"
     ]
    },
    {
     "data": {
      "application/vnd.jupyter.widget-view+json": {
       "model_id": "1d1c319b0eb84e77a16e0559bf8397fb",
       "version_major": 2,
       "version_minor": 0
      },
      "text/plain": [
       "IntProgress(value=0, layout=Layout(width='100%'), max=30)"
      ]
     },
     "metadata": {},
     "output_type": "display_data"
    },
    {
     "data": {
      "application/vnd.jupyter.widget-view+json": {
       "model_id": "f89f7ee8b15f4b50b20e4837bc257c13",
       "version_major": 2,
       "version_minor": 0
      },
      "text/plain": [
       "IntProgress(value=0, layout=Layout(width='100%'), max=200)"
      ]
     },
     "metadata": {},
     "output_type": "display_data"
    },
    {
     "name": "stdout",
     "output_type": "stream",
     "text": [
      "-----------------\n",
      "1 Optimal 5101.607905725241\n",
      "route_plan [[(0, 16), (16, 4), (4, 15), (15, 10), (10, 14), (14, 2), (2, 25), (25, 18), (18, 19), (19, 28), (28, 22), (22, 6), (6, 29), (29, 12), (12, 8), (8, 24), (24, 11), (11, 13), (13, 27), (27, 26), (26, 1), (1, 3), (3, 17), (17, 21), (21, 20), (20, 9), (9, 5), (5, 23), (23, 7), (7, 0)]]\n",
      "liste_route_plan [0, 16, 4, 15, 10, 14, 2, 25, 18, 19, 28, 22, 6, 29, 12, 8, 24, 11, 13, 27, 26, 1, 3, 17, 21, 20, 9, 5, 23, 7, 0]\n",
      "no. of times LP model is solved =  10\n",
      "subtour log (no. of subtours in each solution)) [6, 7, 5, 7, 3, 3, 3, 3, 3, 1]\n",
      "Time taken by DFJ formulation =  6.10268497467041\n",
      "distance 72.44596717362256\n",
      "borne_inf 5101.607905725241\n",
      "best_weight 7041.948785774132\n"
     ]
    },
    {
     "data": {
      "application/vnd.jupyter.widget-view+json": {
       "model_id": "e50976923fae40b4b286c6a8fbf3d3e0",
       "version_major": 2,
       "version_minor": 0
      },
      "text/plain": [
       "IntProgress(value=0, layout=Layout(width='100%'), max=30)"
      ]
     },
     "metadata": {},
     "output_type": "display_data"
    },
    {
     "data": {
      "application/vnd.jupyter.widget-view+json": {
       "model_id": "40ba8cd7c382444bb8728c525fed7516",
       "version_major": 2,
       "version_minor": 0
      },
      "text/plain": [
       "IntProgress(value=0, layout=Layout(width='100%'), max=200)"
      ]
     },
     "metadata": {},
     "output_type": "display_data"
    },
    {
     "name": "stdout",
     "output_type": "stream",
     "text": [
      "-----------------\n",
      "1 Optimal 5363.901165869773\n",
      "route_plan [[(0, 24), (24, 6), (6, 2), (2, 15), (15, 27), (27, 17), (17, 23), (23, 1), (1, 3), (3, 12), (12, 21), (21, 4), (4, 19), (19, 14), (14, 22), (22, 20), (20, 26), (26, 10), (10, 8), (8, 18), (18, 5), (5, 9), (9, 7), (7, 16), (16, 28), (28, 29), (29, 25), (25, 13), (13, 11), (11, 0)]]\n",
      "liste_route_plan [0, 24, 6, 2, 15, 27, 17, 23, 1, 3, 12, 21, 4, 19, 14, 22, 20, 26, 10, 8, 18, 5, 9, 7, 16, 28, 29, 25, 13, 11, 0]\n",
      "no. of times LP model is solved =  7\n",
      "subtour log (no. of subtours in each solution)) [7, 4, 4, 2, 2, 3, 1]\n",
      "Time taken by DFJ formulation =  3.069300413131714\n",
      "distance 70.34037477080683\n",
      "borne_inf 5363.901165869773\n",
      "best_weight 7625.636319606216\n"
     ]
    },
    {
     "data": {
      "application/vnd.jupyter.widget-view+json": {
       "model_id": "cc8a1f32c54149fea9afe12379c4168c",
       "version_major": 2,
       "version_minor": 0
      },
      "text/plain": [
       "IntProgress(value=0, layout=Layout(width='100%'), max=30)"
      ]
     },
     "metadata": {},
     "output_type": "display_data"
    },
    {
     "data": {
      "application/vnd.jupyter.widget-view+json": {
       "model_id": "1fdd7255b22d483e8ead306d2d50536b",
       "version_major": 2,
       "version_minor": 0
      },
      "text/plain": [
       "IntProgress(value=0, layout=Layout(width='100%'), max=200)"
      ]
     },
     "metadata": {},
     "output_type": "display_data"
    },
    {
     "name": "stdout",
     "output_type": "stream",
     "text": [
      "-----------------\n",
      "1 Optimal 5569.920551688027\n",
      "route_plan [[(0, 19), (19, 25), (25, 14), (14, 10), (10, 4), (4, 26), (26, 16), (16, 24), (24, 17), (17, 20), (20, 29), (29, 22), (22, 1), (1, 18), (18, 11), (11, 27), (27, 15), (15, 5), (5, 7), (7, 3), (3, 21), (21, 13), (13, 8), (8, 2), (2, 12), (12, 6), (6, 9), (9, 23), (23, 28), (28, 0)]]\n",
      "liste_route_plan [0, 19, 25, 14, 10, 4, 26, 16, 24, 17, 20, 29, 22, 1, 18, 11, 27, 15, 5, 7, 3, 21, 13, 8, 2, 12, 6, 9, 23, 28, 0]\n",
      "no. of times LP model is solved =  8\n",
      "subtour log (no. of subtours in each solution)) [9, 7, 7, 3, 7, 3, 2, 1]\n",
      "Time taken by DFJ formulation =  4.101743459701538\n",
      "distance 72.0725653301233\n",
      "borne_inf 5569.920551688027\n",
      "best_weight 7728.211873929282\n"
     ]
    },
    {
     "data": {
      "application/vnd.jupyter.widget-view+json": {
       "model_id": "fa200dec7f1a46208281e27896e9d828",
       "version_major": 2,
       "version_minor": 0
      },
      "text/plain": [
       "IntProgress(value=0, layout=Layout(width='100%'), max=30)"
      ]
     },
     "metadata": {},
     "output_type": "display_data"
    },
    {
     "data": {
      "application/vnd.jupyter.widget-view+json": {
       "model_id": "9f2fb282c5904af8b987e31111e5a51b",
       "version_major": 2,
       "version_minor": 0
      },
      "text/plain": [
       "IntProgress(value=0, layout=Layout(width='100%'), max=200)"
      ]
     },
     "metadata": {},
     "output_type": "display_data"
    },
    {
     "name": "stdout",
     "output_type": "stream",
     "text": [
      "-----------------\n",
      "1 Optimal 5328.104787239997\n",
      "route_plan [[(0, 15), (15, 27), (27, 16), (16, 18), (18, 22), (22, 20), (20, 12), (12, 7), (7, 19), (19, 10), (10, 25), (25, 4), (4, 24), (24, 29), (29, 28), (28, 2), (2, 3), (3, 11), (11, 21), (21, 13), (13, 8), (8, 17), (17, 14), (14, 1), (1, 23), (23, 5), (5, 9), (9, 6), (6, 26), (26, 0)]]\n",
      "liste_route_plan [0, 15, 27, 16, 18, 22, 20, 12, 7, 19, 10, 25, 4, 24, 29, 28, 2, 3, 11, 21, 13, 8, 17, 14, 1, 23, 5, 9, 6, 26, 0]\n",
      "no. of times LP model is solved =  10\n",
      "subtour log (no. of subtours in each solution)) [6, 4, 5, 5, 5, 4, 3, 2, 2, 1]\n",
      "Time taken by DFJ formulation =  6.104492425918579\n",
      "distance 72.87117915054158\n",
      "borne_inf 5328.104787239997\n",
      "best_weight 7311.676371028502\n"
     ]
    },
    {
     "data": {
      "application/vnd.jupyter.widget-view+json": {
       "model_id": "ba6bf5acd4344384ba103c2ee94e4e11",
       "version_major": 2,
       "version_minor": 0
      },
      "text/plain": [
       "IntProgress(value=0, layout=Layout(width='100%'), max=30)"
      ]
     },
     "metadata": {},
     "output_type": "display_data"
    },
    {
     "data": {
      "application/vnd.jupyter.widget-view+json": {
       "model_id": "69ae45f4ca014a37a089da6a615ecaa4",
       "version_major": 2,
       "version_minor": 0
      },
      "text/plain": [
       "IntProgress(value=0, layout=Layout(width='100%'), max=200)"
      ]
     },
     "metadata": {},
     "output_type": "display_data"
    },
    {
     "name": "stdout",
     "output_type": "stream",
     "text": [
      "-----------------\n",
      "1 Optimal 5604.1131280808095\n",
      "route_plan [[(0, 10), (10, 4), (4, 21), (21, 2), (2, 22), (22, 5), (5, 23), (23, 8), (8, 1), (1, 26), (26, 20), (20, 9), (9, 17), (17, 24), (24, 29), (29, 3), (3, 19), (19, 18), (18, 15), (15, 27), (27, 16), (16, 25), (25, 28), (28, 6), (6, 14), (14, 7), (7, 13), (13, 11), (11, 12), (12, 0)]]\n",
      "liste_route_plan [0, 10, 4, 21, 2, 22, 5, 23, 8, 1, 26, 20, 9, 17, 24, 29, 3, 19, 18, 15, 27, 16, 25, 28, 6, 14, 7, 13, 11, 12, 0]\n",
      "no. of times LP model is solved =  4\n",
      "subtour log (no. of subtours in each solution)) [7, 3, 4, 1]\n",
      "Time taken by DFJ formulation =  1.2948918342590332\n",
      "distance 67.22176496345654\n",
      "borne_inf 5604.1131280808095\n",
      "best_weight 8336.753923565304\n"
     ]
    },
    {
     "data": {
      "application/vnd.jupyter.widget-view+json": {
       "model_id": "4008a7392eee4cd89fa16fec669ee0f0",
       "version_major": 2,
       "version_minor": 0
      },
      "text/plain": [
       "IntProgress(value=0, layout=Layout(width='100%'), max=30)"
      ]
     },
     "metadata": {},
     "output_type": "display_data"
    },
    {
     "data": {
      "application/vnd.jupyter.widget-view+json": {
       "model_id": "041374d5b511446680ddea3ef7127a05",
       "version_major": 2,
       "version_minor": 0
      },
      "text/plain": [
       "IntProgress(value=0, layout=Layout(width='100%'), max=200)"
      ]
     },
     "metadata": {},
     "output_type": "display_data"
    },
    {
     "name": "stdout",
     "output_type": "stream",
     "text": [
      "-----------------\n",
      "1 Optimal 6041.605726915023\n",
      "route_plan [[(0, 2), (2, 22), (22, 4), (4, 15), (15, 1), (1, 13), (13, 24), (24, 28), (28, 14), (14, 27), (27, 12), (12, 11), (11, 19), (19, 21), (21, 10), (10, 23), (23, 3), (3, 20), (20, 5), (5, 7), (7, 17), (17, 16), (16, 29), (29, 25), (25, 9), (9, 18), (18, 8), (8, 26), (26, 6), (6, 0)]]\n",
      "liste_route_plan [0, 2, 22, 4, 15, 1, 13, 24, 28, 14, 27, 12, 11, 19, 21, 10, 23, 3, 20, 5, 7, 17, 16, 29, 25, 9, 18, 8, 26, 6, 0]\n",
      "no. of times LP model is solved =  13\n",
      "subtour log (no. of subtours in each solution)) [8, 6, 4, 3, 3, 2, 2, 4, 2, 2, 2, 2, 1]\n",
      "Time taken by DFJ formulation =  7.970125198364258\n",
      "distance 73.56624955301439\n",
      "borne_inf 6041.605726915023\n",
      "best_weight 8212.469391362994\n"
     ]
    },
    {
     "data": {
      "application/vnd.jupyter.widget-view+json": {
       "model_id": "58f77d8558214faa83e052bad36cce4e",
       "version_major": 2,
       "version_minor": 0
      },
      "text/plain": [
       "IntProgress(value=0, layout=Layout(width='100%'), max=30)"
      ]
     },
     "metadata": {},
     "output_type": "display_data"
    },
    {
     "data": {
      "application/vnd.jupyter.widget-view+json": {
       "model_id": "1eb523acb0354d0985b156e1dcc17772",
       "version_major": 2,
       "version_minor": 0
      },
      "text/plain": [
       "IntProgress(value=0, layout=Layout(width='100%'), max=200)"
      ]
     },
     "metadata": {},
     "output_type": "display_data"
    },
    {
     "name": "stdout",
     "output_type": "stream",
     "text": [
      "-----------------\n",
      "1 Optimal 5098.045169505736\n",
      "route_plan [[(0, 10), (10, 7), (7, 3), (3, 1), (1, 26), (26, 18), (18, 16), (16, 9), (9, 2), (2, 22), (22, 11), (11, 14), (14, 13), (13, 24), (24, 15), (15, 20), (20, 8), (8, 19), (19, 4), (4, 12), (12, 17), (17, 21), (21, 28), (28, 5), (5, 25), (25, 29), (29, 27), (27, 23), (23, 6), (6, 0)]]\n",
      "liste_route_plan [0, 10, 7, 3, 1, 26, 18, 16, 9, 2, 22, 11, 14, 13, 24, 15, 20, 8, 19, 4, 12, 17, 21, 28, 5, 25, 29, 27, 23, 6, 0]\n",
      "no. of times LP model is solved =  4\n",
      "subtour log (no. of subtours in each solution)) [11, 8, 4, 1]\n",
      "Time taken by DFJ formulation =  1.2833890914916992\n",
      "distance 65.76142720121814\n",
      "borne_inf 5098.045169505736\n",
      "best_weight 7752.333528143536\n"
     ]
    },
    {
     "data": {
      "application/vnd.jupyter.widget-view+json": {
       "model_id": "5e515ce8405748d9a897acacdf4f9646",
       "version_major": 2,
       "version_minor": 0
      },
      "text/plain": [
       "IntProgress(value=0, layout=Layout(width='100%'), max=30)"
      ]
     },
     "metadata": {},
     "output_type": "display_data"
    },
    {
     "data": {
      "application/vnd.jupyter.widget-view+json": {
       "model_id": "62a6d306b04e456f9df980f630f8a4c4",
       "version_major": 2,
       "version_minor": 0
      },
      "text/plain": [
       "IntProgress(value=0, layout=Layout(width='100%'), max=200)"
      ]
     },
     "metadata": {},
     "output_type": "display_data"
    },
    {
     "name": "stdout",
     "output_type": "stream",
     "text": [
      "-----------------\n",
      "1 Optimal 5943.644874800891\n",
      "route_plan [[(0, 7), (7, 20), (20, 17), (17, 5), (5, 14), (14, 22), (22, 9), (9, 16), (16, 6), (6, 13), (13, 25), (25, 1), (1, 18), (18, 24), (24, 11), (11, 3), (3, 29), (29, 28), (28, 23), (23, 2), (2, 21), (21, 8), (8, 27), (27, 15), (15, 19), (19, 10), (10, 12), (12, 26), (26, 4), (4, 0)]]\n",
      "liste_route_plan [0, 7, 20, 17, 5, 14, 22, 9, 16, 6, 13, 25, 1, 18, 24, 11, 3, 29, 28, 23, 2, 21, 8, 27, 15, 19, 10, 12, 26, 4, 0]\n",
      "no. of times LP model is solved =  14\n",
      "subtour log (no. of subtours in each solution)) [9, 3, 3, 4, 3, 4, 2, 4, 4, 3, 2, 6, 2, 1]\n",
      "Time taken by DFJ formulation =  7.779915809631348\n",
      "distance 71.01599388560331\n",
      "borne_inf 5943.644874800891\n",
      "best_weight 8369.445458124912\n"
     ]
    },
    {
     "data": {
      "application/vnd.jupyter.widget-view+json": {
       "model_id": "5fd4b34f49f140d7a6a1d492b45e9709",
       "version_major": 2,
       "version_minor": 0
      },
      "text/plain": [
       "IntProgress(value=0, layout=Layout(width='100%'), max=30)"
      ]
     },
     "metadata": {},
     "output_type": "display_data"
    },
    {
     "data": {
      "application/vnd.jupyter.widget-view+json": {
       "model_id": "5c887cd5bab748099c2eefd72303529c",
       "version_major": 2,
       "version_minor": 0
      },
      "text/plain": [
       "IntProgress(value=0, layout=Layout(width='100%'), max=200)"
      ]
     },
     "metadata": {},
     "output_type": "display_data"
    },
    {
     "name": "stdout",
     "output_type": "stream",
     "text": [
      "-----------------\n",
      "1 Optimal 5997.806418470529\n",
      "route_plan [[(0, 10), (10, 22), (22, 25), (25, 1), (1, 29), (29, 9), (9, 12), (12, 5), (5, 2), (2, 8), (8, 14), (14, 13), (13, 3), (3, 20), (20, 18), (18, 15), (15, 26), (26, 4), (4, 17), (17, 6), (6, 16), (16, 7), (7, 19), (19, 28), (28, 23), (23, 11), (11, 21), (21, 24), (24, 27), (27, 0)]]\n",
      "liste_route_plan [0, 10, 22, 25, 1, 29, 9, 12, 5, 2, 8, 14, 13, 3, 20, 18, 15, 26, 4, 17, 6, 16, 7, 19, 28, 23, 11, 21, 24, 27, 0]\n",
      "no. of times LP model is solved =  15\n",
      "subtour log (no. of subtours in each solution)) [6, 6, 4, 4, 4, 5, 2, 2, 3, 3, 3, 2, 2, 2, 1]\n",
      "Time taken by DFJ formulation =  10.12181544303894\n",
      "distance 72.12626502243522\n",
      "borne_inf 5997.806418470529\n",
      "best_weight 8315.703602016383\n"
     ]
    },
    {
     "data": {
      "application/vnd.jupyter.widget-view+json": {
       "model_id": "46faa1152e3a4a59affc87a6f4279447",
       "version_major": 2,
       "version_minor": 0
      },
      "text/plain": [
       "IntProgress(value=0, layout=Layout(width='100%'), max=30)"
      ]
     },
     "metadata": {},
     "output_type": "display_data"
    },
    {
     "data": {
      "application/vnd.jupyter.widget-view+json": {
       "model_id": "5cd71d5b1c69412b90db4fad8e64ab6f",
       "version_major": 2,
       "version_minor": 0
      },
      "text/plain": [
       "IntProgress(value=0, layout=Layout(width='100%'), max=200)"
      ]
     },
     "metadata": {},
     "output_type": "display_data"
    },
    {
     "name": "stdout",
     "output_type": "stream",
     "text": [
      "-----------------\n",
      "1 Optimal 5134.751810226015\n",
      "route_plan [[(0, 24), (24, 18), (18, 8), (8, 4), (4, 3), (3, 22), (22, 6), (6, 13), (13, 27), (27, 21), (21, 25), (25, 17), (17, 11), (11, 12), (12, 10), (10, 19), (19, 2), (2, 23), (23, 26), (26, 14), (14, 16), (16, 20), (20, 15), (15, 9), (9, 1), (1, 7), (7, 29), (29, 28), (28, 5), (5, 0)]]\n",
      "liste_route_plan [0, 24, 18, 8, 4, 3, 22, 6, 13, 27, 21, 25, 17, 11, 12, 10, 19, 2, 23, 26, 14, 16, 20, 15, 9, 1, 7, 29, 28, 5, 0]\n",
      "no. of times LP model is solved =  3\n",
      "subtour log (no. of subtours in each solution)) [3, 5, 1]\n",
      "Time taken by DFJ formulation =  1.1627249717712402\n",
      "distance 68.28465811540251\n",
      "borne_inf 5134.751810226015\n",
      "best_weight 7519.627324703268\n"
     ]
    },
    {
     "data": {
      "application/vnd.jupyter.widget-view+json": {
       "model_id": "008aa8c7c84d4d0caaa372240cd71955",
       "version_major": 2,
       "version_minor": 0
      },
      "text/plain": [
       "IntProgress(value=0, layout=Layout(width='100%'), max=30)"
      ]
     },
     "metadata": {},
     "output_type": "display_data"
    },
    {
     "data": {
      "application/vnd.jupyter.widget-view+json": {
       "model_id": "4ecdad479f2643c298e54b9e149260ce",
       "version_major": 2,
       "version_minor": 0
      },
      "text/plain": [
       "IntProgress(value=0, layout=Layout(width='100%'), max=200)"
      ]
     },
     "metadata": {},
     "output_type": "display_data"
    },
    {
     "name": "stdout",
     "output_type": "stream",
     "text": [
      "-----------------\n",
      "1 Optimal 5226.431251454458\n",
      "route_plan [[(0, 11), (11, 21), (21, 27), (27, 14), (14, 2), (2, 15), (15, 10), (10, 20), (20, 12), (12, 1), (1, 8), (8, 3), (3, 18), (18, 19), (19, 23), (23, 16), (16, 28), (28, 26), (26, 13), (13, 9), (9, 7), (7, 4), (4, 25), (25, 22), (22, 5), (5, 17), (17, 29), (29, 6), (6, 24), (24, 0)]]\n",
      "liste_route_plan [0, 11, 21, 27, 14, 2, 15, 10, 20, 12, 1, 8, 3, 18, 19, 23, 16, 28, 26, 13, 9, 7, 4, 25, 22, 5, 17, 29, 6, 24, 0]\n",
      "no. of times LP model is solved =  11\n",
      "subtour log (no. of subtours in each solution)) [10, 3, 5, 4, 3, 2, 3, 4, 8, 3, 1]\n",
      "Time taken by DFJ formulation =  4.621058464050293\n",
      "distance 72.91202847897718\n",
      "borne_inf 5226.431251454458\n",
      "best_weight 7168.133105721236\n"
     ]
    },
    {
     "data": {
      "application/vnd.jupyter.widget-view+json": {
       "model_id": "a44632c857b54c3cb6f941bcede92425",
       "version_major": 2,
       "version_minor": 0
      },
      "text/plain": [
       "IntProgress(value=0, layout=Layout(width='100%'), max=30)"
      ]
     },
     "metadata": {},
     "output_type": "display_data"
    },
    {
     "data": {
      "application/vnd.jupyter.widget-view+json": {
       "model_id": "6b964bf1e74c4f258df0c4618e3cd205",
       "version_major": 2,
       "version_minor": 0
      },
      "text/plain": [
       "IntProgress(value=0, layout=Layout(width='100%'), max=200)"
      ]
     },
     "metadata": {},
     "output_type": "display_data"
    },
    {
     "name": "stdout",
     "output_type": "stream",
     "text": [
      "-----------------\n",
      "1 Optimal 5591.467686067957\n",
      "route_plan [[(0, 28), (28, 26), (26, 9), (9, 23), (23, 15), (15, 19), (19, 18), (18, 29), (29, 3), (3, 16), (16, 8), (8, 20), (20, 14), (14, 21), (21, 24), (24, 1), (1, 12), (12, 25), (25, 6), (6, 17), (17, 5), (5, 13), (13, 10), (10, 2), (2, 7), (7, 4), (4, 27), (27, 22), (22, 11), (11, 0)]]\n",
      "liste_route_plan [0, 28, 26, 9, 23, 15, 19, 18, 29, 3, 16, 8, 20, 14, 21, 24, 1, 12, 25, 6, 17, 5, 13, 10, 2, 7, 4, 27, 22, 11, 0]\n",
      "no. of times LP model is solved =  15\n",
      "subtour log (no. of subtours in each solution)) [9, 7, 7, 5, 4, 4, 4, 4, 4, 4, 3, 3, 4, 4, 1]\n",
      "Time taken by DFJ formulation =  11.189188241958618\n",
      "distance 76.26513742837464\n",
      "borne_inf 5591.467686067957\n",
      "best_weight 7331.616875822526\n"
     ]
    },
    {
     "data": {
      "application/vnd.jupyter.widget-view+json": {
       "model_id": "38c127ef124e4d0f914836b318bbc470",
       "version_major": 2,
       "version_minor": 0
      },
      "text/plain": [
       "IntProgress(value=0, layout=Layout(width='100%'), max=30)"
      ]
     },
     "metadata": {},
     "output_type": "display_data"
    },
    {
     "data": {
      "application/vnd.jupyter.widget-view+json": {
       "model_id": "4cdd4c335d6541b7a83705bf94a3f717",
       "version_major": 2,
       "version_minor": 0
      },
      "text/plain": [
       "IntProgress(value=0, layout=Layout(width='100%'), max=200)"
      ]
     },
     "metadata": {},
     "output_type": "display_data"
    },
    {
     "name": "stdout",
     "output_type": "stream",
     "text": [
      "-----------------\n",
      "1 Optimal 5952.6386912814605\n",
      "route_plan [[(0, 22), (22, 25), (25, 3), (3, 14), (14, 13), (13, 21), (21, 6), (6, 9), (9, 24), (24, 23), (23, 12), (12, 17), (17, 16), (16, 15), (15, 8), (8, 7), (7, 11), (11, 18), (18, 27), (27, 5), (5, 2), (2, 19), (19, 1), (1, 29), (29, 10), (10, 20), (20, 26), (26, 4), (4, 28), (28, 0)]]\n",
      "liste_route_plan [0, 22, 25, 3, 14, 13, 21, 6, 9, 24, 23, 12, 17, 16, 15, 8, 7, 11, 18, 27, 5, 2, 19, 1, 29, 10, 20, 26, 4, 28, 0]\n",
      "no. of times LP model is solved =  18\n",
      "subtour log (no. of subtours in each solution)) [9, 5, 5, 4, 7, 5, 3, 5, 3, 3, 2, 2, 2, 2, 2, 2, 2, 1]\n",
      "Time taken by DFJ formulation =  24.322632551193237\n",
      "distance 78.38342632604285\n",
      "borne_inf 5952.6386912814605\n",
      "best_weight 7594.256809495581\n"
     ]
    },
    {
     "data": {
      "application/vnd.jupyter.widget-view+json": {
       "model_id": "4521a96d9cae4f6eb0606d218a3f42d1",
       "version_major": 2,
       "version_minor": 0
      },
      "text/plain": [
       "IntProgress(value=0, layout=Layout(width='100%'), max=30)"
      ]
     },
     "metadata": {},
     "output_type": "display_data"
    },
    {
     "data": {
      "application/vnd.jupyter.widget-view+json": {
       "model_id": "93546eafb8ea4a3ab961d0b6f52a06a1",
       "version_major": 2,
       "version_minor": 0
      },
      "text/plain": [
       "IntProgress(value=0, layout=Layout(width='100%'), max=200)"
      ]
     },
     "metadata": {},
     "output_type": "display_data"
    },
    {
     "name": "stdout",
     "output_type": "stream",
     "text": [
      "-----------------\n",
      "1 Optimal 5807.7209112544015\n",
      "route_plan [[(0, 10), (10, 12), (12, 25), (25, 5), (5, 21), (21, 27), (27, 7), (7, 26), (26, 14), (14, 23), (23, 17), (17, 9), (9, 8), (8, 2), (2, 20), (20, 16), (16, 28), (28, 15), (15, 29), (29, 4), (4, 3), (3, 13), (13, 22), (22, 24), (24, 18), (18, 1), (1, 19), (19, 11), (11, 6), (6, 0)]]\n",
      "liste_route_plan [0, 10, 12, 25, 5, 21, 27, 7, 26, 14, 23, 17, 9, 8, 2, 20, 16, 28, 15, 29, 4, 3, 13, 22, 24, 18, 1, 19, 11, 6, 0]\n",
      "no. of times LP model is solved =  4\n",
      "subtour log (no. of subtours in each solution)) [9, 6, 2, 1]\n",
      "Time taken by DFJ formulation =  1.1947896480560303\n",
      "distance 68.60707765271164\n",
      "borne_inf 5807.7209112544015\n",
      "best_weight 8465.192090899176\n"
     ]
    },
    {
     "data": {
      "application/vnd.jupyter.widget-view+json": {
       "model_id": "d2a423c78cd7449b916cbac4702cbbe2",
       "version_major": 2,
       "version_minor": 0
      },
      "text/plain": [
       "IntProgress(value=0, layout=Layout(width='100%'), max=30)"
      ]
     },
     "metadata": {},
     "output_type": "display_data"
    },
    {
     "data": {
      "application/vnd.jupyter.widget-view+json": {
       "model_id": "0b8d0de7e4634cdaafd5795cb1dd5eef",
       "version_major": 2,
       "version_minor": 0
      },
      "text/plain": [
       "IntProgress(value=0, layout=Layout(width='100%'), max=200)"
      ]
     },
     "metadata": {},
     "output_type": "display_data"
    },
    {
     "name": "stdout",
     "output_type": "stream",
     "text": [
      "-----------------\n",
      "1 Optimal 5707.6679089190375\n",
      "route_plan [[(0, 19), (19, 3), (3, 12), (12, 16), (16, 23), (23, 1), (1, 27), (27, 29), (29, 26), (26, 21), (21, 7), (7, 11), (11, 22), (22, 13), (13, 25), (25, 15), (15, 4), (4, 5), (5, 10), (10, 17), (17, 2), (2, 6), (6, 18), (18, 9), (9, 8), (8, 28), (28, 14), (14, 20), (20, 24), (24, 0)]]\n",
      "liste_route_plan [0, 19, 3, 12, 16, 23, 1, 27, 29, 26, 21, 7, 11, 22, 13, 25, 15, 4, 5, 10, 17, 2, 6, 18, 9, 8, 28, 14, 20, 24, 0]\n",
      "no. of times LP model is solved =  12\n",
      "subtour log (no. of subtours in each solution)) [10, 10, 2, 2, 2, 2, 3, 2, 3, 2, 2, 1]\n",
      "Time taken by DFJ formulation =  5.52469277381897\n",
      "distance 75.04982511486004\n",
      "borne_inf 5707.6679089190375\n",
      "best_weight 7605.171497979823\n"
     ]
    },
    {
     "data": {
      "application/vnd.jupyter.widget-view+json": {
       "model_id": "1f6b3cd4b2fa408c8ef7686794eff5a1",
       "version_major": 2,
       "version_minor": 0
      },
      "text/plain": [
       "IntProgress(value=0, layout=Layout(width='100%'), max=30)"
      ]
     },
     "metadata": {},
     "output_type": "display_data"
    },
    {
     "data": {
      "application/vnd.jupyter.widget-view+json": {
       "model_id": "24f429663df34869abab1d65a1997c81",
       "version_major": 2,
       "version_minor": 0
      },
      "text/plain": [
       "IntProgress(value=0, layout=Layout(width='100%'), max=200)"
      ]
     },
     "metadata": {},
     "output_type": "display_data"
    },
    {
     "name": "stdout",
     "output_type": "stream",
     "text": [
      "-----------------\n",
      "1 Optimal 6420.8021861359075\n",
      "route_plan [[(0, 1), (1, 2), (2, 13), (13, 29), (29, 6), (6, 26), (26, 3), (3, 22), (22, 16), (16, 9), (9, 10), (10, 25), (25, 17), (17, 27), (27, 28), (28, 11), (11, 21), (21, 4), (4, 19), (19, 7), (7, 14), (14, 15), (15, 8), (8, 12), (12, 18), (18, 23), (23, 5), (5, 24), (24, 20), (20, 0)]]\n",
      "liste_route_plan [0, 1, 2, 13, 29, 6, 26, 3, 22, 16, 9, 10, 25, 17, 27, 28, 11, 21, 4, 19, 7, 14, 15, 8, 12, 18, 23, 5, 24, 20, 0]\n",
      "no. of times LP model is solved =  7\n",
      "subtour log (no. of subtours in each solution)) [7, 5, 2, 2, 3, 2, 1]\n",
      "Time taken by DFJ formulation =  2.4709720611572266\n",
      "distance 64.76754263488259\n",
      "borne_inf 6420.8021861359075\n",
      "best_weight 9913.610930604897\n"
     ]
    },
    {
     "data": {
      "application/vnd.jupyter.widget-view+json": {
       "model_id": "fb7be17dd3ca429caafeb94a2d8de519",
       "version_major": 2,
       "version_minor": 0
      },
      "text/plain": [
       "IntProgress(value=0, layout=Layout(width='100%'), max=30)"
      ]
     },
     "metadata": {},
     "output_type": "display_data"
    },
    {
     "data": {
      "application/vnd.jupyter.widget-view+json": {
       "model_id": "1e8d9a6af78442daa55232298b193c15",
       "version_major": 2,
       "version_minor": 0
      },
      "text/plain": [
       "IntProgress(value=0, layout=Layout(width='100%'), max=200)"
      ]
     },
     "metadata": {},
     "output_type": "display_data"
    },
    {
     "name": "stdout",
     "output_type": "stream",
     "text": [
      "-----------------\n",
      "1 Optimal 5477.622284523243\n",
      "route_plan [[(0, 16), (16, 19), (19, 8), (8, 25), (25, 23), (23, 7), (7, 28), (28, 15), (15, 6), (6, 21), (21, 24), (24, 3), (3, 1), (1, 11), (11, 4), (4, 17), (17, 22), (22, 29), (29, 5), (5, 12), (12, 2), (2, 9), (9, 18), (18, 27), (27, 10), (10, 20), (20, 26), (26, 13), (13, 14), (14, 0)]]\n",
      "liste_route_plan [0, 16, 19, 8, 25, 23, 7, 28, 15, 6, 21, 24, 3, 1, 11, 4, 17, 22, 29, 5, 12, 2, 9, 18, 27, 10, 20, 26, 13, 14, 0]\n",
      "no. of times LP model is solved =  5\n",
      "subtour log (no. of subtours in each solution)) [8, 4, 3, 8, 1]\n",
      "Time taken by DFJ formulation =  1.7153666019439697\n",
      "distance 64.97770748402775\n",
      "borne_inf 5477.622284523243\n",
      "best_weight 8430.00237561429\n"
     ]
    },
    {
     "data": {
      "application/vnd.jupyter.widget-view+json": {
       "model_id": "05b1fcf2ade746e0805c1e838c9f827e",
       "version_major": 2,
       "version_minor": 0
      },
      "text/plain": [
       "IntProgress(value=0, layout=Layout(width='100%'), max=30)"
      ]
     },
     "metadata": {},
     "output_type": "display_data"
    },
    {
     "data": {
      "application/vnd.jupyter.widget-view+json": {
       "model_id": "957193b69adc4932acb0c3b4b52d1088",
       "version_major": 2,
       "version_minor": 0
      },
      "text/plain": [
       "IntProgress(value=0, layout=Layout(width='100%'), max=200)"
      ]
     },
     "metadata": {},
     "output_type": "display_data"
    },
    {
     "name": "stdout",
     "output_type": "stream",
     "text": [
      "-----------------\n",
      "1 Optimal 5223.837032850313\n",
      "route_plan [[(0, 16), (16, 27), (27, 17), (17, 4), (4, 14), (14, 2), (2, 21), (21, 24), (24, 12), (12, 15), (15, 10), (10, 6), (6, 19), (19, 18), (18, 23), (23, 25), (25, 11), (11, 20), (20, 26), (26, 28), (28, 5), (5, 9), (9, 29), (29, 3), (3, 8), (8, 22), (22, 1), (1, 13), (13, 7), (7, 0)]]\n",
      "liste_route_plan [0, 16, 27, 17, 4, 14, 2, 21, 24, 12, 15, 10, 6, 19, 18, 23, 25, 11, 20, 26, 28, 5, 9, 29, 3, 8, 22, 1, 13, 7, 0]\n",
      "no. of times LP model is solved =  6\n",
      "subtour log (no. of subtours in each solution)) [8, 6, 2, 6, 7, 1]\n",
      "Time taken by DFJ formulation =  2.122954845428467\n",
      "distance 68.47038808554534\n",
      "borne_inf 5223.837032850313\n",
      "best_weight 7629.337555855197\n"
     ]
    },
    {
     "data": {
      "application/vnd.jupyter.widget-view+json": {
       "model_id": "15e9269ae8d145dba9d5d353d777e41f",
       "version_major": 2,
       "version_minor": 0
      },
      "text/plain": [
       "IntProgress(value=0, layout=Layout(width='100%'), max=30)"
      ]
     },
     "metadata": {},
     "output_type": "display_data"
    },
    {
     "data": {
      "application/vnd.jupyter.widget-view+json": {
       "model_id": "7a524ff0e1004b4fa08ef83972c12885",
       "version_major": 2,
       "version_minor": 0
      },
      "text/plain": [
       "IntProgress(value=0, layout=Layout(width='100%'), max=200)"
      ]
     },
     "metadata": {},
     "output_type": "display_data"
    },
    {
     "name": "stdout",
     "output_type": "stream",
     "text": [
      "-----------------\n",
      "1 Optimal 5816.4606275982505\n",
      "route_plan [[(0, 25), (25, 5), (5, 1), (1, 11), (11, 29), (29, 27), (27, 19), (19, 15), (15, 22), (22, 17), (17, 20), (20, 6), (6, 7), (7, 26), (26, 4), (4, 3), (3, 23), (23, 24), (24, 9), (9, 16), (16, 18), (18, 12), (12, 10), (10, 2), (2, 21), (21, 28), (28, 8), (8, 13), (13, 14), (14, 0)]]\n",
      "liste_route_plan [0, 25, 5, 1, 11, 29, 27, 19, 15, 22, 17, 20, 6, 7, 26, 4, 3, 23, 24, 9, 16, 18, 12, 10, 2, 21, 28, 8, 13, 14, 0]\n",
      "no. of times LP model is solved =  22\n",
      "subtour log (no. of subtours in each solution)) [6, 9, 3, 3, 4, 3, 2, 3, 3, 3, 4, 5, 2, 2, 2, 2, 4, 2, 3, 3, 3, 1]\n",
      "Time taken by DFJ formulation =  20.580129623413086\n",
      "distance 70.11422675919485\n",
      "borne_inf 5816.4606275982505\n",
      "best_weight 8295.692467057655\n"
     ]
    },
    {
     "data": {
      "application/vnd.jupyter.widget-view+json": {
       "model_id": "e121a973bdde401594c8417cb44b2a94",
       "version_major": 2,
       "version_minor": 0
      },
      "text/plain": [
       "IntProgress(value=0, layout=Layout(width='100%'), max=30)"
      ]
     },
     "metadata": {},
     "output_type": "display_data"
    },
    {
     "data": {
      "application/vnd.jupyter.widget-view+json": {
       "model_id": "e707dd40c71b4472b529e0f436db0b9b",
       "version_major": 2,
       "version_minor": 0
      },
      "text/plain": [
       "IntProgress(value=0, layout=Layout(width='100%'), max=200)"
      ]
     },
     "metadata": {},
     "output_type": "display_data"
    },
    {
     "name": "stdout",
     "output_type": "stream",
     "text": [
      "-----------------\n",
      "1 Optimal 5586.281957106138\n",
      "route_plan [[(0, 28), (28, 21), (21, 29), (29, 12), (12, 2), (2, 20), (20, 14), (14, 1), (1, 5), (5, 7), (7, 25), (25, 3), (3, 13), (13, 8), (8, 22), (22, 26), (26, 6), (6, 27), (27, 10), (10, 23), (23, 24), (24, 9), (9, 4), (4, 19), (19, 11), (11, 15), (15, 16), (16, 18), (18, 17), (17, 0)]]\n",
      "liste_route_plan [0, 28, 21, 29, 12, 2, 20, 14, 1, 5, 7, 25, 3, 13, 8, 22, 26, 6, 27, 10, 23, 24, 9, 4, 19, 11, 15, 16, 18, 17, 0]\n",
      "no. of times LP model is solved =  11\n",
      "subtour log (no. of subtours in each solution)) [10, 6, 4, 5, 2, 2, 4, 2, 2, 3, 1]\n",
      "Time taken by DFJ formulation =  5.488624811172485\n",
      "distance 68.48719085847962\n",
      "borne_inf 5586.281957106138\n",
      "best_weight 8156.6813984961145\n"
     ]
    },
    {
     "data": {
      "application/vnd.jupyter.widget-view+json": {
       "model_id": "d150914ccc7748d79652ed9b616bdfb2",
       "version_major": 2,
       "version_minor": 0
      },
      "text/plain": [
       "IntProgress(value=0, layout=Layout(width='100%'), max=30)"
      ]
     },
     "metadata": {},
     "output_type": "display_data"
    },
    {
     "data": {
      "application/vnd.jupyter.widget-view+json": {
       "model_id": "deca6cb1bc8143ccbd821f811b61fe78",
       "version_major": 2,
       "version_minor": 0
      },
      "text/plain": [
       "IntProgress(value=0, layout=Layout(width='100%'), max=200)"
      ]
     },
     "metadata": {},
     "output_type": "display_data"
    },
    {
     "name": "stdout",
     "output_type": "stream",
     "text": [
      "-----------------\n",
      "1 Optimal 4956.73551800719\n",
      "route_plan [[(0, 4), (4, 21), (21, 2), (2, 18), (18, 7), (7, 28), (28, 11), (11, 5), (5, 23), (23, 15), (15, 16), (16, 12), (12, 19), (19, 6), (6, 8), (8, 27), (27, 3), (3, 10), (10, 20), (20, 1), (1, 17), (17, 29), (29, 13), (13, 25), (25, 22), (22, 26), (26, 9), (9, 14), (14, 24), (24, 0)]]\n",
      "liste_route_plan [0, 4, 21, 2, 18, 7, 28, 11, 5, 23, 15, 16, 12, 19, 6, 8, 27, 3, 10, 20, 1, 17, 29, 13, 25, 22, 26, 9, 14, 24, 0]\n",
      "no. of times LP model is solved =  7\n",
      "subtour log (no. of subtours in each solution)) [10, 2, 2, 2, 2, 2, 1]\n",
      "Time taken by DFJ formulation =  2.3281424045562744\n",
      "distance 65.27528948940183\n",
      "borne_inf 4956.73551800719\n",
      "best_weight 7593.586419577613\n"
     ]
    },
    {
     "data": {
      "application/vnd.jupyter.widget-view+json": {
       "model_id": "f424122857b249878e9fe604e0c0f5e5",
       "version_major": 2,
       "version_minor": 0
      },
      "text/plain": [
       "IntProgress(value=0, layout=Layout(width='100%'), max=30)"
      ]
     },
     "metadata": {},
     "output_type": "display_data"
    },
    {
     "data": {
      "application/vnd.jupyter.widget-view+json": {
       "model_id": "8d96211dc67d422a8d5060aad83f2e05",
       "version_major": 2,
       "version_minor": 0
      },
      "text/plain": [
       "IntProgress(value=0, layout=Layout(width='100%'), max=200)"
      ]
     },
     "metadata": {},
     "output_type": "display_data"
    },
    {
     "name": "stdout",
     "output_type": "stream",
     "text": [
      "-----------------\n",
      "1 Optimal 5497.164502906008\n",
      "route_plan [[(0, 26), (26, 9), (9, 23), (23, 11), (11, 1), (1, 27), (27, 5), (5, 22), (22, 7), (7, 6), (6, 29), (29, 2), (2, 20), (20, 21), (21, 3), (3, 18), (18, 15), (15, 12), (12, 8), (8, 19), (19, 28), (28, 14), (14, 13), (13, 17), (17, 4), (4, 16), (16, 25), (25, 10), (10, 24), (24, 0)]]\n",
      "liste_route_plan [0, 26, 9, 23, 11, 1, 27, 5, 22, 7, 6, 29, 2, 20, 21, 3, 18, 15, 12, 8, 19, 28, 14, 13, 17, 4, 16, 25, 10, 24, 0]\n",
      "no. of times LP model is solved =  46\n",
      "subtour log (no. of subtours in each solution)) [11, 5, 5, 6, 5, 4, 6, 5, 3, 3, 3, 3, 4, 3, 4, 3, 4, 3, 3, 3, 3, 3, 3, 3, 4, 3, 2, 5, 3, 3, 3, 3, 2, 2, 2, 2, 2, 2, 2, 2, 2, 2, 2, 2, 2, 1]\n",
      "Time taken by DFJ formulation =  330.7904372215271\n",
      "distance 74.61583965256756\n",
      "borne_inf 5497.164502906008\n",
      "best_weight 7367.288940930451\n"
     ]
    },
    {
     "data": {
      "application/vnd.jupyter.widget-view+json": {
       "model_id": "4115d3e6df684350b475ac09cdd51f8f",
       "version_major": 2,
       "version_minor": 0
      },
      "text/plain": [
       "IntProgress(value=0, layout=Layout(width='100%'), max=30)"
      ]
     },
     "metadata": {},
     "output_type": "display_data"
    },
    {
     "data": {
      "application/vnd.jupyter.widget-view+json": {
       "model_id": "5eae9b35dabf4d5598897a10f1f2289c",
       "version_major": 2,
       "version_minor": 0
      },
      "text/plain": [
       "IntProgress(value=0, layout=Layout(width='100%'), max=200)"
      ]
     },
     "metadata": {},
     "output_type": "display_data"
    },
    {
     "name": "stdout",
     "output_type": "stream",
     "text": [
      "-----------------\n",
      "1 Optimal 5416.348856901001\n",
      "route_plan [[(0, 22), (22, 13), (13, 16), (16, 9), (9, 7), (7, 17), (17, 20), (20, 28), (28, 1), (1, 27), (27, 5), (5, 24), (24, 19), (19, 12), (12, 18), (18, 23), (23, 6), (6, 10), (10, 21), (21, 3), (3, 4), (4, 11), (11, 25), (25, 15), (15, 14), (14, 8), (8, 29), (29, 2), (2, 26), (26, 0)]]\n",
      "liste_route_plan [0, 22, 13, 16, 9, 7, 17, 20, 28, 1, 27, 5, 24, 19, 12, 18, 23, 6, 10, 21, 3, 4, 11, 25, 15, 14, 8, 29, 2, 26, 0]\n",
      "no. of times LP model is solved =  22\n",
      "subtour log (no. of subtours in each solution)) [9, 6, 6, 5, 5, 4, 4, 6, 3, 3, 2, 2, 2, 2, 2, 2, 2, 2, 3, 3, 2, 1]\n",
      "Time taken by DFJ formulation =  26.596672296524048\n",
      "distance 71.3700910571755\n",
      "borne_inf 5416.348856901001\n",
      "best_weight 7589.101788537574\n"
     ]
    },
    {
     "data": {
      "application/vnd.jupyter.widget-view+json": {
       "model_id": "8476cc12085f423da696eb683f611e46",
       "version_major": 2,
       "version_minor": 0
      },
      "text/plain": [
       "IntProgress(value=0, layout=Layout(width='100%'), max=30)"
      ]
     },
     "metadata": {},
     "output_type": "display_data"
    },
    {
     "data": {
      "application/vnd.jupyter.widget-view+json": {
       "model_id": "e1fdb218a924487d868b4810935854e5",
       "version_major": 2,
       "version_minor": 0
      },
      "text/plain": [
       "IntProgress(value=0, layout=Layout(width='100%'), max=200)"
      ]
     },
     "metadata": {},
     "output_type": "display_data"
    },
    {
     "name": "stdout",
     "output_type": "stream",
     "text": [
      "-----------------\n",
      "1 Optimal 5740.873402057869\n",
      "route_plan [[(0, 20), (20, 9), (9, 11), (11, 7), (7, 12), (12, 29), (29, 25), (25, 28), (28, 21), (21, 10), (10, 5), (5, 22), (22, 18), (18, 19), (19, 15), (15, 2), (2, 17), (17, 26), (26, 24), (24, 6), (6, 14), (14, 13), (13, 23), (23, 8), (8, 27), (27, 3), (3, 1), (1, 16), (16, 4), (4, 0)]]\n",
      "liste_route_plan [0, 20, 9, 11, 7, 12, 29, 25, 28, 21, 10, 5, 22, 18, 19, 15, 2, 17, 26, 24, 6, 14, 13, 23, 8, 27, 3, 1, 16, 4, 0]\n",
      "no. of times LP model is solved =  11\n",
      "subtour log (no. of subtours in each solution)) [8, 6, 6, 5, 3, 2, 2, 2, 2, 2, 1]\n",
      "Time taken by DFJ formulation =  5.98773717880249\n",
      "distance 72.79229748458867\n",
      "borne_inf 5740.873402057869\n",
      "best_weight 7886.649550075414\n"
     ]
    },
    {
     "data": {
      "application/vnd.jupyter.widget-view+json": {
       "model_id": "d609d69e152b4919bed279597a66233a",
       "version_major": 2,
       "version_minor": 0
      },
      "text/plain": [
       "IntProgress(value=0, layout=Layout(width='100%'), max=30)"
      ]
     },
     "metadata": {},
     "output_type": "display_data"
    },
    {
     "data": {
      "application/vnd.jupyter.widget-view+json": {
       "model_id": "6cd9d68b6bf246d0b194ad2dbf5de119",
       "version_major": 2,
       "version_minor": 0
      },
      "text/plain": [
       "IntProgress(value=0, layout=Layout(width='100%'), max=200)"
      ]
     },
     "metadata": {},
     "output_type": "display_data"
    },
    {
     "name": "stdout",
     "output_type": "stream",
     "text": [
      "-----------------\n",
      "1 Optimal 6166.407167614538\n",
      "route_plan [[(0, 24), (24, 15), (15, 1), (1, 21), (21, 14), (14, 19), (19, 16), (16, 8), (8, 2), (2, 13), (13, 27), (27, 20), (20, 6), (6, 26), (26, 28), (28, 11), (11, 18), (18, 10), (10, 9), (9, 5), (5, 4), (4, 17), (17, 7), (7, 25), (25, 23), (23, 3), (3, 22), (22, 29), (29, 12), (12, 0)]]\n",
      "liste_route_plan [0, 24, 15, 1, 21, 14, 19, 16, 8, 2, 13, 27, 20, 6, 26, 28, 11, 18, 10, 9, 5, 4, 17, 7, 25, 23, 3, 22, 29, 12, 0]\n",
      "no. of times LP model is solved =  138\n",
      "subtour log (no. of subtours in each solution)) [10, 11, 6, 6, 6, 5, 5, 5, 5, 4, 4, 2, 2, 4, 4, 3, 4, 3, 4, 3, 3, 3, 3, 2, 2, 2, 2, 3, 3, 3, 2, 3, 3, 2, 2, 3, 3, 2, 2, 2, 2, 2, 3, 3, 2, 3, 3, 2, 2, 4, 2, 2, 4, 2, 2, 4, 2, 2, 2, 2, 2, 2, 2, 2, 2, 2, 2, 2, 2, 2, 3, 3, 3, 3, 2, 2, 3, 2, 3, 2, 2, 2, 2, 4, 3, 2, 2, 2, 2, 2, 3, 2, 2, 2, 2, 2, 2, 2, 2, 3, 3, 3, 2, 2, 2, 2, 2, 2, 2, 3, 3, 2, 2, 2, 2, 2, 2, 2, 2, 2, 2, 2, 2, 3, 3, 3, 3, 2, 2, 2, 2, 2, 2, 2, 4, 2, 2, 1]\n",
      "Time taken by DFJ formulation =  11435.030170917511\n",
      "distance 78.33582321554518\n",
      "borne_inf 6166.407167614538\n",
      "best_weight 7871.7589405390445\n"
     ]
    },
    {
     "data": {
      "application/vnd.jupyter.widget-view+json": {
       "model_id": "5a2d32b2cef84fddb23ecf234637782d",
       "version_major": 2,
       "version_minor": 0
      },
      "text/plain": [
       "IntProgress(value=0, layout=Layout(width='100%'), max=30)"
      ]
     },
     "metadata": {},
     "output_type": "display_data"
    },
    {
     "data": {
      "application/vnd.jupyter.widget-view+json": {
       "model_id": "a63d309aead74b8f938da59d07e26d97",
       "version_major": 2,
       "version_minor": 0
      },
      "text/plain": [
       "IntProgress(value=0, layout=Layout(width='100%'), max=200)"
      ]
     },
     "metadata": {},
     "output_type": "display_data"
    },
    {
     "name": "stdout",
     "output_type": "stream",
     "text": [
      "-----------------\n",
      "1 Optimal 6587.293433896771\n",
      "route_plan [[(0, 2), (2, 26), (26, 6), (6, 20), (20, 13), (13, 5), (5, 10), (10, 21), (21, 25), (25, 27), (27, 17), (17, 14), (14, 11), (11, 29), (29, 8), (8, 9), (9, 28), (28, 22), (22, 16), (16, 19), (19, 18), (18, 1), (1, 23), (23, 3), (3, 7), (7, 12), (12, 15), (15, 4), (4, 24), (24, 0)]]\n",
      "liste_route_plan [0, 2, 26, 6, 20, 13, 5, 10, 21, 25, 27, 17, 14, 11, 29, 8, 9, 28, 22, 16, 19, 18, 1, 23, 3, 7, 12, 15, 4, 24, 0]\n",
      "no. of times LP model is solved =  11\n",
      "subtour log (no. of subtours in each solution)) [6, 6, 2, 2, 3, 3, 3, 2, 4, 5, 1]\n",
      "Time taken by DFJ formulation =  3.997739553451538\n",
      "distance 71.51337388370376\n",
      "borne_inf 6587.293433896771\n",
      "best_weight 9211.27486532678\n"
     ]
    },
    {
     "data": {
      "application/vnd.jupyter.widget-view+json": {
       "model_id": "e006a18fe3f140c5b2524c575b9ce8c2",
       "version_major": 2,
       "version_minor": 0
      },
      "text/plain": [
       "IntProgress(value=0, layout=Layout(width='100%'), max=30)"
      ]
     },
     "metadata": {},
     "output_type": "display_data"
    },
    {
     "data": {
      "application/vnd.jupyter.widget-view+json": {
       "model_id": "1c9eadab3da44c879cbf835287d3740b",
       "version_major": 2,
       "version_minor": 0
      },
      "text/plain": [
       "IntProgress(value=0, layout=Layout(width='100%'), max=200)"
      ]
     },
     "metadata": {},
     "output_type": "display_data"
    },
    {
     "name": "stdout",
     "output_type": "stream",
     "text": [
      "-----------------\n",
      "1 Optimal 6222.205215874269\n",
      "route_plan [[(0, 9), (9, 1), (1, 6), (6, 22), (22, 26), (26, 2), (2, 15), (15, 10), (10, 29), (29, 28), (28, 20), (20, 18), (18, 11), (11, 27), (27, 23), (23, 17), (17, 25), (25, 4), (4, 19), (19, 21), (21, 14), (14, 12), (12, 7), (7, 24), (24, 3), (3, 8), (8, 5), (5, 16), (16, 13), (13, 0)]]\n",
      "liste_route_plan [0, 9, 1, 6, 22, 26, 2, 15, 10, 29, 28, 20, 18, 11, 27, 23, 17, 25, 4, 19, 21, 14, 12, 7, 24, 3, 8, 5, 16, 13, 0]\n",
      "no. of times LP model is solved =  14\n",
      "subtour log (no. of subtours in each solution)) [8, 5, 6, 5, 6, 3, 3, 3, 2, 6, 2, 2, 2, 1]\n",
      "Time taken by DFJ formulation =  13.582871675491333\n",
      "distance 73.90407131638213\n",
      "borne_inf 6222.205215874269\n",
      "best_weight 8419.299647562188\n"
     ]
    },
    {
     "data": {
      "application/vnd.jupyter.widget-view+json": {
       "model_id": "1b21288b34584954b78e007fd6673ae4",
       "version_major": 2,
       "version_minor": 0
      },
      "text/plain": [
       "IntProgress(value=0, layout=Layout(width='100%'), max=30)"
      ]
     },
     "metadata": {},
     "output_type": "display_data"
    },
    {
     "data": {
      "application/vnd.jupyter.widget-view+json": {
       "model_id": "315884978a1a4b1398906bda36c320b1",
       "version_major": 2,
       "version_minor": 0
      },
      "text/plain": [
       "IntProgress(value=0, layout=Layout(width='100%'), max=200)"
      ]
     },
     "metadata": {},
     "output_type": "display_data"
    },
    {
     "name": "stdout",
     "output_type": "stream",
     "text": [
      "-----------------\n",
      "1 Optimal 6217.997252647863\n",
      "route_plan [[(0, 16), (16, 15), (15, 11), (11, 2), (2, 12), (12, 26), (26, 8), (8, 18), (18, 14), (14, 3), (3, 21), (21, 28), (28, 1), (1, 9), (9, 10), (10, 23), (23, 5), (5, 4), (4, 13), (13, 17), (17, 24), (24, 29), (29, 20), (20, 7), (7, 6), (6, 19), (19, 22), (22, 27), (27, 25), (25, 0)]]\n",
      "liste_route_plan [0, 16, 15, 11, 2, 12, 26, 8, 18, 14, 3, 21, 28, 1, 9, 10, 23, 5, 4, 13, 17, 24, 29, 20, 7, 6, 19, 22, 27, 25, 0]\n",
      "no. of times LP model is solved =  6\n",
      "subtour log (no. of subtours in each solution)) [4, 3, 4, 4, 3, 1]\n",
      "Time taken by DFJ formulation =  1.685457706451416\n",
      "distance 77.00745830212672\n",
      "borne_inf 6217.997252647863\n",
      "best_weight 8074.538998875308\n"
     ]
    },
    {
     "data": {
      "application/vnd.jupyter.widget-view+json": {
       "model_id": "f8f81478c9c64604a2e9eaffdc108dd3",
       "version_major": 2,
       "version_minor": 0
      },
      "text/plain": [
       "IntProgress(value=0, layout=Layout(width='100%'), max=30)"
      ]
     },
     "metadata": {},
     "output_type": "display_data"
    },
    {
     "data": {
      "application/vnd.jupyter.widget-view+json": {
       "model_id": "8abd05f0d3aa417cbd79b64aa33139e7",
       "version_major": 2,
       "version_minor": 0
      },
      "text/plain": [
       "IntProgress(value=0, layout=Layout(width='100%'), max=200)"
      ]
     },
     "metadata": {},
     "output_type": "display_data"
    },
    {
     "name": "stdout",
     "output_type": "stream",
     "text": [
      "-----------------\n",
      "1 Optimal 6107.766030430022\n",
      "route_plan [[(0, 19), (19, 28), (28, 1), (1, 25), (25, 10), (10, 15), (15, 14), (14, 8), (8, 2), (2, 4), (4, 12), (12, 26), (26, 13), (13, 27), (27, 9), (9, 7), (7, 17), (17, 3), (3, 16), (16, 21), (21, 23), (23, 20), (20, 11), (11, 29), (29, 22), (22, 6), (6, 5), (5, 18), (18, 24), (24, 0)]]\n",
      "liste_route_plan [0, 19, 28, 1, 25, 10, 15, 14, 8, 2, 4, 12, 26, 13, 27, 9, 7, 17, 3, 16, 21, 23, 20, 11, 29, 22, 6, 5, 18, 24, 0]\n",
      "no. of times LP model is solved =  14\n",
      "subtour log (no. of subtours in each solution)) [4, 4, 4, 3, 3, 3, 2, 2, 2, 2, 2, 3, 3, 1]\n",
      "Time taken by DFJ formulation =  6.122244834899902\n",
      "distance 72.587777318712\n",
      "borne_inf 6107.766030430022\n",
      "best_weight 8414.31747332968\n"
     ]
    },
    {
     "data": {
      "application/vnd.jupyter.widget-view+json": {
       "model_id": "767237284b0d4c32909eaebeb44fee0d",
       "version_major": 2,
       "version_minor": 0
      },
      "text/plain": [
       "IntProgress(value=0, layout=Layout(width='100%'), max=30)"
      ]
     },
     "metadata": {},
     "output_type": "display_data"
    },
    {
     "data": {
      "application/vnd.jupyter.widget-view+json": {
       "model_id": "1150d402094e41a9b578559fcc97da65",
       "version_major": 2,
       "version_minor": 0
      },
      "text/plain": [
       "IntProgress(value=0, layout=Layout(width='100%'), max=200)"
      ]
     },
     "metadata": {},
     "output_type": "display_data"
    },
    {
     "name": "stdout",
     "output_type": "stream",
     "text": [
      "-----------------\n",
      "1 Optimal 5280.09963768705\n",
      "route_plan [[(0, 22), (22, 14), (14, 16), (16, 13), (13, 9), (9, 19), (19, 8), (8, 26), (26, 18), (18, 25), (25, 7), (7, 10), (10, 24), (24, 21), (21, 3), (3, 2), (2, 20), (20, 4), (4, 5), (5, 27), (27, 12), (12, 23), (23, 11), (11, 1), (1, 28), (28, 17), (17, 29), (29, 6), (6, 15), (15, 0)]]\n",
      "liste_route_plan [0, 22, 14, 16, 13, 9, 19, 8, 26, 18, 25, 7, 10, 24, 21, 3, 2, 20, 4, 5, 27, 12, 23, 11, 1, 28, 17, 29, 6, 15, 0]\n",
      "no. of times LP model is solved =  8\n",
      "subtour log (no. of subtours in each solution)) [11, 10, 6, 4, 4, 2, 2, 1]\n",
      "Time taken by DFJ formulation =  2.0689196586608887\n",
      "distance 71.35323748814122\n",
      "borne_inf 5280.09963768705\n",
      "best_weight 7399.944029960229\n"
     ]
    },
    {
     "data": {
      "application/vnd.jupyter.widget-view+json": {
       "model_id": "65d8c058cc4e43a4b177baa649b7890d",
       "version_major": 2,
       "version_minor": 0
      },
      "text/plain": [
       "IntProgress(value=0, layout=Layout(width='100%'), max=30)"
      ]
     },
     "metadata": {},
     "output_type": "display_data"
    },
    {
     "data": {
      "application/vnd.jupyter.widget-view+json": {
       "model_id": "2471fe323f624b75bb51404475a3d172",
       "version_major": 2,
       "version_minor": 0
      },
      "text/plain": [
       "IntProgress(value=0, layout=Layout(width='100%'), max=200)"
      ]
     },
     "metadata": {},
     "output_type": "display_data"
    },
    {
     "name": "stdout",
     "output_type": "stream",
     "text": [
      "-----------------\n",
      "1 Optimal 5834.911625012222\n",
      "route_plan [[(0, 25), (25, 17), (17, 3), (3, 7), (7, 23), (23, 2), (2, 20), (20, 13), (13, 29), (29, 12), (12, 9), (9, 28), (28, 10), (10, 19), (19, 16), (16, 21), (21, 22), (22, 14), (14, 26), (26, 18), (18, 6), (6, 5), (5, 11), (11, 8), (8, 1), (1, 4), (4, 27), (27, 15), (15, 24), (24, 0)]]\n",
      "liste_route_plan [0, 25, 17, 3, 7, 23, 2, 20, 13, 29, 12, 9, 28, 10, 19, 16, 21, 22, 14, 26, 18, 6, 5, 11, 8, 1, 4, 27, 15, 24, 0]\n",
      "no. of times LP model is solved =  3\n",
      "subtour log (no. of subtours in each solution)) [7, 3, 1]\n",
      "Time taken by DFJ formulation =  0.7713863849639893\n",
      "distance 71.4450357313851\n",
      "borne_inf 5834.911625012222\n",
      "best_weight 8166.993780995484\n"
     ]
    },
    {
     "data": {
      "application/vnd.jupyter.widget-view+json": {
       "model_id": "b0b63fe21c074db8a8dca1aaefef7c5b",
       "version_major": 2,
       "version_minor": 0
      },
      "text/plain": [
       "IntProgress(value=0, layout=Layout(width='100%'), max=30)"
      ]
     },
     "metadata": {},
     "output_type": "display_data"
    },
    {
     "data": {
      "application/vnd.jupyter.widget-view+json": {
       "model_id": "f1d444890d0a4ef89cfd613001d8c4d1",
       "version_major": 2,
       "version_minor": 0
      },
      "text/plain": [
       "IntProgress(value=0, layout=Layout(width='100%'), max=200)"
      ]
     },
     "metadata": {},
     "output_type": "display_data"
    },
    {
     "name": "stdout",
     "output_type": "stream",
     "text": [
      "-----------------\n",
      "1 Optimal 5548.338927693361\n",
      "route_plan [[(0, 28), (28, 7), (7, 29), (29, 8), (8, 10), (10, 17), (17, 24), (24, 15), (15, 11), (11, 27), (27, 26), (26, 22), (22, 13), (13, 2), (2, 3), (3, 25), (25, 20), (20, 21), (21, 6), (6, 5), (5, 1), (1, 16), (16, 19), (19, 14), (14, 18), (18, 4), (4, 9), (9, 12), (12, 23), (23, 0)]]\n",
      "liste_route_plan [0, 28, 7, 29, 8, 10, 17, 24, 15, 11, 27, 26, 22, 13, 2, 3, 25, 20, 21, 6, 5, 1, 16, 19, 14, 18, 4, 9, 12, 23, 0]\n",
      "no. of times LP model is solved =  19\n",
      "subtour log (no. of subtours in each solution)) [5, 5, 3, 4, 3, 3, 4, 3, 3, 3, 4, 3, 3, 5, 3, 2, 5, 3, 1]\n",
      "Time taken by DFJ formulation =  14.680747747421265\n",
      "distance 75.00692526468413\n",
      "borne_inf 5548.338927693361\n",
      "best_weight 7397.102211714993\n"
     ]
    },
    {
     "data": {
      "application/vnd.jupyter.widget-view+json": {
       "model_id": "b827976f6e6345de9e911127a3d27077",
       "version_major": 2,
       "version_minor": 0
      },
      "text/plain": [
       "IntProgress(value=0, layout=Layout(width='100%'), max=30)"
      ]
     },
     "metadata": {},
     "output_type": "display_data"
    },
    {
     "data": {
      "application/vnd.jupyter.widget-view+json": {
       "model_id": "e12b2913195f49a0963e0f545d17c08d",
       "version_major": 2,
       "version_minor": 0
      },
      "text/plain": [
       "IntProgress(value=0, layout=Layout(width='100%'), max=200)"
      ]
     },
     "metadata": {},
     "output_type": "display_data"
    },
    {
     "name": "stdout",
     "output_type": "stream",
     "text": [
      "-----------------\n",
      "1 Optimal 4758.2002088498975\n",
      "route_plan [[(0, 1), (1, 9), (9, 4), (4, 26), (26, 10), (10, 13), (13, 7), (7, 12), (12, 22), (22, 14), (14, 28), (28, 11), (11, 29), (29, 16), (16, 15), (15, 27), (27, 18), (18, 24), (24, 20), (20, 23), (23, 19), (19, 5), (5, 3), (3, 21), (21, 2), (2, 6), (6, 8), (8, 25), (25, 17), (17, 0)]]\n",
      "liste_route_plan [0, 1, 9, 4, 26, 10, 13, 7, 12, 22, 14, 28, 11, 29, 16, 15, 27, 18, 24, 20, 23, 19, 5, 3, 21, 2, 6, 8, 25, 17, 0]\n",
      "no. of times LP model is solved =  10\n",
      "subtour log (no. of subtours in each solution)) [9, 9, 7, 2, 2, 2, 3, 2, 2, 1]\n",
      "Time taken by DFJ formulation =  4.32523775100708\n",
      "distance 74.20349233689025\n",
      "borne_inf 4758.2002088498975\n",
      "best_weight 6412.366937188426\n"
     ]
    },
    {
     "data": {
      "application/vnd.jupyter.widget-view+json": {
       "model_id": "019a6a74071f464993bc6b907baac020",
       "version_major": 2,
       "version_minor": 0
      },
      "text/plain": [
       "IntProgress(value=0, layout=Layout(width='100%'), max=30)"
      ]
     },
     "metadata": {},
     "output_type": "display_data"
    },
    {
     "data": {
      "application/vnd.jupyter.widget-view+json": {
       "model_id": "0f74deff06f8444a89544464f5b1a6b1",
       "version_major": 2,
       "version_minor": 0
      },
      "text/plain": [
       "IntProgress(value=0, layout=Layout(width='100%'), max=200)"
      ]
     },
     "metadata": {},
     "output_type": "display_data"
    },
    {
     "name": "stdout",
     "output_type": "stream",
     "text": [
      "-----------------\n",
      "1 Optimal 5501.727152383027\n",
      "route_plan [[(0, 29), (29, 19), (19, 2), (2, 20), (20, 18), (18, 7), (7, 26), (26, 24), (24, 6), (6, 5), (5, 3), (3, 11), (11, 27), (27, 10), (10, 8), (8, 22), (22, 4), (4, 17), (17, 21), (21, 16), (16, 28), (28, 14), (14, 15), (15, 12), (12, 23), (23, 9), (9, 13), (13, 1), (1, 25), (25, 0)]]\n",
      "liste_route_plan [0, 29, 19, 2, 20, 18, 7, 26, 24, 6, 5, 3, 11, 27, 10, 8, 22, 4, 17, 21, 16, 28, 14, 15, 12, 23, 9, 13, 1, 25, 0]\n",
      "no. of times LP model is solved =  9\n",
      "subtour log (no. of subtours in each solution)) [8, 5, 4, 4, 4, 4, 4, 3, 1]\n",
      "Time taken by DFJ formulation =  3.718384027481079\n",
      "distance 69.5749009919685\n",
      "borne_inf 5501.727152383027\n",
      "best_weight 7907.632025258833\n"
     ]
    },
    {
     "data": {
      "application/vnd.jupyter.widget-view+json": {
       "model_id": "f9fa2e3752664b0aa55841cd1245ff67",
       "version_major": 2,
       "version_minor": 0
      },
      "text/plain": [
       "IntProgress(value=0, layout=Layout(width='100%'), max=30)"
      ]
     },
     "metadata": {},
     "output_type": "display_data"
    },
    {
     "data": {
      "application/vnd.jupyter.widget-view+json": {
       "model_id": "1e744d31bd0d4ef9adce05d767098758",
       "version_major": 2,
       "version_minor": 0
      },
      "text/plain": [
       "IntProgress(value=0, layout=Layout(width='100%'), max=200)"
      ]
     },
     "metadata": {},
     "output_type": "display_data"
    },
    {
     "name": "stdout",
     "output_type": "stream",
     "text": [
      "-----------------\n",
      "1 Optimal 5542.88262312563\n",
      "route_plan [[(0, 15), (15, 14), (14, 21), (21, 17), (17, 9), (9, 8), (8, 27), (27, 25), (25, 26), (26, 23), (23, 11), (11, 12), (12, 28), (28, 4), (4, 10), (10, 18), (18, 13), (13, 5), (5, 29), (29, 16), (16, 22), (22, 7), (7, 19), (19, 6), (6, 20), (20, 1), (1, 2), (2, 24), (24, 3), (3, 0)]]\n",
      "liste_route_plan [0, 15, 14, 21, 17, 9, 8, 27, 25, 26, 23, 11, 12, 28, 4, 10, 18, 13, 5, 29, 16, 22, 7, 19, 6, 20, 1, 2, 24, 3, 0]\n",
      "no. of times LP model is solved =  21\n",
      "subtour log (no. of subtours in each solution)) [13, 5, 5, 5, 5, 5, 5, 3, 2, 2, 2, 2, 4, 3, 2, 2, 2, 2, 2, 5, 1]\n",
      "Time taken by DFJ formulation =  21.144877195358276\n",
      "distance 74.3174594388492\n",
      "borne_inf 5542.88262312563\n",
      "best_weight 7458.385505880342\n"
     ]
    },
    {
     "data": {
      "application/vnd.jupyter.widget-view+json": {
       "model_id": "27368825ead9493f9988d295ed3ed779",
       "version_major": 2,
       "version_minor": 0
      },
      "text/plain": [
       "IntProgress(value=0, layout=Layout(width='100%'), max=30)"
      ]
     },
     "metadata": {},
     "output_type": "display_data"
    },
    {
     "data": {
      "application/vnd.jupyter.widget-view+json": {
       "model_id": "89e86e4314634ea680ddeaff026c715d",
       "version_major": 2,
       "version_minor": 0
      },
      "text/plain": [
       "IntProgress(value=0, layout=Layout(width='100%'), max=200)"
      ]
     },
     "metadata": {},
     "output_type": "display_data"
    },
    {
     "name": "stdout",
     "output_type": "stream",
     "text": [
      "-----------------\n",
      "1 Optimal 5466.501439270001\n",
      "route_plan [[(0, 12), (12, 23), (23, 29), (29, 5), (5, 21), (21, 1), (1, 27), (27, 22), (22, 6), (6, 28), (28, 15), (15, 16), (16, 17), (17, 9), (9, 13), (13, 24), (24, 18), (18, 3), (3, 25), (25, 2), (2, 11), (11, 7), (7, 26), (26, 20), (20, 4), (4, 19), (19, 14), (14, 10), (10, 8), (8, 0)]]\n",
      "liste_route_plan [0, 12, 23, 29, 5, 21, 1, 27, 22, 6, 28, 15, 16, 17, 9, 13, 24, 18, 3, 25, 2, 11, 7, 26, 20, 4, 19, 14, 10, 8, 0]\n",
      "no. of times LP model is solved =  13\n",
      "subtour log (no. of subtours in each solution)) [10, 9, 3, 4, 3, 3, 2, 3, 2, 3, 3, 4, 1]\n",
      "Time taken by DFJ formulation =  5.990166425704956\n",
      "distance 70.81267675556334\n",
      "borne_inf 5466.501439270001\n",
      "best_weight 7719.665022888052\n"
     ]
    },
    {
     "data": {
      "application/vnd.jupyter.widget-view+json": {
       "model_id": "f42c7ddcfa5b4230bc38e9ca3362acf7",
       "version_major": 2,
       "version_minor": 0
      },
      "text/plain": [
       "IntProgress(value=0, layout=Layout(width='100%'), max=30)"
      ]
     },
     "metadata": {},
     "output_type": "display_data"
    },
    {
     "data": {
      "application/vnd.jupyter.widget-view+json": {
       "model_id": "b781debfbabc480a92ef9280d1c1da26",
       "version_major": 2,
       "version_minor": 0
      },
      "text/plain": [
       "IntProgress(value=0, layout=Layout(width='100%'), max=200)"
      ]
     },
     "metadata": {},
     "output_type": "display_data"
    },
    {
     "name": "stdout",
     "output_type": "stream",
     "text": [
      "-----------------\n",
      "1 Optimal 5180.198072595406\n",
      "route_plan [[(0, 17), (17, 6), (6, 15), (15, 16), (16, 20), (20, 28), (28, 29), (29, 2), (2, 25), (25, 13), (13, 21), (21, 12), (12, 10), (10, 24), (24, 9), (9, 19), (19, 18), (18, 27), (27, 8), (8, 11), (11, 4), (4, 1), (1, 14), (14, 22), (22, 5), (5, 26), (26, 23), (23, 3), (3, 7), (7, 0)]]\n",
      "liste_route_plan [0, 17, 6, 15, 16, 20, 28, 29, 2, 25, 13, 21, 12, 10, 24, 9, 19, 18, 27, 8, 11, 4, 1, 14, 22, 5, 26, 23, 3, 7, 0]\n",
      "no. of times LP model is solved =  5\n",
      "subtour log (no. of subtours in each solution)) [9, 12, 3, 2, 1]\n",
      "Time taken by DFJ formulation =  1.9203355312347412\n",
      "distance 68.89476134819614\n",
      "borne_inf 5180.198072595406\n",
      "best_weight 7519.001403335348\n"
     ]
    },
    {
     "data": {
      "application/vnd.jupyter.widget-view+json": {
       "model_id": "c1b6c5af92734fdc858bcc69c92ecdb1",
       "version_major": 2,
       "version_minor": 0
      },
      "text/plain": [
       "IntProgress(value=0, layout=Layout(width='100%'), max=30)"
      ]
     },
     "metadata": {},
     "output_type": "display_data"
    },
    {
     "data": {
      "application/vnd.jupyter.widget-view+json": {
       "model_id": "a3ded323f46b4c408741adc708a685ce",
       "version_major": 2,
       "version_minor": 0
      },
      "text/plain": [
       "IntProgress(value=0, layout=Layout(width='100%'), max=200)"
      ]
     },
     "metadata": {},
     "output_type": "display_data"
    },
    {
     "name": "stdout",
     "output_type": "stream",
     "text": [
      "-----------------\n",
      "1 Optimal 6386.94103534015\n",
      "route_plan [[(0, 24), (24, 6), (6, 19), (19, 22), (22, 16), (16, 25), (25, 4), (4, 9), (9, 12), (12, 13), (13, 10), (10, 28), (28, 8), (8, 18), (18, 27), (27, 1), (1, 20), (20, 11), (11, 23), (23, 29), (29, 26), (26, 14), (14, 21), (21, 15), (15, 5), (5, 3), (3, 2), (2, 7), (7, 17), (17, 0)]]\n",
      "liste_route_plan [0, 24, 6, 19, 22, 16, 25, 4, 9, 12, 13, 10, 28, 8, 18, 27, 1, 20, 11, 23, 29, 26, 14, 21, 15, 5, 3, 2, 7, 17, 0]\n",
      "no. of times LP model is solved =  9\n",
      "subtour log (no. of subtours in each solution)) [9, 9, 6, 6, 2, 2, 2, 2, 1]\n",
      "Time taken by DFJ formulation =  2.9546282291412354\n",
      "distance 73.93927967923031\n",
      "borne_inf 6386.94103534015\n",
      "best_weight 8638.089339047558\n"
     ]
    },
    {
     "data": {
      "application/vnd.jupyter.widget-view+json": {
       "model_id": "08030bb61ff44efdaf82194deee416c1",
       "version_major": 2,
       "version_minor": 0
      },
      "text/plain": [
       "IntProgress(value=0, layout=Layout(width='100%'), max=30)"
      ]
     },
     "metadata": {},
     "output_type": "display_data"
    },
    {
     "data": {
      "application/vnd.jupyter.widget-view+json": {
       "model_id": "4bb0b3941aa14765a8d151a1c1550ef8",
       "version_major": 2,
       "version_minor": 0
      },
      "text/plain": [
       "IntProgress(value=0, layout=Layout(width='100%'), max=200)"
      ]
     },
     "metadata": {},
     "output_type": "display_data"
    },
    {
     "name": "stdout",
     "output_type": "stream",
     "text": [
      "-----------------\n",
      "1 Optimal 5660.545464162494\n",
      "route_plan [[(0, 2), (2, 14), (14, 9), (9, 1), (1, 15), (15, 10), (10, 5), (5, 28), (28, 12), (12, 25), (25, 13), (13, 17), (17, 21), (21, 8), (8, 11), (11, 24), (24, 3), (3, 26), (26, 16), (16, 6), (6, 22), (22, 18), (18, 27), (27, 23), (23, 20), (20, 7), (7, 29), (29, 19), (19, 4), (4, 0)]]\n",
      "liste_route_plan [0, 2, 14, 9, 1, 15, 10, 5, 28, 12, 25, 13, 17, 21, 8, 11, 24, 3, 26, 16, 6, 22, 18, 27, 23, 20, 7, 29, 19, 4, 0]\n",
      "no. of times LP model is solved =  14\n",
      "subtour log (no. of subtours in each solution)) [7, 5, 6, 6, 7, 5, 6, 3, 3, 3, 3, 3, 3, 1]\n",
      "Time taken by DFJ formulation =  13.282042980194092\n",
      "distance 72.81092635657242\n",
      "borne_inf 5660.545464162494\n",
      "best_weight 7774.3077137096925\n"
     ]
    },
    {
     "data": {
      "application/vnd.jupyter.widget-view+json": {
       "model_id": "7cb91dad13544b2c88087e311ef2b471",
       "version_major": 2,
       "version_minor": 0
      },
      "text/plain": [
       "IntProgress(value=0, layout=Layout(width='100%'), max=30)"
      ]
     },
     "metadata": {},
     "output_type": "display_data"
    },
    {
     "data": {
      "application/vnd.jupyter.widget-view+json": {
       "model_id": "c34d805836594943b9f95e46053122fb",
       "version_major": 2,
       "version_minor": 0
      },
      "text/plain": [
       "IntProgress(value=0, layout=Layout(width='100%'), max=200)"
      ]
     },
     "metadata": {},
     "output_type": "display_data"
    },
    {
     "name": "stdout",
     "output_type": "stream",
     "text": [
      "-----------------\n",
      "1 Optimal 5814.989592885677\n",
      "route_plan [[(0, 22), (22, 20), (20, 19), (19, 29), (29, 5), (5, 14), (14, 16), (16, 8), (8, 17), (17, 24), (24, 12), (12, 2), (2, 25), (25, 1), (1, 11), (11, 15), (15, 6), (6, 3), (3, 23), (23, 27), (27, 7), (7, 18), (18, 9), (9, 21), (21, 13), (13, 28), (28, 10), (10, 4), (4, 26), (26, 0)]]\n",
      "liste_route_plan [0, 22, 20, 19, 29, 5, 14, 16, 8, 17, 24, 12, 2, 25, 1, 11, 15, 6, 3, 23, 27, 7, 18, 9, 21, 13, 28, 10, 4, 26, 0]\n",
      "no. of times LP model is solved =  13\n",
      "subtour log (no. of subtours in each solution)) [4, 10, 3, 4, 3, 3, 4, 3, 3, 3, 3, 3, 1]\n",
      "Time taken by DFJ formulation =  7.152745008468628\n",
      "distance 73.73702150664244\n",
      "borne_inf 5814.989592885677\n",
      "best_weight 7886.119447287203\n"
     ]
    },
    {
     "data": {
      "application/vnd.jupyter.widget-view+json": {
       "model_id": "d6487d188bc94e3aa601950bfb2bd766",
       "version_major": 2,
       "version_minor": 0
      },
      "text/plain": [
       "IntProgress(value=0, layout=Layout(width='100%'), max=30)"
      ]
     },
     "metadata": {},
     "output_type": "display_data"
    },
    {
     "data": {
      "application/vnd.jupyter.widget-view+json": {
       "model_id": "f6736ddefb6a41ffb9b2f6356b384653",
       "version_major": 2,
       "version_minor": 0
      },
      "text/plain": [
       "IntProgress(value=0, layout=Layout(width='100%'), max=200)"
      ]
     },
     "metadata": {},
     "output_type": "display_data"
    },
    {
     "name": "stdout",
     "output_type": "stream",
     "text": [
      "-----------------\n",
      "1 Optimal 6326.79080751021\n",
      "route_plan [[(0, 26), (26, 11), (11, 15), (15, 2), (2, 3), (3, 25), (25, 12), (12, 27), (27, 20), (20, 28), (28, 19), (19, 4), (4, 24), (24, 13), (13, 16), (16, 1), (1, 10), (10, 17), (17, 9), (9, 23), (23, 21), (21, 22), (22, 8), (8, 6), (6, 14), (14, 29), (29, 5), (5, 7), (7, 18), (18, 0)]]\n",
      "liste_route_plan [0, 26, 11, 15, 2, 3, 25, 12, 27, 20, 28, 19, 4, 24, 13, 16, 1, 10, 17, 9, 23, 21, 22, 8, 6, 14, 29, 5, 7, 18, 0]\n",
      "no. of times LP model is solved =  15\n",
      "subtour log (no. of subtours in each solution)) [7, 8, 3, 3, 3, 3, 3, 4, 5, 3, 2, 2, 2, 2, 1]\n",
      "Time taken by DFJ formulation =  15.25556492805481\n",
      "distance 74.20936965784027\n",
      "borne_inf 6326.79080751021\n",
      "best_weight 8525.595671653546\n"
     ]
    },
    {
     "data": {
      "application/vnd.jupyter.widget-view+json": {
       "model_id": "98ff7375b41a439f8679d5d196047f81",
       "version_major": 2,
       "version_minor": 0
      },
      "text/plain": [
       "IntProgress(value=0, layout=Layout(width='100%'), max=30)"
      ]
     },
     "metadata": {},
     "output_type": "display_data"
    },
    {
     "data": {
      "application/vnd.jupyter.widget-view+json": {
       "model_id": "036a8caf213d4121a924a725b33040c7",
       "version_major": 2,
       "version_minor": 0
      },
      "text/plain": [
       "IntProgress(value=0, layout=Layout(width='100%'), max=200)"
      ]
     },
     "metadata": {},
     "output_type": "display_data"
    },
    {
     "name": "stdout",
     "output_type": "stream",
     "text": [
      "-----------------\n",
      "1 Optimal 5651.686275524648\n",
      "route_plan [[(0, 1), (1, 25), (25, 19), (19, 14), (14, 15), (15, 18), (18, 27), (27, 24), (24, 29), (29, 23), (23, 9), (9, 11), (11, 6), (6, 22), (22, 7), (7, 10), (10, 8), (8, 13), (13, 2), (2, 3), (3, 26), (26, 5), (5, 12), (12, 16), (16, 21), (21, 17), (17, 20), (20, 28), (28, 4), (4, 0)]]\n",
      "liste_route_plan [0, 1, 25, 19, 14, 15, 18, 27, 24, 29, 23, 9, 11, 6, 22, 7, 10, 8, 13, 2, 3, 26, 5, 12, 16, 21, 17, 20, 28, 4, 0]\n",
      "no. of times LP model is solved =  10\n",
      "subtour log (no. of subtours in each solution)) [9, 9, 4, 2, 2, 2, 3, 2, 2, 1]\n",
      "Time taken by DFJ formulation =  4.141249895095825\n",
      "distance 71.60412146070838\n",
      "borne_inf 5651.686275524648\n",
      "best_weight 7892.962248864293\n"
     ]
    },
    {
     "data": {
      "application/vnd.jupyter.widget-view+json": {
       "model_id": "6861f448eed44f639395028ad0749b4d",
       "version_major": 2,
       "version_minor": 0
      },
      "text/plain": [
       "IntProgress(value=0, layout=Layout(width='100%'), max=30)"
      ]
     },
     "metadata": {},
     "output_type": "display_data"
    },
    {
     "data": {
      "application/vnd.jupyter.widget-view+json": {
       "model_id": "7df05e76549a47cf9a5a9a6b4b8ee5ec",
       "version_major": 2,
       "version_minor": 0
      },
      "text/plain": [
       "IntProgress(value=0, layout=Layout(width='100%'), max=200)"
      ]
     },
     "metadata": {},
     "output_type": "display_data"
    },
    {
     "name": "stdout",
     "output_type": "stream",
     "text": [
      "-----------------\n",
      "1 Optimal 5592.071915658454\n",
      "route_plan [[(0, 6), (6, 14), (14, 27), (27, 21), (21, 4), (4, 26), (26, 5), (5, 10), (10, 2), (2, 29), (29, 8), (8, 24), (24, 7), (7, 17), (17, 16), (16, 9), (9, 13), (13, 28), (28, 18), (18, 19), (19, 12), (12, 22), (22, 15), (15, 25), (25, 11), (11, 3), (3, 1), (1, 23), (23, 20), (20, 0)]]\n",
      "liste_route_plan [0, 6, 14, 27, 21, 4, 26, 5, 10, 2, 29, 8, 24, 7, 17, 16, 9, 13, 28, 18, 19, 12, 22, 15, 25, 11, 3, 1, 23, 20, 0]\n",
      "no. of times LP model is solved =  30\n",
      "subtour log (no. of subtours in each solution)) [3, 3, 4, 3, 3, 3, 2, 3, 2, 2, 2, 2, 4, 3, 2, 3, 2, 2, 3, 2, 2, 2, 2, 2, 2, 2, 2, 2, 2, 1]\n",
      "Time taken by DFJ formulation =  33.487908601760864\n",
      "distance 67.1700916441243\n",
      "borne_inf 5592.071915658454\n",
      "best_weight 8325.240860599035\n"
     ]
    },
    {
     "data": {
      "application/vnd.jupyter.widget-view+json": {
       "model_id": "3f710c7818e94bef84b9fa1462bc4aa6",
       "version_major": 2,
       "version_minor": 0
      },
      "text/plain": [
       "IntProgress(value=0, layout=Layout(width='100%'), max=30)"
      ]
     },
     "metadata": {},
     "output_type": "display_data"
    },
    {
     "data": {
      "application/vnd.jupyter.widget-view+json": {
       "model_id": "b182048f1d9e4a5984eedb9adc06666a",
       "version_major": 2,
       "version_minor": 0
      },
      "text/plain": [
       "IntProgress(value=0, layout=Layout(width='100%'), max=200)"
      ]
     },
     "metadata": {},
     "output_type": "display_data"
    },
    {
     "name": "stdout",
     "output_type": "stream",
     "text": [
      "-----------------\n",
      "1 Optimal 5501.3434814901675\n",
      "route_plan [[(0, 15), (15, 9), (9, 25), (25, 19), (19, 7), (7, 13), (13, 17), (17, 3), (3, 27), (27, 23), (23, 6), (6, 24), (24, 5), (5, 16), (16, 8), (8, 10), (10, 18), (18, 4), (4, 12), (12, 20), (20, 11), (11, 26), (26, 14), (14, 29), (29, 28), (28, 1), (1, 21), (21, 22), (22, 2), (2, 0)]]\n",
      "liste_route_plan [0, 15, 9, 25, 19, 7, 13, 17, 3, 27, 23, 6, 24, 5, 16, 8, 10, 18, 4, 12, 20, 11, 26, 14, 29, 28, 1, 21, 22, 2, 0]\n",
      "no. of times LP model is solved =  57\n",
      "subtour log (no. of subtours in each solution)) [4, 4, 3, 3, 4, 2, 2, 3, 3, 2, 2, 2, 4, 4, 2, 2, 3, 3, 3, 3, 2, 2, 2, 3, 2, 2, 2, 2, 2, 2, 3, 2, 2, 2, 2, 2, 2, 3, 3, 3, 2, 2, 3, 3, 2, 2, 2, 2, 2, 2, 2, 2, 2, 2, 2, 2, 1]\n",
      "Time taken by DFJ formulation =  197.85723066329956\n",
      "distance 72.37115024144566\n",
      "borne_inf 5501.3434814901675\n",
      "best_weight 7601.569773502986\n"
     ]
    },
    {
     "data": {
      "application/vnd.jupyter.widget-view+json": {
       "model_id": "4ffe61c52a4b4e8da77472c5b56ff738",
       "version_major": 2,
       "version_minor": 0
      },
      "text/plain": [
       "IntProgress(value=0, layout=Layout(width='100%'), max=30)"
      ]
     },
     "metadata": {},
     "output_type": "display_data"
    },
    {
     "data": {
      "application/vnd.jupyter.widget-view+json": {
       "model_id": "6d65265e31d049d4a36a2740a18eff53",
       "version_major": 2,
       "version_minor": 0
      },
      "text/plain": [
       "IntProgress(value=0, layout=Layout(width='100%'), max=200)"
      ]
     },
     "metadata": {},
     "output_type": "display_data"
    },
    {
     "name": "stdout",
     "output_type": "stream",
     "text": [
      "-----------------\n",
      "1 Optimal 6434.0123354161815\n",
      "route_plan [[(0, 1), (1, 20), (20, 23), (23, 18), (18, 27), (27, 6), (6, 15), (15, 2), (2, 13), (13, 9), (9, 25), (25, 16), (16, 10), (10, 24), (24, 21), (21, 19), (19, 4), (4, 11), (11, 5), (5, 7), (7, 8), (8, 14), (14, 28), (28, 22), (22, 3), (3, 26), (26, 12), (12, 29), (29, 17), (17, 0)]]\n",
      "liste_route_plan [0, 1, 20, 23, 18, 27, 6, 15, 2, 13, 9, 25, 16, 10, 24, 21, 19, 4, 11, 5, 7, 8, 14, 28, 22, 3, 26, 12, 29, 17, 0]\n",
      "no. of times LP model is solved =  6\n",
      "subtour log (no. of subtours in each solution)) [4, 3, 4, 3, 2, 1]\n",
      "Time taken by DFJ formulation =  2.177807569503784\n",
      "distance 75.20193830521664\n",
      "borne_inf 6434.0123354161815\n",
      "best_weight 8555.64694263986\n"
     ]
    },
    {
     "data": {
      "application/vnd.jupyter.widget-view+json": {
       "model_id": "ef95117dae5d43ddad1bf535b3dbeb6c",
       "version_major": 2,
       "version_minor": 0
      },
      "text/plain": [
       "IntProgress(value=0, layout=Layout(width='100%'), max=30)"
      ]
     },
     "metadata": {},
     "output_type": "display_data"
    },
    {
     "data": {
      "application/vnd.jupyter.widget-view+json": {
       "model_id": "60783d077cad4e0f88ac480e6d02004b",
       "version_major": 2,
       "version_minor": 0
      },
      "text/plain": [
       "IntProgress(value=0, layout=Layout(width='100%'), max=200)"
      ]
     },
     "metadata": {},
     "output_type": "display_data"
    },
    {
     "name": "stdout",
     "output_type": "stream",
     "text": [
      "-----------------\n",
      "1 Optimal 5816.954643057553\n",
      "route_plan [[(0, 4), (4, 25), (25, 13), (13, 20), (20, 28), (28, 21), (21, 26), (26, 14), (14, 9), (9, 23), (23, 29), (29, 16), (16, 7), (7, 10), (10, 3), (3, 2), (2, 18), (18, 15), (15, 6), (6, 5), (5, 27), (27, 1), (1, 19), (19, 24), (24, 8), (8, 11), (11, 12), (12, 22), (22, 17), (17, 0)]]\n",
      "liste_route_plan [0, 4, 25, 13, 20, 28, 21, 26, 14, 9, 23, 29, 16, 7, 10, 3, 2, 18, 15, 6, 5, 27, 1, 19, 24, 8, 11, 12, 22, 17, 0]\n",
      "no. of times LP model is solved =  5\n",
      "subtour log (no. of subtours in each solution)) [4, 6, 2, 2, 1]\n",
      "Time taken by DFJ formulation =  1.575044870376587\n",
      "distance 75.43356987631593\n",
      "borne_inf 5816.954643057553\n",
      "best_weight 7711.360674823263\n"
     ]
    },
    {
     "data": {
      "application/vnd.jupyter.widget-view+json": {
       "model_id": "a49a24f285e34f7b8f5e2fee4dcf5416",
       "version_major": 2,
       "version_minor": 0
      },
      "text/plain": [
       "IntProgress(value=0, layout=Layout(width='100%'), max=30)"
      ]
     },
     "metadata": {},
     "output_type": "display_data"
    },
    {
     "data": {
      "application/vnd.jupyter.widget-view+json": {
       "model_id": "6fa28d1f78684565b2175374be3abb99",
       "version_major": 2,
       "version_minor": 0
      },
      "text/plain": [
       "IntProgress(value=0, layout=Layout(width='100%'), max=200)"
      ]
     },
     "metadata": {},
     "output_type": "display_data"
    },
    {
     "name": "stdout",
     "output_type": "stream",
     "text": [
      "-----------------\n",
      "1 Optimal 5520.587870536343\n",
      "route_plan [[(0, 1), (1, 29), (29, 22), (22, 9), (9, 16), (16, 11), (11, 7), (7, 5), (5, 13), (13, 24), (24, 23), (23, 18), (18, 14), (14, 27), (27, 2), (2, 15), (15, 28), (28, 3), (3, 10), (10, 26), (26, 21), (21, 6), (6, 19), (19, 25), (25, 20), (20, 8), (8, 17), (17, 12), (12, 4), (4, 0)]]\n",
      "liste_route_plan [0, 1, 29, 22, 9, 16, 11, 7, 5, 13, 24, 23, 18, 14, 27, 2, 15, 28, 3, 10, 26, 21, 6, 19, 25, 20, 8, 17, 12, 4, 0]\n",
      "no. of times LP model is solved =  8\n",
      "subtour log (no. of subtours in each solution)) [6, 5, 5, 4, 5, 2, 2, 1]\n",
      "Time taken by DFJ formulation =  3.1988918781280518\n",
      "distance 70.8827369030663\n",
      "borne_inf 5520.587870536343\n",
      "best_weight 7788.339039568786\n"
     ]
    },
    {
     "data": {
      "application/vnd.jupyter.widget-view+json": {
       "model_id": "176ec8bf688646138a92b6554cb0902b",
       "version_major": 2,
       "version_minor": 0
      },
      "text/plain": [
       "IntProgress(value=0, layout=Layout(width='100%'), max=30)"
      ]
     },
     "metadata": {},
     "output_type": "display_data"
    },
    {
     "data": {
      "application/vnd.jupyter.widget-view+json": {
       "model_id": "d4a8f840b19c4088888b181a84ee96fa",
       "version_major": 2,
       "version_minor": 0
      },
      "text/plain": [
       "IntProgress(value=0, layout=Layout(width='100%'), max=200)"
      ]
     },
     "metadata": {},
     "output_type": "display_data"
    },
    {
     "name": "stdout",
     "output_type": "stream",
     "text": [
      "-----------------\n",
      "1 Optimal 5547.373218923519\n",
      "route_plan [[(0, 3), (3, 11), (11, 12), (12, 13), (13, 24), (24, 7), (7, 22), (22, 25), (25, 19), (19, 6), (6, 16), (16, 18), (18, 8), (8, 23), (23, 20), (20, 10), (10, 26), (26, 21), (21, 15), (15, 4), (4, 9), (9, 29), (29, 28), (28, 14), (14, 5), (5, 27), (27, 17), (17, 1), (1, 2), (2, 0)]]\n",
      "liste_route_plan [0, 3, 11, 12, 13, 24, 7, 22, 25, 19, 6, 16, 18, 8, 23, 20, 10, 26, 21, 15, 4, 9, 29, 28, 14, 5, 27, 17, 1, 2, 0]\n",
      "no. of times LP model is solved =  10\n",
      "subtour log (no. of subtours in each solution)) [2, 2, 3, 2, 2, 2, 2, 2, 2, 1]\n",
      "Time taken by DFJ formulation =  4.326789855957031\n",
      "distance 78.78699827375054\n",
      "borne_inf 5547.373218923519\n",
      "best_weight 7040.975466089988\n"
     ]
    },
    {
     "data": {
      "application/vnd.jupyter.widget-view+json": {
       "model_id": "be6c19ed6b804bcd991845745cad1b37",
       "version_major": 2,
       "version_minor": 0
      },
      "text/plain": [
       "IntProgress(value=0, layout=Layout(width='100%'), max=30)"
      ]
     },
     "metadata": {},
     "output_type": "display_data"
    },
    {
     "data": {
      "application/vnd.jupyter.widget-view+json": {
       "model_id": "a919bd883dfd450a97eb183a7882b244",
       "version_major": 2,
       "version_minor": 0
      },
      "text/plain": [
       "IntProgress(value=0, layout=Layout(width='100%'), max=200)"
      ]
     },
     "metadata": {},
     "output_type": "display_data"
    },
    {
     "name": "stdout",
     "output_type": "stream",
     "text": [
      "-----------------\n",
      "1 Optimal 5350.042413744503\n",
      "route_plan [[(0, 19), (19, 28), (28, 24), (24, 7), (7, 27), (27, 5), (5, 29), (29, 22), (22, 8), (8, 11), (11, 1), (1, 21), (21, 18), (18, 13), (13, 15), (15, 20), (20, 17), (17, 12), (12, 23), (23, 4), (4, 10), (10, 25), (25, 26), (26, 9), (9, 16), (16, 14), (14, 6), (6, 3), (3, 2), (2, 0)]]\n",
      "liste_route_plan [0, 19, 28, 24, 7, 27, 5, 29, 22, 8, 11, 1, 21, 18, 13, 15, 20, 17, 12, 23, 4, 10, 25, 26, 9, 16, 14, 6, 3, 2, 0]\n",
      "no. of times LP model is solved =  3\n",
      "subtour log (no. of subtours in each solution)) [10, 7, 1]\n",
      "Time taken by DFJ formulation =  0.6563327312469482\n",
      "distance 70.45821227050007\n",
      "borne_inf 5350.042413744503\n",
      "best_weight 7593.2133974743165\n"
     ]
    },
    {
     "data": {
      "application/vnd.jupyter.widget-view+json": {
       "model_id": "e4f0ce5a1c1a414386e95dbcf664b41b",
       "version_major": 2,
       "version_minor": 0
      },
      "text/plain": [
       "IntProgress(value=0, layout=Layout(width='100%'), max=30)"
      ]
     },
     "metadata": {},
     "output_type": "display_data"
    },
    {
     "data": {
      "application/vnd.jupyter.widget-view+json": {
       "model_id": "4018983c39914c2da7fb77f57937df16",
       "version_major": 2,
       "version_minor": 0
      },
      "text/plain": [
       "IntProgress(value=0, layout=Layout(width='100%'), max=200)"
      ]
     },
     "metadata": {},
     "output_type": "display_data"
    },
    {
     "name": "stdout",
     "output_type": "stream",
     "text": [
      "-----------------\n",
      "1 Optimal 6150.914381683812\n",
      "route_plan [[(0, 13), (13, 11), (11, 28), (28, 25), (25, 10), (10, 27), (27, 22), (22, 12), (12, 26), (26, 18), (18, 15), (15, 4), (4, 23), (23, 3), (3, 19), (19, 24), (24, 7), (7, 17), (17, 14), (14, 29), (29, 8), (8, 21), (21, 16), (16, 2), (2, 5), (5, 9), (9, 20), (20, 6), (6, 1), (1, 0)]]\n",
      "liste_route_plan [0, 13, 11, 28, 25, 10, 27, 22, 12, 26, 18, 15, 4, 23, 3, 19, 24, 7, 17, 14, 29, 8, 21, 16, 2, 5, 9, 20, 6, 1, 0]\n",
      "no. of times LP model is solved =  19\n",
      "subtour log (no. of subtours in each solution)) [5, 5, 5, 5, 4, 4, 2, 3, 2, 2, 4, 3, 3, 2, 2, 2, 3, 3, 1]\n",
      "Time taken by DFJ formulation =  16.62376308441162\n",
      "distance 72.49491463558007\n",
      "borne_inf 6150.914381683812\n",
      "best_weight 8484.614972792837\n"
     ]
    },
    {
     "data": {
      "application/vnd.jupyter.widget-view+json": {
       "model_id": "365827c89fda4d8c865e697d13942a76",
       "version_major": 2,
       "version_minor": 0
      },
      "text/plain": [
       "IntProgress(value=0, layout=Layout(width='100%'), max=30)"
      ]
     },
     "metadata": {},
     "output_type": "display_data"
    },
    {
     "data": {
      "application/vnd.jupyter.widget-view+json": {
       "model_id": "a0a1dd81997d4275a6748f354f82b727",
       "version_major": 2,
       "version_minor": 0
      },
      "text/plain": [
       "IntProgress(value=0, layout=Layout(width='100%'), max=200)"
      ]
     },
     "metadata": {},
     "output_type": "display_data"
    },
    {
     "name": "stdout",
     "output_type": "stream",
     "text": [
      "-----------------\n",
      "1 Optimal 5347.771801644126\n",
      "route_plan [[(0, 5), (5, 3), (3, 2), (2, 11), (11, 6), (6, 8), (8, 24), (24, 9), (9, 10), (10, 13), (13, 27), (27, 21), (21, 16), (16, 19), (19, 23), (23, 17), (17, 25), (25, 14), (14, 20), (20, 4), (4, 7), (7, 29), (29, 15), (15, 1), (1, 28), (28, 22), (22, 18), (18, 26), (26, 12), (12, 0)]]\n",
      "liste_route_plan [0, 5, 3, 2, 11, 6, 8, 24, 9, 10, 13, 27, 21, 16, 19, 23, 17, 25, 14, 20, 4, 7, 29, 15, 1, 28, 22, 18, 26, 12, 0]\n",
      "no. of times LP model is solved =  9\n",
      "subtour log (no. of subtours in each solution)) [5, 4, 3, 3, 3, 4, 2, 2, 1]\n",
      "Time taken by DFJ formulation =  3.0969462394714355\n",
      "distance 75.28623159633325\n",
      "borne_inf 5347.771801644126\n",
      "best_weight 7103.253394747659\n"
     ]
    },
    {
     "data": {
      "application/vnd.jupyter.widget-view+json": {
       "model_id": "fa27fe68f95745589086741ce7c84eb3",
       "version_major": 2,
       "version_minor": 0
      },
      "text/plain": [
       "IntProgress(value=0, layout=Layout(width='100%'), max=30)"
      ]
     },
     "metadata": {},
     "output_type": "display_data"
    },
    {
     "data": {
      "application/vnd.jupyter.widget-view+json": {
       "model_id": "4c5fd3e34861485c8b95fc417c661e23",
       "version_major": 2,
       "version_minor": 0
      },
      "text/plain": [
       "IntProgress(value=0, layout=Layout(width='100%'), max=200)"
      ]
     },
     "metadata": {},
     "output_type": "display_data"
    },
    {
     "name": "stdout",
     "output_type": "stream",
     "text": [
      "-----------------\n",
      "1 Optimal 5064.50255201131\n",
      "route_plan [[(0, 16), (16, 24), (24, 17), (17, 5), (5, 21), (21, 25), (25, 28), (28, 19), (19, 7), (7, 29), (29, 13), (13, 18), (18, 14), (14, 8), (8, 1), (1, 27), (27, 22), (22, 3), (3, 9), (9, 15), (15, 20), (20, 10), (10, 6), (6, 4), (4, 23), (23, 2), (2, 12), (12, 26), (26, 11), (11, 0)]]\n",
      "liste_route_plan [0, 16, 24, 17, 5, 21, 25, 28, 19, 7, 29, 13, 18, 14, 8, 1, 27, 22, 3, 9, 15, 20, 10, 6, 4, 23, 2, 12, 26, 11, 0]\n",
      "no. of times LP model is solved =  4\n",
      "subtour log (no. of subtours in each solution)) [7, 4, 2, 1]\n",
      "Time taken by DFJ formulation =  1.0712614059448242\n",
      "distance 65.79264432968205\n",
      "borne_inf 5064.50255201131\n",
      "best_weight 7697.672898863078\n"
     ]
    },
    {
     "data": {
      "application/vnd.jupyter.widget-view+json": {
       "model_id": "62d13dc6040346f88ebfbf0d67acfa07",
       "version_major": 2,
       "version_minor": 0
      },
      "text/plain": [
       "IntProgress(value=0, layout=Layout(width='100%'), max=30)"
      ]
     },
     "metadata": {},
     "output_type": "display_data"
    },
    {
     "data": {
      "application/vnd.jupyter.widget-view+json": {
       "model_id": "423cac2a5b3e4b8b994f903fa242f2d1",
       "version_major": 2,
       "version_minor": 0
      },
      "text/plain": [
       "IntProgress(value=0, layout=Layout(width='100%'), max=200)"
      ]
     },
     "metadata": {},
     "output_type": "display_data"
    },
    {
     "name": "stdout",
     "output_type": "stream",
     "text": [
      "-----------------\n",
      "1 Optimal 5450.016868954421\n",
      "route_plan [[(0, 8), (8, 14), (14, 2), (2, 19), (19, 16), (16, 25), (25, 13), (13, 5), (5, 7), (7, 27), (27, 24), (24, 29), (29, 10), (10, 6), (6, 12), (12, 20), (20, 23), (23, 9), (9, 22), (22, 3), (3, 28), (28, 1), (1, 18), (18, 26), (26, 21), (21, 4), (4, 11), (11, 15), (15, 17), (17, 0)]]\n",
      "liste_route_plan [0, 8, 14, 2, 19, 16, 25, 13, 5, 7, 27, 24, 29, 10, 6, 12, 20, 23, 9, 22, 3, 28, 1, 18, 26, 21, 4, 11, 15, 17, 0]\n",
      "no. of times LP model is solved =  4\n",
      "subtour log (no. of subtours in each solution)) [10, 2, 2, 1]\n",
      "Time taken by DFJ formulation =  0.7963283061981201\n",
      "distance 69.83221351499661\n",
      "borne_inf 5450.016868954421\n",
      "best_weight 7804.445247584796\n"
     ]
    },
    {
     "data": {
      "application/vnd.jupyter.widget-view+json": {
       "model_id": "4b2834b0147d4d0f972eac17249e9bed",
       "version_major": 2,
       "version_minor": 0
      },
      "text/plain": [
       "IntProgress(value=0, layout=Layout(width='100%'), max=30)"
      ]
     },
     "metadata": {},
     "output_type": "display_data"
    },
    {
     "data": {
      "application/vnd.jupyter.widget-view+json": {
       "model_id": "62f95ab28fc94e0b9e6f5f51419c04e2",
       "version_major": 2,
       "version_minor": 0
      },
      "text/plain": [
       "IntProgress(value=0, layout=Layout(width='100%'), max=200)"
      ]
     },
     "metadata": {},
     "output_type": "display_data"
    },
    {
     "name": "stdout",
     "output_type": "stream",
     "text": [
      "-----------------\n",
      "1 Optimal 5581.015079657975\n",
      "route_plan [[(0, 3), (3, 1), (1, 28), (28, 7), (7, 20), (20, 2), (2, 13), (13, 26), (26, 23), (23, 29), (29, 11), (11, 15), (15, 18), (18, 19), (19, 22), (22, 14), (14, 8), (8, 12), (12, 16), (16, 4), (4, 27), (27, 6), (6, 9), (9, 5), (5, 25), (25, 21), (21, 10), (10, 17), (17, 24), (24, 0)]]\n",
      "liste_route_plan [0, 3, 1, 28, 7, 20, 2, 13, 26, 23, 29, 11, 15, 18, 19, 22, 14, 8, 12, 16, 4, 27, 6, 9, 5, 25, 21, 10, 17, 24, 0]\n",
      "no. of times LP model is solved =  5\n",
      "subtour log (no. of subtours in each solution)) [9, 4, 4, 2, 1]\n",
      "Time taken by DFJ formulation =  1.4604244232177734\n",
      "distance 65.68327440551082\n",
      "borne_inf 5581.015079657975\n",
      "best_weight 8496.858797267465\n"
     ]
    },
    {
     "ename": "ValueError",
     "evalue": "x and y must have same first dimension, but have shapes (300,) and (120,)",
     "output_type": "error",
     "traceback": [
      "\u001b[1;31m---------------------------------------------------------------------------\u001b[0m",
      "\u001b[1;31mValueError\u001b[0m                                Traceback (most recent call last)",
      "\u001b[1;32mc:\\Users\\adrie\\Desktop\\adrien\\perso\\Algo_Avance\\Algo_avance\\code\\stats_hugo.ipynb Cell 12'\u001b[0m in \u001b[0;36m<cell line: 51>\u001b[1;34m()\u001b[0m\n\u001b[0;32m     <a href='vscode-notebook-cell:/c%3A/Users/adrie/Desktop/adrien/perso/Algo_Avance/Algo_avance/code/stats_hugo.ipynb#ch0000011?line=47'>48</a>\u001b[0m         \u001b[39mprint\u001b[39m(\u001b[39m\"\u001b[39m\u001b[39mborne_inf\u001b[39m\u001b[39m\"\u001b[39m,borne_inf)\n\u001b[0;32m     <a href='vscode-notebook-cell:/c%3A/Users/adrie/Desktop/adrien/perso/Algo_Avance/Algo_avance/code/stats_hugo.ipynb#ch0000011?line=48'>49</a>\u001b[0m         \u001b[39mprint\u001b[39m(\u001b[39m\"\u001b[39m\u001b[39mbest_weight\u001b[39m\u001b[39m\"\u001b[39m,best_weight)\n\u001b[1;32m---> <a href='vscode-notebook-cell:/c%3A/Users/adrie/Desktop/adrien/perso/Algo_Avance/Algo_avance/code/stats_hugo.ipynb#ch0000011?line=50'>51</a>\u001b[0m plt\u001b[39m.\u001b[39;49mplot(\u001b[39mrange\u001b[39;49m(population_min, population_max), moyennes)\n\u001b[0;32m     <a href='vscode-notebook-cell:/c%3A/Users/adrie/Desktop/adrien/perso/Algo_Avance/Algo_avance/code/stats_hugo.ipynb#ch0000011?line=52'>53</a>\u001b[0m \u001b[39m# affichage de la bande d'écart-type\u001b[39;00m\n\u001b[0;32m     <a href='vscode-notebook-cell:/c%3A/Users/adrie/Desktop/adrien/perso/Algo_Avance/Algo_avance/code/stats_hugo.ipynb#ch0000011?line=53'>54</a>\u001b[0m plt\u001b[39m.\u001b[39mfill_between(\u001b[39mrange\u001b[39m(population_min, population_max),\n\u001b[0;32m     <a href='vscode-notebook-cell:/c%3A/Users/adrie/Desktop/adrien/perso/Algo_Avance/Algo_avance/code/stats_hugo.ipynb#ch0000011?line=54'>55</a>\u001b[0m                  np\u001b[39m.\u001b[39msubtract(moyennes, deviations), \u001b[39m# borne haute\u001b[39;00m\n\u001b[0;32m     <a href='vscode-notebook-cell:/c%3A/Users/adrie/Desktop/adrien/perso/Algo_Avance/Algo_avance/code/stats_hugo.ipynb#ch0000011?line=55'>56</a>\u001b[0m                  np\u001b[39m.\u001b[39madd(moyennes, deviations),      \u001b[39m# borne basse\u001b[39;00m\n\u001b[0;32m     <a href='vscode-notebook-cell:/c%3A/Users/adrie/Desktop/adrien/perso/Algo_Avance/Algo_avance/code/stats_hugo.ipynb#ch0000011?line=56'>57</a>\u001b[0m                  alpha\u001b[39m=\u001b[39m\u001b[39m.1\u001b[39m)                          \u001b[39m# transparence\u001b[39;00m\n",
      "File \u001b[1;32mc:\\Users\\adrie\\Desktop\\adrien\\perso\\Algo_Avance\\Algo_avance\\env\\lib\\site-packages\\matplotlib\\pyplot.py:2769\u001b[0m, in \u001b[0;36mplot\u001b[1;34m(scalex, scaley, data, *args, **kwargs)\u001b[0m\n\u001b[0;32m   2767\u001b[0m \u001b[39m@_copy_docstring_and_deprecators\u001b[39m(Axes\u001b[39m.\u001b[39mplot)\n\u001b[0;32m   2768\u001b[0m \u001b[39mdef\u001b[39;00m \u001b[39mplot\u001b[39m(\u001b[39m*\u001b[39margs, scalex\u001b[39m=\u001b[39m\u001b[39mTrue\u001b[39;00m, scaley\u001b[39m=\u001b[39m\u001b[39mTrue\u001b[39;00m, data\u001b[39m=\u001b[39m\u001b[39mNone\u001b[39;00m, \u001b[39m*\u001b[39m\u001b[39m*\u001b[39mkwargs):\n\u001b[1;32m-> 2769\u001b[0m     \u001b[39mreturn\u001b[39;00m gca()\u001b[39m.\u001b[39mplot(\n\u001b[0;32m   2770\u001b[0m         \u001b[39m*\u001b[39margs, scalex\u001b[39m=\u001b[39mscalex, scaley\u001b[39m=\u001b[39mscaley,\n\u001b[0;32m   2771\u001b[0m         \u001b[39m*\u001b[39m\u001b[39m*\u001b[39m({\u001b[39m\"\u001b[39m\u001b[39mdata\u001b[39m\u001b[39m\"\u001b[39m: data} \u001b[39mif\u001b[39;00m data \u001b[39mis\u001b[39;00m \u001b[39mnot\u001b[39;00m \u001b[39mNone\u001b[39;00m \u001b[39melse\u001b[39;00m {}), \u001b[39m*\u001b[39m\u001b[39m*\u001b[39mkwargs)\n",
      "File \u001b[1;32mc:\\Users\\adrie\\Desktop\\adrien\\perso\\Algo_Avance\\Algo_avance\\env\\lib\\site-packages\\matplotlib\\axes\\_axes.py:1632\u001b[0m, in \u001b[0;36mAxes.plot\u001b[1;34m(self, scalex, scaley, data, *args, **kwargs)\u001b[0m\n\u001b[0;32m   1390\u001b[0m \u001b[39m\"\"\"\u001b[39;00m\n\u001b[0;32m   1391\u001b[0m \u001b[39mPlot y versus x as lines and/or markers.\u001b[39;00m\n\u001b[0;32m   1392\u001b[0m \n\u001b[1;32m   (...)\u001b[0m\n\u001b[0;32m   1629\u001b[0m \u001b[39m(``'green'``) or hex strings (``'#008000'``).\u001b[39;00m\n\u001b[0;32m   1630\u001b[0m \u001b[39m\"\"\"\u001b[39;00m\n\u001b[0;32m   1631\u001b[0m kwargs \u001b[39m=\u001b[39m cbook\u001b[39m.\u001b[39mnormalize_kwargs(kwargs, mlines\u001b[39m.\u001b[39mLine2D)\n\u001b[1;32m-> 1632\u001b[0m lines \u001b[39m=\u001b[39m [\u001b[39m*\u001b[39m\u001b[39mself\u001b[39m\u001b[39m.\u001b[39m_get_lines(\u001b[39m*\u001b[39margs, data\u001b[39m=\u001b[39mdata, \u001b[39m*\u001b[39m\u001b[39m*\u001b[39mkwargs)]\n\u001b[0;32m   1633\u001b[0m \u001b[39mfor\u001b[39;00m line \u001b[39min\u001b[39;00m lines:\n\u001b[0;32m   1634\u001b[0m     \u001b[39mself\u001b[39m\u001b[39m.\u001b[39madd_line(line)\n",
      "File \u001b[1;32mc:\\Users\\adrie\\Desktop\\adrien\\perso\\Algo_Avance\\Algo_avance\\env\\lib\\site-packages\\matplotlib\\axes\\_base.py:312\u001b[0m, in \u001b[0;36m_process_plot_var_args.__call__\u001b[1;34m(self, data, *args, **kwargs)\u001b[0m\n\u001b[0;32m    310\u001b[0m     this \u001b[39m+\u001b[39m\u001b[39m=\u001b[39m args[\u001b[39m0\u001b[39m],\n\u001b[0;32m    311\u001b[0m     args \u001b[39m=\u001b[39m args[\u001b[39m1\u001b[39m:]\n\u001b[1;32m--> 312\u001b[0m \u001b[39myield from\u001b[39;00m \u001b[39mself\u001b[39;49m\u001b[39m.\u001b[39;49m_plot_args(this, kwargs)\n",
      "File \u001b[1;32mc:\\Users\\adrie\\Desktop\\adrien\\perso\\Algo_Avance\\Algo_avance\\env\\lib\\site-packages\\matplotlib\\axes\\_base.py:498\u001b[0m, in \u001b[0;36m_process_plot_var_args._plot_args\u001b[1;34m(self, tup, kwargs, return_kwargs)\u001b[0m\n\u001b[0;32m    495\u001b[0m     \u001b[39mself\u001b[39m\u001b[39m.\u001b[39maxes\u001b[39m.\u001b[39myaxis\u001b[39m.\u001b[39mupdate_units(y)\n\u001b[0;32m    497\u001b[0m \u001b[39mif\u001b[39;00m x\u001b[39m.\u001b[39mshape[\u001b[39m0\u001b[39m] \u001b[39m!=\u001b[39m y\u001b[39m.\u001b[39mshape[\u001b[39m0\u001b[39m]:\n\u001b[1;32m--> 498\u001b[0m     \u001b[39mraise\u001b[39;00m \u001b[39mValueError\u001b[39;00m(\u001b[39mf\u001b[39m\u001b[39m\"\u001b[39m\u001b[39mx and y must have same first dimension, but \u001b[39m\u001b[39m\"\u001b[39m\n\u001b[0;32m    499\u001b[0m                      \u001b[39mf\u001b[39m\u001b[39m\"\u001b[39m\u001b[39mhave shapes \u001b[39m\u001b[39m{\u001b[39;00mx\u001b[39m.\u001b[39mshape\u001b[39m}\u001b[39;00m\u001b[39m and \u001b[39m\u001b[39m{\u001b[39;00my\u001b[39m.\u001b[39mshape\u001b[39m}\u001b[39;00m\u001b[39m\"\u001b[39m)\n\u001b[0;32m    500\u001b[0m \u001b[39mif\u001b[39;00m x\u001b[39m.\u001b[39mndim \u001b[39m>\u001b[39m \u001b[39m2\u001b[39m \u001b[39mor\u001b[39;00m y\u001b[39m.\u001b[39mndim \u001b[39m>\u001b[39m \u001b[39m2\u001b[39m:\n\u001b[0;32m    501\u001b[0m     \u001b[39mraise\u001b[39;00m \u001b[39mValueError\u001b[39;00m(\u001b[39mf\u001b[39m\u001b[39m\"\u001b[39m\u001b[39mx and y can be no greater than 2D, but have \u001b[39m\u001b[39m\"\u001b[39m\n\u001b[0;32m    502\u001b[0m                      \u001b[39mf\u001b[39m\u001b[39m\"\u001b[39m\u001b[39mshapes \u001b[39m\u001b[39m{\u001b[39;00mx\u001b[39m.\u001b[39mshape\u001b[39m}\u001b[39;00m\u001b[39m and \u001b[39m\u001b[39m{\u001b[39;00my\u001b[39m.\u001b[39mshape\u001b[39m}\u001b[39;00m\u001b[39m\"\u001b[39m)\n",
      "\u001b[1;31mValueError\u001b[0m: x and y must have same first dimension, but have shapes (300,) and (120,)"
     ]
    },
    {
     "data": {
      "image/png": "[encoded data removed]",
      "text/plain": [
       "<Figure size 432x288 with 1 Axes>"
      ]
     },
     "metadata": {
      "needs_background": "light"
     },
     "output_type": "display_data"
    }
   ],
   "source": [
    "import statistics\n",
    "\n",
    "nb_vertex_matrix = 100\n",
    "min_weight = 10\n",
    "max_weight = 60\n",
    "density = 0.5\n",
    "nb_vertex_chosen = 30\n",
    "\n",
    "population_min = 200\n",
    "population_max = 500\n",
    "nb_test = 10\n",
    "\n",
    "bornes_tab = []\n",
    "\n",
    "moyennes   = []\n",
    "deviations = []\n",
    "\n",
    "for po in range (population_min, population_max,25):\n",
    "    for _ in range (nb_test):\n",
    "\n",
    "        vertices_list = get_random_vertices_list(nb_vertex_matrix, nb_vertex_chosen)\n",
    "        start_vertex = get_random_vertex(vertices_list)\n",
    "        start_vertex_index = np.where(vertices_list == start_vertex)[0][0]\n",
    "\n",
    "        interval_vertex = get_random_vertex(vertices_list)\n",
    "        interval_vertex_index = np.where(vertices_list == interval_vertex)[0][0]\n",
    "\n",
    "        interval = (0,100000000)\n",
    "\n",
    "        # generation of the graph, the complete graph and the list of all paths\n",
    "        graph, complete_graph, all_paths, all_vertex =\\\n",
    "        generate_instance(\n",
    "        nb_vertex_matrix = nb_vertex_matrix,\n",
    "        vertices_list = vertices_list,\n",
    "        density = density\n",
    "        )\n",
    "\n",
    "        population = generate_population(po, complete_graph, interval, interval_vertex_index, start_vertex_index)\n",
    "        best_path, best_weight, all_best_weights = evolve(population, complete_graph, interval, interval_vertex_index)\n",
    "        borne_inf = Simplex(complete_graph)[1]\n",
    "        distance_borne = borne_inf*100/best_weight\n",
    "        bornes_tab.append(distance_borne)\n",
    "\n",
    "        moyennes.append(statistics.fmean(bornes_tab))               #SOLUTION\n",
    "        deviations.append(np.std(bornes_tab))\n",
    "\n",
    "        print(\"distance\",distance_borne)\n",
    "        print(\"borne_inf\",borne_inf)\n",
    "        print(\"best_weight\",best_weight)\n",
    "\n",
    "plt.plot(moyennes)\n",
    "\n",
    "# affichage de la bande d'écart-type\n",
    "plt.fill_between(range(population_min, population_max),\n",
    "                 np.subtract(moyennes, deviations), # borne haute\n",
    "                 np.add(moyennes, deviations),      # borne basse\n",
    "                 alpha=.1)                          # transparence\n",
    "plt.xlabel(\"taille population\")\n",
    "plt.ylabel(\"Rapprochement de la distance à la borne en %\")\n",
    "plt.title(\"Impact de la taille de la population sur la qualité des solutions\")\n",
    "plt.show()\n",
    "\n",
    "print(sum(bornes_tab) / len(bornes_tab))\n"
   ]
  },
  {
   "cell_type": "code",
   "execution_count": 20,
   "metadata": {},
   "outputs": [
    {
     "data": {
      "text/plain": [
       "Text(0.5, 1.0, 'Distribution des distances à la borne supérieure')"
      ]
     },
     "execution_count": 20,
     "metadata": {},
     "output_type": "execute_result"
    },
    {
     "data": {
      "image/png": "[encoded data removed]",
      "text/plain": [
       "<Figure size 432x288 with 1 Axes>"
      ]
     },
     "metadata": {
      "needs_background": "light"
     },
     "output_type": "display_data"
    }
   ],
   "source": [
    "plt.hist(bornes_tab,bins=20, edgecolor = \"black\")                         \n",
    "plt.xlabel(\"Rapprochement de la distance à la borne en %\")                            \n",
    "plt.ylabel(\"nombre d'intances\")                               \n",
    "plt.title(\"Distribution des distances à la borne supérieure\") "
   ]
  },
  {
   "cell_type": "code",
   "execution_count": 21,
   "metadata": {},
   "outputs": [
    {
     "data": {
      "text/plain": [
       "[<matplotlib.lines.Line2D at 0x1696a7fb760>]"
      ]
     },
     "execution_count": 21,
     "metadata": {},
     "output_type": "execute_result"
    },
    {
     "data": {
      "image/png": "[encoded data removed]",
      "text/plain": [
       "<Figure size 432x288 with 1 Axes>"
      ]
     },
     "metadata": {
      "needs_background": "light"
     },
     "output_type": "display_data"
    }
   ],
   "source": [
    "plt.plot(moyennes)\n",
    "plt.xlabel(\"Rapprochement de la distance à la borne en %\")                            \n",
    "plt.ylabel(\"nombre d'intances\")                               \n",
    "plt.title(\"Distribution des distances à la borne supérieure\")"
   ]
  },
  {
   "cell_type": "code",
   "execution_count": 1,
   "metadata": {},
   "outputs": [
    {
     "ename": "NameError",
     "evalue": "name 'moyennes' is not defined",
     "output_type": "error",
     "traceback": [
      "\u001b[1;31m---------------------------------------------------------------------------\u001b[0m",
      "\u001b[1;31mNameError\u001b[0m                                 Traceback (most recent call last)",
      "\u001b[1;32mc:\\Users\\adrie\\Desktop\\adrien\\perso\\Algo_Avance\\Algo_avance\\code\\stats_hugo.ipynb Cell 15'\u001b[0m in \u001b[0;36m<cell line: 2>\u001b[1;34m()\u001b[0m\n\u001b[0;32m      <a href='vscode-notebook-cell:/c%3A/Users/adrie/Desktop/adrien/perso/Algo_Avance/Algo_avance/code/stats_hugo.ipynb#ch0000014?line=0'>1</a>\u001b[0m \u001b[39m\"\"\"plt.plot(moyennes)\"\"\"\u001b[39;00m\n\u001b[1;32m----> <a href='vscode-notebook-cell:/c%3A/Users/adrie/Desktop/adrien/perso/Algo_Avance/Algo_avance/code/stats_hugo.ipynb#ch0000014?line=1'>2</a>\u001b[0m \u001b[39mprint\u001b[39m(moyennes)\n\u001b[0;32m      <a href='vscode-notebook-cell:/c%3A/Users/adrie/Desktop/adrien/perso/Algo_Avance/Algo_avance/code/stats_hugo.ipynb#ch0000014?line=2'>3</a>\u001b[0m \u001b[39m\"\"\"plt.xlabel(\"Rapprochement de la distance à la borne en %\")                             #SOLUTION\u001b[39;00m\n\u001b[0;32m      <a href='vscode-notebook-cell:/c%3A/Users/adrie/Desktop/adrien/perso/Algo_Avance/Algo_avance/code/stats_hugo.ipynb#ch0000014?line=3'>4</a>\u001b[0m \u001b[39mplt.ylabel(\"nombre d'intances\")                               #SOLUTION\u001b[39;00m\n\u001b[0;32m      <a href='vscode-notebook-cell:/c%3A/Users/adrie/Desktop/adrien/perso/Algo_Avance/Algo_avance/code/stats_hugo.ipynb#ch0000014?line=4'>5</a>\u001b[0m \u001b[39mplt.title(\"Distribution des distances à la borne supérieure\")\"\"\"\u001b[39;00m\n",
      "\u001b[1;31mNameError\u001b[0m: name 'moyennes' is not defined"
     ]
    }
   ],
   "source": [
    "\"\"\"plt.plot(moyennes)\"\"\"\n",
    "print(moyennes)\n",
    "\"\"\"plt.xlabel(\"Rapprochement de la distance à la borne en %\")                             #SOLUTION\n",
    "plt.ylabel(\"nombre d'intances\")                               #SOLUTION\n",
    "plt.title(\"Distribution des distances à la borne supérieure\")\"\"\""
   ]
  }
 ],
 "metadata": {
  "kernelspec": {
   "display_name": "Python 3.9.13 ('env': venv)",
   "language": "python",
   "name": "python3"
  },
  "language_info": {
   "codemirror_mode": {
    "name": "ipython",
    "version": 3
   },
   "file_extension": ".py",
   "mimetype": "text/x-python",
   "name": "python",
   "nbconvert_exporter": "python",
   "pygments_lexer": "ipython3",
   "version": "3.9.13"
  },
  "orig_nbformat": 4,
  "vscode": {
   "interpreter": {
    "hash": "aed8dc2bdf9a2b709b8b12a4e86b3759be2b0920be157d886bea8859581eae16"
   }
  }
 },
 "nbformat": 4,
 "nbformat_minor": 2
}
