{
 "cells": [
  {
   "cell_type": "code",
   "execution_count": 139,
   "metadata": {},
   "outputs": [],
   "source": [
    "import numpy as np\n",
    "import random"
   ]
  },
  {
   "cell_type": "code",
   "execution_count": 140,
   "metadata": {},
   "outputs": [
    {
     "name": "stdout",
     "output_type": "stream",
     "text": [
      "[0.7561548401009794, 0.058798600366252195, 0.0056074715009929825, 0.17943908803177544]\n",
      "2\n"
     ]
    }
   ],
   "source": [
    "nb_ant = 5\n",
    "nb_iter = 100\n",
    "alpha = 1\n",
    "beta = 5\n",
    "roh = 0.05\n",
    "Q = 1\n",
    "\n",
    "complete_graph = [\n",
    "  [0, 3, 5, 8, 4],\n",
    "  [3, 0, 2, 6, 7],\n",
    "  [5, 2, 0, 7, 1],\n",
    "  [8, 6, 7, 0, 9],\n",
    "  [4, 7, 1, 9, 0]\n",
    "]\n",
    "\n",
    "access = np.array([\n",
    "  [0,1,1,1,1],\n",
    "  [1,0,1,1,1],\n",
    "  [1,1,0,1,1],\n",
    "  [1,1,1,0,1],\n",
    "  [1,1,1,1,0]\n",
    "])\n",
    "\n",
    "pheromone = np.array([\n",
    "  [0,1,1,1,1],\n",
    "  [1,0,1,1,1],\n",
    "  [1,1,0,1,1],\n",
    "  [1,1,1,0,1],\n",
    "  [1,1,1,1,0]\n",
    "])\n",
    "\n",
    "def get_attraction(theta, alpha, nu, beta):\n",
    "  return np.power(theta, alpha) * np.power(nu, beta)\n",
    "\n",
    "def choose_edge(current_edge, pheromone, edges_access, complete_graph, alpha, beta):\n",
    "  accessible_edges = edges_access[current_edge]\n",
    "  accessible_pheromone = pheromone[current_edge]\n",
    "  edges_pheromones = accessible_pheromone * accessible_edges\n",
    "  probs = []\n",
    "  for i, edge_pheromone in enumerate(edges_pheromones):\n",
    "    if(edge_pheromone != 0):\n",
    "      total_sum = 0\n",
    "      for j, edge_pheromone_active in enumerate(edges_pheromones):\n",
    "        if(edge_pheromone_active != 0 or edge_pheromone_active == edge_pheromone):\n",
    "          total_sum += get_attraction(edge_pheromone_active, alpha, 1/complete_graph[current_edge][j], beta)\n",
    "      prob = get_attraction(edge_pheromone, alpha, 1/complete_graph[current_edge][i], beta) / total_sum\n",
    "      probs.append(prob)\n",
    "  print(probs)\n",
    "  data = np.array(range(len(edges_pheromones)))\n",
    "  data = np.delete(data, np.where(data == current_edge))\n",
    "  return random.choices(data, weights=probs)[0]\n",
    "\n",
    "print(choose_edge(0, pheromone, access, complete_graph, alpha, beta))\n",
    "\n",
    "def search():\n",
    "  \n",
    "\n",
    "def ant_hunt():\n",
    "  current_edge = random.randint(0, len(complete_graph)-1)\n",
    "  path = [current_edge]\n",
    "  while(current_edge != len(complete_graph) - 1):\n",
    "    current_edge = choose_edge(current_edge, pheromone, access, complete_graph, alpha, beta)\n",
    "    path.append(current_edge)\n",
    "  return path\n",
    "\n",
    "def drop_pheromone(path, pheromone, roh):\n",
    "  for i, edge in enumerate(path):\n",
    "    pheromone[path[i]][path[i+1]] = pheromone[path[i]][path[i+1]](1 - roh)\n",
    "  return pheromone"
   ]
  }
 ],
 "metadata": {
  "kernelspec": {
   "display_name": "Python 3.10.5 ('env': venv)",
   "language": "python",
   "name": "python3"
  },
  "language_info": {
   "codemirror_mode": {
    "name": "ipython",
    "version": 3
   },
   "file_extension": ".py",
   "mimetype": "text/x-python",
   "name": "python",
   "nbconvert_exporter": "python",
   "pygments_lexer": "ipython3",
   "version": "3.10.5"
  },
  "orig_nbformat": 4,
  "vscode": {
   "interpreter": {
    "hash": "d3a3da79b1061e50be83b59faa36c55b30abcf095f123e2fbf0696ba10bc3245"
   }
  }
 },
 "nbformat": 4,
 "nbformat_minor": 2
}
