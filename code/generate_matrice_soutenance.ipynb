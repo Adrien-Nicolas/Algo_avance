{
 "cells": [
  {
   "cell_type": "code",
   "execution_count": 1,
   "metadata": {},
   "outputs": [],
   "source": [
    "import numpy as np\n",
    "from ipyleaflet import Map, basemaps, basemap_to_tiles, CircleMarker, Polyline, AntPath\n",
    "from ipywidgets import HTML\n",
    "import pickle\n",
    "from dijkstar import Graph, find_path"
   ]
  },
  {
   "cell_type": "code",
   "execution_count": 2,
   "metadata": {},
   "outputs": [],
   "source": [
    "start_city = None\n",
    "delivery_city = []\n",
    "cities_chosen = []"
   ]
  },
  {
   "cell_type": "code",
   "execution_count": 3,
   "metadata": {},
   "outputs": [],
   "source": [
    "def convert_min_hour(nb_min):\n",
    "  nb_min += 8 * 60\n",
    "  nb_hour = nb_min // 60\n",
    "  nb_min = nb_min % 60\n",
    "  return str(nb_hour) + \"h\" + str(nb_min) + \"min\"\n",
    "\n",
    "def time_travel(graph, path):\n",
    "  time_travel = 0\n",
    "  time = {}\n",
    "  for i in range(len(path) - 1):\n",
    "    if path[i] not in time.keys():\n",
    "      time[path[i]] = [time_travel]\n",
    "    else:\n",
    "      time[path[i]].append(time_travel)\n",
    "    time_travel += graph[path[i]][path[i+1]]\n",
    "  time[path[i + 1]].append(time_travel)\n",
    "  return time\n",
    "\n",
    "def get_message(city, total_time):\n",
    "  output = \"\"\n",
    "  output += city['name']\n",
    "  for i, heures in enumerate(total_time[int(city[\"id\"])]):\n",
    "    output += \"<br> Passage \" + str(i + 1) + \" : \" + convert_min_hour(heures)\n",
    "  return output\n",
    "\n",
    "def draw_cities(m, time = False):\n",
    "  if time:\n",
    "    total_time = time_travel(graph, complete_path)\n",
    "  for city in cities:\n",
    "    popupMessage = HTML()\n",
    "    circle_marker = CircleMarker()\n",
    "    circle_marker.location = city['coords']\n",
    "    circle_marker.radius = 10\n",
    "    circle_marker.fill_opacity = 1\n",
    "    if city[\"name\"] == start_city:\n",
    "      circle_marker.color = \"red\"\n",
    "      circle_marker.fill_color = \"red\"\n",
    "      popupMessage.value = city['name']\n",
    "      if time :\n",
    "        popupMessage.value = get_message(city, total_time)\n",
    "    elif city['name'] in delivery_city:\n",
    "      circle_marker.color = \"orange\"\n",
    "      circle_marker.fill_color = \"orange\"\n",
    "      popupMessage.value = city['name']\n",
    "      if time :\n",
    "        popupMessage.value = get_message(city, total_time)\n",
    "    elif city['name'] in cities_chosen:\n",
    "      circle_marker.color = \"green\"\n",
    "      circle_marker.fill_color = \"green\"\n",
    "      popupMessage.value = city['name']\n",
    "      if time :\n",
    "        popupMessage.value = get_message(city, total_time)\n",
    "    else:\n",
    "      circle_marker.color = \"gray\"\n",
    "      circle_marker.fill_color = \"gray\"\n",
    "      popupMessage.value = city['name']\n",
    "    circle_marker.popup = popupMessage\n",
    "    m.add_layer(circle_marker)\n",
    "\n",
    "def draw_path(m, path):\n",
    "  path_list = []\n",
    "  for i in range(len(path) - 1):\n",
    "    path_list.append([cities[path[i]]['coords'], cities[path[i+1]]['coords']])\n",
    "  ant_path = AntPath(\n",
    "    locations=path_list,\n",
    "    dash_array=[1, 10],\n",
    "    delay=1000,\n",
    "    color='red',\n",
    "    pulse_color='pink'\n",
    "  )\n",
    "  m.add_layer(ant_path)\n",
    "\n",
    "def draw_lines(m, graph):\n",
    "  all_paths = []\n",
    "  for i in range(len(graph)):\n",
    "    for j in range(len(graph)):\n",
    "      if graph[i][j] != np.inf:\n",
    "        all_paths.append([cities[i]['coords'], cities[j]['coords']])\n",
    "  line = Polyline(\n",
    "      locations=all_paths,\n",
    "      color=\"gray\",\n",
    "      fill=False\n",
    "  )\n",
    "  m.add_layer(line)\n",
    "\n",
    "def convert_graph(graph):\n",
    "  graph_dijkstra = Graph()\n",
    "  for i in range(len(graph)):\n",
    "    for j in range(len(graph)):\n",
    "      graph_dijkstra.add_edge(i, j, graph[i][j])\n",
    "  return graph_dijkstra\n",
    "\n",
    "def get_distance_between_vertices(graph, i, j):\n",
    "  if (graph[i][j] != np.inf):\n",
    "    return graph[i][j], [i, j]\n",
    "  else:\n",
    "    if i != j:\n",
    "      shortest_path = find_path(graph, i,j)\n",
    "      return shortest_path.total_cost, shortest_path.nodes\n",
    "    else:\n",
    "      return 0, None\n",
    "\n",
    "def get_complete_graph(graph, vertices_list):\n",
    "  all_paths = {}\n",
    "  converted_graph = convert_graph(graph)\n",
    "  complete_graph = np.zeros((len(vertices_list), len(vertices_list)))\n",
    "  for vertex in vertices_list:\n",
    "    successors = np.delete(vertices_list, np.where(vertices_list == vertex))\n",
    "    for successor in successors:\n",
    "      distance, path = get_distance_between_vertices(converted_graph, vertex, successor)\n",
    "      i = np.where(np.array(vertices_list) == vertex)[0][0]\n",
    "      j = np.where(np.array(vertices_list) == successor)[0][0]\n",
    "      complete_graph[i][j] = distance\n",
    "      all_paths[(i, j)] = path\n",
    "  return complete_graph, all_paths\n",
    "\n",
    "def get_interval(hour_start, hour_end):\n",
    "  return ((hour_start - 8) * 60, (hour_end - 8) * 60)"
   ]
  },
  {
   "cell_type": "code",
   "execution_count": 4,
   "metadata": {},
   "outputs": [],
   "source": [
    "cities = [\n",
    "  {\n",
    "    \"id\": 0,\n",
    "    \"name\": \"Bezannes\",\n",
    "    \"coords\": (49.22363900671118, 3.9887723157745576)\n",
    "  },\n",
    "  {\n",
    "    \"id\" : 1,\n",
    "    \"name\": \"Bétheny\",\n",
    "    \"coords\": (49.285131827708035, 4.063798713400151)\n",
    "  },\n",
    "  {\n",
    "    \"id\" : 2,\n",
    "    \"name\": \"Cernay-les-Reims\",\n",
    "    \"coords\": (49.2642453710596, 4.1036913180272)\n",
    "  },\n",
    "  {\n",
    "    \"id\" : 3,\n",
    "    \"name\": \"Champfleury\",\n",
    "    \"coords\": (49.19818615812236, 4.019795395571029)\n",
    "  },\n",
    "  {\n",
    "    \"id\" : 4,\n",
    "    \"name\": \"Cormontreuil\",\n",
    "    \"coords\": (49.22264097621803, 4.049551196446118)\n",
    "  },\n",
    "  {\n",
    "    \"id\" : 5,\n",
    "    \"name\": \"Cruny\",\n",
    "    \"coords\": (49.257059457427616, 3.7369142978612735)\n",
    "  },\n",
    "  {\n",
    "    \"id\" : 6,\n",
    "    \"name\": \"Epoye\",\n",
    "    \"coords\": (49.29041023356542, 4.237901634457861)\n",
    "  },\n",
    "  {\n",
    "    \"id\" : 7,\n",
    "    \"name\": \"Jonchery-sur-vesle\",\n",
    "    \"coords\": (49.28752839149448, 3.8121724734582907)\n",
    "  },\n",
    "  {\n",
    "    \"id\" : 8,\n",
    "    \"name\": \"Muizon\",\n",
    "    \"coords\": (49.27682283902432, 3.889787835151326)\n",
    "  },\n",
    "  {\n",
    "    \"id\" : 9,\n",
    "    \"name\": \"Nogent-l'Abbesse\",\n",
    "    \"coords\": (49.25586664716424, 4.155845017046866)\n",
    "  },\n",
    "  {\n",
    "    \"id\" : 10,\n",
    "    \"name\": \"Poilly\",\n",
    "    \"coords\": (49.216141770809536, 3.8203569577722494)\n",
    "  },\n",
    "  {\n",
    "    \"id\" : 11,\n",
    "    \"name\": \"Reims\",\n",
    "    \"coords\": (49.258352984690276, 4.030731630624372)\n",
    "  },\n",
    "  {\n",
    "    \"id\" : 12,\n",
    "    \"name\": \"Taissy\",\n",
    "    \"coords\": (49.21423458122659, 4.093274461155123)\n",
    "  },\n",
    "  {\n",
    "    \"id\" : 13,\n",
    "    \"name\": \"Tinqueux\",\n",
    "    \"coords\": (49.24715898263178, 3.9988975225936736)\n",
    "  },\n",
    "  {\n",
    "    \"id\" : 14,\n",
    "    \"name\": \"Witry-les-Reims\",\n",
    "    \"coords\": (49.2933840208818, 4.125741773971905)\n",
    "  }\n",
    "]"
   ]
  },
  {
   "cell_type": "code",
   "execution_count": 5,
   "metadata": {},
   "outputs": [],
   "source": [
    "graph = [\n",
    "  [ np.inf, np.inf, np.inf, 12, np.inf, np.inf, np.inf, np.inf, np.inf, np.inf, 17, np.inf, np.inf, 7, np.inf],\n",
    "  [ np.inf, np.inf, 9, np.inf, np.inf, np.inf, np.inf, np.inf, 23, np.inf, np.inf, 17, np.inf, np.inf, 8],\n",
    "  [ np.inf, 9, np.inf, np.inf, 12, np.inf, np.inf, np.inf, np.inf, 7, np.inf, 15, np.inf, np.inf, 7],\n",
    "  [12, np.inf, np.inf, np.inf, 12, np.inf, np.inf, np.inf, np.inf, np.inf, 21, np.inf, 16, np.inf, np.inf],\n",
    "  [ np.inf, np.inf, 12, 12, np.inf, np.inf, np.inf, np.inf, np.inf, np.inf, np.inf, 15, 9, 14, np.inf],\n",
    "  [ np.inf, np.inf, np.inf, np.inf, np.inf, np.inf, np.inf, 13, np.inf, np.inf, 12, np.inf, np.inf, 28, np.inf],\n",
    "  [ np.inf, np.inf, np.inf, np.inf, np.inf, np.inf, np.inf, np.inf, np.inf, 8, np.inf, np.inf, np.inf, np.inf, 10],\n",
    "  [ np.inf, np.inf, np.inf, np.inf, np.inf, 13, np.inf, np.inf, 10, np.inf, np.inf, np.inf, np.inf, np.inf, np.inf],\n",
    "  [ np.inf, 23, np.inf, np.inf, np.inf, np.inf, np.inf, 10, np.inf, np.inf, np.inf, 19, np.inf, 13, np.inf],\n",
    "  [ np.inf, np.inf, 7, np.inf, np.inf, np.inf, 8, np.inf, np.inf, np.inf, np.inf, np.inf, 10, np.inf, np.inf],\n",
    "  [17, np.inf, np.inf, 21, np.inf, 12, np.inf, np.inf, np.inf, np.inf, np.inf, np.inf, np.inf, np.inf, np.inf],\n",
    "  [ np.inf, 17, 15, np.inf, 15, np.inf, np.inf, np.inf, 19, np.inf, np.inf, np.inf, np.inf, 13, np.inf],\n",
    "  [ np.inf, np.inf, np.inf, 16, 9, np.inf, np.inf, np.inf, np.inf, 10, np.inf, np.inf, np.inf, np.inf, np.inf],\n",
    "  [ 7, np.inf, np.inf, np.inf, 14, 28, np.inf, np.inf, 13, np.inf, np.inf, 13, np.inf, np.inf, np.inf],\n",
    "  [ np.inf, 8, 7, np.inf, np.inf, np.inf, 10, np.inf, np.inf, np.inf, np.inf, np.inf, np.inf, np.inf, np.inf]\n",
    "]"
   ]
  },
  {
   "cell_type": "code",
   "execution_count": 6,
   "metadata": {},
   "outputs": [
    {
     "data": {
      "application/vnd.jupyter.widget-view+json": {
       "model_id": "fbb4584d614c4d8ca8dbafd3099fa143",
       "version_major": 2,
       "version_minor": 0
      },
      "text/plain": [
       "Map(center=[49.258352984690276, 4.030731630624372], controls=(ZoomControl(options=['position', 'zoom_in_text',…"
      ]
     },
     "metadata": {},
     "output_type": "display_data"
    }
   ],
   "source": [
    "m_1 = Map(\n",
    "  basemap=basemap_to_tiles(basemaps.OpenStreetMap.Mapnik),\n",
    "  center=cities[11]['coords'],\n",
    "  zoom=10.5,\n",
    ")\n",
    "draw_cities(m_1)\n",
    "\n",
    "m_1"
   ]
  },
  {
   "cell_type": "code",
   "execution_count": 7,
   "metadata": {},
   "outputs": [
    {
     "data": {
      "application/vnd.jupyter.widget-view+json": {
       "model_id": "96dd74048c234fb58f122736f94ef902",
       "version_major": 2,
       "version_minor": 0
      },
      "text/plain": [
       "Map(center=[49.258352984690276, 4.030731630624372], controls=(ZoomControl(options=['position', 'zoom_in_text',…"
      ]
     },
     "metadata": {},
     "output_type": "display_data"
    }
   ],
   "source": [
    "m_1 = Map(\n",
    "  basemap=basemap_to_tiles(basemaps.OpenStreetMap.Mapnik),\n",
    "  center=cities[11]['coords'],\n",
    "  zoom=10.5,\n",
    ")\n",
    "\n",
    "draw_lines(m_1, graph)\n",
    "draw_cities(m_1)\n",
    "\n",
    "m_1"
   ]
  },
  {
   "cell_type": "code",
   "execution_count": 8,
   "metadata": {},
   "outputs": [],
   "source": [
    "start_city = \"Reims\"\n",
    "\n",
    "cities_chosen = [\"Bétheny\", \"Cruny\", \"Epoye\", \"Jonchery-sur-vesle\", \"Champfleury\", \"Cormontreuil\", \"Taissy\", \"Cernay-les-Reims\", \"Witry-les-Reims\"]"
   ]
  },
  {
   "cell_type": "code",
   "execution_count": 9,
   "metadata": {},
   "outputs": [
    {
     "data": {
      "application/vnd.jupyter.widget-view+json": {
       "model_id": "6ba99720b973440ca2b90a9042330073",
       "version_major": 2,
       "version_minor": 0
      },
      "text/plain": [
       "Map(center=[49.258352984690276, 4.030731630624372], controls=(ZoomControl(options=['position', 'zoom_in_text',…"
      ]
     },
     "metadata": {},
     "output_type": "display_data"
    }
   ],
   "source": [
    "m_1 = Map(\n",
    "  basemap=basemap_to_tiles(basemaps.OpenStreetMap.Mapnik),\n",
    "  center=cities[11]['coords'],\n",
    "  zoom=10.5,\n",
    ")\n",
    "\n",
    "draw_lines(m_1, graph)\n",
    "draw_cities(m_1)\n",
    "\n",
    "m_1"
   ]
  },
  {
   "cell_type": "code",
   "execution_count": 10,
   "metadata": {},
   "outputs": [],
   "source": [
    "cities_chosen.append(start_city)\n",
    "cities_chosen_index = [cities.index(next(city for city in cities if city['name'] == city_choose)) for city_choose in cities_chosen]\n",
    "\n",
    "complete_graph, all_paths = get_complete_graph(graph, cities_chosen_index)"
   ]
  },
  {
   "cell_type": "code",
   "execution_count": 11,
   "metadata": {},
   "outputs": [],
   "source": [
    "start_vertex = cities.index(next(city for city in cities if city['name'] == start_city))\n",
    "start_vertex_index = np.where(np.array(cities_chosen) == start_city)[0][0]\n",
    "\n",
    "data = {\n",
    "  \"graph\": graph,\n",
    "  \"complete_graph\": complete_graph,\n",
    "  \"all_paths\": all_paths,\n",
    "  \"vertices_list\": cities_chosen,\n",
    "  \"start_vertex\": start_vertex,\n",
    "  \"start_vertex_index\": start_vertex_index,\n",
    "  \"interval_vertex\": [12],\n",
    "  \"interval_vertex_index\": [6],\n",
    "  \"interval\": [(0,1000000000)],\n",
    "}\n",
    "\n",
    "with open('soutenance.pickle', 'wb') as file:\n",
    "    pickle.dump(data, file, protocol=pickle.HIGHEST_PROTOCOL)"
   ]
  },
  {
   "cell_type": "code",
   "execution_count": 12,
   "metadata": {},
   "outputs": [
    {
     "name": "stdout",
     "output_type": "stream",
     "text": [
      "156.0\n"
     ]
    }
   ],
   "source": [
    "with open(\"soutenance_path.pickle\", \"rb\") as file:\n",
    "  data = pickle.load(file)\n",
    "\n",
    "complete_path = data[\"complete_path\"]\n",
    "weight = data[\"weight\"]\n",
    "print(weight)"
   ]
  },
  {
   "cell_type": "code",
   "execution_count": 13,
   "metadata": {},
   "outputs": [
    {
     "data": {
      "application/vnd.jupyter.widget-view+json": {
       "model_id": "722e1d78183b4ab48760c7d71683f055",
       "version_major": 2,
       "version_minor": 0
      },
      "text/plain": [
       "Map(center=[49.258352984690276, 4.030731630624372], controls=(ZoomControl(options=['position', 'zoom_in_text',…"
      ]
     },
     "metadata": {},
     "output_type": "display_data"
    }
   ],
   "source": [
    "m_1 = Map(\n",
    "  basemap=basemap_to_tiles(basemaps.OpenStreetMap.Mapnik),\n",
    "  center=cities[11]['coords'],\n",
    "  zoom=10.5,\n",
    ")\n",
    "\n",
    "draw_lines(m_1, graph)\n",
    "draw_cities(m_1, True)\n",
    "draw_path(m_1, complete_path)\n",
    "\n",
    "m_1"
   ]
  },
  {
   "cell_type": "code",
   "execution_count": 14,
   "metadata": {},
   "outputs": [],
   "source": [
    "delivery_interval = [get_interval(8, 9), get_interval(9, 10),get_interval(11, 12)]\n",
    "delivery_city = [\"Cormontreuil\",\"Bétheny\", \"Jonchery-sur-vesle\"]"
   ]
  },
  {
   "cell_type": "code",
   "execution_count": 15,
   "metadata": {},
   "outputs": [],
   "source": [
    "interval_vertex = [cities.index(next(city for city in cities if city['name'] == delivery_cit)) for delivery_cit in delivery_city]\n",
    "interval_vertex_index = [np.where(np.array(cities_chosen) == delivery_cityy)[0][0] for delivery_cityy in delivery_city]\n",
    "\n",
    "data = {\n",
    "  \"graph\": graph,\n",
    "  \"complete_graph\": complete_graph,\n",
    "  \"all_paths\": all_paths,\n",
    "  \"vertices_list\": cities_chosen,\n",
    "  \"start_vertex\": start_vertex,\n",
    "  \"start_vertex_index\": start_vertex_index,\n",
    "  \"interval_vertex\": interval_vertex,\n",
    "  \"interval_vertex_index\": interval_vertex_index,\n",
    "  \"interval\": delivery_interval,\n",
    "}\n",
    "\n",
    "with open('soutenance_interval.pickle', 'wb') as file:\n",
    "    pickle.dump(data, file, protocol=pickle.HIGHEST_PROTOCOL)"
   ]
  },
  {
   "cell_type": "code",
   "execution_count": 16,
   "metadata": {},
   "outputs": [
    {
     "name": "stdout",
     "output_type": "stream",
     "text": [
      "209.0\n"
     ]
    }
   ],
   "source": [
    "with open(\"soutenance_interval_path.pickle\", \"rb\") as file:\n",
    "  data = pickle.load(file)\n",
    "\n",
    "complete_path = data[\"complete_path\"]\n",
    "weight = data[\"weight\"]\n",
    "print(weight)"
   ]
  },
  {
   "cell_type": "code",
   "execution_count": 17,
   "metadata": {},
   "outputs": [
    {
     "data": {
      "application/vnd.jupyter.widget-view+json": {
       "model_id": "4103aa61492146f7bd6e211d12cb3721",
       "version_major": 2,
       "version_minor": 0
      },
      "text/plain": [
       "Map(center=[49.258352984690276, 4.030731630624372], controls=(ZoomControl(options=['position', 'zoom_in_text',…"
      ]
     },
     "metadata": {},
     "output_type": "display_data"
    }
   ],
   "source": [
    "m_1 = Map(\n",
    "  basemap=basemap_to_tiles(basemaps.OpenStreetMap.Mapnik),\n",
    "  center=cities[11]['coords'],\n",
    "  zoom=10.5,\n",
    ")\n",
    "\n",
    "draw_lines(m_1, graph)\n",
    "draw_cities(m_1, True)\n",
    "draw_path(m_1, complete_path)\n",
    "\n",
    "m_1"
   ]
  }
 ],
 "metadata": {
  "kernelspec": {
   "display_name": "Python 3.10.5 ('env': venv)",
   "language": "python",
   "name": "python3"
  },
  "language_info": {
   "codemirror_mode": {
    "name": "ipython",
    "version": 3
   },
   "file_extension": ".py",
   "mimetype": "text/x-python",
   "name": "python",
   "nbconvert_exporter": "python",
   "pygments_lexer": "ipython3",
   "version": "3.10.5"
  },
  "orig_nbformat": 4,
  "vscode": {
   "interpreter": {
    "hash": "d3a3da79b1061e50be83b59faa36c55b30abcf095f123e2fbf0696ba10bc3245"
   }
  }
 },
 "nbformat": 4,
 "nbformat_minor": 2
}
