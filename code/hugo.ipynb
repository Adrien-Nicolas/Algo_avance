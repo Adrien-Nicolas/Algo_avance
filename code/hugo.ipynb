{
 "cells": [
  {
   "cell_type": "code",
   "execution_count": 43,
   "metadata": {},
   "outputs": [],
   "source": [
    "import random\n",
    "import numpy as np\n",
    "import networkx as nx \n",
    "from dijkstar import Graph, find_path\n",
    "from ipywidgets import IntProgress \n",
    "from IPython.display import display"
   ]
  },
  {
   "cell_type": "code",
   "execution_count": 44,
   "metadata": {},
   "outputs": [],
   "source": [
    "def get_complete_path(path, all_paths):\n",
    "  complete_path = []\n",
    "  for i in range(len(path) - 1):\n",
    "    complete_path.extend(all_paths[(path[i], path[i+1])][:-1])\n",
    "    if i == len(path) - 2:\n",
    "      complete_path.append(all_paths[(path[i], path[i+1])][-1])\n",
    "  return complete_path\n",
    "\n",
    "def is_path_in_interval(path, complete_graph, interval, interval_vertex):\n",
    "  weight = 0\n",
    "  for i in range(np.where(np.array(path) == interval_vertex)[0][0]):\n",
    "    weight += complete_graph[path[i]][path[i+1]]\n",
    "  if weight >= interval[0] and weight <= interval[1]:\n",
    "    return True\n",
    "  else:\n",
    "    return False"
   ]
  },
  {
   "cell_type": "code",
   "execution_count": 45,
   "metadata": {},
   "outputs": [],
   "source": [
    "population_number = 500\n",
    "generation_number = 500"
   ]
  },
  {
   "cell_type": "code",
   "execution_count": 46,
   "metadata": {},
   "outputs": [],
   "source": [
    "def get_path_weight(path, complete_graph):\n",
    "  weight = 0\n",
    "  for i in range(len(path) - 1):\n",
    "    weight += complete_graph[path[i]][path[i+1]]\n",
    "  return weight\n",
    "\n",
    "def generate_population(nb_people, complete_graph, interval, interval_vertex, start_vertex):\n",
    "  population = []\n",
    "  while(len(population) < nb_people):\n",
    "    path = generate_random_path(len(complete_graph), start_vertex)\n",
    "    if is_path_in_interval(path, complete_graph, interval, interval_vertex):\n",
    "      population.append(path)\n",
    "  return population\n",
    "\n",
    "def get_best_path(population, weights):\n",
    "  index = np.argmin(weights)\n",
    "  return population[index], weights[index]\n"
   ]
  },
  {
   "cell_type": "code",
   "execution_count": 47,
   "metadata": {},
   "outputs": [],
   "source": [
    "def mutate_path_insert(path, complete_graph, interval, interval_vertex):\n",
    "  is_path_correct = False\n",
    "  while not is_path_correct:\n",
    "    start = path[0]\n",
    "    path = np.delete(path, np.where(path == start))\n",
    "    mutation = random.choice(path)\n",
    "    path = np.delete(path, np.where(path == mutation))\n",
    "    new_index = random.randint(0, len(path) - 1)\n",
    "    path = np.insert(path, new_index, mutation)\n",
    "    path = np.append(path, start)\n",
    "    path = np.insert(path, 0, start)\n",
    "    is_path_correct = is_path_in_interval(path, complete_graph, interval, interval_vertex)\n",
    "  return path\n",
    "\n",
    "def generate_children(parentA, parentB, complete_graph, interval, interval_vertex):\n",
    "  start = parentA[0]\n",
    "  parentA = np.delete(parentA, np.where(np.array(parentA) == start))\n",
    "  parentB = np.delete(parentB, np.where(np.array(parentB) == start))\n",
    "  is_path_correct = False\n",
    "  while not is_path_correct:\n",
    "    cut_start = random.randint(0, len(parentA) - 2)\n",
    "    cut_end = random.randint(cut_start + 1, len(parentA) - 1)\n",
    "    child = parentA[cut_start:cut_end]\n",
    "    for i in child:\n",
    "      remaining_parentB = np.delete(parentB, np.where(parentB == i))\n",
    "    child = np.insert(child, len(child), remaining_parentB)\n",
    "    child = np.append(child, start)\n",
    "    child = np.insert(child, 0, start)\n",
    "    is_path_correct = is_path_in_interval(child, complete_graph, interval, interval_vertex)\n",
    "  return child\n",
    "\n",
    "def generate_random_path(nb_vertex, start_vertex):\n",
    "  path = np.arange(nb_vertex)\n",
    "  path = np.delete(path, np.where(path == start_vertex))\n",
    "  np.random.shuffle(path)\n",
    "  path = np.append(path, start_vertex)\n",
    "  path = np.insert(path, 0, start_vertex)\n",
    "  return path\n",
    "\n",
    "def get_best_population(population):\n",
    "  return np.argpartition(population, -int(len(population)/4))[:int(len(population)/4)]\n",
    "\n",
    "def generate_decency(population_number, best_people, complete_graph, interval, interval_vertex_index):\n",
    "  children = []\n",
    "  for _ in range(population_number):\n",
    "    P1 = random.choice(best_people)\n",
    "    # child = generate_children(P1, P2, complete_graph, interval, interval_vertex_index)\n",
    "    child = mutate_path_insert(P1, complete_graph, interval, interval_vertex_index)\n",
    "    children.append(child)\n",
    "  return children\n",
    "\n",
    "def evalute_population_weight(population, complete_graph):\n",
    "  weights = []\n",
    "  for path in population:\n",
    "    weight = get_path_weight(path, complete_graph)\n",
    "    weights.append(weight)\n",
    "  return weights\n",
    "\n",
    "def evolve(population, complete_graph, interval, interval_vertex_index):\n",
    "  best_weight = np.inf\n",
    "  best_path = []\n",
    "  all_best_weights = np.array([])\n",
    "  bar = IntProgress(min=0, max=generation_number, layout={\"width\" : \"100%\"})\n",
    "  display(bar)\n",
    "  for i in range(generation_number):\n",
    "    bar.value += 1\n",
    "    weights = evalute_population_weight(population, complete_graph)\n",
    "    best_pop_path, best_pop_weight = get_best_path(population, weights)\n",
    "    all_best_weights = np.append(all_best_weights,best_pop_weight)\n",
    "    if(best_pop_weight < best_weight):\n",
    "      best_weight = best_pop_weight\n",
    "      best_path = best_pop_path\n",
    "    best_people = np.array(population)[get_best_population(weights)]\n",
    "    population = generate_decency(population_number, best_people, complete_graph, interval, interval_vertex_index)\n",
    "  bar.close()\n",
    "  return best_path, best_weight, all_best_weights"
   ]
  },
  {
   "cell_type": "code",
   "execution_count": 48,
   "metadata": {},
   "outputs": [
    {
     "data": {
      "application/vnd.jupyter.widget-view+json": {
       "model_id": "d15d71772ea2459fa46059ef2d2b77d6",
       "version_major": 2,
       "version_minor": 0
      },
      "text/plain": [
       "IntProgress(value=0, layout=Layout(width='100%'), max=500)"
      ]
     },
     "metadata": {},
     "output_type": "display_data"
    },
    {
     "name": "stdout",
     "output_type": "stream",
     "text": [
      "[46 37  6  7 12 43 18 48  9 28 33 16 29 15 36 34 21  0  2 27 44  5 24  3\n",
      " 30  8 31 13 19 38 22 11 39 40 41 10  4  1 26 32 35 49 25 20 14 23 47 42\n",
      " 17 45 46] 1068.0\n"
     ]
    }
   ],
   "source": [
    "import pickle\n",
    "with open(\"data.pickle\", \"rb\") as file:\n",
    "  data = pickle.load(file)\n",
    "\n",
    "graph = data[\"graph\"]\n",
    "complete_graph = data[\"complete_graph\"]\n",
    "all_paths = data[\"all_paths\"]\n",
    "vertices_list = data[\"vertices_list\"]\n",
    "start_vertex = data[\"start_vertex\"]\n",
    "start_vertex_index = data[\"start_vertex_index\"]\n",
    "interval_vertex = data[\"interval_vertex\"]\n",
    "interval_vertex_index = data[\"interval_vertex_index\"]\n",
    "interval = data[\"interval\"]\n",
    "\n",
    "population = generate_population(population_number, complete_graph, interval, interval_vertex_index, start_vertex_index)\n",
    "best_path, best_weight, all_best_weights = evolve(population, complete_graph, interval, interval_vertex_index)\n",
    "print(best_path, best_weight)"
   ]
  },
  {
   "cell_type": "code",
   "execution_count": 49,
   "metadata": {},
   "outputs": [
    {
     "data": {
      "text/plain": [
       "Text(0, 0.5, 'weight')"
      ]
     },
     "execution_count": 49,
     "metadata": {},
     "output_type": "execute_result"
    },
    {
     "data": {
      "image/png": "[encoded data removed]",
      "text/plain": [
       "<Figure size 432x288 with 1 Axes>"
      ]
     },
     "metadata": {
      "needs_background": "light"
     },
     "output_type": "display_data"
    }
   ],
   "source": [
    "import matplotlib.pyplot as plt\n",
    "\n",
    "res = plt.plot(range(len(all_best_weights)), all_best_weights)\n",
    "plt.xlabel(\"generation\", fontsize=16)\n",
    "plt.ylabel(\"weight\", fontsize=16)"
   ]
  }
 ],
 "metadata": {
  "kernelspec": {
   "display_name": "Python 3.10.5 ('env': venv)",
   "language": "python",
   "name": "python3"
  },
  "language_info": {
   "codemirror_mode": {
    "name": "ipython",
    "version": 3
   },
   "file_extension": ".py",
   "mimetype": "text/x-python",
   "name": "python",
   "nbconvert_exporter": "python",
   "pygments_lexer": "ipython3",
   "version": "3.10.5"
  },
  "orig_nbformat": 4,
  "vscode": {
   "interpreter": {
    "hash": "d3a3da79b1061e50be83b59faa36c55b30abcf095f123e2fbf0696ba10bc3245"
   }
  }
 },
 "nbformat": 4,
 "nbformat_minor": 2
}
