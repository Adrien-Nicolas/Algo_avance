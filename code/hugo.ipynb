{
 "cells": [
  {
   "cell_type": "code",
   "execution_count": 1,
   "metadata": {},
   "outputs": [],
   "source": [
    "import random\n",
    "import numpy as np\n",
    "import networkx as nx \n",
    "from dijkstar import Graph, find_path\n",
    "from ipywidgets import IntProgress \n",
    "from IPython.display import display"
   ]
  },
  {
   "cell_type": "code",
   "execution_count": 2,
   "metadata": {},
   "outputs": [],
   "source": [
    "def generate_instance_matrix(nb_vertex, min_weight, max_weight, density):\n",
    "  graph = np.ones((nb_vertex, nb_vertex)) * np.inf\n",
    "  for i in range(nb_vertex - 1):\n",
    "    for j in range(i+1, nb_vertex):\n",
    "      if random.uniform(0, 1) < density:\n",
    "        weight = random.randint(min_weight, max_weight)\n",
    "        graph[i, j] = weight\n",
    "        graph[j, i] = weight\n",
    "  for i, successors in enumerate(graph):\n",
    "    index_zeros = np.where(successors == np.inf)[0]\n",
    "    index_zeros = np.delete(index_zeros, np.where(index_zeros == i))\n",
    "    for j in range(len(index_zeros) - (nb_vertex - 3)):\n",
    "      index = random.choice(index_zeros)\n",
    "      index_zeros = np.delete(index_zeros, np.where(index_zeros == index))\n",
    "      weight = random.randint(min_weight, max_weight)\n",
    "      graph[i, index] = weight\n",
    "      graph[index, i] = weight\n",
    "  return graph\n",
    "\n",
    "def convert_graph(graph):\n",
    "  graph_dijkstra = Graph()\n",
    "  for i in range(len(graph)):\n",
    "    for j in range(len(graph)):\n",
    "      graph_dijkstra.add_edge(i, j,graph[i][j])\n",
    "  return graph_dijkstra\n",
    "\n",
    "def get_distance_between_vertices(graph, i, j):\n",
    "  if (graph[i][j] != np.inf):\n",
    "    return graph[i][j], [i, j]\n",
    "  else:\n",
    "    if i != j:\n",
    "      shortest_path = find_path(graph, i,j)\n",
    "      return shortest_path.total_cost, shortest_path.nodes\n",
    "    else:\n",
    "      return 0, None\n",
    "\n",
    "def get_complete_graph(graph, vertices_list):\n",
    "  all_paths = {}\n",
    "  converted_graph = convert_graph(graph)\n",
    "  complete_graph = np.zeros((len(vertices_list), len(vertices_list)))\n",
    "  bar = IntProgress(min=0, max=len(vertices_list), layout={\"width\" : \"100%\"})\n",
    "  display(bar)\n",
    "  for vertex in vertices_list:\n",
    "    successors = np.delete(vertices_list, np.where(vertices_list == vertex))\n",
    "    bar.value += 1\n",
    "    for successor in successors:\n",
    "      distance, path = get_distance_between_vertices(converted_graph, vertex, successor)\n",
    "      i = np.where(vertices_list == vertex)[0][0]\n",
    "      j = np.where(vertices_list == successor)[0][0]\n",
    "      complete_graph[i][j] = distance\n",
    "      all_paths[(i, j)] = path\n",
    "  bar.close()\n",
    "  return complete_graph, all_paths\n",
    "\n",
    "def get_random_vertices_list(size, nb_vertex):\n",
    "  random_vertices_list = []\n",
    "  all_vertex = np.array(range(size))\n",
    "  for _ in range(nb_vertex):\n",
    "    value = random.choice(all_vertex)\n",
    "    random_vertices_list.append(value)\n",
    "    all_vertex = np.delete(all_vertex, np.where(all_vertex == value))\n",
    "  return np.array(random_vertices_list)\n",
    "\n",
    "def generate_interval():\n",
    "  interval = random.choice(range(1,4))\n",
    "  shift = random.choice(range(0, 11-interval))\n",
    "  return (shift*60, (shift+interval)*60)\n",
    "\n",
    "def generate_instance(nb_vertex_matrix, min_weight, max_weight, density, vertices_list):\n",
    "  graph = generate_instance_matrix(nb_vertex_matrix, min_weight, max_weight, density)\n",
    "  complete_graph, all_paths = get_complete_graph(graph, vertices_list)\n",
    "  return graph, complete_graph, all_paths\n",
    "\n",
    "def get_complete_path(path, all_paths):\n",
    "  complete_path = []\n",
    "  for i in range(len(path) - 1):\n",
    "    complete_path.extend(all_paths[(path[i], path[i+1])][:-1])\n",
    "    if i == len(path) - 2:\n",
    "      complete_path.append(all_paths[(path[i], path[i+1])][-1])\n",
    "  return complete_path\n",
    "\n",
    "def is_path_in_interval(path, complete_graph, interval, interval_vertex):\n",
    "  weight = 0\n",
    "  for i in range(np.where(np.array(path) == interval_vertex)[0][0]):\n",
    "    weight += complete_graph[path[i]][path[i+1]]\n",
    "  if weight >= interval[0] and weight <= interval[1]:\n",
    "    return True\n",
    "  else:\n",
    "    return False\n",
    "\n",
    "def generate_neighbours(path, complete_graph, interval, interval_vertex):\n",
    "  neighbours = []\n",
    "  for i in range(len(path)):\n",
    "    for j in range(i + 1, len(path)):\n",
    "      new_neighbour = path.copy()\n",
    "      new_neighbour[i] = path[j]\n",
    "      new_neighbour[j] = path[i]\n",
    "      if is_path_in_interval(new_neighbour, complete_graph, interval, interval_vertex):\n",
    "        neighbours.append(new_neighbour)\n",
    "  return neighbours\n",
    "\n",
    "def generate_random_path(nb_vertex, start_vertex):\n",
    "  path = np.arange(nb_vertex)\n",
    "  path = np.delete(path, np.where(path == start_vertex))\n",
    "  np.random.shuffle(path)\n",
    "  path = np.append(path, start_vertex)\n",
    "  path = np.insert(path, 0, start_vertex)\n",
    "  return path\n",
    "\n",
    "def get_random_vertex(random_vertex):\n",
    "  return random.choice(random_vertex)"
   ]
  },
  {
   "cell_type": "code",
   "execution_count": 3,
   "metadata": {},
   "outputs": [],
   "source": [
    "# variables\n",
    "nb_vertex_matrix = 200\n",
    "min_weight = 10\n",
    "max_weight = 30\n",
    "density = 0.7\n",
    "nb_vertex_chosen = 100\n",
    "population_number = 200\n",
    "generation_number = 200"
   ]
  },
  {
   "cell_type": "code",
   "execution_count": 4,
   "metadata": {},
   "outputs": [
    {
     "data": {
      "application/vnd.jupyter.widget-view+json": {
       "model_id": "6a8af613f5c34b75917fe7b427156d50",
       "version_major": 2,
       "version_minor": 0
      },
      "text/plain": [
       "IntProgress(value=0, layout=Layout(width='100%'))"
      ]
     },
     "metadata": {},
     "output_type": "display_data"
    },
    {
     "name": "stdout",
     "output_type": "stream",
     "text": [
      "vertices_list : [  9  21  32  58 199  82  44  34  33  39 115 127  23  72  30  10 121 131\n",
      " 114  36  47 117  74  52 132  66 190 183  46 120 151  69  59 177  19 118\n",
      " 175 186 195 152 173 189 168  83 142  41 182  51  60  40  65  27  29 159\n",
      "  90  24  48  75 154  63 139 196 192 194   3  97 188  22 141 181  95  43\n",
      " 133 108  14 193  57  86 191 122  89  80 164  81   1  20 116 105 172  73\n",
      "  18  78  67 169 123  35 166  54 112  37]\n",
      "start_vertex : 44\n",
      "start_vertex_index : 6\n",
      "interval_vertex : 175\n",
      "interval_vertex_index : 36\n",
      "interval : (420, 480)\n",
      "complete_graph :\n",
      "[[ 0. 26. 21. ... 27. 24. 11.]\n",
      " [26.  0. 27. ... 28. 20. 23.]\n",
      " [21. 27.  0. ... 20. 22. 13.]\n",
      " ...\n",
      " [27. 28. 20. ...  0. 20. 24.]\n",
      " [24. 20. 22. ... 20.  0. 22.]\n",
      " [11. 23. 13. ... 24. 22.  0.]]\n"
     ]
    }
   ],
   "source": [
    "#random generation of a list of vertex among all the vertex available\n",
    "vertices_list = get_random_vertices_list(nb_vertex_matrix, nb_vertex_chosen)\n",
    "\n",
    "start_vertex = get_random_vertex(vertices_list)\n",
    "start_vertex_index = np.where(vertices_list == start_vertex)[0][0]\n",
    "\n",
    "interval_vertex = get_random_vertex(vertices_list)\n",
    "interval_vertex_index = np.where(vertices_list == interval_vertex)[0][0]\n",
    "\n",
    "interval = generate_interval()\n",
    "\n",
    "interval = (0,100000000)\n",
    "\n",
    "# generation of the graph, the complete graph and the list of all paths\n",
    "graph, complete_graph, all_paths =\\\n",
    "generate_instance(\n",
    "  nb_vertex_matrix = nb_vertex_matrix,\n",
    "  min_weight = min_weight,\n",
    "  max_weight = max_weight,\n",
    "  vertices_list = vertices_list,\n",
    "  density = density\n",
    ")\n",
    "\n",
    "print(\"vertices_list :\", vertices_list)\n",
    "print(\"start_vertex :\", start_vertex)\n",
    "print(\"start_vertex_index :\", start_vertex_index)\n",
    "print(\"interval_vertex :\", interval_vertex)\n",
    "print(\"interval_vertex_index :\", interval_vertex_index)\n",
    "print(\"interval :\", interval)\n",
    "print(\"complete_graph :\")\n",
    "print(complete_graph)"
   ]
  },
  {
   "cell_type": "code",
   "execution_count": 5,
   "metadata": {},
   "outputs": [],
   "source": [
    "# generate the neighbours of a path\n",
    "# neighbours = generate_neighbours(path, complete_graph, interval, 4)"
   ]
  },
  {
   "cell_type": "code",
   "execution_count": 6,
   "metadata": {},
   "outputs": [],
   "source": [
    "\n",
    "# complete_path = get_complete_path(path, all_paths)\n",
    "# print(complete_path)"
   ]
  },
  {
   "cell_type": "code",
   "execution_count": 7,
   "metadata": {},
   "outputs": [],
   "source": [
    "def get_path_weight(path, complete_graph):\n",
    "  weight = 0\n",
    "  for i in range(len(path) - 1):\n",
    "    weight += complete_graph[path[i]][path[i+1]]\n",
    "  return weight\n",
    "\n",
    "def generate_population(nb_people, complete_graph, interval, interval_vertex, start_vertex):\n",
    "  population = []\n",
    "  while(len(population) < nb_people):\n",
    "    path = generate_random_path(len(complete_graph), start_vertex)\n",
    "    if is_path_in_interval(path, complete_graph, interval, interval_vertex):\n",
    "      population.append(path)\n",
    "  return population\n",
    "\n",
    "def get_best_path(population, weights):\n",
    "  index = np.argmin(weights)\n",
    "  return population[index], weights[index]\n"
   ]
  },
  {
   "cell_type": "code",
   "execution_count": 8,
   "metadata": {},
   "outputs": [],
   "source": [
    "def mutate_path_insert(path, complete_graph, interval, interval_vertex):\n",
    "  is_path_correct = False\n",
    "  while not is_path_correct:\n",
    "    start = path[0]\n",
    "    path = np.delete(path, np.where(path == start))\n",
    "    mutation = random.choice(path)\n",
    "    path = np.delete(path, np.where(path == mutation))\n",
    "    new_index = random.randint(0, len(path) - 1)\n",
    "    path = np.insert(path, new_index, mutation)\n",
    "    path = np.append(path, start)\n",
    "    path = np.insert(path, 0, start)\n",
    "    is_path_correct = is_path_in_interval(path, complete_graph, interval, interval_vertex)\n",
    "  return path\n",
    "\n",
    "def generate_children(parentA, parentB, complete_graph, interval, interval_vertex):\n",
    "  start = parentA[0]\n",
    "  parentA = np.delete(parentA, np.where(np.array(parentA) == start))\n",
    "  parentB = np.delete(parentB, np.where(np.array(parentB) == start))\n",
    "  is_path_correct = False\n",
    "  while not is_path_correct:\n",
    "    cut_start = random.randint(0, len(parentA) - 2)\n",
    "    cut_end = random.randint(cut_start + 1, len(parentA) - 1)\n",
    "    child = parentA[cut_start:cut_end]\n",
    "    for i in child:\n",
    "      remaining_parentB = np.delete(parentB, np.where(parentB == i))\n",
    "    child = np.insert(child, len(child), remaining_parentB)\n",
    "    child = np.append(child, start)\n",
    "    child = np.insert(child, 0, start)\n",
    "    is_path_correct = is_path_in_interval(child, complete_graph, interval, interval_vertex)\n",
    "  return child\n",
    "\n",
    "def generate_random_path(nb_vertex, start_vertex):\n",
    "  path = np.arange(nb_vertex)\n",
    "  path = np.delete(path, np.where(path == start_vertex))\n",
    "  np.random.shuffle(path)\n",
    "  path = np.append(path, start_vertex)\n",
    "  path = np.insert(path, 0, start_vertex)\n",
    "  return path\n",
    "\n",
    "def get_best_population(population):\n",
    "  return np.argpartition(population, -int(len(population)/4))[:int(len(population)/4)]\n",
    "\n",
    "def generate_decency(population_number, best_people, complete_graph, interval, interval_vertex_index):\n",
    "  children = []\n",
    "  for _ in range(population_number):\n",
    "    P1 = random.choice(best_people)\n",
    "    # child = generate_children(P1, P2, complete_graph, interval, interval_vertex_index)\n",
    "    child = mutate_path_insert(P1, complete_graph, interval, interval_vertex_index)\n",
    "    children.append(child)\n",
    "  return children\n",
    "\n",
    "def evalute_population_weight(population, complete_graph):\n",
    "  weights = []\n",
    "  for path in population:\n",
    "    weight = get_path_weight(path, complete_graph)\n",
    "    weights.append(weight)\n",
    "  return weights\n",
    "\n",
    "def evolve(population, complete_graph, interval, interval_vertex_index):\n",
    "  best_weight = np.inf\n",
    "  best_path = []\n",
    "  all_best_weights = np.array([])\n",
    "  bar = IntProgress(min=0, max=generation_number, layout={\"width\" : \"100%\"})\n",
    "  display(bar)\n",
    "  for i in range(generation_number):\n",
    "    bar.value += 1\n",
    "    weights = evalute_population_weight(population, complete_graph)\n",
    "    best_pop_path, best_pop_weight = get_best_path(population, weights)\n",
    "    all_best_weights = np.append(all_best_weights,best_pop_weight)\n",
    "    if(best_pop_weight < best_weight):\n",
    "      best_weight = best_pop_weight\n",
    "      best_path = best_pop_path\n",
    "    best_people = np.array(population)[get_best_population(weights)]\n",
    "    population = generate_decency(population_number, best_people, complete_graph, interval, interval_vertex_index)\n",
    "  bar.close()\n",
    "  return best_path, best_weight, all_best_weights"
   ]
  },
  {
   "cell_type": "code",
   "execution_count": 12,
   "metadata": {},
   "outputs": [
    {
     "data": {
      "application/vnd.jupyter.widget-view+json": {
       "model_id": "67e06382f1b4404fb729459af231bd34",
       "version_major": 2,
       "version_minor": 0
      },
      "text/plain": [
       "IntProgress(value=0, layout=Layout(width='100%'), max=200)"
      ]
     },
     "metadata": {},
     "output_type": "display_data"
    },
    {
     "name": "stdout",
     "output_type": "stream",
     "text": [
      "[ 6 56 66  9 46 34 71 74 18 63 76 41 53 64 69 81 87 55 24 49 27 16 37 84\n",
      " 57 48 51 93 88 32 13 60 31 22 94 39 96 68 77 75 29  8 25 91 52 95 14 72\n",
      " 78 92 85 58 70 36 80 20 62 42 90 67 97 43 89 19 79  4 28 38 65  3 98 12\n",
      " 47 59 40 45 82 33 30 73 35  0 54  2  7 44  5  1 15 21 99 10 50 17 26 86\n",
      " 11 83 23 61  6] 1500.0\n"
     ]
    }
   ],
   "source": [
    "population = generate_population(population_number, complete_graph, interval, interval_vertex_index, start_vertex_index)\n",
    "best_path, best_weight, all_best_weights = evolve(population, complete_graph, interval, interval_vertex_index)\n",
    "print(best_path, best_weight)\n",
    "# print(complete_graph)"
   ]
  },
  {
   "cell_type": "code",
   "execution_count": 13,
   "metadata": {},
   "outputs": [
    {
     "data": {
      "text/plain": [
       "Text(0, 0.5, 'weight')"
      ]
     },
     "execution_count": 13,
     "metadata": {},
     "output_type": "execute_result"
    },
    {
     "data": {
      "image/png": "[encoded data removed]",
      "text/plain": [
       "<Figure size 432x288 with 1 Axes>"
      ]
     },
     "metadata": {
      "needs_background": "light"
     },
     "output_type": "display_data"
    }
   ],
   "source": [
    "import matplotlib.pyplot as plt\n",
    "\n",
    "res = plt.plot(range(len(all_best_weights)), all_best_weights)\n",
    "plt.xlabel(\"generation\", fontsize=16)\n",
    "plt.ylabel(\"weight\", fontsize=16)"
   ]
  }
 ],
 "metadata": {
  "kernelspec": {
   "display_name": "Python 3.10.5 ('env': venv)",
   "language": "python",
   "name": "python3"
  },
  "language_info": {
   "codemirror_mode": {
    "name": "ipython",
    "version": 3
   },
   "file_extension": ".py",
   "mimetype": "text/x-python",
   "name": "python",
   "nbconvert_exporter": "python",
   "pygments_lexer": "ipython3",
   "version": "3.10.5"
  },
  "orig_nbformat": 4,
  "vscode": {
   "interpreter": {
    "hash": "d3a3da79b1061e50be83b59faa36c55b30abcf095f123e2fbf0696ba10bc3245"
   }
  }
 },
 "nbformat": 4,
 "nbformat_minor": 2
}
