{
 "cells": [
  {
   "cell_type": "code",
   "execution_count": 8,
   "metadata": {},
   "outputs": [],
   "source": [
    "import random\n",
    "import numpy as np\n",
    "import networkx as nx \n",
    "from dijkstar import Graph, find_path\n",
    "from ipywidgets import IntProgress \n",
    "from IPython.display import display\n",
    "import matplotlib.pyplot as plt"
   ]
  },
  {
   "cell_type": "code",
   "execution_count": 9,
   "metadata": {},
   "outputs": [],
   "source": [
    "def get_complete_path(path, all_paths):\n",
    "  complete_path = []\n",
    "  for i in range(len(path) - 1):\n",
    "    complete_path.extend(all_paths[(path[i], path[i+1])][:-1])\n",
    "    if i == len(path) - 2:\n",
    "      complete_path.append(all_paths[(path[i], path[i+1])][-1])\n",
    "  return complete_path\n",
    "\n",
    "def is_path_in_interval(path, complete_graph, intervals, interval_vertex):\n",
    "  for index in range(len(interval_vertex)):\n",
    "    weight = 0\n",
    "    for i in range(np.where(np.array(path) == interval_vertex[index])[0][0]):\n",
    "      weight += complete_graph[path[i]][path[i+1]]\n",
    "    if weight < intervals[index][0] or weight > intervals[index][1]:\n",
    "      return False\n",
    "  return True"
   ]
  },
  {
   "cell_type": "code",
   "execution_count": 10,
   "metadata": {},
   "outputs": [],
   "source": [
    "def get_path_weight(path, complete_graph):\n",
    "  weight = 0\n",
    "  for i in range(len(path) - 1):\n",
    "    weight += complete_graph[path[i]][path[i+1]]\n",
    "  return weight\n",
    "\n",
    "def generate_population(nb_people, complete_graph, interval, interval_vertex, start_vertex):\n",
    "  population = []\n",
    "  bar = IntProgress(min=0, max=nb_people, layout={\"width\" : \"100%\"})\n",
    "  display(bar)\n",
    "  while(len(population) < nb_people):\n",
    "    path = generate_random_path(len(complete_graph), start_vertex)\n",
    "    if is_path_in_interval(path, complete_graph, interval, interval_vertex):\n",
    "      population.append(path)\n",
    "      bar.value += 1\n",
    "  bar.close()    \n",
    "  return population\n",
    "\n",
    "def get_best_path(population, weights):\n",
    "  index = np.argmin(weights)\n",
    "  return population[index], weights[index]\n"
   ]
  },
  {
   "cell_type": "code",
   "execution_count": 11,
   "metadata": {},
   "outputs": [],
   "source": [
    "def mutate_path_insert(path, complete_graph, interval, interval_vertex):\n",
    "  is_path_correct = False\n",
    "  while not is_path_correct:\n",
    "    start = path[0]\n",
    "    path = np.delete(path, np.where(path == start))\n",
    "    mutation = random.choice(path)\n",
    "    path = np.delete(path, np.where(path == mutation))\n",
    "    new_index = random.randint(0, len(path) - 1)\n",
    "    path = np.insert(path, new_index, mutation)\n",
    "    path = np.append(path, start)\n",
    "    path = np.insert(path, 0, start)\n",
    "    is_path_correct = is_path_in_interval(path, complete_graph, interval, interval_vertex)\n",
    "  return path\n",
    "\n",
    "def generate_children(parentA, parentB, complete_graph, interval, interval_vertex):\n",
    "  start = parentA[0]\n",
    "  parentA = np.delete(parentA, np.where(np.array(parentA) == start))\n",
    "  parentB = np.delete(parentB, np.where(np.array(parentB) == start))\n",
    "  is_path_correct = False\n",
    "  while not is_path_correct:\n",
    "    cut_start = random.randint(0, len(parentA) - 2)\n",
    "    cut_end = random.randint(cut_start + 1, len(parentA) - 1)\n",
    "    child = parentA[cut_start:cut_end]\n",
    "    for i in child:\n",
    "      remaining_parentB = np.delete(parentB, np.where(parentB == i))\n",
    "    child = np.insert(child, len(child), remaining_parentB)\n",
    "    child = np.append(child, start)\n",
    "    child = np.insert(child, 0, start)\n",
    "    is_path_correct = is_path_in_interval(child, complete_graph, interval, interval_vertex)\n",
    "  return child\n",
    "\n",
    "def generate_random_path(nb_vertex, start_vertex):\n",
    "  path = np.arange(nb_vertex)\n",
    "  path = np.delete(path, np.where(path == start_vertex))\n",
    "  np.random.shuffle(path)\n",
    "  path = np.append(path, start_vertex)\n",
    "  path = np.insert(path, 0, start_vertex)\n",
    "  return path\n",
    "\n",
    "def get_best_population(population):\n",
    "  return np.argpartition(population, -int(len(population)/4))[:int(len(population)/4)]\n",
    "\n",
    "def generate_decency(population_number, best_people, complete_graph, interval, interval_vertex_index):\n",
    "  children = []\n",
    "  for _ in range(population_number):\n",
    "    P1 = random.choice(best_people)\n",
    "    # child = generate_children(P1, P2, complete_graph, interval, interval_vertex_index)\n",
    "    child = mutate_path_insert(P1, complete_graph, interval, interval_vertex_index)\n",
    "    children.append(child)\n",
    "  return children\n",
    "\n",
    "def evalute_population_weight(population, complete_graph):\n",
    "  weights = []\n",
    "  for path in population:\n",
    "    weight = get_path_weight(path, complete_graph)\n",
    "    weights.append(weight)\n",
    "  return weights\n",
    "\n",
    "def evolve(population, complete_graph, interval, interval_vertex_index):\n",
    "  best_weight = np.inf\n",
    "  best_path = []\n",
    "  all_best_weights = np.array([])\n",
    "  bar = IntProgress(min=0, max=generation_number, layout={\"width\" : \"100%\"})\n",
    "  display(bar)\n",
    "  for i in range(generation_number):\n",
    "    bar.value += 1\n",
    "    weights = evalute_population_weight(population, complete_graph)\n",
    "    best_pop_path, best_pop_weight = get_best_path(population, weights)\n",
    "    all_best_weights = np.append(all_best_weights,best_pop_weight)\n",
    "    if(best_pop_weight < best_weight):\n",
    "      best_weight = best_pop_weight\n",
    "      best_path = best_pop_path\n",
    "    best_people = np.array(population)[get_best_population(weights)]\n",
    "    population = generate_decency(population_number, best_people, complete_graph, interval, interval_vertex_index)\n",
    "  bar.close()\n",
    "  return best_path, best_weight, all_best_weights\n",
    "\n",
    "def plot_graph(path, graph, all_vertex, all_verticies, start_vertex):\n",
    "  for i in range(len(graph) - 1):\n",
    "    for j in range(i + 1, len(graph)):\n",
    "      if graph[i, j] != np.inf:\n",
    "        x = [all_vertex[i][0], all_vertex[j][0]]\n",
    "        y = [all_vertex[i][1], all_vertex[j][1]]\n",
    "        plt.plot(x, y, color = \"gray\")\n",
    "  for i in range(len(path) - 1):\n",
    "    x = [all_vertex[path[i]][0], all_vertex[path[i+1]][0]]\n",
    "    y = [all_vertex[path[i]][1], all_vertex[path[i+1]][1]]\n",
    "    plt.plot(x, y, color = \"red\")\n",
    "  for i in range(len(all_vertex)):\n",
    "    if(i == start_vertex):\n",
    "      plt.scatter(all_vertex[i][0], all_vertex[i][1], color = \"blue\")\n",
    "    elif(i in all_verticies):\n",
    "      plt.scatter(all_vertex[i][0], all_vertex[i][1], color = \"green\")\n",
    "    else: \n",
    "      plt.scatter(all_vertex[i][0], all_vertex[i][1], color = \"gray\")\n",
    "    plt.text(all_vertex[i][0] - 10, all_vertex[i][1] + 20, str(i))\n",
    "  plt.show()"
   ]
  },
  {
   "cell_type": "markdown",
   "metadata": {},
   "source": [
    "Notre problème est le suivant, nous devons determiner le chemin le plus court entre plusieurs villes pour qu'un camion de livraison puisse parcourir toute ces villes en le moins de temps possible et ainsi livrer tous les colis.\n",
    "\n",
    "Nous avons à notre disposition une liste de villes et parmis ces villes nous devons en séléctionner quelques unes et determiner le cycle de plus court pour passer par toute ces villes et revenir au point de depart.\n",
    "<br>\n",
    "Nous avons aussi décider d'ajouter une contrainte qui est que pour certaines villes, le camion n'aura le droit de livrer des colis que dans une fenêtre horaires bien précise.\n",
    "\n",
    "Ici, pour modeliser notre problème, nous allons devoir modéliser les differente elements de la façon suivante :\n",
    "\n",
    "- Le graph de toutes les villes : une matrice d'adjacence\n",
    "- Le graph complet de toutes les villes choisis : une matrice d'adjacence\n",
    "- La liste de toute les villes choisis : un tuple des indexs des sommets dans le graph de toutes les villes\n",
    "- Un sommet de depart : un index dans la liste de toute les villes\n",
    "- Un sommet de passge avec intervalle : un index dans la liste de toute les villes choisis\n",
    "- Un intervalle de temps : un tuple "
   ]
  },
  {
   "cell_type": "markdown",
   "metadata": {},
   "source": [
    "Les algorithmes génétiques appartiennent à la famille des algorithmes évolutionnistes.\n",
    "<br>\n",
    "Leur but est d'obtenir une solution approchée à un problème d'optimisation, lorsqu'il n'existe pas de méthode exacte (ou que la solution est inconnue) pour le résoudre en un temps raisonnable.\n",
    "<br>\n",
    "Les algorithmes génétiques utilisent la notion de sélection naturelle et l'appliquent à une population de solutions potentielles au problème donné.\n",
    "\n",
    "Le principe de cet algorithme est très simple, on va chercher à mimer les comportements que l'on peut retrouver dans la nature (selection naturelle).\n",
    "Cela va se decomposer en deux étapes :\n",
    "\n",
    "0. création de la population\n",
    "\n",
    "1. evaluation de la population\n",
    "2. selection des individues pour generer la prochaine population\n",
    "3. reproduction de la population en effectuer des croisements et des mutations\n",
    "\n",
    "4. répétition des étapes 1 à 3 pour un nombre de generation donné\n",
    "\n",
    "Les algorithmes génétiques reprennent la théorie de Darwin : sélection naturelle de variations individuelles : les individus les plus adaptés  tendent à survivre plus longtemps et à se reproduire plus aisément que les autres.\n",
    "\n",
    "Amélioration de la population très rapide au début (recherche globale) puis de plus en plus lente à mesure que le temps passe (recherche locale).\n",
    "\n",
    "Le temps de calcul théorique des algorithmes génétiques croît en ${n\\ln(n)}$ ${n}$ étant le nombre de variables. Ce temps de calcul est donc linéarisé par le nombre de variables.\n",
    "\n",
    "Nous avons donc décider d'appliquer l'algorithme génétique sur notre problème.\n",
    "\n",
    "Nous avons 2 type de mutation réaliser :\n",
    "\n",
    "- La mutation par insertion qui consiste à prendre un sommet un chemin et de la placer à un autre endroit dans ce meme chemin\n",
    "- La mutation par échange qui consiste à prendre un sommet un chemin et de le remplacer par un autre sommet dans ce meme chemin\n",
    "\n",
    "Ensuite pour le croisement, nous avons effectuer le croisement parcours croisé :\n",
    "<br>\n",
    "On a séléctionné deux individus aléatoirement, on les croise en prenant la moitie de leur chemin et on les fusionne en un nouveau chemin en faisant attention à ne pas créer de doublons."
   ]
  },
  {
   "cell_type": "code",
   "execution_count": 12,
   "metadata": {},
   "outputs": [
    {
     "data": {
      "application/vnd.jupyter.widget-view+json": {
       "model_id": "06aa9b6acb754c388d7085cc5d42c10d",
       "version_major": 2,
       "version_minor": 0
      },
      "text/plain": [
       "IntProgress(value=0, layout=Layout(width='100%'))"
      ]
     },
     "metadata": {},
     "output_type": "display_data"
    },
    {
     "data": {
      "application/vnd.jupyter.widget-view+json": {
       "model_id": "49da7c998e644d019a5e2fabbc27f231",
       "version_major": 2,
       "version_minor": 0
      },
      "text/plain": [
       "IntProgress(value=0, layout=Layout(width='100%'))"
      ]
     },
     "metadata": {},
     "output_type": "display_data"
    }
   ],
   "source": [
    "import pickle\n",
    "with open(\"soutenance.pickle\", \"rb\") as file:\n",
    "  data = pickle.load(file)\n",
    "\n",
    "graph = data[\"graph\"]\n",
    "complete_graph = data[\"complete_graph\"]\n",
    "all_paths = data[\"all_paths\"]\n",
    "vertices_list = data[\"vertices_list\"]\n",
    "start_vertex = data[\"start_vertex\"]\n",
    "start_vertex_index = data[\"start_vertex_index\"]\n",
    "interval_vertex = data[\"interval_vertex\"]\n",
    "interval_vertex_index = data[\"interval_vertex_index\"]\n",
    "interval = data[\"interval\"]\n",
    "\n",
    "population_number = 100\n",
    "generation_number = 100\n",
    "\n",
    "population = generate_population(population_number, complete_graph, interval, interval_vertex_index, start_vertex_index)\n",
    "best_path, best_weight, all_best_weights = evolve(population, complete_graph, interval, interval_vertex_index)\n",
    "\n",
    "complete_path = get_complete_path(best_path, all_paths)\n",
    "\n",
    "data = {\n",
    "  \"complete_path\": complete_path,\n",
    "  \"weight\": best_weight,\n",
    "}\n",
    "\n",
    "with open('soutenance_path.pickle', 'wb') as file:\n",
    "    pickle.dump(data, file, protocol=pickle.HIGHEST_PROTOCOL)"
   ]
  },
  {
   "cell_type": "code",
   "execution_count": 13,
   "metadata": {},
   "outputs": [
    {
     "data": {
      "application/vnd.jupyter.widget-view+json": {
       "model_id": "410ebbef6c734cea99f093a84d9965f5",
       "version_major": 2,
       "version_minor": 0
      },
      "text/plain": [
       "IntProgress(value=0, layout=Layout(width='100%'))"
      ]
     },
     "metadata": {},
     "output_type": "display_data"
    },
    {
     "data": {
      "application/vnd.jupyter.widget-view+json": {
       "model_id": "6b55070c8ae24432826c1e44fd70f258",
       "version_major": 2,
       "version_minor": 0
      },
      "text/plain": [
       "IntProgress(value=0, layout=Layout(width='100%'))"
      ]
     },
     "metadata": {},
     "output_type": "display_data"
    }
   ],
   "source": [
    "import pickle\n",
    "with open(\"soutenance_interval.pickle\", \"rb\") as file:\n",
    "  data = pickle.load(file)\n",
    "\n",
    "graph = data[\"graph\"]\n",
    "complete_graph = data[\"complete_graph\"]\n",
    "all_paths = data[\"all_paths\"]\n",
    "vertices_list = data[\"vertices_list\"]\n",
    "start_vertex = data[\"start_vertex\"]\n",
    "start_vertex_index = data[\"start_vertex_index\"]\n",
    "interval_vertex = data[\"interval_vertex\"]\n",
    "interval_vertex_index = data[\"interval_vertex_index\"]\n",
    "interval = data[\"interval\"]\n",
    "\n",
    "population_number = 100\n",
    "generation_number = 100\n",
    "\n",
    "population = generate_population(population_number, complete_graph, interval, interval_vertex_index, start_vertex_index)\n",
    "best_path, best_weight, all_best_weights = evolve(population, complete_graph, interval, interval_vertex_index)\n",
    "\n",
    "complete_path = get_complete_path(best_path, all_paths)\n",
    "\n",
    "data = {\n",
    "  \"complete_path\": complete_path,\n",
    "  \"weight\": best_weight,\n",
    "}\n",
    "\n",
    "with open('soutenance_interval_path.pickle', 'wb') as file:\n",
    "    pickle.dump(data, file, protocol=pickle.HIGHEST_PROTOCOL)"
   ]
  },
  {
   "cell_type": "code",
   "execution_count": null,
   "metadata": {},
   "outputs": [],
   "source": []
  },
  {
   "cell_type": "code",
   "execution_count": null,
   "metadata": {},
   "outputs": [],
   "source": [
    "# import matplotlib.pyplot as plt\n",
    "\n",
    "# res = plt.plot(range(len(all_best_weights)), all_best_weights)\n",
    "# plt.xlabel(\"generation\", fontsize=16)\n",
    "# plt.ylabel(\"weight\", fontsize=16)"
   ]
  }
 ],
 "metadata": {
  "kernelspec": {
   "display_name": "Python 3.10.5 ('env': venv)",
   "language": "python",
   "name": "python3"
  },
  "language_info": {
   "codemirror_mode": {
    "name": "ipython",
    "version": 3
   },
   "file_extension": ".py",
   "mimetype": "text/x-python",
   "name": "python",
   "nbconvert_exporter": "python",
   "pygments_lexer": "ipython3",
   "version": "3.10.5"
  },
  "orig_nbformat": 4,
  "vscode": {
   "interpreter": {
    "hash": "d3a3da79b1061e50be83b59faa36c55b30abcf095f123e2fbf0696ba10bc3245"
   }
  }
 },
 "nbformat": 4,
 "nbformat_minor": 2
}
