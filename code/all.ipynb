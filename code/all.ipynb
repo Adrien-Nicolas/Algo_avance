{
 "cells": [
  {
   "cell_type": "code",
   "execution_count": 190,
   "metadata": {},
   "outputs": [],
   "source": [
    "import random\n",
    "import numpy as np\n",
    "import networkx as nx \n",
    "from dijkstar import Graph, find_path"
   ]
  },
  {
   "cell_type": "code",
   "execution_count": 191,
   "metadata": {},
   "outputs": [],
   "source": [
    "def generate_instance_matrix(nb_vertex, min_weight, max_weight, density):\n",
    "  graph = np.ones((nb_vertex, nb_vertex)) * np.inf\n",
    "  for i in range(nb_vertex - 1):\n",
    "    for j in range(i+1, nb_vertex):\n",
    "      if random.uniform(0, 1) < density:\n",
    "        weight = random.randint(min_weight, max_weight)\n",
    "        graph[i, j] = weight\n",
    "        graph[j, i] = weight\n",
    "  for i,line in enumerate(graph):\n",
    "    index_zeros = np.where(line == np.inf)[0]\n",
    "    index_zeros = np.delete(index_zeros, np.where(index_zeros == i))\n",
    "    for j in range(len(index_zeros) - (nb_vertex - 3)):\n",
    "      index = random.choice(index_zeros)\n",
    "      index_zeros = np.delete(index_zeros, np.where(index_zeros == index))\n",
    "      weight = random.randint(min_weight, max_weight)\n",
    "      graph[i, index] = weight\n",
    "      graph[index, i] = weight\n",
    "  return graph\n",
    "\n",
    "def convert_graph(graph):\n",
    "  graph_dijkstra = Graph()\n",
    "  for i in range(len(graph)):\n",
    "    for j in range(len(graph)):\n",
    "      graph_dijkstra.add_edge(i, j,graph[i][j])\n",
    "  return graph_dijkstra\n",
    "\n",
    "def get_distance_between_nodes(graph, i, j):\n",
    "  if (graph[i][j] != np.inf):\n",
    "    return graph[i][j], [i, j]\n",
    "  else:\n",
    "    if i != j:\n",
    "      shortest_path = find_path(graph, i,j)\n",
    "      return shortest_path.total_cost, shortest_path.nodes\n",
    "    else:\n",
    "      return 0, None\n",
    "\n",
    "def get_complete_graph(graph, node_list):\n",
    "  all_paths = {}\n",
    "  converted_graph = convert_graph(graph)\n",
    "  complete_graph = np.zeros((len(node_list), len(node_list)))\n",
    "  for i in node_list:\n",
    "    voisins_array = np.delete(node_list, np.where(node_list == i))\n",
    "    for j in voisins_array:\n",
    "      distance, path = get_distance_between_nodes(converted_graph, i, j)\n",
    "      converted_graph_i = np.where(node_list == i)[0][0]\n",
    "      converted_graph_j = np.where(node_list == j)[0][0]\n",
    "      complete_graph[converted_graph_i][converted_graph_j] = distance\n",
    "      all_paths[(converted_graph_i, converted_graph_j)] = path\n",
    "  return complete_graph, all_paths\n",
    "\n",
    "def get_random_vertex(size, nb_vertex):\n",
    "  random_vertex = []\n",
    "  all_vertex = np.array(range(size))\n",
    "  for _ in range(nb_vertex):\n",
    "    value = random.choice(all_vertex)\n",
    "    random_vertex.append(value)\n",
    "    all_vertex = np.delete(all_vertex, np.where(all_vertex == value))\n",
    "  return np.array(random_vertex)\n",
    "\n",
    "def generate_interval():\n",
    "  interval = random.choice(range(1,4))\n",
    "  shift = random.choice(range(0, 11-interval))\n",
    "  return(shift*60, (shift+interval)*60)\n",
    "\n",
    "def generate_instance(nb_vertex_matrix, min_weight, max_weight, density, random_vertex):\n",
    "  graph = generate_instance_matrix(nb_vertex_matrix, min_weight, max_weight, density)\n",
    "  complete_graph, all_paths = get_complete_graph(graph, random_vertex)\n",
    "  return graph, complete_graph, all_paths\n",
    "\n",
    "def get_complete_path(path, all_paths):\n",
    "  complete_path = []\n",
    "  for i in range(len(path) - 1):\n",
    "    complete_path.extend(all_paths[(path[i], path[i+1])][:-1])\n",
    "    if i == len(path) - 2:\n",
    "      complete_path.append(all_paths[(path[i], path[i+1])][-1])\n",
    "  return complete_path\n",
    "\n",
    "def is_path_in_interval(path, complete_graph, interval, vertex):\n",
    "  weight = 0\n",
    "  for i in range(np.where(np.array(path) == vertex)[0][0]):\n",
    "    weight += complete_graph[path[i]][path[i+1]]\n",
    "  if weight >= interval[0] and weight <= interval[1]:\n",
    "    return True\n",
    "  else:\n",
    "    return False\n",
    "\n",
    "def generate_neighbours(path, complete_graph, interval, vertex):\n",
    "  neighbours = []\n",
    "  for i in range(len(path)):\n",
    "    for j in range(i + 1, len(path)):\n",
    "      new_neighbour = path.copy()\n",
    "      new_neighbour[i] = path[j]\n",
    "      new_neighbour[j] = path[i]\n",
    "      if is_path_in_interval(new_neighbour, complete_graph, interval, vertex):\n",
    "        neighbours.append(new_neighbour)\n",
    "  return neighbours\n",
    "\n",
    "def generate_random_path(nb_vertex):\n",
    "  path = np.arange(nb_vertex)\n",
    "  np.random.shuffle(path)\n",
    "  return path"
   ]
  },
  {
   "cell_type": "code",
   "execution_count": 192,
   "metadata": {},
   "outputs": [],
   "source": [
    "# variables\n",
    "nb_vertex_matrix = 100\n",
    "min_weight = 10\n",
    "max_weight = 60\n",
    "density = 0.3\n",
    "nb_vertex_chosen = 4"
   ]
  },
  {
   "cell_type": "code",
   "execution_count": 193,
   "metadata": {},
   "outputs": [],
   "source": [
    "#random generation of a list of vertex among all the vertex available\n",
    "random_vertex = get_random_vertex(nb_vertex_matrix, nb_vertex_chosen)\n",
    "\n",
    "# generation of the graph, the complete graph and the list of all paths\n",
    "graph, complete_graph, all_paths =\\\n",
    "generate_instance(\n",
    "  nb_vertex_matrix = nb_vertex_matrix,\n",
    "  min_weight = min_weight,\n",
    "  max_weight = max_weight,\n",
    "  random_vertex = random_vertex,\n",
    "  density = density\n",
    ")"
   ]
  },
  {
   "cell_type": "code",
   "execution_count": 194,
   "metadata": {},
   "outputs": [],
   "source": [
    "#generate an interval instance\n",
    "interval = generate_interval()"
   ]
  },
  {
   "cell_type": "code",
   "execution_count": 195,
   "metadata": {},
   "outputs": [],
   "source": [
    "#generate a random path\n",
    "path = generate_random_path(nb_vertex_chosen)"
   ]
  },
  {
   "cell_type": "code",
   "execution_count": 196,
   "metadata": {},
   "outputs": [],
   "source": [
    "# generate the neighbours of a path\n",
    "neighbours = generate_neighbours(path, complete_graph, interval, 1)"
   ]
  },
  {
   "cell_type": "code",
   "execution_count": 197,
   "metadata": {},
   "outputs": [
    {
     "name": "stdout",
     "output_type": "stream",
     "text": [
      "complete_graph\n",
      "[[ 0. 14. 30. 38.]\n",
      " [14.  0. 40. 29.]\n",
      " [30. 40.  0. 24.]\n",
      " [38. 29. 24.  0.]]\n"
     ]
    }
   ],
   "source": [
    "# print(\"graph\")\n",
    "# print(graph)\n",
    "print(\"complete_graph\")\n",
    "print(complete_graph)\n",
    "# print(\"all_paths\")\n",
    "# print(all_paths)\n",
    "# print(\"random_vertex\")\n",
    "# print(random_vertex)\n",
    "# print(\"interval\")\n",
    "# print(interval)"
   ]
  },
  {
   "cell_type": "code",
   "execution_count": 198,
   "metadata": {},
   "outputs": [],
   "source": [
    "complete_path = get_complete_path(path, all_paths)"
   ]
  },
  {
   "cell_type": "code",
   "execution_count": 199,
   "metadata": {},
   "outputs": [
    {
     "name": "stdout",
     "output_type": "stream",
     "text": [
      "[86 53 11 52]\n",
      "[1 0 2 3]\n",
      "[53, 86, 98, 11, 26, 52]\n"
     ]
    }
   ],
   "source": [
    "print(random_vertex)\n",
    "print(path)\n",
    "print(complete_path)\n"
   ]
  },
  {
   "cell_type": "code",
   "execution_count": 215,
   "metadata": {},
   "outputs": [
    {
     "name": "stdout",
     "output_type": "stream",
     "text": [
      "Optimal\n",
      "Min= 97.0\n",
      "X_0_0=0.00, X_0_1=0.00, X_0_2=1.00, X_0_3=0.00, X_1_0=1.00, X_1_1=0.00, X_1_2=0.00, X_1_3=0.00, X_2_0=0.00, X_2_1=0.00, X_2_2=0.00, X_2_3=1.00, X_3_0=0.00, X_3_1=1.00, X_3_2=0.00, X_3_3=0.00, "
     ]
    },
    {
     "name": "stderr",
     "output_type": "stream",
     "text": [
      "c:\\Users\\adrie\\Desktop\\adrien\\perso\\Algo_Avance\\Algo_avance\\env\\lib\\site-packages\\pulp\\pulp.py:1352: UserWarning: Spaces are not permitted in the name. Converted to '_'\n",
      "  warnings.warn(\"Spaces are not permitted in the name. Converted to '_'\")\n"
     ]
    }
   ],
   "source": [
    "from pulp import *\n",
    "import numpy as np\n",
    "\n",
    "\n",
    "X=[]\n",
    "P = []\n",
    "X_dict = {}\n",
    "\n",
    "\n",
    "# variables du problème\n",
    "for i in range(len(complete_graph)):\n",
    "    for j in range(len(complete_graph)):\n",
    "        X.append(LpVariable(\"X_\" + str(i) + \"_\" + str(j), 0, 1, LpInteger))\n",
    "        X_dict[(\"X_\" + str(i) + \"_\" + str(j))] = LpVariable(\"X_\" + str(i) + \"_\" + str(j), 0, 1, LpInteger)\n",
    "        P.append(complete_graph[i][j])\n",
    "# probleme\n",
    "prob = LpProblem(\"plus court chemin\", LpMinimize)\n",
    "\n",
    "# objectif\n",
    "# Somme de la multiplication des poids de chaque arc\n",
    "prob += lpSum([P[i] * X[i] for i in range(len(P))])\n",
    "\n",
    "# contraintes\n",
    "# La somme d'un arc doit etre egale a 1\n",
    "X_np = np.array(X)\n",
    "X_np_reshape = X_np.reshape(len(complete_graph), len(complete_graph))\n",
    "\n",
    "for i in range(len(X_np_reshape)):\n",
    "    \n",
    "    prob += lpSum(X_np_reshape[i]) == 1\n",
    "    prob += X_np_reshape[i][i] == 0\n",
    "\n",
    "    for j in range(len(X_np_reshape)):\n",
    "        if i != j:\n",
    "            prob += X_np_reshape[i][j] + X_np_reshape[j][i] <= 1\n",
    "    \n",
    "    \n",
    "\n",
    "prob.solve()\n",
    "print(LpStatus[prob.status])\n",
    "print(\"Min=\", value(prob.objective))\n",
    "\n",
    "# variables resultat\n",
    "for v in prob.variables():\n",
    "    print(\"%s=%.2f\"%(v.name,v.varValue), end=', ')\n"
   ]
  }
 ],
 "metadata": {
  "kernelspec": {
   "display_name": "Python 3.9.13 ('env': venv)",
   "language": "python",
   "name": "python3"
  },
  "language_info": {
   "codemirror_mode": {
    "name": "ipython",
    "version": 3
   },
   "file_extension": ".py",
   "mimetype": "text/x-python",
   "name": "python",
   "nbconvert_exporter": "python",
   "pygments_lexer": "ipython3",
   "version": "3.9.13"
  },
  "orig_nbformat": 4,
  "vscode": {
   "interpreter": {
    "hash": "aed8dc2bdf9a2b709b8b12a4e86b3759be2b0920be157d886bea8859581eae16"
   }
  }
 },
 "nbformat": 4,
 "nbformat_minor": 2
}
