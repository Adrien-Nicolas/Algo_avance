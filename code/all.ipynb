{
 "cells": [
  {
   "cell_type": "code",
   "execution_count": 1,
   "metadata": {},
   "outputs": [],
   "source": [
    "import random\n",
    "import numpy as np\n",
    "import networkx as nx \n",
    "from dijkstar import Graph, find_path"
   ]
  },
  {
   "cell_type": "code",
   "execution_count": 2,
   "metadata": {},
   "outputs": [],
   "source": [
    "def generate_instance_matrix(nb_vertex, min_weight, max_weight, density):\n",
    "  graph = np.ones((nb_vertex, nb_vertex)) * np.inf\n",
    "  for i in range(nb_vertex - 1):\n",
    "    for j in range(i+1, nb_vertex):\n",
    "      if random.uniform(0, 1) < density:\n",
    "        weight = random.randint(min_weight, max_weight)\n",
    "        graph[i, j] = weight\n",
    "        graph[j, i] = weight\n",
    "  for i,line in enumerate(graph):\n",
    "    index_zeros = np.where(line == np.inf)[0]\n",
    "    index_zeros = np.delete(index_zeros, np.where(index_zeros == i))\n",
    "    for j in range(len(index_zeros) - (nb_vertex - 3)):\n",
    "      index = random.choice(index_zeros)\n",
    "      index_zeros = np.delete(index_zeros, np.where(index_zeros == index))\n",
    "      weight = random.randint(min_weight, max_weight)\n",
    "      graph[i, index] = weight\n",
    "      graph[index, i] = weight\n",
    "  return graph\n",
    "\n",
    "def convert_graph(graph):\n",
    "  graph_dijkstra = Graph()\n",
    "  for i in range(len(graph)):\n",
    "    for j in range(len(graph)):\n",
    "      graph_dijkstra.add_edge(i, j,graph[i][j])\n",
    "  return graph_dijkstra\n",
    "\n",
    "def get_distance_between_nodes(graph, i, j):\n",
    "  if (graph[i][j] != np.inf):\n",
    "    return graph[i][j], [i, j]\n",
    "  else:\n",
    "    if i != j:\n",
    "      shortest_path = find_path(graph, i,j)\n",
    "      return shortest_path.total_cost, shortest_path.nodes\n",
    "    else:\n",
    "      return 0, None\n",
    "\n",
    "def get_complete_graph(graph, node_list):\n",
    "  all_paths = {}\n",
    "  converted_graph = convert_graph(graph)\n",
    "  complete_graph = np.zeros((len(node_list), len(node_list)))\n",
    "  for i in node_list:\n",
    "    voisins_array = np.delete(node_list, np.where(node_list == i))\n",
    "    for j in voisins_array:\n",
    "      distance, path = get_distance_between_nodes(converted_graph, i, j)\n",
    "      converted_graph_i = np.where(node_list == i)[0][0]\n",
    "      converted_graph_j = np.where(node_list == j)[0][0]\n",
    "      complete_graph[converted_graph_i][converted_graph_j] = distance\n",
    "      all_paths[(converted_graph_i, converted_graph_j)] = path\n",
    "  return complete_graph, all_paths\n",
    "\n",
    "def get_random_vertex(size, nb_vertex):\n",
    "  random_vertex = []\n",
    "  all_vertex = np.array(range(size))\n",
    "  for _ in range(nb_vertex):\n",
    "    value = random.choice(all_vertex)\n",
    "    random_vertex.append(value)\n",
    "    all_vertex = np.delete(all_vertex, np.where(all_vertex == value))\n",
    "  return np.array(random_vertex)\n",
    "\n",
    "def generate_interval():\n",
    "  interval = random.choice(range(1,4))\n",
    "  shift = random.choice(range(0, 11-interval))\n",
    "  return(shift*60, (shift+interval)*60)\n",
    "\n",
    "def generate_instance(nb_vertex_matrix, min_weight, max_weight, density, random_vertex):\n",
    "  graph = generate_instance_matrix(nb_vertex_matrix, min_weight, max_weight, density)\n",
    "  complete_graph, all_paths = get_complete_graph(graph, random_vertex)\n",
    "  return graph, complete_graph, all_paths\n",
    "\n",
    "def get_complete_path(path, all_paths):\n",
    "  complete_path = []\n",
    "  for i in range(len(path) - 1):\n",
    "    complete_path.extend(all_paths[(path[i], path[i+1])][:-1])\n",
    "    if i == len(path) - 2:\n",
    "      complete_path.append(all_paths[(path[i], path[i+1])][-1])\n",
    "  return complete_path\n",
    "\n",
    "def is_path_in_interval(path, complete_graph, interval, vertex):\n",
    "  weight = 0\n",
    "  for i in range(np.where(np.array(path) == vertex)[0][0]):\n",
    "    weight += complete_graph[path[i]][path[i+1]]\n",
    "  if weight >= interval[0] and weight <= interval[1]:\n",
    "    return True\n",
    "  else:\n",
    "    return False\n",
    "\n",
    "def generate_neighbours(path, complete_graph, interval, vertex):\n",
    "  neighbours = []\n",
    "  for i in range(len(path)):\n",
    "    for j in range(i + 1, len(path)):\n",
    "      new_neighbour = path.copy()\n",
    "      new_neighbour[i] = path[j]\n",
    "      new_neighbour[j] = path[i]\n",
    "      if is_path_in_interval(new_neighbour, complete_graph, interval, vertex):\n",
    "        neighbours.append(new_neighbour)\n",
    "  return neighbours\n",
    "\n",
    "def generate_random_path(nb_vertex):\n",
    "  path = np.arange(nb_vertex)\n",
    "  np.random.shuffle(path)\n",
    "  return path"
   ]
  },
  {
   "cell_type": "code",
   "execution_count": 3,
   "metadata": {},
   "outputs": [],
   "source": [
    "# variables\n",
    "nb_vertex_matrix = 100\n",
    "min_weight = 10\n",
    "max_weight = 60\n",
    "density = 0.3\n",
    "nb_vertex_chosen = 20"
   ]
  },
  {
   "cell_type": "code",
   "execution_count": 4,
   "metadata": {},
   "outputs": [],
   "source": [
    "#random generation of a list of vertex among all the vertex available\n",
    "random_vertex = get_random_vertex(nb_vertex_matrix, nb_vertex_chosen)\n",
    "\n",
    "# generation of the graph, the complete graph and the list of all paths\n",
    "graph, complete_graph, all_paths =\\\n",
    "generate_instance(\n",
    "  nb_vertex_matrix = nb_vertex_matrix,\n",
    "  min_weight = min_weight,\n",
    "  max_weight = max_weight,\n",
    "  random_vertex = random_vertex,\n",
    "  density = density\n",
    ")"
   ]
  },
  {
   "cell_type": "code",
   "execution_count": 5,
   "metadata": {},
   "outputs": [],
   "source": [
    "#generate an interval instance\n",
    "interval = generate_interval()"
   ]
  },
  {
   "cell_type": "code",
   "execution_count": 6,
   "metadata": {},
   "outputs": [],
   "source": [
    "#generate a random path\n",
    "path = generate_random_path(nb_vertex_chosen)"
   ]
  },
  {
   "cell_type": "code",
   "execution_count": 7,
   "metadata": {},
   "outputs": [],
   "source": [
    "# generate the neighbours of a path\n",
    "neighbours = generate_neighbours(path, complete_graph, interval, 18)"
   ]
  },
  {
   "cell_type": "code",
   "execution_count": 8,
   "metadata": {},
   "outputs": [],
   "source": [
    "# print(\"graph\")\n",
    "# print(graph)\n",
    "# print(\"complete_graph\")\n",
    "# print(complete_graph)\n",
    "# print(\"all_paths\")\n",
    "# print(all_paths)\n",
    "# print(\"random_vertex\")\n",
    "# print(random_vertex)\n",
    "# print(\"interval\")\n",
    "# print(interval)"
   ]
  },
  {
   "cell_type": "code",
   "execution_count": 9,
   "metadata": {},
   "outputs": [],
   "source": [
    "complete_path = get_complete_path(path, all_paths)"
   ]
  },
  {
   "cell_type": "code",
   "execution_count": 10,
   "metadata": {},
   "outputs": [
    {
     "name": "stdout",
     "output_type": "stream",
     "text": [
      "[18 54 66 95 36 99 10 76 16 46  1 29 51 94 89 30 53 34 96 27]\n",
      "[ 4  9 13 14 18 17  5 11  0  7 16  1 15  6  2 19 12 10  8  3]\n",
      "[36, 4, 14, 46, 92, 94, 92, 4, 89, 50, 96, 12, 19, 34, 45, 73, 99, 29, 74, 58, 18, 37, 41, 76, 56, 53, 23, 83, 54, 30, 16, 10, 66, 27, 43, 49, 61, 51, 61, 67, 1, 30, 16, 95]\n"
     ]
    }
   ],
   "source": [
    "print(random_vertex)\n",
    "print(path)\n",
    "print(complete_path)\n"
   ]
  },
  {
   "cell_type": "code",
   "execution_count": 15,
   "metadata": {},
   "outputs": [
    {
     "name": "stdout",
     "output_type": "stream",
     "text": [
      "Optimal\n",
      "Min= 777.0\n",
      "X_0_0=1.00, X_0_1=1.00, X_0_10=1.00, X_0_11=1.00, X_0_12=1.00, X_0_13=1.00, X_0_14=1.00, X_0_15=1.00, X_0_16=1.00, X_0_17=1.00, X_0_18=1.00, X_0_19=1.00, X_0_2=1.00, X_0_3=1.00, X_0_4=1.00, X_0_5=1.00, X_0_6=1.00, X_0_7=1.00, X_0_8=1.00, X_0_9=1.00, X_10_0=0.00, X_10_1=0.00, X_10_11=0.00, X_10_12=0.00, X_10_13=0.00, X_10_14=0.00, X_10_15=0.00, X_10_16=0.00, X_10_17=0.00, X_10_18=0.00, X_10_19=0.00, X_10_2=0.00, X_10_3=0.00, X_10_4=0.00, X_10_5=0.00, X_10_6=0.00, X_10_7=0.00, X_10_8=0.00, X_10_9=0.00, X_11_0=0.00, X_11_1=0.00, X_11_10=0.00, X_11_12=0.00, X_11_13=0.00, X_11_14=0.00, X_11_15=0.00, X_11_16=0.00, X_11_17=0.00, X_11_18=0.00, X_11_19=0.00, X_11_2=0.00, X_11_3=0.00, X_11_4=0.00, X_11_5=0.00, X_11_6=0.00, X_11_7=0.00, X_11_8=0.00, X_11_9=0.00, X_12_0=0.00, X_12_1=0.00, X_12_10=0.00, X_12_11=0.00, X_12_13=0.00, X_12_14=0.00, X_12_15=0.00, X_12_16=0.00, X_12_17=0.00, X_12_18=0.00, X_12_19=0.00, X_12_2=0.00, X_12_3=0.00, X_12_4=0.00, X_12_5=0.00, X_12_6=0.00, X_12_7=0.00, X_12_8=0.00, X_12_9=0.00, X_13_0=0.00, X_13_1=0.00, X_13_10=0.00, X_13_11=0.00, X_13_12=0.00, X_13_14=0.00, X_13_15=0.00, X_13_16=0.00, X_13_17=0.00, X_13_18=0.00, X_13_19=0.00, X_13_2=0.00, X_13_3=0.00, X_13_4=0.00, X_13_5=0.00, X_13_6=0.00, X_13_7=0.00, X_13_8=0.00, X_13_9=0.00, X_14_0=0.00, X_14_1=0.00, X_14_10=0.00, X_14_11=0.00, X_14_12=0.00, X_14_13=0.00, X_14_15=0.00, X_14_16=0.00, X_14_17=0.00, X_14_18=0.00, X_14_19=0.00, X_14_2=0.00, X_14_3=0.00, X_14_4=0.00, X_14_5=0.00, X_14_6=0.00, X_14_7=0.00, X_14_8=0.00, X_14_9=0.00, X_15_0=0.00, X_15_1=0.00, X_15_10=0.00, X_15_11=0.00, X_15_12=0.00, X_15_13=0.00, X_15_14=0.00, X_15_16=0.00, X_15_17=0.00, X_15_18=0.00, X_15_19=0.00, X_15_2=0.00, X_15_3=0.00, X_15_4=0.00, X_15_5=0.00, X_15_6=0.00, X_15_7=0.00, X_15_8=0.00, X_15_9=0.00, X_16_0=0.00, X_16_1=0.00, X_16_10=0.00, X_16_11=0.00, X_16_12=0.00, X_16_13=0.00, X_16_14=0.00, X_16_15=0.00, X_16_17=0.00, X_16_18=0.00, X_16_19=0.00, X_16_2=0.00, X_16_3=0.00, X_16_4=0.00, X_16_5=0.00, X_16_6=0.00, X_16_7=0.00, X_16_8=0.00, X_16_9=0.00, X_17_0=0.00, X_17_1=0.00, X_17_10=0.00, X_17_11=0.00, X_17_12=0.00, X_17_13=0.00, X_17_14=0.00, X_17_15=0.00, X_17_16=0.00, X_17_18=0.00, X_17_19=0.00, X_17_2=0.00, X_17_3=0.00, X_17_4=0.00, X_17_5=0.00, X_17_6=0.00, X_17_7=0.00, X_17_8=0.00, X_17_9=0.00, X_18_0=0.00, X_18_1=0.00, X_18_10=0.00, X_18_11=0.00, X_18_12=0.00, X_18_13=0.00, X_18_14=0.00, X_18_15=0.00, X_18_16=0.00, X_18_17=0.00, X_18_19=0.00, X_18_2=0.00, X_18_3=0.00, X_18_4=0.00, X_18_5=0.00, X_18_6=0.00, X_18_7=0.00, X_18_8=0.00, X_18_9=0.00, X_19_0=0.00, X_19_1=0.00, X_19_10=0.00, X_19_11=0.00, X_19_12=0.00, X_19_13=0.00, X_19_14=0.00, X_19_15=0.00, X_19_16=0.00, X_19_17=0.00, X_19_18=0.00, X_19_2=0.00, X_19_3=0.00, X_19_4=0.00, X_19_5=0.00, X_19_6=0.00, X_19_7=0.00, X_19_8=0.00, X_19_9=0.00, X_1_0=0.00, X_1_10=0.00, X_1_11=0.00, X_1_12=0.00, X_1_13=0.00, X_1_14=0.00, X_1_15=0.00, X_1_16=0.00, X_1_17=0.00, X_1_18=0.00, X_1_19=0.00, X_1_2=0.00, X_1_3=0.00, X_1_4=0.00, X_1_5=0.00, X_1_6=0.00, X_1_7=0.00, X_1_8=0.00, X_1_9=0.00, X_2_0=0.00, X_2_1=0.00, X_2_10=0.00, X_2_11=0.00, X_2_12=0.00, X_2_13=0.00, X_2_14=0.00, X_2_15=0.00, X_2_16=0.00, X_2_17=0.00, X_2_18=0.00, X_2_19=0.00, X_2_3=0.00, X_2_4=0.00, X_2_5=0.00, X_2_6=0.00, X_2_7=0.00, X_2_8=0.00, X_2_9=0.00, X_3_0=0.00, X_3_1=0.00, X_3_10=0.00, X_3_11=0.00, X_3_12=0.00, X_3_13=0.00, X_3_14=0.00, X_3_15=0.00, X_3_16=0.00, X_3_17=0.00, X_3_18=0.00, X_3_19=0.00, X_3_2=0.00, X_3_4=0.00, X_3_5=0.00, X_3_6=0.00, X_3_7=0.00, X_3_8=0.00, X_3_9=0.00, X_4_0=0.00, X_4_1=0.00, X_4_10=0.00, X_4_11=0.00, X_4_12=0.00, X_4_13=0.00, X_4_14=0.00, X_4_15=0.00, X_4_16=0.00, X_4_17=0.00, X_4_18=0.00, X_4_19=0.00, X_4_2=0.00, X_4_3=0.00, X_4_5=0.00, X_4_6=0.00, X_4_7=0.00, X_4_8=0.00, X_4_9=0.00, X_5_0=0.00, X_5_1=0.00, X_5_10=0.00, X_5_11=0.00, X_5_12=0.00, X_5_13=0.00, X_5_14=0.00, X_5_15=0.00, X_5_16=0.00, X_5_17=0.00, X_5_18=0.00, X_5_19=0.00, X_5_2=0.00, X_5_3=0.00, X_5_4=0.00, X_5_6=0.00, X_5_7=0.00, X_5_8=0.00, X_5_9=0.00, X_6_0=0.00, X_6_1=0.00, X_6_10=0.00, X_6_11=0.00, X_6_12=0.00, X_6_13=0.00, X_6_14=0.00, X_6_15=0.00, X_6_16=0.00, X_6_17=0.00, X_6_18=0.00, X_6_19=0.00, X_6_2=0.00, X_6_3=0.00, X_6_4=0.00, X_6_5=0.00, X_6_7=0.00, X_6_8=0.00, X_6_9=0.00, X_7_0=0.00, X_7_1=0.00, X_7_10=0.00, X_7_11=0.00, X_7_12=0.00, X_7_13=0.00, X_7_14=0.00, X_7_15=0.00, X_7_16=0.00, X_7_17=0.00, X_7_18=0.00, X_7_19=0.00, X_7_2=0.00, X_7_3=0.00, X_7_4=0.00, X_7_5=0.00, X_7_6=0.00, X_7_8=0.00, X_7_9=0.00, X_8_0=0.00, X_8_1=0.00, X_8_10=0.00, X_8_11=0.00, X_8_12=0.00, X_8_13=0.00, X_8_14=0.00, X_8_15=0.00, X_8_16=0.00, X_8_17=0.00, X_8_18=0.00, X_8_19=0.00, X_8_2=0.00, X_8_3=0.00, X_8_4=0.00, X_8_5=0.00, X_8_6=0.00, X_8_7=0.00, X_8_9=0.00, X_9_0=0.00, X_9_1=0.00, X_9_10=0.00, X_9_11=0.00, X_9_12=0.00, X_9_13=0.00, X_9_14=0.00, X_9_15=0.00, X_9_16=0.00, X_9_17=0.00, X_9_18=0.00, X_9_19=0.00, X_9_2=0.00, X_9_3=0.00, X_9_4=0.00, X_9_5=0.00, X_9_6=0.00, X_9_7=0.00, X_9_8=0.00, "
     ]
    }
   ],
   "source": [
    "from pulp import *\n",
    "import numpy as np\n",
    "X=[]\n",
    "P = []\n",
    "# variables du problème\n",
    "for i in range(len(complete_graph)):\n",
    "    for j in range(len(complete_graph)):\n",
    "        X.append(LpVariable(\"X_\" + str(i) + \"_\" + str(j), 0, 1, LpInteger))\n",
    "        P.append(complete_graph[i][j])\n",
    "\n",
    "\n",
    "# probleme\n",
    "prob = LpProblem(\"plus court chemin\", LpMinimize)\n",
    "\n",
    "# objectif\n",
    "# Somme de la multiplication des poids de chaque arc\n",
    "prob += lpSum([P[i] * X[i] for i in range(len(P))])\n",
    "\n",
    "# contraintes\n",
    "# La somme d'un arc doit etre egale a 1\n",
    "for i in range(len(complete_graph)):\n",
    "    prob += lpSum([X[i]]) == 1\n",
    "\n",
    "prob.solve()\n",
    "print(LpStatus[prob.status])\n",
    "print(\"Min=\", value(prob.objective))\n",
    "\n",
    "# variables resultat\n",
    "for v in prob.variables():\n",
    "    print(\"%s=%.2f\"%(v.name,v.varValue), end=', ')\n"
   ]
  }
 ],
 "metadata": {
  "kernelspec": {
   "display_name": "Python 3.9.13 ('env': venv)",
   "language": "python",
   "name": "python3"
  },
  "language_info": {
   "codemirror_mode": {
    "name": "ipython",
    "version": 3
   },
   "file_extension": ".py",
   "mimetype": "text/x-python",
   "name": "python",
   "nbconvert_exporter": "python",
   "pygments_lexer": "ipython3",
   "version": "3.9.13"
  },
  "orig_nbformat": 4,
  "vscode": {
   "interpreter": {
    "hash": "aed8dc2bdf9a2b709b8b12a4e86b3759be2b0920be157d886bea8859581eae16"
   }
  }
 },
 "nbformat": 4,
 "nbformat_minor": 2
}
