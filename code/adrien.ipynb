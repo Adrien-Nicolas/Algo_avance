{
 "cells": [
  {
   "cell_type": "code",
   "execution_count": 39,
   "metadata": {},
   "outputs": [],
   "source": [
    "import random\n",
    "import numpy as np\n",
    "import networkx as nx \n",
    "from dijkstar import Graph, find_path"
   ]
  },
  {
   "cell_type": "code",
   "execution_count": 40,
   "metadata": {},
   "outputs": [],
   "source": [
    "def generate_instance_matrix(nb_vertex, min_weight, max_weight, density):\n",
    "  graph = np.ones((nb_vertex, nb_vertex)) * np.inf\n",
    "  for i in range(nb_vertex - 1):\n",
    "    for j in range(i+1, nb_vertex):\n",
    "      if random.uniform(0, 1) < density:\n",
    "        weight = random.randint(min_weight, max_weight)\n",
    "        graph[i, j] = weight\n",
    "        graph[j, i] = weight\n",
    "  for i,line in enumerate(graph):\n",
    "    index_zeros = np.where(line == np.inf)[0]\n",
    "    index_zeros = np.delete(index_zeros, np.where(index_zeros == i))\n",
    "    for j in range(len(index_zeros) - (nb_vertex - 3)):\n",
    "      index = random.choice(index_zeros)\n",
    "      index_zeros = np.delete(index_zeros, np.where(index_zeros == index))\n",
    "      weight = random.randint(min_weight, max_weight)\n",
    "      graph[i, index] = weight\n",
    "      graph[index, i] = weight\n",
    "  return graph\n",
    "\n",
    "def convert_graph(graph):\n",
    "  graph_dijkstra = Graph()\n",
    "  for i in range(len(graph)):\n",
    "    for j in range(len(graph)):\n",
    "      graph_dijkstra.add_edge(i, j,graph[i][j])\n",
    "  return graph_dijkstra\n",
    "\n",
    "def get_distance_between_nodes(graph, i, j):\n",
    "  if (graph[i][j] != np.inf):\n",
    "    return graph[i][j], [i, j]\n",
    "  else:\n",
    "    if i != j:\n",
    "      shortest_path = find_path(graph, i,j)\n",
    "      return shortest_path.total_cost, shortest_path.nodes\n",
    "    else:\n",
    "      return 0, None\n",
    "\n",
    "def get_complete_graph(graph, node_list):\n",
    "  all_paths = {}\n",
    "  converted_graph = convert_graph(graph)\n",
    "  complete_graph = np.zeros((len(node_list), len(node_list)))\n",
    "  for i in node_list:\n",
    "    voisins_array = np.delete(node_list, np.where(node_list == i))\n",
    "    for j in voisins_array:\n",
    "      distance, path = get_distance_between_nodes(converted_graph, i, j)\n",
    "      converted_graph_i = np.where(node_list == i)[0][0]\n",
    "      converted_graph_j = np.where(node_list == j)[0][0]\n",
    "      complete_graph[converted_graph_i][converted_graph_j] = distance\n",
    "      all_paths[(converted_graph_i, converted_graph_j)] = path\n",
    "  return complete_graph, all_paths\n",
    "\n",
    "def get_random_vertex(size, nb_vertex):\n",
    "  random_vertex = []\n",
    "  all_vertex = np.array(range(size))\n",
    "  for _ in range(nb_vertex):\n",
    "    value = random.choice(all_vertex)\n",
    "    random_vertex.append(value)\n",
    "    all_vertex = np.delete(all_vertex, np.where(all_vertex == value))\n",
    "  return np.array(random_vertex)\n",
    "\n",
    "def generate_interval():\n",
    "  interval = random.choice(range(1,4))\n",
    "  shift = random.choice(range(0, 11-interval))\n",
    "  return(shift*60, (shift+interval)*60)\n",
    "\n",
    "def generate_instance(nb_vertex_matrix, min_weight, max_weight, density, random_vertex):\n",
    "  graph = generate_instance_matrix(nb_vertex_matrix, min_weight, max_weight, density)\n",
    "  complete_graph, all_paths = get_complete_graph(graph, random_vertex)\n",
    "  return graph, complete_graph, all_paths\n",
    "\n",
    "def get_complete_path(path, all_paths):\n",
    "  complete_path = []\n",
    "  for i in range(len(path) - 1):\n",
    "    complete_path.extend(all_paths[(path[i], path[i+1])][:-1])\n",
    "    if i == len(path) - 2:\n",
    "      complete_path.append(all_paths[(path[i], path[i+1])][-1])\n",
    "  return complete_path\n",
    "\n",
    "def is_path_in_interval(path, complete_graph, interval, vertex):\n",
    "  weight = 0\n",
    "  for i in range(np.where(np.array(path) == vertex)[0][0]):\n",
    "    weight += complete_graph[path[i]][path[i+1]]\n",
    "  if weight >= interval[0] and weight <= interval[1]:\n",
    "    return True\n",
    "  else:\n",
    "    return False\n",
    "\n",
    "def generate_neighbours(path, complete_graph, interval, vertex):\n",
    "  neighbours = []\n",
    "  for i in range(len(path)):\n",
    "    for j in range(i + 1, len(path)-1):\n",
    "      new_neighbour = path.copy()\n",
    "\n",
    "      new_neighbour[i] = path[j]\n",
    "      new_neighbour[j] = path[i]\n",
    "      \n",
    "      if is_path_in_interval(new_neighbour, complete_graph, interval, vertex) and new_neighbour[0] == new_neighbour[-1]:\n",
    "        neighbours.append(new_neighbour)\n",
    "  return neighbours\n",
    "\n",
    "def generate_random_path(nb_vertex, start_vertex):\n",
    "  path = np.arange(nb_vertex)\n",
    "  path = np.delete(path, np.where(path == start_vertex))\n",
    "  np.random.shuffle(path)\n",
    "  path = np.append(path, start_vertex)\n",
    "  path = np.insert(path, 0, start_vertex)\n",
    "  return path\n",
    "\n"
   ]
  },
  {
   "cell_type": "code",
   "execution_count": 41,
   "metadata": {},
   "outputs": [
    {
     "name": "stdout",
     "output_type": "stream",
     "text": [
      "[1 3 2 0 1]\n"
     ]
    }
   ],
   "source": [
    "import pickle\n",
    "with open(\"data.pickle\", \"rb\") as file:\n",
    "  data = pickle.load(file)\n",
    "\n",
    "\n",
    "graph = data[\"graph\"]\n",
    "complete_graph = data[\"complete_graph\"]\n",
    "all_paths = data[\"all_paths\"]\n",
    "vertices_list = data[\"vertices_list\"]\n",
    "start_vertex = data[\"start_vertex\"]\n",
    "start_vertex_index = data[\"start_vertex_index\"]\n",
    "interval_vertex = data[\"interval_vertex\"]\n",
    "interval_vertex_index = data[\"interval_vertex_index\"]\n",
    "interval = data[\"interval\"]\n",
    "\n",
    "path = generate_random_path(len(vertices_list), start_vertex_index)\n",
    "print(path)\n"
   ]
  },
  {
   "cell_type": "code",
   "execution_count": 42,
   "metadata": {},
   "outputs": [
    {
     "name": "stdout",
     "output_type": "stream",
     "text": [
      "[array([1, 2, 3, 0, 1], dtype=int64), array([1, 0, 2, 3, 1], dtype=int64), array([1, 3, 0, 2, 1], dtype=int64)]\n"
     ]
    }
   ],
   "source": [
    "# generate the neighbours of a path\n",
    "\n",
    "neighbours = generate_neighbours(path, complete_graph, interval, interval_vertex_index)\n",
    "print(neighbours)\n"
   ]
  },
  {
   "cell_type": "code",
   "execution_count": 43,
   "metadata": {},
   "outputs": [
    {
     "name": "stdout",
     "output_type": "stream",
     "text": [
      "Optimal\n",
      "Min= 95.0\n",
      "X_0_0=0.00, X_0_1=1.00, X_0_2=0.00, X_0_3=0.00, X_1_0=0.00, X_1_1=0.00, X_1_2=1.00, X_1_3=0.00, X_2_0=1.00, X_2_1=0.00, X_2_2=0.00, X_2_3=0.00, X_3_0=0.00, X_3_1=0.00, X_3_2=1.00, X_3_3=0.00, "
     ]
    }
   ],
   "source": [
    "from pulp import *\n",
    "import numpy as np\n",
    "\n",
    "\n",
    "X=[]\n",
    "P = []\n",
    "X_dict = {}\n",
    "True_tab = []\n",
    "\n",
    "\n",
    "\n",
    "# variables du problème\n",
    "for i in range(len(complete_graph)):\n",
    "    for j in range(len(complete_graph)):\n",
    "        X.append(LpVariable(\"X_\" + str(i) + \"_\" + str(j), 0, 1, LpInteger))\n",
    "        X_dict[(\"X_\" + str(i) + \"_\" + str(j))] = LpVariable(\"X_\" + str(i) + \"_\" + str(j), 0, 1, LpInteger)\n",
    "        P.append(complete_graph[i][j])\n",
    "\n",
    "# probleme\n",
    "prob = LpProblem(\"plus court chemin\", LpMinimize)\n",
    "\n",
    "# objectif\n",
    "# Somme de la multiplication des poids de chaque arc\n",
    "prob += lpSum([P[i] * X[i] for i in range(len(P))])\n",
    "\n",
    "# contraintes\n",
    "# La somme d'un arc doit etre egale a 1\n",
    "X_np = np.array(X)\n",
    "X_np_reshape = X_np.reshape(len(complete_graph), len(complete_graph))\n",
    "\n",
    "for i in range(len(X_np_reshape)):\n",
    "    prob += lpSum(X_np_reshape[i]) == 1\n",
    "    prob += X_np_reshape[i][i] == 0\n",
    "    for j in range(len(X_np_reshape)):\n",
    "        if i != j:\n",
    "            prob += X_np_reshape[i][j] + X_np_reshape[j][i] <= 1\n",
    "            \"\"\"for a in range(len(X_np_reshape)):\n",
    "                if i != a and j != a:\n",
    "                    prob += X_np_reshape[i][a] + X_np_reshape[j][a] + X_np_reshape[a][i] + X_np_reshape[a][j] <= 2\n",
    "\"\"\"\n",
    "\n",
    "prob.solve()\n",
    "print(LpStatus[prob.status])\n",
    "print(\"Min=\", value(prob.objective))\n",
    "\n",
    "# variables resultat\n",
    "for v in prob.variables():\n",
    "    print(\"%s=%.2f\"%(v.name,v.varValue), end=', ')\n"
   ]
  },
  {
   "cell_type": "code",
   "execution_count": 44,
   "metadata": {},
   "outputs": [],
   "source": [
    "nb_iterations=10000 #Dans la boucle while de la boucle principale\n",
    "T0 = 3000 #Température de départ\n",
    "Tmin = 1e-2 #Température minimale\n",
    "tau = 1e4 #Pour la loi de refroidissement\n"
   ]
  },
  {
   "cell_type": "code",
   "execution_count": 45,
   "metadata": {},
   "outputs": [
    {
     "name": "stdout",
     "output_type": "stream",
     "text": [
      "112.0\n"
     ]
    }
   ],
   "source": [
    "def distance_tot(matrice,path_matrix):\n",
    "    distance_tot = 0\n",
    "    ind = 2\n",
    "    points = [0,0]\n",
    "    for i in range(len(path_matrix)):\n",
    "        if i == 0:\n",
    "            points = path_matrix[0:2]\n",
    "            distance_tot += get_distance_between_nodes(matrice,points[0],points[1])[0]\n",
    "        else:\n",
    "            if (ind <= len(matrice)):\n",
    "                points = path_matrix[ind-1:ind+1]\n",
    "                distance_tot += get_distance_between_nodes(matrice,points[0],points[1])[0]\n",
    "                ind += 1\n",
    "    return distance_tot\n",
    "\n",
    "print(distance_tot(complete_graph,path))\n"
   ]
  },
  {
   "cell_type": "code",
   "execution_count": 46,
   "metadata": {},
   "outputs": [
    {
     "data": {
      "application/vnd.jupyter.widget-view+json": {
       "model_id": "9255aaa655f94be8b9a311a94763003b",
       "version_major": 2,
       "version_minor": 0
      },
      "text/plain": [
       "IntProgress(value=0, layout=Layout(width='100%'), max=10000)"
      ]
     },
     "metadata": {},
     "output_type": "display_data"
    },
    {
     "data": {
      "application/vnd.jupyter.widget-view+json": {
       "model_id": "72fd8b5c82f04f07956429159a5a0ef8",
       "version_major": 2,
       "version_minor": 0
      },
      "text/plain": [
       "IntProgress(value=0, layout=Layout(width='100%'), max=10000)"
      ]
     },
     "metadata": {},
     "output_type": "display_data"
    },
    {
     "data": {
      "application/vnd.jupyter.widget-view+json": {
       "model_id": "6efdb226ce8144a2934c6faeacd7380f",
       "version_major": 2,
       "version_minor": 0
      },
      "text/plain": [
       "IntProgress(value=0, layout=Layout(width='100%'), max=10000)"
      ]
     },
     "metadata": {},
     "output_type": "display_data"
    },
    {
     "data": {
      "application/vnd.jupyter.widget-view+json": {
       "model_id": "945b4b906d0b4ec4bf768fce7b741e25",
       "version_major": 2,
       "version_minor": 0
      },
      "text/plain": [
       "IntProgress(value=0, layout=Layout(width='100%'), max=10000)"
      ]
     },
     "metadata": {},
     "output_type": "display_data"
    },
    {
     "data": {
      "application/vnd.jupyter.widget-view+json": {
       "model_id": "83af578438844209ac6883bbea325f23",
       "version_major": 2,
       "version_minor": 0
      },
      "text/plain": [
       "IntProgress(value=0, layout=Layout(width='100%'), max=10000)"
      ]
     },
     "metadata": {},
     "output_type": "display_data"
    },
    {
     "data": {
      "application/vnd.jupyter.widget-view+json": {
       "model_id": "97772672301c41d3b7cb993baaad0c2e",
       "version_major": 2,
       "version_minor": 0
      },
      "text/plain": [
       "IntProgress(value=0, layout=Layout(width='100%'), max=10000)"
      ]
     },
     "metadata": {},
     "output_type": "display_data"
    },
    {
     "data": {
      "application/vnd.jupyter.widget-view+json": {
       "model_id": "5c0e9820aa294f65b5a12ae7671b8b96",
       "version_major": 2,
       "version_minor": 0
      },
      "text/plain": [
       "IntProgress(value=0, layout=Layout(width='100%'), max=10000)"
      ]
     },
     "metadata": {},
     "output_type": "display_data"
    },
    {
     "data": {
      "application/vnd.jupyter.widget-view+json": {
       "model_id": "83d65c16e9e1488bb4344752b381c391",
       "version_major": 2,
       "version_minor": 0
      },
      "text/plain": [
       "IntProgress(value=0, layout=Layout(width='100%'), max=10000)"
      ]
     },
     "metadata": {},
     "output_type": "display_data"
    },
    {
     "data": {
      "application/vnd.jupyter.widget-view+json": {
       "model_id": "532f6e32acc14821a0a09fabd6a2d7fe",
       "version_major": 2,
       "version_minor": 0
      },
      "text/plain": [
       "IntProgress(value=0, layout=Layout(width='100%'), max=10000)"
      ]
     },
     "metadata": {},
     "output_type": "display_data"
    },
    {
     "data": {
      "application/vnd.jupyter.widget-view+json": {
       "model_id": "bddf76cd58ad4f3d9dedef77bc98a400",
       "version_major": 2,
       "version_minor": 0
      },
      "text/plain": [
       "IntProgress(value=0, layout=Layout(width='100%'), max=10000)"
      ]
     },
     "metadata": {},
     "output_type": "display_data"
    },
    {
     "data": {
      "application/vnd.jupyter.widget-view+json": {
       "model_id": "b585a98ef41240ce9108d833fdad83de",
       "version_major": 2,
       "version_minor": 0
      },
      "text/plain": [
       "IntProgress(value=0, layout=Layout(width='100%'), max=10000)"
      ]
     },
     "metadata": {},
     "output_type": "display_data"
    },
    {
     "name": "stdout",
     "output_type": "stream",
     "text": [
      "[1 2 3 0 1] 104.0\n"
     ]
    }
   ],
   "source": [
    "from ipywidgets import IntProgress \n",
    "from IPython.display import display\n",
    "\n",
    "def recuit_simule_matrix(matrix,path):\n",
    "    bar = IntProgress(min=0, max=nb_iterations, layout={\"width\" : \"100%\"})\n",
    "    display(bar)\n",
    "    i_tab = []\n",
    "    T_Tab = []\n",
    "    distance_tab = []\n",
    "\n",
    "    distance = distance_tot(matrix,path)\n",
    "    solution = np.copy(path)\n",
    "    i = 0\n",
    "    T=T0\n",
    "\n",
    "    while T>Tmin and i<nb_iterations:\n",
    "        i_tab.append(i)\n",
    "        T_Tab.append(T)\n",
    "        distance_tab.append(distance)\n",
    "        i+=1\n",
    "\n",
    "        #Loi de refroidissement\n",
    "        T = T0 * np.exp(-i/tau)\n",
    "\n",
    "        solution_voisine = neighbours[np.random.randint(0, len(neighbours))]\n",
    "        \n",
    "        while is_path_in_interval(solution_voisine, matrix, interval, 3) == False:\n",
    "            solution_voisine = neighbours[np.random.randint(0, len(neighbours))]\n",
    "\n",
    "        #Création de la nouvelle solution proche de la precedente\n",
    "        \n",
    "\n",
    "        #Comparaison des deux valeurs\n",
    "        difference = distance_tot(matrix,solution) - distance_tot(matrix,solution_voisine)\n",
    "\n",
    "        # Si la nouvelle solution est meilleure, on la prend\n",
    "        if difference > 0:\n",
    "            solution = solution_voisine\n",
    "            distance = distance_tot(matrix,solution_voisine)\n",
    "        \n",
    "        # Sinon, on prend la solution actuelle\n",
    "        else:\n",
    "            if np.random.uniform() > np.exp(-difference/T): #on accepte la solution avec une certaine probabilité. \n",
    "                solution=solution_voisine\n",
    "                distance=distance_tot(matrix,solution_voisine)\n",
    "        \n",
    "        bar.value += 1\n",
    "    bar.close()\n",
    "    return solution,distance,i_tab,T_Tab,distance_tab\n",
    "    \n",
    "\n",
    "solution, distance, i_tab, T_tab, distance_tab = recuit_simule_matrix(complete_graph,path)\n",
    "\n",
    "\n",
    "# Make a multistart of recuit_simule_matrix\n",
    "for _ in range (10):  \n",
    "    path = generate_random_path(len(vertices_list), start_vertex_index)\n",
    "    solution_courante, distance_courante, i_tab, T_tab, distance_tab = recuit_simule_matrix(complete_graph,path)\n",
    "    if distance_courante < distance:\n",
    "        solution = solution_courante\n",
    "        distance = distance_courante\n",
    "        i_tab = i_tab\n",
    "        T_tab = T_tab\n",
    "        distance_tab = distance_tab\n",
    "print(solution,distance)\n"
   ]
  },
  {
   "cell_type": "code",
   "execution_count": 47,
   "metadata": {},
   "outputs": [
    {
     "name": "stdout",
     "output_type": "stream",
     "text": [
      "Au bout de  10000 itérations, la meilleure solution avec le mélange simple est de visiter les villes dans cet ordre :\n",
      "1 ->\n",
      "2 ->\n",
      "3 ->\n",
      "0 ->\n",
      "1 ->\n",
      "La distance parcourue de la 1ere liste était de  120.0 km.\n",
      "La distance parcourue au total est de  104.0 km.\n"
     ]
    },
    {
     "data": {
      "image/png": "[encoded data removed]",
      "text/plain": [
       "<Figure size 432x288 with 1 Axes>"
      ]
     },
     "metadata": {},
     "output_type": "display_data"
    }
   ],
   "source": [
    "def afficher_villes(liste):\n",
    "    for i in range(0,len(liste)):\n",
    "        print(liste[i],\"->\")\n",
    "\n",
    "print (\"Au bout de \",nb_iterations,\"itérations, la meilleure solution avec le mélange simple est de visiter les villes dans cet ordre :\")\n",
    "afficher_villes(solution)\n",
    "\n",
    "print(\"La distance parcourue de la 1ere liste était de \", distance_tot(complete_graph,path), \"km.\")\n",
    "print(\"La distance parcourue au total est de \", distance_tot(complete_graph,solution), \"km.\") \n",
    "\n",
    "tab_path_real = get_complete_path(solution, all_paths)\n",
    "\n",
    "G = nx.Graph()\n",
    "G.add_nodes_from(solution)\n",
    "for i in range(len(solution)):\n",
    "    G.add_edge(solution[i],solution[(i+1)%len(solution)])\n",
    "\n",
    "\n",
    "nx.draw(G, with_labels=True)"
   ]
  },
  {
   "cell_type": "code",
   "execution_count": 48,
   "metadata": {},
   "outputs": [
    {
     "name": "stdout",
     "output_type": "stream",
     "text": [
      "10000\n",
      "10000\n",
      "10000\n"
     ]
    },
    {
     "data": {
      "image/png": "[encoded data removed]",
      "text/plain": [
       "<Figure size 432x288 with 1 Axes>"
      ]
     },
     "metadata": {
      "needs_background": "light"
     },
     "output_type": "display_data"
    }
   ],
   "source": [
    "# explore temperature vs algorithm iteration for simulated annealing\n",
    "from matplotlib import pyplot\n",
    "\n",
    "\n",
    "print(len(i_tab))\n",
    "print(len(T_tab))\n",
    "print(len(distance_tab))\n",
    "\n",
    "# plot T_tab vs distance_tab\n",
    "pyplot.plot(distance_tab)\n",
    "\n",
    "\n",
    "pyplot.xlabel('Temperature')\n",
    "pyplot.ylabel('Distance')\n",
    "pyplot.show()"
   ]
  }
 ],
 "metadata": {
  "kernelspec": {
   "display_name": "Python 3.9.13 ('env': venv)",
   "language": "python",
   "name": "python3"
  },
  "language_info": {
   "codemirror_mode": {
    "name": "ipython",
    "version": 3
   },
   "file_extension": ".py",
   "mimetype": "text/x-python",
   "name": "python",
   "nbconvert_exporter": "python",
   "pygments_lexer": "ipython3",
   "version": "3.9.13"
  },
  "orig_nbformat": 4,
  "vscode": {
   "interpreter": {
    "hash": "aed8dc2bdf9a2b709b8b12a4e86b3759be2b0920be157d886bea8859581eae16"
   }
  }
 },
 "nbformat": 4,
 "nbformat_minor": 2
}
