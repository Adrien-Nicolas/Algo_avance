{
 "cells": [
  {
   "cell_type": "code",
   "execution_count": 94,
   "metadata": {},
   "outputs": [],
   "source": [
    "import random\n",
    "import numpy as np\n",
    "import networkx as nx \n",
    "from dijkstar import Graph, find_path"
   ]
  },
  {
   "cell_type": "code",
   "execution_count": 95,
   "metadata": {},
   "outputs": [],
   "source": [
    "def generate_instance_matrix(nb_vertex, min_weight, max_weight, density):\n",
    "  graph = np.ones((nb_vertex, nb_vertex)) * np.inf\n",
    "  for i in range(nb_vertex - 1):\n",
    "    for j in range(i+1, nb_vertex):\n",
    "      if random.uniform(0, 1) < density:\n",
    "        weight = random.randint(min_weight, max_weight)\n",
    "        graph[i, j] = weight\n",
    "        graph[j, i] = weight\n",
    "  for i,line in enumerate(graph):\n",
    "    index_zeros = np.where(line == np.inf)[0]\n",
    "    index_zeros = np.delete(index_zeros, np.where(index_zeros == i))\n",
    "    for j in range(len(index_zeros) - (nb_vertex - 3)):\n",
    "      index = random.choice(index_zeros)\n",
    "      index_zeros = np.delete(index_zeros, np.where(index_zeros == index))\n",
    "      weight = random.randint(min_weight, max_weight)\n",
    "      graph[i, index] = weight\n",
    "      graph[index, i] = weight\n",
    "  return graph\n",
    "\n",
    "def convert_graph(graph):\n",
    "  graph_dijkstra = Graph()\n",
    "  for i in range(len(graph)):\n",
    "    for j in range(len(graph)):\n",
    "      graph_dijkstra.add_edge(i, j,graph[i][j])\n",
    "  return graph_dijkstra\n",
    "\n",
    "def get_distance_between_nodes(graph, i, j):\n",
    "  if (graph[i][j] != np.inf):\n",
    "    return graph[i][j], [i, j]\n",
    "  else:\n",
    "    if i != j:\n",
    "      shortest_path = find_path(graph, i,j)\n",
    "      return shortest_path.total_cost, shortest_path.nodes\n",
    "    else:\n",
    "      return 0, None\n",
    "\n",
    "def get_complete_graph(graph, node_list):\n",
    "  all_paths = {}\n",
    "  converted_graph = convert_graph(graph)\n",
    "  complete_graph = np.zeros((len(node_list), len(node_list)))\n",
    "  for i in node_list:\n",
    "    voisins_array = np.delete(node_list, np.where(node_list == i))\n",
    "    for j in voisins_array:\n",
    "      distance, path = get_distance_between_nodes(converted_graph, i, j)\n",
    "      converted_graph_i = np.where(node_list == i)[0][0]\n",
    "      converted_graph_j = np.where(node_list == j)[0][0]\n",
    "      complete_graph[converted_graph_i][converted_graph_j] = distance\n",
    "      all_paths[(converted_graph_i, converted_graph_j)] = path\n",
    "  return complete_graph, all_paths\n",
    "\n",
    "def get_random_vertex(size, nb_vertex):\n",
    "  random_vertex = []\n",
    "  all_vertex = np.array(range(size))\n",
    "  for _ in range(nb_vertex):\n",
    "    value = random.choice(all_vertex)\n",
    "    random_vertex.append(value)\n",
    "    all_vertex = np.delete(all_vertex, np.where(all_vertex == value))\n",
    "  return np.array(random_vertex)\n",
    "\n",
    "def generate_interval():\n",
    "  interval = random.choice(range(1,4))\n",
    "  shift = random.choice(range(0, 11-interval))\n",
    "  return(shift*60, (shift+interval)*60)\n",
    "\n",
    "def generate_instance(nb_vertex_matrix, min_weight, max_weight, density, random_vertex):\n",
    "  graph = generate_instance_matrix(nb_vertex_matrix, min_weight, max_weight, density)\n",
    "  complete_graph, all_paths = get_complete_graph(graph, random_vertex)\n",
    "  return graph, complete_graph, all_paths\n",
    "\n",
    "def get_complete_path(path, all_paths):\n",
    "  complete_path = []\n",
    "  for i in range(len(path) - 1):\n",
    "    complete_path.extend(all_paths[(path[i], path[i+1])][:-1])\n",
    "    if i == len(path) - 2:\n",
    "      complete_path.append(all_paths[(path[i], path[i+1])][-1])\n",
    "  return complete_path\n",
    "\n",
    "def is_path_in_interval(path, complete_graph, interval, vertex):\n",
    "  weight = 0\n",
    "  for i in range(np.where(np.array(path) == vertex)[0][0]):\n",
    "    weight += complete_graph[path[i]][path[i+1]]\n",
    "  if weight >= interval[0] and weight <= interval[1]:\n",
    "    return True\n",
    "  else:\n",
    "    return False\n",
    "\n",
    "def generate_neighbours(path, complete_graph, interval, vertex):\n",
    "  neighbours = []\n",
    "  for i in range(len(path)):\n",
    "    for j in range(i + 1, len(path)-1):\n",
    "      new_neighbour = path.copy()\n",
    "\n",
    "      new_neighbour[i] = path[j]\n",
    "      new_neighbour[j] = path[i]\n",
    "      \n",
    "      if is_path_in_interval(new_neighbour, complete_graph, interval, vertex) and new_neighbour[0] == new_neighbour[-1]:\n",
    "        neighbours.append(new_neighbour)\n",
    "  return neighbours\n",
    "\n",
    "def generate_random_path(nb_vertex, start_vertex):\n",
    "  path = np.arange(nb_vertex)\n",
    "  path = np.delete(path, np.where(path == start_vertex))\n",
    "  np.random.shuffle(path)\n",
    "  path = np.append(path, start_vertex)\n",
    "  path = np.insert(path, 0, start_vertex)\n",
    "  return path\n",
    "\n"
   ]
  },
  {
   "cell_type": "code",
   "execution_count": 96,
   "metadata": {},
   "outputs": [
    {
     "name": "stdout",
     "output_type": "stream",
     "text": [
      "[[ 0. 14. 31. 32.]\n",
      " [14.  0. 25. 24.]\n",
      " [31. 25.  0. 38.]\n",
      " [32. 24. 38.  0.]]\n"
     ]
    }
   ],
   "source": [
    "import pickle\n",
    "with open(\"data.pickle\", \"rb\") as file:\n",
    "  data = pickle.load(file)\n",
    "\n",
    "\n",
    "graph = data[\"graph\"]\n",
    "complete_graph = data[\"complete_graph\"]\n",
    "all_paths = data[\"all_paths\"]\n",
    "vertices_list = data[\"vertices_list\"]\n",
    "start_vertex = data[\"start_vertex\"]\n",
    "start_vertex_index = data[\"start_vertex_index\"]\n",
    "interval_vertex = data[\"interval_vertex\"]\n",
    "interval_vertex_index = data[\"interval_vertex_index\"]\n",
    "interval = data[\"interval\"]\n",
    "\n",
    "path = generate_random_path(len(vertices_list), start_vertex_index)\n",
    "print(complete_graph)"
   ]
  },
  {
   "cell_type": "code",
   "execution_count": 97,
   "metadata": {},
   "outputs": [],
   "source": [
    "# generate the neighbours of a path\n",
    "\n",
    "neighbours = generate_neighbours(path, complete_graph, interval, interval_vertex_index)\n"
   ]
  },
  {
   "cell_type": "code",
   "execution_count": 104,
   "metadata": {},
   "outputs": [
    {
     "name": "stdout",
     "output_type": "stream",
     "text": [
      "Optimal\n",
      "Min= 94.0\n",
      "X_0_0=0.00, X_0_1=0.00, X_0_2=1.00, X_0_3=0.00, X_1_0=1.00, X_1_1=0.00, X_1_2=0.00, X_1_3=0.00, X_2_0=0.00, X_2_1=1.00, X_2_2=0.00, X_2_3=0.00, X_3_0=0.00, X_3_1=1.00, X_3_2=0.00, X_3_3=0.00, "
     ]
    },
    {
     "name": "stderr",
     "output_type": "stream",
     "text": [
      "c:\\Users\\adrie\\Desktop\\adrien\\perso\\Algo_Avance\\Algo_avance\\env\\lib\\site-packages\\pulp\\pulp.py:1352: UserWarning: Spaces are not permitted in the name. Converted to '_'\n",
      "  warnings.warn(\"Spaces are not permitted in the name. Converted to '_'\")\n"
     ]
    }
   ],
   "source": [
    "from pulp import *\n",
    "import numpy as np\n",
    "\n",
    "\n",
    "X=[]\n",
    "P = []\n",
    "X_dict = {}\n",
    "True_tab = []\n",
    "\n",
    "\n",
    "\n",
    "# variables du problème\n",
    "for i in range(len(complete_graph)):\n",
    "    for j in range(len(complete_graph)):\n",
    "        X.append(LpVariable(\"X_\" + str(i) + \"_\" + str(j), 0, 1, LpInteger))\n",
    "        X_dict[(\"X_\" + str(i) + \"_\" + str(j))] = LpVariable(\"X_\" + str(i) + \"_\" + str(j), 0, 1, LpInteger)\n",
    "        P.append(complete_graph[i][j])\n",
    "\n",
    "# probleme\n",
    "prob = LpProblem(\"plus court chemin\", LpMinimize)\n",
    "\n",
    "# objectif\n",
    "# Somme de la multiplication des poids de chaque arc\n",
    "prob += lpSum([P[i] * X[i] for i in range(len(P))])\n",
    "\n",
    "# contraintes\n",
    "# La somme d'un arc doit etre egale a 1\n",
    "X_np = np.array(X)\n",
    "X_np_reshape = X_np.reshape(len(complete_graph), len(complete_graph))\n",
    "\n",
    "for i in range(len(X_np_reshape)):\n",
    "    prob += lpSum(X_np_reshape[i]) == 1\n",
    "    prob += X_np_reshape[i][i] == 0\n",
    "    for j in range(len(X_np_reshape)):\n",
    "        if i != j:\n",
    "            \n",
    "            prob += lpSum(X_np_reshape[i])+lpSum(X_np_reshape[j]) == 2\n",
    "\n",
    "            prob += X_np_reshape[i][j] + X_np_reshape[j][i] <= 1\n",
    "            \"\"\"if(X_np_reshape[i][j] == 1):\n",
    "                True_tab.append((i,j))\n",
    "                print(len(True_tab))\n",
    "            if (len(True_tab) == len(complete_graph)-1):\n",
    "                prob += X_np_reshape[i][0] == 1\"\"\"\n",
    "                    \n",
    "\n",
    "\n",
    "prob.solve()\n",
    "print(LpStatus[prob.status])\n",
    "print(\"Min=\", value(prob.objective))\n",
    "\n",
    "# variables resultat\n",
    "for v in prob.variables():\n",
    "    print(\"%s=%.2f\"%(v.name,v.varValue), end=', ')\n"
   ]
  },
  {
   "cell_type": "code",
   "execution_count": 99,
   "metadata": {},
   "outputs": [],
   "source": [
    "nb_iterations=10000 #Dans la boucle while de la boucle principale\n",
    "T0 = 30000 #Température de départ\n",
    "Tmin = 1e-2 #Température minimale\n",
    "tau = 1e4 #Pour la loi de refroidissement\n"
   ]
  },
  {
   "cell_type": "code",
   "execution_count": 100,
   "metadata": {},
   "outputs": [
    {
     "name": "stdout",
     "output_type": "stream",
     "text": [
      "109.0\n"
     ]
    }
   ],
   "source": [
    "def distance_tot(matrice,path_matrix):\n",
    "    distance_tot = 0\n",
    "    ind = 2\n",
    "    points = [0,0]\n",
    "    for i in range(len(path_matrix)):\n",
    "        if i == 0:\n",
    "            points = path_matrix[0:2]\n",
    "            distance_tot += get_distance_between_nodes(matrice,points[0],points[1])[0]\n",
    "        else:\n",
    "            if (ind <= len(matrice)):\n",
    "                points = path_matrix[ind-1:ind+1]\n",
    "                distance_tot += get_distance_between_nodes(matrice,points[0],points[1])[0]\n",
    "                ind += 1\n",
    "    return distance_tot\n",
    "\n",
    "print(distance_tot(complete_graph,path))\n"
   ]
  },
  {
   "cell_type": "code",
   "execution_count": 101,
   "metadata": {},
   "outputs": [
    {
     "data": {
      "application/vnd.jupyter.widget-view+json": {
       "model_id": "ef9298d630884b90b750c5f6e01dd2a0",
       "version_major": 2,
       "version_minor": 0
      },
      "text/plain": [
       "IntProgress(value=0, layout=Layout(width='100%'), max=10000)"
      ]
     },
     "metadata": {},
     "output_type": "display_data"
    },
    {
     "data": {
      "application/vnd.jupyter.widget-view+json": {
       "model_id": "e092a0f1c8f24b9c8f7c1494714edc0b",
       "version_major": 2,
       "version_minor": 0
      },
      "text/plain": [
       "IntProgress(value=0, layout=Layout(width='100%'), max=10000)"
      ]
     },
     "metadata": {},
     "output_type": "display_data"
    },
    {
     "ename": "KeyboardInterrupt",
     "evalue": "",
     "output_type": "error",
     "traceback": [
      "\u001b[1;31m---------------------------------------------------------------------------\u001b[0m",
      "\u001b[1;31mKeyboardInterrupt\u001b[0m                         Traceback (most recent call last)",
      "\u001b[1;32mc:\\Users\\adrie\\Desktop\\adrien\\perso\\Algo_Avance\\Algo_avance\\code\\adrien.ipynb Cell 8'\u001b[0m in \u001b[0;36m<cell line: 53>\u001b[1;34m()\u001b[0m\n\u001b[0;32m     <a href='vscode-notebook-cell:/c%3A/Users/adrie/Desktop/adrien/perso/Algo_Avance/Algo_avance/code/adrien.ipynb#ch0000007?line=52'>53</a>\u001b[0m \u001b[39mfor\u001b[39;00m _ \u001b[39min\u001b[39;00m \u001b[39mrange\u001b[39m (\u001b[39m20\u001b[39m):  \n\u001b[0;32m     <a href='vscode-notebook-cell:/c%3A/Users/adrie/Desktop/adrien/perso/Algo_Avance/Algo_avance/code/adrien.ipynb#ch0000007?line=54'>55</a>\u001b[0m     path \u001b[39m=\u001b[39m generate_random_path(\u001b[39mlen\u001b[39m(vertices_list), start_vertex_index)\n\u001b[1;32m---> <a href='vscode-notebook-cell:/c%3A/Users/adrie/Desktop/adrien/perso/Algo_Avance/Algo_avance/code/adrien.ipynb#ch0000007?line=55'>56</a>\u001b[0m     solution_courante, distance_courante, i_tab, T_tab, distance_tab \u001b[39m=\u001b[39m recuit_simule_matrix(complete_graph,path)\n\u001b[0;32m     <a href='vscode-notebook-cell:/c%3A/Users/adrie/Desktop/adrien/perso/Algo_Avance/Algo_avance/code/adrien.ipynb#ch0000007?line=56'>57</a>\u001b[0m     \u001b[39mprint\u001b[39m(\u001b[39m\"\u001b[39m\u001b[39mSolution courante trouvée : \u001b[39m\u001b[39m\"\u001b[39m, distance_courante)\n\u001b[0;32m     <a href='vscode-notebook-cell:/c%3A/Users/adrie/Desktop/adrien/perso/Algo_Avance/Algo_avance/code/adrien.ipynb#ch0000007?line=58'>59</a>\u001b[0m     \u001b[39mif\u001b[39;00m distance_courante \u001b[39m<\u001b[39m distance:\n",
      "\u001b[1;32mc:\\Users\\adrie\\Desktop\\adrien\\perso\\Algo_Avance\\Algo_avance\\code\\adrien.ipynb Cell 8'\u001b[0m in \u001b[0;36mrecuit_simule_matrix\u001b[1;34m(matrix, path)\u001b[0m\n\u001b[0;32m     <a href='vscode-notebook-cell:/c%3A/Users/adrie/Desktop/adrien/perso/Algo_Avance/Algo_avance/code/adrien.ipynb#ch0000007?line=41'>42</a>\u001b[0m             solution\u001b[39m=\u001b[39msolution_voisine\n\u001b[0;32m     <a href='vscode-notebook-cell:/c%3A/Users/adrie/Desktop/adrien/perso/Algo_Avance/Algo_avance/code/adrien.ipynb#ch0000007?line=42'>43</a>\u001b[0m             distance\u001b[39m=\u001b[39mdistance_tot(matrix,solution_voisine)\n\u001b[1;32m---> <a href='vscode-notebook-cell:/c%3A/Users/adrie/Desktop/adrien/perso/Algo_Avance/Algo_avance/code/adrien.ipynb#ch0000007?line=43'>44</a>\u001b[0m     bar\u001b[39m.\u001b[39mvalue \u001b[39m+\u001b[39m\u001b[39m=\u001b[39m \u001b[39m1\u001b[39m\n\u001b[0;32m     <a href='vscode-notebook-cell:/c%3A/Users/adrie/Desktop/adrien/perso/Algo_Avance/Algo_avance/code/adrien.ipynb#ch0000007?line=44'>45</a>\u001b[0m bar\u001b[39m.\u001b[39mclose()\n\u001b[0;32m     <a href='vscode-notebook-cell:/c%3A/Users/adrie/Desktop/adrien/perso/Algo_Avance/Algo_avance/code/adrien.ipynb#ch0000007?line=45'>46</a>\u001b[0m \u001b[39mreturn\u001b[39;00m solution,distance,i_tab,T_Tab,distance_tab\n",
      "File \u001b[1;32mc:\\Users\\adrie\\Desktop\\adrien\\perso\\Algo_Avance\\Algo_avance\\env\\lib\\site-packages\\traitlets\\traitlets.py:715\u001b[0m, in \u001b[0;36mTraitType.__set__\u001b[1;34m(self, obj, value)\u001b[0m\n\u001b[0;32m    713\u001b[0m     \u001b[39mraise\u001b[39;00m TraitError(\u001b[39m'\u001b[39m\u001b[39mThe \u001b[39m\u001b[39m\"\u001b[39m\u001b[39m%s\u001b[39;00m\u001b[39m\"\u001b[39m\u001b[39m trait is read-only.\u001b[39m\u001b[39m'\u001b[39m \u001b[39m%\u001b[39m \u001b[39mself\u001b[39m\u001b[39m.\u001b[39mname)\n\u001b[0;32m    714\u001b[0m \u001b[39melse\u001b[39;00m:\n\u001b[1;32m--> 715\u001b[0m     \u001b[39mself\u001b[39;49m\u001b[39m.\u001b[39;49mset(obj, value)\n",
      "File \u001b[1;32mc:\\Users\\adrie\\Desktop\\adrien\\perso\\Algo_Avance\\Algo_avance\\env\\lib\\site-packages\\traitlets\\traitlets.py:704\u001b[0m, in \u001b[0;36mTraitType.set\u001b[1;34m(self, obj, value)\u001b[0m\n\u001b[0;32m    700\u001b[0m     silent \u001b[39m=\u001b[39m \u001b[39mFalse\u001b[39;00m\n\u001b[0;32m    701\u001b[0m \u001b[39mif\u001b[39;00m silent \u001b[39mis\u001b[39;00m \u001b[39mnot\u001b[39;00m \u001b[39mTrue\u001b[39;00m:\n\u001b[0;32m    702\u001b[0m     \u001b[39m# we explicitly compare silent to True just in case the equality\u001b[39;00m\n\u001b[0;32m    703\u001b[0m     \u001b[39m# comparison above returns something other than True/False\u001b[39;00m\n\u001b[1;32m--> 704\u001b[0m     obj\u001b[39m.\u001b[39;49m_notify_trait(\u001b[39mself\u001b[39;49m\u001b[39m.\u001b[39;49mname, old_value, new_value)\n",
      "File \u001b[1;32mc:\\Users\\adrie\\Desktop\\adrien\\perso\\Algo_Avance\\Algo_avance\\env\\lib\\site-packages\\traitlets\\traitlets.py:1374\u001b[0m, in \u001b[0;36mHasTraits._notify_trait\u001b[1;34m(self, name, old_value, new_value)\u001b[0m\n\u001b[0;32m   1373\u001b[0m \u001b[39mdef\u001b[39;00m \u001b[39m_notify_trait\u001b[39m(\u001b[39mself\u001b[39m, name, old_value, new_value):\n\u001b[1;32m-> 1374\u001b[0m     \u001b[39mself\u001b[39;49m\u001b[39m.\u001b[39;49mnotify_change(\n\u001b[0;32m   1375\u001b[0m         Bunch(\n\u001b[0;32m   1376\u001b[0m             name\u001b[39m=\u001b[39;49mname,\n\u001b[0;32m   1377\u001b[0m             old\u001b[39m=\u001b[39;49mold_value,\n\u001b[0;32m   1378\u001b[0m             new\u001b[39m=\u001b[39;49mnew_value,\n\u001b[0;32m   1379\u001b[0m             owner\u001b[39m=\u001b[39;49m\u001b[39mself\u001b[39;49m,\n\u001b[0;32m   1380\u001b[0m             \u001b[39mtype\u001b[39;49m\u001b[39m=\u001b[39;49m\u001b[39m\"\u001b[39;49m\u001b[39mchange\u001b[39;49m\u001b[39m\"\u001b[39;49m,\n\u001b[0;32m   1381\u001b[0m         )\n\u001b[0;32m   1382\u001b[0m     )\n",
      "File \u001b[1;32mc:\\Users\\adrie\\Desktop\\adrien\\perso\\Algo_Avance\\Algo_avance\\env\\lib\\site-packages\\ipywidgets\\widgets\\widget.py:685\u001b[0m, in \u001b[0;36mWidget.notify_change\u001b[1;34m(self, change)\u001b[0m\n\u001b[0;32m    681\u001b[0m \u001b[39mif\u001b[39;00m \u001b[39mself\u001b[39m\u001b[39m.\u001b[39mcomm \u001b[39mis\u001b[39;00m \u001b[39mnot\u001b[39;00m \u001b[39mNone\u001b[39;00m \u001b[39mand\u001b[39;00m \u001b[39mself\u001b[39m\u001b[39m.\u001b[39mcomm\u001b[39m.\u001b[39mkernel \u001b[39mis\u001b[39;00m \u001b[39mnot\u001b[39;00m \u001b[39mNone\u001b[39;00m:\n\u001b[0;32m    682\u001b[0m     \u001b[39m# Make sure this isn't information that the front-end just sent us.\u001b[39;00m\n\u001b[0;32m    683\u001b[0m     \u001b[39mif\u001b[39;00m name \u001b[39min\u001b[39;00m \u001b[39mself\u001b[39m\u001b[39m.\u001b[39mkeys \u001b[39mand\u001b[39;00m \u001b[39mself\u001b[39m\u001b[39m.\u001b[39m_should_send_property(name, \u001b[39mgetattr\u001b[39m(\u001b[39mself\u001b[39m, name)):\n\u001b[0;32m    684\u001b[0m         \u001b[39m# Send new state to front-end\u001b[39;00m\n\u001b[1;32m--> 685\u001b[0m         \u001b[39mself\u001b[39;49m\u001b[39m.\u001b[39;49msend_state(key\u001b[39m=\u001b[39;49mname)\n\u001b[0;32m    686\u001b[0m \u001b[39msuper\u001b[39m(Widget, \u001b[39mself\u001b[39m)\u001b[39m.\u001b[39mnotify_change(change)\n",
      "File \u001b[1;32mc:\\Users\\adrie\\Desktop\\adrien\\perso\\Algo_Avance\\Algo_avance\\env\\lib\\site-packages\\ipywidgets\\widgets\\widget.py:554\u001b[0m, in \u001b[0;36mWidget.send_state\u001b[1;34m(self, key)\u001b[0m\n\u001b[0;32m    552\u001b[0m state, buffer_paths, buffers \u001b[39m=\u001b[39m _remove_buffers(state)\n\u001b[0;32m    553\u001b[0m msg \u001b[39m=\u001b[39m {\u001b[39m'\u001b[39m\u001b[39mmethod\u001b[39m\u001b[39m'\u001b[39m: \u001b[39m'\u001b[39m\u001b[39mupdate\u001b[39m\u001b[39m'\u001b[39m, \u001b[39m'\u001b[39m\u001b[39mstate\u001b[39m\u001b[39m'\u001b[39m: state, \u001b[39m'\u001b[39m\u001b[39mbuffer_paths\u001b[39m\u001b[39m'\u001b[39m: buffer_paths}\n\u001b[1;32m--> 554\u001b[0m \u001b[39mself\u001b[39;49m\u001b[39m.\u001b[39;49m_send(msg, buffers\u001b[39m=\u001b[39;49mbuffers)\n",
      "File \u001b[1;32mc:\\Users\\adrie\\Desktop\\adrien\\perso\\Algo_Avance\\Algo_avance\\env\\lib\\site-packages\\ipywidgets\\widgets\\widget.py:817\u001b[0m, in \u001b[0;36mWidget._send\u001b[1;34m(self, msg, buffers)\u001b[0m\n\u001b[0;32m    815\u001b[0m \u001b[39m\"\"\"Sends a message to the model in the front-end.\"\"\"\u001b[39;00m\n\u001b[0;32m    816\u001b[0m \u001b[39mif\u001b[39;00m \u001b[39mself\u001b[39m\u001b[39m.\u001b[39mcomm \u001b[39mis\u001b[39;00m \u001b[39mnot\u001b[39;00m \u001b[39mNone\u001b[39;00m \u001b[39mand\u001b[39;00m \u001b[39mself\u001b[39m\u001b[39m.\u001b[39mcomm\u001b[39m.\u001b[39mkernel \u001b[39mis\u001b[39;00m \u001b[39mnot\u001b[39;00m \u001b[39mNone\u001b[39;00m:\n\u001b[1;32m--> 817\u001b[0m     \u001b[39mself\u001b[39;49m\u001b[39m.\u001b[39;49mcomm\u001b[39m.\u001b[39;49msend(data\u001b[39m=\u001b[39;49mmsg, buffers\u001b[39m=\u001b[39;49mbuffers)\n",
      "File \u001b[1;32mc:\\Users\\adrie\\Desktop\\adrien\\perso\\Algo_Avance\\Algo_avance\\env\\lib\\site-packages\\ipykernel\\comm\\comm.py:137\u001b[0m, in \u001b[0;36mComm.send\u001b[1;34m(self, data, metadata, buffers)\u001b[0m\n\u001b[0;32m    135\u001b[0m \u001b[39mdef\u001b[39;00m \u001b[39msend\u001b[39m(\u001b[39mself\u001b[39m, data\u001b[39m=\u001b[39m\u001b[39mNone\u001b[39;00m, metadata\u001b[39m=\u001b[39m\u001b[39mNone\u001b[39;00m, buffers\u001b[39m=\u001b[39m\u001b[39mNone\u001b[39;00m):\n\u001b[0;32m    136\u001b[0m     \u001b[39m\"\"\"Send a message to the frontend-side version of this comm\"\"\"\u001b[39;00m\n\u001b[1;32m--> 137\u001b[0m     \u001b[39mself\u001b[39;49m\u001b[39m.\u001b[39;49m_publish_msg(\n\u001b[0;32m    138\u001b[0m         \u001b[39m\"\u001b[39;49m\u001b[39mcomm_msg\u001b[39;49m\u001b[39m\"\u001b[39;49m,\n\u001b[0;32m    139\u001b[0m         data\u001b[39m=\u001b[39;49mdata,\n\u001b[0;32m    140\u001b[0m         metadata\u001b[39m=\u001b[39;49mmetadata,\n\u001b[0;32m    141\u001b[0m         buffers\u001b[39m=\u001b[39;49mbuffers,\n\u001b[0;32m    142\u001b[0m     )\n",
      "File \u001b[1;32mc:\\Users\\adrie\\Desktop\\adrien\\perso\\Algo_Avance\\Algo_avance\\env\\lib\\site-packages\\ipykernel\\comm\\comm.py:71\u001b[0m, in \u001b[0;36mComm._publish_msg\u001b[1;34m(self, msg_type, data, metadata, buffers, **keys)\u001b[0m\n\u001b[0;32m     69\u001b[0m metadata \u001b[39m=\u001b[39m {} \u001b[39mif\u001b[39;00m metadata \u001b[39mis\u001b[39;00m \u001b[39mNone\u001b[39;00m \u001b[39melse\u001b[39;00m metadata\n\u001b[0;32m     70\u001b[0m content \u001b[39m=\u001b[39m json_clean(\u001b[39mdict\u001b[39m(data\u001b[39m=\u001b[39mdata, comm_id\u001b[39m=\u001b[39m\u001b[39mself\u001b[39m\u001b[39m.\u001b[39mcomm_id, \u001b[39m*\u001b[39m\u001b[39m*\u001b[39mkeys))\n\u001b[1;32m---> 71\u001b[0m \u001b[39mself\u001b[39;49m\u001b[39m.\u001b[39;49mkernel\u001b[39m.\u001b[39;49msession\u001b[39m.\u001b[39;49msend(\n\u001b[0;32m     72\u001b[0m     \u001b[39mself\u001b[39;49m\u001b[39m.\u001b[39;49mkernel\u001b[39m.\u001b[39;49miopub_socket,\n\u001b[0;32m     73\u001b[0m     msg_type,\n\u001b[0;32m     74\u001b[0m     content,\n\u001b[0;32m     75\u001b[0m     metadata\u001b[39m=\u001b[39;49mjson_clean(metadata),\n\u001b[0;32m     76\u001b[0m     parent\u001b[39m=\u001b[39;49m\u001b[39mself\u001b[39;49m\u001b[39m.\u001b[39;49mkernel\u001b[39m.\u001b[39;49mget_parent(\u001b[39m\"\u001b[39;49m\u001b[39mshell\u001b[39;49m\u001b[39m\"\u001b[39;49m),\n\u001b[0;32m     77\u001b[0m     ident\u001b[39m=\u001b[39;49m\u001b[39mself\u001b[39;49m\u001b[39m.\u001b[39;49mtopic,\n\u001b[0;32m     78\u001b[0m     buffers\u001b[39m=\u001b[39;49mbuffers,\n\u001b[0;32m     79\u001b[0m )\n",
      "File \u001b[1;32mc:\\Users\\adrie\\Desktop\\adrien\\perso\\Algo_Avance\\Algo_avance\\env\\lib\\site-packages\\jupyter_client\\session.py:855\u001b[0m, in \u001b[0;36mSession.send\u001b[1;34m(self, stream, msg_or_type, content, parent, ident, buffers, track, header, metadata)\u001b[0m\n\u001b[0;32m    852\u001b[0m \u001b[39melif\u001b[39;00m stream:\n\u001b[0;32m    853\u001b[0m     \u001b[39m# use dummy tracker, which will be done immediately\u001b[39;00m\n\u001b[0;32m    854\u001b[0m     tracker \u001b[39m=\u001b[39m DONE\n\u001b[1;32m--> 855\u001b[0m     stream\u001b[39m.\u001b[39;49msend_multipart(to_send, copy\u001b[39m=\u001b[39;49mcopy)\n\u001b[0;32m    857\u001b[0m \u001b[39mif\u001b[39;00m \u001b[39mself\u001b[39m\u001b[39m.\u001b[39mdebug:\n\u001b[0;32m    858\u001b[0m     pprint\u001b[39m.\u001b[39mpprint(msg)\n",
      "File \u001b[1;32mc:\\Users\\adrie\\Desktop\\adrien\\perso\\Algo_Avance\\Algo_avance\\env\\lib\\site-packages\\ipykernel\\iostream.py:286\u001b[0m, in \u001b[0;36mBackgroundSocket.send_multipart\u001b[1;34m(self, *args, **kwargs)\u001b[0m\n\u001b[0;32m    284\u001b[0m \u001b[39m\"\"\"Schedule send in IO thread\"\"\"\u001b[39;00m\n\u001b[0;32m    285\u001b[0m \u001b[39massert\u001b[39;00m \u001b[39mself\u001b[39m\u001b[39m.\u001b[39mio_thread \u001b[39mis\u001b[39;00m \u001b[39mnot\u001b[39;00m \u001b[39mNone\u001b[39;00m\n\u001b[1;32m--> 286\u001b[0m \u001b[39mreturn\u001b[39;00m \u001b[39mself\u001b[39m\u001b[39m.\u001b[39mio_thread\u001b[39m.\u001b[39msend_multipart(\u001b[39m*\u001b[39margs, \u001b[39m*\u001b[39m\u001b[39m*\u001b[39mkwargs)\n",
      "File \u001b[1;32mc:\\Users\\adrie\\Desktop\\adrien\\perso\\Algo_Avance\\Algo_avance\\env\\lib\\site-packages\\ipykernel\\iostream.py:219\u001b[0m, in \u001b[0;36mIOPubThread.send_multipart\u001b[1;34m(self, *args, **kwargs)\u001b[0m\n\u001b[0;32m    214\u001b[0m \u001b[39mdef\u001b[39;00m \u001b[39msend_multipart\u001b[39m(\u001b[39mself\u001b[39m, \u001b[39m*\u001b[39margs, \u001b[39m*\u001b[39m\u001b[39m*\u001b[39mkwargs):\n\u001b[0;32m    215\u001b[0m     \u001b[39m\"\"\"send_multipart schedules actual zmq send in my thread.\u001b[39;00m\n\u001b[0;32m    216\u001b[0m \n\u001b[0;32m    217\u001b[0m \u001b[39m    If my thread isn't running (e.g. forked process), send immediately.\u001b[39;00m\n\u001b[0;32m    218\u001b[0m \u001b[39m    \"\"\"\u001b[39;00m\n\u001b[1;32m--> 219\u001b[0m     \u001b[39mself\u001b[39;49m\u001b[39m.\u001b[39;49mschedule(\u001b[39mlambda\u001b[39;49;00m: \u001b[39mself\u001b[39;49m\u001b[39m.\u001b[39;49m_really_send(\u001b[39m*\u001b[39;49margs, \u001b[39m*\u001b[39;49m\u001b[39m*\u001b[39;49mkwargs))\n",
      "File \u001b[1;32mc:\\Users\\adrie\\Desktop\\adrien\\perso\\Algo_Avance\\Algo_avance\\env\\lib\\site-packages\\ipykernel\\iostream.py:210\u001b[0m, in \u001b[0;36mIOPubThread.schedule\u001b[1;34m(self, f)\u001b[0m\n\u001b[0;32m    208\u001b[0m     \u001b[39mself\u001b[39m\u001b[39m.\u001b[39m_events\u001b[39m.\u001b[39mappend(f)\n\u001b[0;32m    209\u001b[0m     \u001b[39m# wake event thread (message content is ignored)\u001b[39;00m\n\u001b[1;32m--> 210\u001b[0m     \u001b[39mself\u001b[39;49m\u001b[39m.\u001b[39;49m_event_pipe\u001b[39m.\u001b[39;49msend(\u001b[39mb\u001b[39;49m\u001b[39m\"\u001b[39;49m\u001b[39m\"\u001b[39;49m)\n\u001b[0;32m    211\u001b[0m \u001b[39melse\u001b[39;00m:\n\u001b[0;32m    212\u001b[0m     f()\n",
      "File \u001b[1;32mc:\\Users\\adrie\\Desktop\\adrien\\perso\\Algo_Avance\\Algo_avance\\env\\lib\\site-packages\\zmq\\sugar\\socket.py:618\u001b[0m, in \u001b[0;36mSocket.send\u001b[1;34m(self, data, flags, copy, track, routing_id, group)\u001b[0m\n\u001b[0;32m    611\u001b[0m         data \u001b[39m=\u001b[39m zmq\u001b[39m.\u001b[39mFrame(\n\u001b[0;32m    612\u001b[0m             data,\n\u001b[0;32m    613\u001b[0m             track\u001b[39m=\u001b[39mtrack,\n\u001b[0;32m    614\u001b[0m             copy\u001b[39m=\u001b[39mcopy \u001b[39mor\u001b[39;00m \u001b[39mNone\u001b[39;00m,\n\u001b[0;32m    615\u001b[0m             copy_threshold\u001b[39m=\u001b[39m\u001b[39mself\u001b[39m\u001b[39m.\u001b[39mcopy_threshold,\n\u001b[0;32m    616\u001b[0m         )\n\u001b[0;32m    617\u001b[0m     data\u001b[39m.\u001b[39mgroup \u001b[39m=\u001b[39m group\n\u001b[1;32m--> 618\u001b[0m \u001b[39mreturn\u001b[39;00m \u001b[39msuper\u001b[39;49m()\u001b[39m.\u001b[39;49msend(data, flags\u001b[39m=\u001b[39;49mflags, copy\u001b[39m=\u001b[39;49mcopy, track\u001b[39m=\u001b[39;49mtrack)\n",
      "File \u001b[1;32mzmq\\backend\\cython\\socket.pyx:740\u001b[0m, in \u001b[0;36mzmq.backend.cython.socket.Socket.send\u001b[1;34m()\u001b[0m\n",
      "File \u001b[1;32mzmq\\backend\\cython\\socket.pyx:787\u001b[0m, in \u001b[0;36mzmq.backend.cython.socket.Socket.send\u001b[1;34m()\u001b[0m\n",
      "File \u001b[1;32mzmq\\backend\\cython\\socket.pyx:244\u001b[0m, in \u001b[0;36mzmq.backend.cython.socket._send_copy\u001b[1;34m()\u001b[0m\n",
      "File \u001b[1;32mc:\\Users\\adrie\\Desktop\\adrien\\perso\\Algo_Avance\\Algo_avance\\env\\lib\\site-packages\\zmq\\backend\\cython\\checkrc.pxd:13\u001b[0m, in \u001b[0;36mzmq.backend.cython.checkrc._check_rc\u001b[1;34m()\u001b[0m\n",
      "\u001b[1;31mKeyboardInterrupt\u001b[0m: "
     ]
    }
   ],
   "source": [
    "from ipywidgets import IntProgress \n",
    "from IPython.display import display\n",
    "\n",
    "def recuit_simule_matrix(matrix,path):\n",
    "    bar = IntProgress(min=0, max=nb_iterations, layout={\"width\" : \"100%\"})\n",
    "    display(bar)\n",
    "    i_tab = []\n",
    "    T_Tab = []\n",
    "    distance_tab = []\n",
    "\n",
    "    distance = distance_tot(matrix,path)\n",
    "    solution = np.copy(path)\n",
    "    i = 0\n",
    "    T=T0\n",
    "\n",
    "    while T>Tmin and i<nb_iterations:\n",
    "        i_tab.append(i)\n",
    "        T_Tab.append(T)\n",
    "        distance_tab.append(distance)\n",
    "        i+=1\n",
    "\n",
    "        #Loi de refroidissement\n",
    "        T = T0 * np.exp(-i/tau)\n",
    "\n",
    "        solution_voisine = neighbours[np.random.randint(0, len(neighbours))]\n",
    "        \"\"\"while is_path_in_interval(solution_voisine, matrix, interval, 95) == False:\n",
    "            solution_voisine = neighbours[np.random.randint(0, len(neighbours))]\"\"\"\n",
    "\n",
    "        #Création de la nouvelle solution proche de la precedente\n",
    "        \n",
    "\n",
    "        #Comparaison des deux valeurs\n",
    "        difference = distance_tot(matrix,solution) - distance_tot(matrix,solution_voisine)\n",
    "\n",
    "        # Si la nouvelle solution est meilleure, on la prend\n",
    "        if difference > 0:\n",
    "            solution = solution_voisine\n",
    "            distance = distance_tot(matrix,solution_voisine)\n",
    "        # Sinon, on prend la solution actuelle\n",
    "        else:\n",
    "            if np.random.uniform() > np.exp(-difference/T): #on accepte la solution avec une certaine probabilité. \n",
    "                solution=solution_voisine\n",
    "                distance=distance_tot(matrix,solution_voisine)\n",
    "        bar.value += 1\n",
    "    bar.close()\n",
    "    return solution,distance,i_tab,T_Tab,distance_tab\n",
    "    \n",
    "\n",
    "solution, distance, i_tab, T_tab, distance_tab = recuit_simule_matrix(complete_graph,path)\n",
    "\n",
    "\n",
    "# Make a multistart of recuit_simule_matrix\n",
    "for _ in range (20):  \n",
    "    \n",
    "    path = generate_random_path(len(vertices_list), start_vertex_index)\n",
    "    solution_courante, distance_courante, i_tab, T_tab, distance_tab = recuit_simule_matrix(complete_graph,path)\n",
    "    print(\"Solution courante trouvée : \", distance_courante)\n",
    "\n",
    "    if distance_courante < distance:\n",
    "        solution = solution_courante\n",
    "        distance = distance_courante\n",
    "        print(\"Nouvelle solution trouvée : \", distance)\n",
    "        i_tab = i_tab\n",
    "        T_tab = T_tab\n",
    "        distance_tab = distance_tab\n",
    "\n",
    "print(solution,distance)\n"
   ]
  },
  {
   "cell_type": "code",
   "execution_count": null,
   "metadata": {},
   "outputs": [
    {
     "name": "stdout",
     "output_type": "stream",
     "text": [
      "Au bout de  10000 itérations, la meilleure solution avec le mélange simple est de visiter les villes dans cet ordre :\n",
      "2 ->\n",
      "3 ->\n",
      "1 ->\n",
      "0 ->\n",
      "2 ->\n",
      "La distance parcourue de la 1ere liste était de  109.0 min.\n",
      "La distance parcourue au total est de  107.0 min.\n"
     ]
    },
    {
     "data": {
      "image/png": "[encoded data removed]",
      "text/plain": [
       "<Figure size 432x288 with 1 Axes>"
      ]
     },
     "metadata": {},
     "output_type": "display_data"
    }
   ],
   "source": [
    "def afficher_villes(liste):\n",
    "    for i in range(0,len(liste)):\n",
    "        print(liste[i],\"->\")\n",
    "\n",
    "print (\"Au bout de \",nb_iterations,\"itérations, la meilleure solution avec le mélange simple est de visiter les villes dans cet ordre :\")\n",
    "afficher_villes(solution)\n",
    "\n",
    "print(\"La distance parcourue de la 1ere liste était de \", distance_tot(complete_graph,path), \"min.\")\n",
    "print(\"La distance parcourue au total est de \", distance_tot(complete_graph,solution), \"min.\") \n",
    "\n",
    "tab_path_real = get_complete_path(solution, all_paths)\n",
    "\n",
    "G = nx.Graph()\n",
    "G.add_nodes_from(solution)\n",
    "for i in range(len(solution)):\n",
    "    G.add_edge(solution[i],solution[(i+1)%len(solution)])\n",
    "\n",
    "\n",
    "nx.draw(G, with_labels=True)"
   ]
  },
  {
   "cell_type": "code",
   "execution_count": null,
   "metadata": {},
   "outputs": [
    {
     "name": "stdout",
     "output_type": "stream",
     "text": [
      "10000\n",
      "10000\n",
      "10000\n"
     ]
    },
    {
     "data": {
      "image/png": "[encoded data removed]",
      "text/plain": [
       "<Figure size 432x288 with 1 Axes>"
      ]
     },
     "metadata": {
      "needs_background": "light"
     },
     "output_type": "display_data"
    }
   ],
   "source": [
    "# explore temperature vs algorithm iteration for simulated annealing\n",
    "from matplotlib import pyplot\n",
    "\n",
    "\n",
    "print(len(i_tab))\n",
    "print(len(T_tab))\n",
    "print(len(distance_tab))\n",
    "\n",
    "# plot T_tab vs distance_tab\n",
    "pyplot.plot(distance_tab,T_tab)\n",
    "\n",
    "\n",
    "pyplot.xlabel('Temperature')\n",
    "pyplot.ylabel('Distance')\n",
    "pyplot.show()"
   ]
  }
 ],
 "metadata": {
  "kernelspec": {
   "display_name": "Python 3.9.13 ('env': venv)",
   "language": "python",
   "name": "python3"
  },
  "language_info": {
   "codemirror_mode": {
    "name": "ipython",
    "version": 3
   },
   "file_extension": ".py",
   "mimetype": "text/x-python",
   "name": "python",
   "nbconvert_exporter": "python",
   "pygments_lexer": "ipython3",
   "version": "3.9.13"
  },
  "orig_nbformat": 4,
  "vscode": {
   "interpreter": {
    "hash": "aed8dc2bdf9a2b709b8b12a4e86b3759be2b0920be157d886bea8859581eae16"
   }
  }
 },
 "nbformat": 4,
 "nbformat_minor": 2
}
