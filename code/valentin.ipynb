{
 "cells": [
  {
   "cell_type": "code",
   "execution_count": 1,
   "metadata": {},
   "outputs": [],
   "source": [
    "import random\n",
    "import numpy as np\n",
    "import networkx as nx \n",
    "import matplotlib.pyplot as plt\n",
    "from dijkstar import Graph, find_path"
   ]
  },
  {
   "cell_type": "code",
   "execution_count": 2,
   "metadata": {},
   "outputs": [],
   "source": [
    "def generate_instance_matrix(nb_vertex, min_weight, max_weight, density):\n",
    "  graph = np.ones((nb_vertex, nb_vertex)) * np.inf\n",
    "  for i in range(nb_vertex - 1):\n",
    "    for j in range(i+1, nb_vertex):\n",
    "      if random.uniform(0, 1) < density:\n",
    "        weight = random.randint(min_weight, max_weight)\n",
    "        graph[i, j] = weight\n",
    "        graph[j, i] = weight\n",
    "  for i,line in enumerate(graph):\n",
    "    index_zeros = np.where(line == np.inf)[0]\n",
    "    index_zeros = np.delete(index_zeros, np.where(index_zeros == i))\n",
    "    for j in range(len(index_zeros) - (nb_vertex - 3)):\n",
    "      index = random.choice(index_zeros)\n",
    "      index_zeros = np.delete(index_zeros, np.where(index_zeros == index))\n",
    "      weight = random.randint(min_weight, max_weight)\n",
    "      graph[i, index] = weight\n",
    "      graph[index, i] = weight\n",
    "  return graph\n",
    "\n",
    "def convert_graph(graph):\n",
    "  graph_dijkstra = Graph()\n",
    "  for i in range(len(graph)):\n",
    "    for j in range(len(graph)):\n",
    "      graph_dijkstra.add_edge(i, j,graph[i][j])\n",
    "  return graph_dijkstra\n",
    "\n",
    "def get_distance_between_nodes(graph, i, j):\n",
    "  if (graph[i][j] != np.inf):\n",
    "    return graph[i][j], [i, j]\n",
    "  else:\n",
    "    if i != j:\n",
    "      shortest_path = find_path(graph, i,j)\n",
    "      return shortest_path.total_cost, shortest_path.nodes\n",
    "    else:\n",
    "      return 0, None\n",
    "\n",
    "def get_complete_graph(graph, node_list):\n",
    "  all_paths = {}\n",
    "  converted_graph = convert_graph(graph)\n",
    "  complete_graph = np.zeros((len(node_list), len(node_list)))\n",
    "  for i in node_list:\n",
    "    voisins_array = np.delete(node_list, np.where(node_list == i))\n",
    "    for j in voisins_array:\n",
    "      distance, path = get_distance_between_nodes(converted_graph, i, j)\n",
    "      converted_graph_i = np.where(node_list == i)[0][0]\n",
    "      converted_graph_j = np.where(node_list == j)[0][0]\n",
    "      complete_graph[converted_graph_i][converted_graph_j] = distance\n",
    "      all_paths[(converted_graph_i, converted_graph_j)] = path\n",
    "  return complete_graph, all_paths\n",
    "\n",
    "def get_random_vertex(size, nb_vertex):\n",
    "  random_vertex = []\n",
    "  all_vertex = np.array(range(size))\n",
    "  for _ in range(nb_vertex):\n",
    "    value = random.choice(all_vertex)\n",
    "    random_vertex.append(value)\n",
    "    all_vertex = np.delete(all_vertex, np.where(all_vertex == value))\n",
    "  return np.array(random_vertex)\n",
    "\n",
    "def generate_interval():\n",
    "  interval = random.choice(range(1,4))\n",
    "  shift = random.choice(range(0, 11-interval))\n",
    "  return(shift*60, (shift+interval)*60)\n",
    "\n",
    "def generate_instance(nb_vertex_matrix, min_weight, max_weight, density, random_vertex):\n",
    "  graph = generate_instance_matrix(nb_vertex_matrix, min_weight, max_weight, density)\n",
    "  complete_graph, all_paths = get_complete_graph(graph, random_vertex)\n",
    "  return graph, complete_graph, all_paths\n",
    "\n",
    "def get_complete_path(path, all_paths):\n",
    "  complete_path = []\n",
    "  for i in range(len(path) - 1):\n",
    "    complete_path.extend(all_paths[(path[i], path[i+1])][:-1])\n",
    "    if i == len(path) - 2:\n",
    "      complete_path.append(all_paths[(path[i], path[i+1])][-1])\n",
    "  return complete_path\n",
    "\n",
    "def is_path_in_interval(path, complete_graph, interval, vertex):\n",
    "  weight = 0\n",
    "  for i in range(np.where(np.array(path) == vertex)[0][0]):\n",
    "    weight += complete_graph[path[i]][path[i+1]]\n",
    "  if weight >= interval[0] and weight <= interval[1]:\n",
    "    return True\n",
    "  else:\n",
    "    return False\n",
    "\n",
    "def generate_neighbours(path, complete_graph, interval, vertex):\n",
    "  neighbours = []\n",
    "  for i in range(len(path)):\n",
    "    for j in range(i + 1, len(path)):\n",
    "      new_neighbour = path.copy()\n",
    "      new_neighbour[i] = path[j]\n",
    "      new_neighbour[j] = path[i]\n",
    "      if is_path_in_interval(new_neighbour, complete_graph, interval, vertex):\n",
    "        neighbours.append(new_neighbour)\n",
    "  return neighbours\n",
    "\n",
    "def generate_random_path(nb_vertex):\n",
    "  path = np.arange(nb_vertex)\n",
    "  np.random.shuffle(path)\n",
    "  return path"
   ]
  },
  {
   "cell_type": "code",
   "execution_count": 3,
   "metadata": {},
   "outputs": [],
   "source": [
    "# variables\n",
    "nb_vertex_matrix = 100\n",
    "min_weight = 10\n",
    "max_weight = 60\n",
    "density = 0.3\n",
    "nb_vertex_chosen = 6"
   ]
  },
  {
   "cell_type": "code",
   "execution_count": 4,
   "metadata": {},
   "outputs": [],
   "source": [
    "#random generation of a list of vertex among all the vertex available\n",
    "random_vertex = get_random_vertex(nb_vertex_matrix, nb_vertex_chosen)\n",
    "\n",
    "# generation of the graph, the complete graph and the list of all paths\n",
    "graph, complete_graph, all_paths =\\\n",
    "generate_instance(\n",
    "  nb_vertex_matrix = nb_vertex_matrix,\n",
    "  min_weight = min_weight,\n",
    "  max_weight = max_weight,\n",
    "  random_vertex = random_vertex,\n",
    "  density = density\n",
    ")"
   ]
  },
  {
   "cell_type": "code",
   "execution_count": 5,
   "metadata": {},
   "outputs": [],
   "source": [
    "#generate an interval instance\n",
    "interval = generate_interval()"
   ]
  },
  {
   "cell_type": "code",
   "execution_count": 6,
   "metadata": {},
   "outputs": [],
   "source": [
    "#generate a random path\n",
    "path = generate_random_path(nb_vertex_chosen)"
   ]
  },
  {
   "cell_type": "code",
   "execution_count": 7,
   "metadata": {},
   "outputs": [],
   "source": [
    "# generate the neighbours of a path\n",
    "neighbours = generate_neighbours(path, complete_graph, (0,50), 1)"
   ]
  },
  {
   "cell_type": "code",
   "execution_count": 8,
   "metadata": {},
   "outputs": [
    {
     "name": "stdout",
     "output_type": "stream",
     "text": [
      "complete_graph\n",
      "[[ 0. 45. 36. 47. 30. 47.]\n",
      " [45.  0. 43. 37. 33. 34.]\n",
      " [36. 43.  0. 30. 41. 29.]\n",
      " [47. 37. 30.  0. 39. 47.]\n",
      " [30. 33. 41. 39.  0. 45.]\n",
      " [47. 34. 29. 47. 45.  0.]]\n"
     ]
    }
   ],
   "source": [
    "# print(\"graph\")\n",
    "# print(graph)\n",
    "print(\"complete_graph\")\n",
    "print(complete_graph)\n",
    "# print(\"all_paths\")\n",
    "# print(all_paths)\n",
    "# print(\"random_vertex\")\n",
    "# print(random_vertex)\n",
    "# print(\"interval\")\n",
    "# print(interval)"
   ]
  },
  {
   "cell_type": "code",
   "execution_count": 9,
   "metadata": {},
   "outputs": [],
   "source": [
    "complete_path = get_complete_path(path, all_paths)"
   ]
  },
  {
   "cell_type": "code",
   "execution_count": 10,
   "metadata": {},
   "outputs": [
    {
     "name": "stdout",
     "output_type": "stream",
     "text": [
      "[96 77 54 74 48 50]\n",
      "[5 0 2 1 3 4]\n",
      "[50, 96, 68, 92, 54, 77, 5, 74, 70, 48]\n"
     ]
    }
   ],
   "source": [
    "print(random_vertex)\n",
    "print(path)\n",
    "print(complete_path)\n"
   ]
  },
  {
   "cell_type": "code",
   "execution_count": 11,
   "metadata": {},
   "outputs": [
    {
     "name": "stdout",
     "output_type": "stream",
     "text": [
      "Optimal\n",
      "Min= 192.0\n",
      "X_0_0=0.00, X_0_1=0.00, X_0_2=1.00, X_0_3=0.00, X_0_4=0.00, X_0_5=0.00, X_1_0=0.00, X_1_1=0.00, X_1_2=0.00, X_1_3=0.00, X_1_4=1.00, X_1_5=0.00, X_2_0=0.00, X_2_1=0.00, X_2_2=0.00, X_2_3=0.00, X_2_4=0.00, X_2_5=1.00, X_3_0=0.00, X_3_1=0.00, X_3_2=1.00, X_3_3=0.00, X_3_4=0.00, X_3_5=0.00, X_4_0=1.00, X_4_1=0.00, X_4_2=0.00, X_4_3=0.00, X_4_4=0.00, X_4_5=0.00, X_5_0=0.00, X_5_1=1.00, X_5_2=0.00, X_5_3=0.00, X_5_4=0.00, X_5_5=0.00, "
     ]
    },
    {
     "name": "stderr",
     "output_type": "stream",
     "text": [
      "C:\\Users\\avela\\AppData\\Roaming\\Python\\Python39\\site-packages\\pulp\\pulp.py:1352: UserWarning: Spaces are not permitted in the name. Converted to '_'\n",
      "  warnings.warn(\"Spaces are not permitted in the name. Converted to '_'\")\n"
     ]
    }
   ],
   "source": [
    "from pulp import *\n",
    "import numpy as np\n",
    "\n",
    "\n",
    "X=[]\n",
    "P = []\n",
    "X_dict = {}\n",
    "\n",
    "\n",
    "# variables du problème\n",
    "for i in range(len(complete_graph)):\n",
    "    for j in range(len(complete_graph)):\n",
    "        X.append(LpVariable(\"X_\" + str(i) + \"_\" + str(j), 0, 1, LpInteger))\n",
    "        X_dict[(\"X_\" + str(i) + \"_\" + str(j))] = LpVariable(\"X_\" + str(i) + \"_\" + str(j), 0, 1, LpInteger)\n",
    "        P.append(complete_graph[i][j])\n",
    "# probleme\n",
    "prob = LpProblem(\"plus court chemin\", LpMinimize)\n",
    "\n",
    "# objectif\n",
    "# Somme de la multiplication des poids de chaque arc\n",
    "prob += lpSum([P[i] * X[i] for i in range(len(P))])\n",
    "\n",
    "# contraintes\n",
    "# La somme d'un arc doit etre egale a 1\n",
    "X_np = np.array(X)\n",
    "X_np_reshape = X_np.reshape(len(complete_graph), len(complete_graph))\n",
    "\n",
    "for i in range(len(X_np_reshape)):\n",
    "    \n",
    "    prob += lpSum(X_np_reshape[i]) == 1\n",
    "    prob += X_np_reshape[i][i] == 0\n",
    "\n",
    "    for j in range(len(X_np_reshape)):\n",
    "        if i != j:\n",
    "            prob += X_np_reshape[i][j] + X_np_reshape[j][i] <= 1\n",
    "    \n",
    "    \n",
    "\n",
    "prob.solve()\n",
    "print(LpStatus[prob.status])\n",
    "print(\"Min=\", value(prob.objective))\n",
    "\n",
    "# variables resultat\n",
    "for v in prob.variables():\n",
    "    print(\"%s=%.2f\"%(v.name,v.varValue), end=', ')\n"
   ]
  },
  {
   "cell_type": "markdown",
   "metadata": {},
   "source": [
    "# Algo Hill-Climbing"
   ]
  },
  {
   "cell_type": "code",
   "execution_count": 12,
   "metadata": {},
   "outputs": [],
   "source": [
    "def randomSolution(complete_graph):\n",
    "    vertex = list(range(len(complete_graph)))\n",
    "    solution = []\n",
    "\n",
    "    for i in range(len(complete_graph)):\n",
    "        randomVertex = vertex[random.randint(0, len(vertex) - 1)]\n",
    "        solution.append(randomVertex)\n",
    "        vertex.remove(randomVertex)\n",
    "\n",
    "    return solution\n",
    "\n",
    "\n",
    "def routeLength(complete_graph, solution):\n",
    "    routeLength = 0\n",
    "    for i in range(len(solution)):\n",
    "        routeLength += complete_graph[solution[i - 1]][solution[i]]\n",
    "    return routeLength\n",
    "\n",
    "def getNeighbors(solution):\n",
    "    neighbors = []\n",
    "    for i in range(len(solution)):\n",
    "        for j in range(i+1, len(solution)):\n",
    "            neighbor = solution.copy()\n",
    "            neighbor[i] = solution[j]\n",
    "            neighbor[j] = solution[i]\n",
    "            neighbors.append(neighbor)\n",
    "    return neighbors\n",
    "\n",
    "def getBestNeighbor(complete_graph, neighbours):\n",
    "    bestRouteLenght = routeLength(complete_graph, neighbours[0])\n",
    "    bestNeighbor = neighbours[0]\n",
    "    for neighbor in neighbours:\n",
    "        currentRouteLength = routeLength(complete_graph, neighbor)\n",
    "        if currentRouteLength < bestRouteLenght:\n",
    "            bestRouteLenght = currentRouteLength\n",
    "            bestNeighbor = neighbor\n",
    "    return bestNeighbor, bestRouteLenght\n",
    "    \n",
    "\n",
    "def hillClimbing(complete_graph):\n",
    "    currentSolution = randomSolution(complete_graph)\n",
    "    currentRouteLength = routeLength(complete_graph, currentSolution)\n",
    "    neighbors = getNeighbors(currentSolution)\n",
    "    bestNeighbor, bestNeighborRouteLength = getBestNeighbor(complete_graph, neighbors)\n",
    "\n",
    "    print('liste des voisins :', neighbors)\n",
    "    print('solution :', currentSolution)\n",
    "    print('somme des poids de la solution :', currentRouteLength)\n",
    "\n",
    "    while bestNeighborRouteLength < currentRouteLength:\n",
    "        currentSolution = bestNeighbor\n",
    "        currentRouteLength = bestNeighborRouteLength\n",
    "        neighbors = getNeighbors(currentSolution)\n",
    "        bestNeighbor, bestNeighborRouteLength = getBestNeighbor(complete_graph, neighbors)\n",
    "        \n",
    "    grpah = {\n",
    "        complete_graph[i][j]: complete_graph[j][i],\n",
    "        currentRouteLength: currentRouteLength\n",
    "    }\n",
    "\n",
    "\n",
    "\n",
    "    return currentSolution, currentRouteLength\n",
    "\n",
    "    "
   ]
  },
  {
   "cell_type": "code",
   "execution_count": 13,
   "metadata": {},
   "outputs": [
    {
     "name": "stdout",
     "output_type": "stream",
     "text": [
      "liste des voisins : [[2, 5, 0, 1, 3, 4], [0, 2, 5, 1, 3, 4], [1, 2, 0, 5, 3, 4], [3, 2, 0, 1, 5, 4], [4, 2, 0, 1, 3, 5], [5, 0, 2, 1, 3, 4], [5, 1, 0, 2, 3, 4], [5, 3, 0, 1, 2, 4], [5, 4, 0, 1, 3, 2], [5, 2, 1, 0, 3, 4], [5, 2, 3, 1, 0, 4], [5, 2, 4, 1, 3, 0], [5, 2, 0, 3, 1, 4], [5, 2, 0, 4, 3, 1], [5, 2, 0, 1, 4, 3]]\n",
      "solution : [5, 2, 0, 1, 3, 4]\n",
      "somme des poids de la solution : 231.0\n",
      "([0, 2, 5, 1, 3, 4], 205.0)\n"
     ]
    }
   ],
   "source": [
    "def main():\n",
    "    complete_graph\n",
    "    print(hillClimbing(complete_graph))\n",
    "\n",
    "if __name__ == \"__main__\":\n",
    "    main()\n",
    "\n",
    "    #nullos souf"
   ]
  }
 ],
 "metadata": {
  "kernelspec": {
   "display_name": "Python 3.9.7 64-bit",
   "language": "python",
   "name": "python3"
  },
  "language_info": {
   "codemirror_mode": {
    "name": "ipython",
    "version": 3
   },
   "file_extension": ".py",
   "mimetype": "text/x-python",
   "name": "python",
   "nbconvert_exporter": "python",
   "pygments_lexer": "ipython3",
   "version": "3.9.7"
  },
  "orig_nbformat": 4,
  "vscode": {
   "interpreter": {
    "hash": "11938c6bc6919ae2720b4d5011047913343b08a43b18698fd82dedb0d4417594"
   }
  }
 },
 "nbformat": 4,
 "nbformat_minor": 2
}
